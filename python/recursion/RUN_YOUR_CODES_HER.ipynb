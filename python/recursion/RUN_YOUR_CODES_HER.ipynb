{
 "cells": [
  {
   "cell_type": "code",
   "execution_count": 39,
   "metadata": {
    "collapsed": true,
    "pycharm": {
     "name": "#%%\n"
    }
   },
   "outputs": [
    {
     "name": "stderr",
     "output_type": "stream",
     "text": [
      "Traceback (most recent call last):\n",
      "  File \"_pydevd_bundle\\pydevd_cython_win32_310_64.pyx\", line 996, in _pydevd_bundle.pydevd_cython_win32_310_64.PyDBFrame.trace_dispatch\n",
      "  File \"C:\\Program Files\\JetBrains\\PyCharm 2022.1\\plugins\\python\\helpers-pro\\jupyter_debug\\pydev_jupyter_plugin.py\", line 116, in cmd_step_into\n",
      "    if _is_inside_jupyter_cell(frame, pydb) and not filename.endswith(\"iostream.py\"):\n",
      "  File \"C:\\Program Files\\JetBrains\\PyCharm 2022.1\\plugins\\python\\helpers-pro\\jupyter_debug\\pydev_jupyter_plugin.py\", line 209, in _is_inside_jupyter_cell\n",
      "    if is_cell_filename(filename):\n",
      "  File \"C:\\Program Files\\JetBrains\\PyCharm 2022.1\\plugins\\python\\helpers-pro\\jupyter_debug\\pydev_jupyter_plugin.py\", line 220, in is_cell_filename\n",
      "    ipython_shell = get_ipython()\n",
      "NameError: name 'get_ipython' is not defined\n"
     ]
    }
   ],
   "source": [
    "# O(n^2)T, O(1)S\n",
    "def select_sort_rec(a):\n",
    "    if len(a) <= 1:\n",
    "        return a\n",
    "    else:\n",
    "        b = list(a)\n",
    "        min_index = b.index(min(b))\n",
    "        aux = b[min_index]\n",
    "        b[min_index] = b[0]\n",
    "        b[0] = aux\n",
    "    print(\"selection_sort \", \"(\", a, \")\")\n",
    "    return [aux] + select_sort_rec(b[1:])"
   ]
  },
  {
   "cell_type": "code",
   "execution_count": 34,
   "outputs": [
    {
     "name": "stdout",
     "output_type": "stream",
     "text": [
      "selection_sort  ( [3, 2, 6, 0, 1, 10] )\n",
      "selection_sort  ( [2, 6, 3, 1, 10] )\n",
      "selection_sort  ( [6, 3, 2, 10] )\n",
      "selection_sort  ( [3, 6, 10] )\n",
      "selection_sort  ( [6, 10] )\n",
      "[0, 1, 2, 3, 6, 10]\n"
     ]
    }
   ],
   "source": [
    "print(select_sort_rec([3, 2, 6, 0, 1, 10]))"
   ],
   "metadata": {
    "collapsed": false,
    "pycharm": {
     "name": "#%%\n"
    }
   }
  },
  {
   "cell_type": "code",
   "execution_count": 35,
   "outputs": [],
   "source": [
    "a = 3, 4, 2"
   ],
   "metadata": {
    "collapsed": false,
    "pycharm": {
     "name": "#%%\n"
    }
   }
  },
  {
   "cell_type": "code",
   "execution_count": 36,
   "outputs": [
    {
     "data": {
      "text/plain": "[3, 4, 2]"
     },
     "execution_count": 36,
     "metadata": {},
     "output_type": "execute_result"
    }
   ],
   "source": [
    "b = list(a)\n",
    "c = b.index(min(b))\n",
    "b"
   ],
   "metadata": {
    "collapsed": false,
    "pycharm": {
     "name": "#%%\n"
    }
   }
  },
  {
   "cell_type": "code",
   "execution_count": 37,
   "outputs": [
    {
     "data": {
      "text/plain": "2"
     },
     "execution_count": 37,
     "metadata": {},
     "output_type": "execute_result"
    }
   ],
   "source": [
    "c"
   ],
   "metadata": {
    "collapsed": false,
    "pycharm": {
     "name": "#%%\n"
    }
   }
  },
  {
   "cell_type": "code",
   "execution_count": 37,
   "outputs": [],
   "source": [],
   "metadata": {
    "collapsed": false,
    "pycharm": {
     "name": "#%%\n"
    }
   }
  }
 ],
 "metadata": {
  "kernelspec": {
   "display_name": "Python 3",
   "language": "python",
   "name": "python3"
  },
  "language_info": {
   "codemirror_mode": {
    "name": "ipython",
    "version": 2
   },
   "file_extension": ".py",
   "mimetype": "text/x-python",
   "name": "python",
   "nbconvert_exporter": "python",
   "pygments_lexer": "ipython2",
   "version": "2.7.6"
  }
 },
 "nbformat": 4,
 "nbformat_minor": 0
}