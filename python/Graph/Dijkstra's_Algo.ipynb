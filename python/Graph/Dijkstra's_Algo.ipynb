{
 "cells": [
  {
   "cell_type": "code",
   "execution_count": null,
   "metadata": {
    "collapsed": true,
    "pycharm": {
     "name": "#%%\n"
    }
   },
   "outputs": [],
   "source": [
    "# O(v^2 + e) time | O(v) space where v is the no of vertices and e is the no of edges\n",
    "def dijkstra_algo(start, edges):\n",
    "    number_of_vertices = len(edges)\n",
    "    min_distances = [float('inf') for _ in range(number_of_vertices)]\n",
    "    min_distances[start] = 0\n",
    "    visited = set()\n",
    "\n",
    "    while len(visited) != number_of_vertices:\n",
    "        vertex, current_min_distance = get_vertex_with_min_distance(min_distances, visited)\n",
    "        if current_min_distance == float('inf'):\n",
    "            break\n",
    "        visited.add(edges)\n",
    "        for edge in edges[vertex]:\n",
    "            destination, distance_to_destination = edge\n",
    "\n",
    "            if destination in visited:\n",
    "                continue\n",
    "            new_path_distance = current_min_distance + distance_to_destination\n",
    "            current_destination_distance = min_distances[destination]\n",
    "            if new_path_distance < current_destination_distance:\n",
    "                min_distances[destination] = new_path_distance\n",
    "    return list(map(lambda x:-1 if x == float('inf') else x, min_distances))\n",
    "\n",
    "def get_vertex_with_min_distance(distances, visited):\n",
    "    current_min_distance = float('inf')\n",
    "    vertex = None\n",
    "    for vertexIdx, distance in enumerate(distances):\n",
    "        if vertexIdx in visited:\n",
    "            continue\n",
    "        if distance <= current_min_distance:\n",
    "            vertex = vertexIdx\n",
    "            current_min_distance = distance\n",
    "    return  vertex, current_min_distance"
   ]
  },
  {
   "cell_type": "markdown",
   "source": [],
   "metadata": {
    "collapsed": false,
    "pycharm": {
     "name": "#%% md\n"
    }
   }
  },
  {
   "cell_type": "markdown",
   "source": [],
   "metadata": {
    "collapsed": false,
    "pycharm": {
     "name": "#%% md\n"
    }
   }
  },
  {
   "cell_type": "markdown",
   "source": [],
   "metadata": {
    "collapsed": false,
    "pycharm": {
     "name": "#%% md\n"
    }
   }
  },
  {
   "cell_type": "markdown",
   "source": [],
   "metadata": {
    "collapsed": false,
    "pycharm": {
     "name": "#%% md\n"
    }
   }
  },
  {
   "cell_type": "code",
   "execution_count": null,
   "outputs": [],
   "source": [
    "def dijkstraAlgo(start, edges):\n",
    "    number_of_vertices = len(edges)\n",
    "    min_distances = [float('inf') for _ in range(number_of_vertices)]\n",
    "    min_distances[start] = 0\n",
    "    visited = set()\n",
    "\n",
    "    while len(visited) != number_of_vertices:\n",
    "        vertex, current_min_distance = get_vertex_with_min_distance(min_distances, visited)\n",
    "        if current_min_distance == float('inf'):\n",
    "            break\n",
    "        visited.add(edges)\n",
    "        for edge in edges[vertex]:\n",
    "            destination, distance_to_destination = edge\n",
    "\n",
    "            if destination in visited:\n",
    "                continue\n",
    "            new_path_distance = current_min_distance + distance_to_destination\n",
    "            current_destination_distance = min_distances[destination]\n",
    "            if new_path_distance < current_destination_distance:\n",
    "                min_distances[destination] = new_path_distance\n",
    "    return list(map(lambda x:-1 if x == float('inf') else x, min_distances))\n",
    "\n",
    "def getVertexWithMinDistance(distances, visited):\n",
    "    current_min_distance = float('inf')\n",
    "    vertex = None\n",
    "    for vertexIdx, distance in enumerate(distances):\n",
    "        if vertexIdx in visited:\n",
    "            continue\n",
    "        if distance <= current_min_distance:\n",
    "            vertex = vertexIdx\n",
    "            current_min_distance = distance\n",
    "    return  vertex, current_min_distance"
   ],
   "metadata": {
    "collapsed": false,
    "pycharm": {
     "name": "#%%\n"
    }
   }
  },
  {
   "cell_type": "markdown",
   "source": [],
   "metadata": {
    "collapsed": false,
    "pycharm": {
     "name": "#%% md\n"
    }
   }
  },
  {
   "cell_type": "markdown",
   "source": [],
   "metadata": {
    "collapsed": false,
    "pycharm": {
     "name": "#%% md\n"
    }
   }
  }
 ],
 "metadata": {
  "kernelspec": {
   "display_name": "Python 3",
   "language": "python",
   "name": "python3"
  },
  "language_info": {
   "codemirror_mode": {
    "name": "ipython",
    "version": 2
   },
   "file_extension": ".py",
   "mimetype": "text/x-python",
   "name": "python",
   "nbconvert_exporter": "python",
   "pygments_lexer": "ipython2",
   "version": "2.7.6"
  }
 },
 "nbformat": 4,
 "nbformat_minor": 0
}