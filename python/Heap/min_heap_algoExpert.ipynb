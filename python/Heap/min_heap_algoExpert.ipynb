{
 "cells": [
  {
   "cell_type": "code",
   "execution_count": 287,
   "metadata": {
    "collapsed": true,
    "pycharm": {
     "name": "#%%\n"
    }
   },
   "outputs": [],
   "source": [
    "class MinHeap:\n",
    "    def __init__(self, array=None):\n",
    "        if array is None:\n",
    "            array = []\n",
    "        self.heap = buildHeap(array)\n",
    "\n",
    "\n",
    "    def peek(self):\n",
    "        return self.heap[0]\n",
    "\n",
    "\n",
    "# O(log n) T, O(1) S\n",
    "def popMin(heap):\n",
    "    \"\"\"\n",
    "    To remove the parent root, swap it with the\n",
    "    last node, and pop the new leaf node off and call\n",
    "    sift down method to adjust all values to satisfy the\n",
    "    heap property\n",
    "    \"\"\"\n",
    "    swap(0, len(heap) - 1, heap)\n",
    "    valueToRemove = heap.pop()\n",
    "    siftDown(0, len(heap) - 1, heap)\n",
    "    return valueToRemove\n",
    "\n",
    "\n",
    "# O(log n) T, O(1) S\n",
    "def insert(heap, value):\n",
    "    heap.append(value)\n",
    "    siftUp(len(heap) - 1, heap)\n",
    "\n",
    "\n",
    "# O(n)T, O(1) S\n",
    "def buildHeap(array):\n",
    "    \"\"\"\n",
    "    To build a heap, call the sift down method on every parent\n",
    "    node in the heap tree(array) starting from the last parent node\n",
    "    to adjust the nodes correctly\n",
    "    \"\"\"\n",
    "    # parent Index = current Index - 1 // 2\n",
    "    # len(array) - 1 is current Index\n",
    "    lastIdx = len(array) - 1\n",
    "    ParentIdx = (lastIdx - 1) // 2\n",
    "    for currentIdx in reversed(range(ParentIdx)):\n",
    "        siftDown(currentIdx, len(array) - 1, array)\n",
    "    return array\n",
    "\n",
    "\n",
    "# O(log n) T, O(1) S\n",
    "def siftDown(pI, eI, heap):\n",
    "    # pI => Parent Index\n",
    "    # eI => end Index or last index\n",
    "    # lI = left_Index\n",
    "    # rI = right Index\n",
    "    # IdxToSwap = Index to swap\n",
    "    lI = pI * 2 + 1\n",
    "    while lI <= eI:\n",
    "        rI = pI * 2 + 2 if pI * 2 + 2 <= eI else -1\n",
    "        if rI != -1 and heap[rI] < heap[lI]:\n",
    "            IdxToSwap = rI\n",
    "        else:\n",
    "            IdxToSwap = lI\n",
    "        if heap[IdxToSwap] < heap[pI]:\n",
    "            swap(pI, IdxToSwap, heap)\n",
    "            pI = IdxToSwap\n",
    "            lI = pI * 2 + 1\n",
    "        else:\n",
    "            break\n",
    "\n",
    "# O(log n) T, O(1) S\n",
    "def siftUp(cI, heap):\n",
    "    \"\"\"\n",
    "    takes current value and finds its parent using the formula below\n",
    "    if current value is lesser than its parent, we'll swap them and update both\n",
    "    current and parent values\n",
    "    \"\"\"\n",
    "    # pI = parent Index\n",
    "    pI = (cI - 1) // 2\n",
    "    while cI > 0 and heap[cI] < heap[pI]:\n",
    "        swap(cI, pI, heap)\n",
    "        cI = pI\n",
    "        pI = (cI - 1) // 2\n",
    "\n",
    "\n",
    "def swap(i, j, heap):\n",
    "    heap[i], heap[j] = heap[j], heap[i]\n"
   ]
  },
  {
   "cell_type": "code",
   "execution_count": 288,
   "outputs": [
    {
     "data": {
      "text/plain": "[8, 12, 17, 30, 18, 23, 31, 44, 102]"
     },
     "execution_count": 288,
     "metadata": {},
     "output_type": "execute_result"
    }
   ],
   "source": [
    "min_heap = MinHeap([102, 18, 23, 12, 8, 17, 31, 44, 30])\n",
    "min_heap.heap"
   ],
   "metadata": {
    "collapsed": false,
    "pycharm": {
     "name": "#%%\n"
    }
   }
  },
  {
   "cell_type": "code",
   "execution_count": 289,
   "outputs": [],
   "source": [
    "# min_heap.remove()"
   ],
   "metadata": {
    "collapsed": false,
    "pycharm": {
     "name": "#%%\n"
    }
   }
  },
  {
   "cell_type": "code",
   "execution_count": 290,
   "outputs": [
    {
     "data": {
      "text/plain": "[8, 12, 17, 30, 18, 23, 31, 44, 102]"
     },
     "execution_count": 290,
     "metadata": {},
     "output_type": "execute_result"
    }
   ],
   "source": [
    "min_heap.heap"
   ],
   "metadata": {
    "collapsed": false,
    "pycharm": {
     "name": "#%%\n"
    }
   }
  },
  {
   "cell_type": "code",
   "execution_count": 291,
   "outputs": [
    {
     "data": {
      "text/plain": "8"
     },
     "execution_count": 291,
     "metadata": {},
     "output_type": "execute_result"
    }
   ],
   "source": [
    "min_heap.peek()"
   ],
   "metadata": {
    "collapsed": false,
    "pycharm": {
     "name": "#%%\n"
    }
   }
  },
  {
   "cell_type": "code",
   "execution_count": 292,
   "outputs": [],
   "source": [
    "# popMin(min_heap.heap)"
   ],
   "metadata": {
    "collapsed": false,
    "pycharm": {
     "name": "#%%\n"
    }
   }
  },
  {
   "cell_type": "code",
   "execution_count": 293,
   "outputs": [
    {
     "data": {
      "text/plain": "[8, 12, 17, 30, 18, 23, 31, 44, 102]"
     },
     "execution_count": 293,
     "metadata": {},
     "output_type": "execute_result"
    }
   ],
   "source": [
    "min_heap.heap"
   ],
   "metadata": {
    "collapsed": false,
    "pycharm": {
     "name": "#%%\n"
    }
   }
  },
  {
   "cell_type": "code",
   "execution_count": 294,
   "outputs": [],
   "source": [
    "# arr = [3, 2, 1, 5, 4, 7, 6, 5]\n",
    "# k = 3\n",
    "# minHeapWithKElements = MinHeap(arr[:k + 1])\n",
    "# print(minHeapWithKElements.heap)\n",
    "# print(range(k+1, len(arr)))"
   ],
   "metadata": {
    "collapsed": false,
    "pycharm": {
     "name": "#%%\n"
    }
   }
  },
  {
   "cell_type": "markdown",
   "source": [
    "\n",
    "\n"
   ],
   "metadata": {
    "collapsed": false,
    "pycharm": {
     "name": "#%% md\n"
    }
   }
  },
  {
   "cell_type": "code",
   "execution_count": 295,
   "outputs": [
    {
     "name": "stdout",
     "output_type": "stream",
     "text": [
      "[1, 2, 3, 5, 4, 7, 6, 5]\n"
     ]
    }
   ],
   "source": [
    "# O(n log(k) time | O(k) space\n",
    "def sortKSortedArray(arr, k):\n",
    "    k_elem_heap = MinHeap(arr[:k+1])\n",
    "    sorted_idx = 0\n",
    "    for idx in range(k+1, len(arr)):\n",
    "        min_num = popMin(k_elem_heap.heap)\n",
    "        arr[sorted_idx] = min_num\n",
    "        sorted_idx += 1\n",
    "\n",
    "        curElem = arr[idx]\n",
    "        insert(k_elem_heap.heap, curElem)\n",
    "    while not Empty(k_elem_heap.heap):\n",
    "        min_num = popMin(k_elem_heap.heap)\n",
    "        arr[sorted_idx] = min_num\n",
    "        sorted_idx += 1\n",
    "    return arr\n",
    "\n",
    "def Empty(heap):\n",
    "    return len(heap) == 0\n",
    "\n",
    "\n",
    "print(sortKSortedArray([3, 2, 1, 5, 4, 7, 6, 5], k=3))"
   ],
   "metadata": {
    "collapsed": false,
    "pycharm": {
     "name": "#%%\n"
    }
   }
  }
 ],
 "metadata": {
  "kernelspec": {
   "display_name": "Python 3",
   "language": "python",
   "name": "python3"
  },
  "language_info": {
   "codemirror_mode": {
    "name": "ipython",
    "version": 2
   },
   "file_extension": ".py",
   "mimetype": "text/x-python",
   "name": "python",
   "nbconvert_exporter": "python",
   "pygments_lexer": "ipython2",
   "version": "2.7.6"
  }
 },
 "nbformat": 4,
 "nbformat_minor": 0
}