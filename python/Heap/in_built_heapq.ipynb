{
 "cells": [
  {
   "cell_type": "code",
   "execution_count": 55,
   "metadata": {
    "collapsed": true,
    "pycharm": {
     "name": "#%%\n"
    }
   },
   "outputs": [],
   "source": [
    "import heapq  as heap\n",
    "\n",
    "minHeap = []\n",
    "heap.heappush(minHeap, 102)\n",
    "heap.heappush(minHeap, 18)\n",
    "heap.heappush(minHeap, 23)\n",
    "heap.heappush(minHeap, 12)\n",
    "heap.heappush(minHeap, 8)\n",
    "heap.heappush(minHeap, 17)\n",
    "heap.heappush(minHeap, 31)\n",
    "heap.heappush(minHeap, 44)\n",
    "heap.heappush(minHeap, 30)"
   ]
  },
  {
   "cell_type": "code",
   "execution_count": 56,
   "outputs": [
    {
     "name": "stdout",
     "output_type": "stream",
     "text": [
      "[8, 12, 17, 30, 18, 23, 31, 102, 44]\n"
     ]
    }
   ],
   "source": [
    "# Minimum Heap\n",
    "print(minHeap)"
   ],
   "metadata": {
    "collapsed": false,
    "pycharm": {
     "name": "#%%\n"
    }
   }
  },
  {
   "cell_type": "code",
   "execution_count": 57,
   "outputs": [
    {
     "name": "stdout",
     "output_type": "stream",
     "text": [
      "8\n"
     ]
    }
   ],
   "source": [
    "print(heap.heappushpop(minHeap, 92))"
   ],
   "metadata": {
    "collapsed": false,
    "pycharm": {
     "name": "#%%\n"
    }
   }
  },
  {
   "cell_type": "code",
   "execution_count": 58,
   "outputs": [
    {
     "name": "stdout",
     "output_type": "stream",
     "text": [
      "[12, 18, 17, 30, 92, 23, 31, 102, 44]\n"
     ]
    }
   ],
   "source": [
    "print(minHeap)"
   ],
   "metadata": {
    "collapsed": false,
    "pycharm": {
     "name": "#%%\n"
    }
   }
  },
  {
   "cell_type": "markdown",
   "source": [],
   "metadata": {
    "collapsed": false,
    "pycharm": {
     "name": "#%% md\n"
    }
   }
  },
  {
   "cell_type": "code",
   "execution_count": 64,
   "outputs": [
    {
     "data": {
      "text/plain": "[[12, 18, 17, 30]]"
     },
     "execution_count": 64,
     "metadata": {},
     "output_type": "execute_result"
    }
   ],
   "source": [
    "# arr =[12, 18, 17, 30, 92, 23, 31, 102, 44]\n",
    "# k =3\n",
    "# minHeapWithKElements = list()\n",
    "# heap.heappush(minHeapWithKElements, arr[:min(k + 1, len(arr))])\n",
    "# minHeapWithKElements"
   ],
   "metadata": {
    "collapsed": false,
    "pycharm": {
     "name": "#%%\n"
    }
   }
  },
  {
   "cell_type": "code",
   "execution_count": 68,
   "outputs": [
    {
     "name": "stdout",
     "output_type": "stream",
     "text": [
      "[[[[[12, 18, 17, 30], 18, 17, 30], 18, 17, 30], 92, 23, 31], 102, 44, 31, 102, 44, 31, 102, 44]\n"
     ]
    }
   ],
   "source": [
    "def sortKSortedArray(arr, k):\n",
    "    minHeapWithKElements = list()\n",
    "    heap.heappush(minHeapWithKElements, arr[:min(k + 1, len(arr))])\n",
    "    nextIdxToInsertElement = 0\n",
    "    for idx in range(k+1, len(arr)):\n",
    "        min_num = heap.heappop(minHeapWithKElements)\n",
    "        arr[nextIdxToInsertElement] = min_num\n",
    "        nextIdxToInsertElement += 1\n",
    "        curElem = arr[idx]\n",
    "        heap.heappush(minHeapWithKElements, curElem)\n",
    "    while not Empty(minHeapWithKElements):\n",
    "        min_num = heap.heappop(minHeapWithKElements)\n",
    "        arr[nextIdxToInsertElement] = min_num\n",
    "        nextIdxToInsertElement += 1\n",
    "    return arr\n",
    "\n",
    "def Empty(heap):\n",
    "    return len(heap) == 0\n",
    "\n",
    "\n",
    "print(sortKSortedArray(minHeap, k=3))"
   ],
   "metadata": {
    "collapsed": false,
    "pycharm": {
     "name": "#%%\n"
    }
   }
  }
 ],
 "metadata": {
  "kernelspec": {
   "display_name": "Python 3",
   "language": "python",
   "name": "python3"
  },
  "language_info": {
   "codemirror_mode": {
    "name": "ipython",
    "version": 2
   },
   "file_extension": ".py",
   "mimetype": "text/x-python",
   "name": "python",
   "nbconvert_exporter": "python",
   "pygments_lexer": "ipython2",
   "version": "2.7.6"
  }
 },
 "nbformat": 4,
 "nbformat_minor": 0
}