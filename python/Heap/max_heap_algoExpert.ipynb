{
 "cells": [
  {
   "cell_type": "code",
   "execution_count": 242,
   "metadata": {
    "collapsed": true,
    "pycharm": {
     "name": "#%%\n"
    }
   },
   "outputs": [],
   "source": [
    "class MaxHeap:\n",
    "    def __init__(self, array=None):\n",
    "        if array is None:\n",
    "            array = []\n",
    "        self.heap = buildHeap(array)\n",
    "\n",
    "\n",
    "    #\n",
    "    def popMax(self):\n",
    "        lastelt = self.heap.pop()    # raises appropriate IndexError if heap is empty\n",
    "        if self.heap:\n",
    "            returnitem = self.heap[0]\n",
    "            self.heap[0] = lastelt\n",
    "            siftUp(0, self.heap)\n",
    "            return returnitem\n",
    "        return lastelt\n",
    "\n",
    "\n",
    "    def peek(self):\n",
    "        return self.heap[0]\n",
    "\n",
    "\n",
    "    # O(log n) T, O(1) S\n",
    "    def remove(self):\n",
    "        \"\"\"\n",
    "        To remove the parent root, swap it with the\n",
    "        last node, and pop the parent root off and call\n",
    "        sift down method to adjust all values to satisfy the\n",
    "        heap property\n",
    "        \"\"\"\n",
    "        lastIdx = len(self.heap) - 1\n",
    "        swap(0, lastIdx, self.heap)\n",
    "        valueToRemove = self.heap.pop()\n",
    "        _siftup_max(self.heap, 0)\n",
    "        return valueToRemove\n",
    "\n",
    "\n",
    "    # O(log n) T, O(1) S\n",
    "    def insert(self, value):\n",
    "        self.heap.append(value)\n",
    "        siftUp(len(self.heap) - 1, self.heap)\n",
    "\n",
    "\n",
    "# O(n)T, O(1) S\n",
    "def buildHeap(array):\n",
    "    \"\"\"\n",
    "    To build a heap, call the sift down method on every parent\n",
    "    node in the heap tree(array) starting from the last parent node\n",
    "    to adjust the nodes correctly\n",
    "    \"\"\"\n",
    "    # parent Index = current Index - 1 // 2\n",
    "    # len(array) - 1 is current Index\n",
    "    lastParentIdx = (len(array) - 2) // 2\n",
    "    for currentIdx in reversed(range(lastParentIdx)):\n",
    "        _siftup_max(array ,currentIdx)\n",
    "    return array\n",
    "\n",
    "\n",
    "# O(log n) T, O(1) S\n",
    "def siftDown(cI, eI, heap):\n",
    "    # cI => current Index\n",
    "    # eI => end Index\n",
    "    # lI = left_Index\n",
    "    # rI = right Index\n",
    "    # IdxToSwap = Index to swap\n",
    "    lI = cI * 2 + 1\n",
    "    while lI <= eI:\n",
    "        rI = cI * 2 + 2 if cI * 2 + 2 >= eI else -1\n",
    "        if rI != -1 and heap[rI] > heap[lI]:\n",
    "            IdxToSwap = rI\n",
    "        else:\n",
    "            IdxToSwap = lI\n",
    "        if heap[IdxToSwap] > heap[cI]:\n",
    "            swap(cI, IdxToSwap, heap)\n",
    "            cI = IdxToSwap\n",
    "            lI = cI * 2 + 1\n",
    "        else:\n",
    "            break\n",
    "\n",
    "def update(heap, item):\n",
    "    \"\"\"Pop and return the current smallest value, and add the new item.\n",
    "\n",
    "    This is more efficient than heappop() followed by heappush(), and can be\n",
    "    more appropriate when using a fixed-size heap.  Note that the value\n",
    "    returned may be larger than item!  That constrains reasonable uses of\n",
    "    this routine unless written as part of a conditional replacement:\n",
    "\n",
    "        if item > heap[0]:\n",
    "            item = heapreplace(heap, item)\n",
    "    \"\"\"\n",
    "    returnitem = heap[0]    # raises appropriate IndexError if heap is empty\n",
    "    heap[0] = item\n",
    "    _siftup_max(heap, 0)\n",
    "    return returnitem\n",
    "\n",
    "# O(log n) T, O(1) S\n",
    "def _siftdown_max(heap, startpos, pos):\n",
    "    'Maxheap variant of _siftdown'\n",
    "    newitem = heap[pos]\n",
    "    # Follow the path to the root, moving parents down until finding a place\n",
    "    # newitem fits.\n",
    "    while pos > startpos:\n",
    "        parentpos = (pos - 1) >> 1\n",
    "        parent = heap[parentpos]\n",
    "        if parent < newitem:\n",
    "            heap[pos] = parent\n",
    "            pos = parentpos\n",
    "            continue\n",
    "        break\n",
    "    heap[pos] = newitem\n",
    "\n",
    "\n",
    "def _siftup_max(heap, pos):\n",
    "    'Maxheap variant of _siftup'\n",
    "    endpos = len(heap)\n",
    "    startpos = pos\n",
    "    newitem = heap[pos]\n",
    "    # Bubble up the larger child until hitting a leaf.\n",
    "    childpos = 2*pos + 1    # leftmost child position\n",
    "    while childpos < endpos:\n",
    "        # Set childpos to index of larger child.\n",
    "        rightpos = childpos + 1\n",
    "        if rightpos < endpos and not heap[rightpos] < heap[childpos]:\n",
    "            childpos = rightpos\n",
    "        # Move the larger child up.\n",
    "        heap[pos] = heap[childpos]\n",
    "        pos = childpos\n",
    "        childpos = 2*pos + 1\n",
    "    # The leaf at pos is empty now.  Put newitem there, and bubble it up\n",
    "    # to its final resting place (by sifting its parents down).\n",
    "    heap[pos] = newitem\n",
    "    _siftdown_max(heap, startpos, pos)\n",
    "\n",
    "def swap(i, j, heap):\n",
    "    heap[i], heap[j] = heap[j], heap[i]\n"
   ]
  },
  {
   "cell_type": "code",
   "execution_count": 243,
   "outputs": [],
   "source": [
    "min_heap = MaxHeap()\n",
    "# [102, 18, 23, 12, 8, 17, 31, 44, 30]\n",
    "min_heap.insert(102)\n",
    "min_heap.insert(18)\n",
    "min_heap.insert(23)\n",
    "min_heap.insert(12)\n",
    "min_heap.insert(8)\n",
    "min_heap.insert(17)\n",
    "min_heap.insert(31)\n",
    "min_heap.insert(44)\n",
    "min_heap.insert(30)"
   ],
   "metadata": {
    "collapsed": false,
    "pycharm": {
     "name": "#%%\n"
    }
   }
  },
  {
   "cell_type": "code",
   "execution_count": 244,
   "outputs": [
    {
     "data": {
      "text/plain": "[102, 44, 31, 30, 8, 17, 23, 12, 18]"
     },
     "execution_count": 244,
     "metadata": {},
     "output_type": "execute_result"
    }
   ],
   "source": [
    "buildHeap(min_heap.heap)"
   ],
   "metadata": {
    "collapsed": false,
    "pycharm": {
     "name": "#%%\n"
    }
   }
  },
  {
   "cell_type": "code",
   "execution_count": 245,
   "outputs": [
    {
     "data": {
      "text/plain": "102"
     },
     "execution_count": 245,
     "metadata": {},
     "output_type": "execute_result"
    }
   ],
   "source": [
    "min_heap.peek()"
   ],
   "metadata": {
    "collapsed": false,
    "pycharm": {
     "name": "#%%\n"
    }
   }
  },
  {
   "cell_type": "code",
   "execution_count": 246,
   "outputs": [],
   "source": [
    "# print(min_heap.remove())\n"
   ],
   "metadata": {
    "collapsed": false,
    "pycharm": {
     "name": "#%%\n"
    }
   }
  },
  {
   "cell_type": "code",
   "execution_count": 247,
   "outputs": [
    {
     "name": "stdout",
     "output_type": "stream",
     "text": [
      "[102, 44, 31, 30, 8, 17, 23, 12, 18]\n"
     ]
    }
   ],
   "source": [
    "print(min_heap.heap)"
   ],
   "metadata": {
    "collapsed": false,
    "pycharm": {
     "name": "#%%\n"
    }
   }
  },
  {
   "cell_type": "code",
   "execution_count": 248,
   "outputs": [
    {
     "name": "stdout",
     "output_type": "stream",
     "text": [
      "102\n"
     ]
    }
   ],
   "source": [
    "print(update(min_heap.heap, 10))"
   ],
   "metadata": {
    "collapsed": false,
    "pycharm": {
     "name": "#%%\n"
    }
   }
  },
  {
   "cell_type": "code",
   "execution_count": 249,
   "outputs": [
    {
     "name": "stdout",
     "output_type": "stream",
     "text": [
      "[44, 30, 31, 18, 8, 17, 23, 12, 10]\n"
     ]
    }
   ],
   "source": [
    "print(min_heap.heap)"
   ],
   "metadata": {
    "collapsed": false,
    "pycharm": {
     "name": "#%%\n"
    }
   }
  }
 ],
 "metadata": {
  "kernelspec": {
   "display_name": "Python 3",
   "language": "python",
   "name": "python3"
  },
  "language_info": {
   "codemirror_mode": {
    "name": "ipython",
    "version": 2
   },
   "file_extension": ".py",
   "mimetype": "text/x-python",
   "name": "python",
   "nbconvert_exporter": "python",
   "pygments_lexer": "ipython2",
   "version": "2.7.6"
  }
 },
 "nbformat": 4,
 "nbformat_minor": 0
}