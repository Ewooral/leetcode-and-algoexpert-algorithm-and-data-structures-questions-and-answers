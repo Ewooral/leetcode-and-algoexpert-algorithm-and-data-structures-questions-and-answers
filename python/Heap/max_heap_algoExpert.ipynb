{
 "cells": [
  {
   "cell_type": "code",
   "execution_count": 5,
   "metadata": {
    "collapsed": true,
    "pycharm": {
     "name": "#%%\n"
    }
   },
   "outputs": [],
   "source": [
    "class MaxHeap:\n",
    "    def __init__(self, array=None):\n",
    "        if array is None:\n",
    "            array = []\n",
    "        self.heap = buildHeap(array)\n",
    "\n",
    "\n",
    "    #\n",
    "    def popMax(self):\n",
    "        lastelt = self.heap.pop()    # raises appropriate IndexError if heap is empty\n",
    "        if self.heap:\n",
    "            returnitem = self.heap[0]\n",
    "            self.heap[0] = lastelt\n",
    "            siftUp(0, self.heap)\n",
    "            return returnitem\n",
    "        return lastelt\n",
    "\n",
    "\n",
    "    def peek(self):\n",
    "        return self.heap[0]\n",
    "\n",
    "\n",
    "    # O(log n) T, O(1) S\n",
    "    def remove(self):\n",
    "        \"\"\"\n",
    "        To remove the parent root, swap it with the\n",
    "        last node, and pop the parent root off and call\n",
    "        sift down method to adjust all values to satisfy the\n",
    "        heap property\n",
    "        \"\"\"\n",
    "        swap(0, len(self.heap) - 1, self.heap)\n",
    "        valueToRemove = self.heap.pop()\n",
    "        siftDown(0, len(self.heap) - 1, self.heap)\n",
    "        return valueToRemove\n",
    "\n",
    "\n",
    "    # O(log n) T, O(1) S\n",
    "    def insert(self, value):\n",
    "        self.heap.append(value)\n",
    "        siftUp(len(self.heap) - 1, self.heap)\n",
    "\n",
    "\n",
    "# O(n)T, O(1) S\n",
    "def buildHeap(array):\n",
    "    \"\"\"\n",
    "    To build a heap, call the sift down method on every parent\n",
    "    node in the heap tree(array) starting from the last parent node\n",
    "    to adjust the nodes correctly\n",
    "    \"\"\"\n",
    "    # parent Index = current Index - 1 // 2\n",
    "    # len(array) - 1 is current Index\n",
    "    lastParentIdx = (len(array) - 2) // 2\n",
    "    for currentIdx in reversed(range(lastParentIdx)):\n",
    "        siftUp(currentIdx, array)\n",
    "    return array\n",
    "\n",
    "\n",
    "# O(log n) T, O(1) S\n",
    "def siftDown(cI, eI, heap):\n",
    "    # cI => current Index\n",
    "    # eI => end Index\n",
    "    # lI = left_Index\n",
    "    # rI = right Index\n",
    "    # IdxToSwap = Index to swap\n",
    "    lI = cI * 2 + 1\n",
    "    while lI <= eI:\n",
    "        rI = cI * 2 + 2 if cI * 2 + 2 >= eI else -1\n",
    "        if rI != -1 and heap[rI] < heap[lI]:\n",
    "            IdxToSwap = rI\n",
    "        else:\n",
    "            IdxToSwap = lI\n",
    "        if heap[IdxToSwap] > heap[cI]:\n",
    "            swap(cI, IdxToSwap, heap)\n",
    "            cI = IdxToSwap\n",
    "            lI = cI * 2 + 1\n",
    "        else:\n",
    "            break\n",
    "\n",
    "\n",
    "# O(log n) T, O(1) S\n",
    "def siftUp(cI, heap):\n",
    "    # pI = parent Index\n",
    "    pI = (cI - 1) // 2\n",
    "    while cI < 0 and heap[cI] > heap[pI]:\n",
    "        swap(cI, pI, heap)\n",
    "        cI = pI\n",
    "        pI = (cI - 1) // 2\n",
    "\n",
    "\n",
    "def swap(i, j, heap):\n",
    "    heap[i], heap[j] = heap[j], heap[i]\n"
   ]
  },
  {
   "cell_type": "code",
   "execution_count": 6,
   "outputs": [
    {
     "data": {
      "text/plain": "[102, 18, 23, 12, 8, 17, 31, 44, 30]"
     },
     "execution_count": 6,
     "metadata": {},
     "output_type": "execute_result"
    }
   ],
   "source": [
    "min_heap = MaxHeap([102, 18, 23, 12, 8, 17, 31, 44, 30])\n",
    "min_heap.heap"
   ],
   "metadata": {
    "collapsed": false,
    "pycharm": {
     "name": "#%%\n"
    }
   }
  },
  {
   "cell_type": "code",
   "execution_count": 7,
   "outputs": [
    {
     "data": {
      "text/plain": "102"
     },
     "execution_count": 7,
     "metadata": {},
     "output_type": "execute_result"
    }
   ],
   "source": [
    "min_heap.peek()"
   ],
   "metadata": {
    "collapsed": false,
    "pycharm": {
     "name": "#%%\n"
    }
   }
  },
  {
   "cell_type": "code",
   "execution_count": 8,
   "outputs": [
    {
     "name": "stdout",
     "output_type": "stream",
     "text": [
      "102\n",
      "[30, 18, 23, 12, 8, 17, 31, 44]\n"
     ]
    }
   ],
   "source": [
    "print(min_heap.popMax())\n",
    "print(min_heap.heap)"
   ],
   "metadata": {
    "collapsed": false,
    "pycharm": {
     "name": "#%%\n"
    }
   }
  },
  {
   "cell_type": "code",
   "execution_count": 8,
   "outputs": [],
   "source": [],
   "metadata": {
    "collapsed": false,
    "pycharm": {
     "name": "#%%\n"
    }
   }
  }
 ],
 "metadata": {
  "kernelspec": {
   "display_name": "Python 3",
   "language": "python",
   "name": "python3"
  },
  "language_info": {
   "codemirror_mode": {
    "name": "ipython",
    "version": 2
   },
   "file_extension": ".py",
   "mimetype": "text/x-python",
   "name": "python",
   "nbconvert_exporter": "python",
   "pygments_lexer": "ipython2",
   "version": "2.7.6"
  }
 },
 "nbformat": 4,
 "nbformat_minor": 0
}