{
 "cells": [
  {
   "cell_type": "markdown",
   "source": [
    "# SELECTION SORT"
   ],
   "metadata": {
    "collapsed": false,
    "pycharm": {
     "name": "#%% md\n"
    }
   }
  },
  {
   "cell_type": "code",
   "execution_count": 3,
   "metadata": {
    "collapsed": true,
    "pycharm": {
     "name": "#%%\n"
    }
   },
   "outputs": [
    {
     "name": "stdout",
     "output_type": "stream",
     "text": [
      "Recursion Approach\n",
      "selection_sort  ( [8, -2, 1, 3] )\n",
      "selection_sort  ( [8, 1, 3] )\n",
      "selection_sort  ( [8, 3] )\n",
      "selection_sort  ( [8] )\n",
      "[-2, 1, 3, 8]\n",
      "selection_sort  ( [3, 2, 6, 0, 1, 10] )\n",
      "selection_sort  ( [3, 2, 6, 1, 10] )\n",
      "selection_sort  ( [3, 2, 6, 10] )\n",
      "selection_sort  ( [3, 6, 10] )\n",
      "selection_sort  ( [6, 10] )\n",
      "selection_sort  ( [10] )\n",
      "[0, 1, 2, 3, 6, 10]\n",
      "\n",
      "Iterative Approach\n",
      "[-2, 1, 3, 8]\n"
     ]
    }
   ],
   "source": [
    "# Approach 1\n",
    "def select_sort_recA(a):\n",
    "    print(\"selection_sort \", \"(\", a, \")\")\n",
    "    if len(a) <= 1:\n",
    "        return a\n",
    "    else:\n",
    "        b = list(a)\n",
    "        mini = min(b)\n",
    "        b.remove(mini)\n",
    "\n",
    "    return [mini] + select_sort_recA(b)\n",
    "\n",
    "# Approach 2\n",
    "def selection_sort(array):\n",
    "    for i in range(len(array)):\n",
    "        mi_idx = i\n",
    "        for j in range(i + 1, len(array)):\n",
    "            if array[mi_idx] > array[j]:\n",
    "                mi_idx = j\n",
    "        # array[i], array[min_index] = array[min_index], array[i]\n",
    "        swap(array, i, mi_idx)\n",
    "    return array\n",
    "\n",
    "\n",
    "def swap(array, i, j):\n",
    "    array[i], array[j] = array[j], array[i]\n",
    "\n",
    "\n",
    "def main():\n",
    "    arr = [8, -2, 1, 3]\n",
    "\n",
    "    print(\"Recursion Approach\")\n",
    "    print(select_sort_recA(arr))\n",
    "    print(select_sort_recA([3, 2, 6, 0, 1, 10]))\n",
    "\n",
    "    print()\n",
    "    print(\"Iterative Approach\")\n",
    "    print(selection_sort(arr))\n",
    "\n",
    "main()"
   ]
  },
  {
   "cell_type": "code",
   "execution_count": 4,
   "outputs": [
    {
     "name": "stdout",
     "output_type": "stream",
     "text": [
      "[-2, 1, 3, 8]\n"
     ]
    }
   ],
   "source": [
    "def sort(arr:list):\n",
    "    res = []\n",
    "    i = 0\n",
    "    while len(arr) > 0:\n",
    "        mini = min(arr)\n",
    "        res.insert(i, mini)\n",
    "        arr.remove(mini)\n",
    "        i += 1\n",
    "    return res\n",
    "\n",
    "def main():\n",
    "    arr = [8, -2, 1, 3]\n",
    "    print(sort(arr))\n",
    "main()"
   ],
   "metadata": {
    "collapsed": false,
    "pycharm": {
     "name": "#%%\n"
    }
   }
  },
  {
   "cell_type": "markdown",
   "source": [
    "\n",
    "\n"
   ],
   "metadata": {
    "collapsed": false,
    "pycharm": {
     "name": "#%% md\n"
    }
   }
  },
  {
   "cell_type": "markdown",
   "source": [
    "# QUICK SORT\n",
    "'''\n",
    "Time Complexity\n",
    "Best\tO(n*log n)\n",
    "Worst\tO(n2)\n",
    "Average\tO(n*log n)\n",
    "Space Complexity\tO(log n)\n",
    "Stability\tNo\n",
    "'''"
   ],
   "metadata": {
    "collapsed": false,
    "pycharm": {
     "name": "#%% md\n"
    }
   }
  },
  {
   "cell_type": "code",
   "execution_count": 5,
   "outputs": [
    {
     "name": "stdout",
     "output_type": "stream",
     "text": [
      "Unsorted Array\n",
      "[8, 7, 2, 1, 0, 9, 6]\n",
      "Sorted Array in Ascending Order:\n",
      "[0, 1, 2, 6, 7, 8, 9]\n"
     ]
    }
   ],
   "source": [
    "# function to find the partition position\n",
    "def partition(array, low, high):\n",
    "    # choose the rightmost element as pivot\n",
    "    pivot = array[high]\n",
    "\n",
    "    # pointer for greater element\n",
    "    i = low - 1\n",
    "\n",
    "    # traverse through all elements\n",
    "    # compare each element with pivot\n",
    "    for j in range(low, high):\n",
    "        if array[j] <= pivot:\n",
    "            # if element smaller than pivot is found\n",
    "            # swap it with the greater element pointed by i\n",
    "            i = i + 1\n",
    "\n",
    "            # swapping element at i with element at j\n",
    "            (array[i], array[j]) = (array[j], array[i])\n",
    "\n",
    "    # swap the pivot element with the greater element specified by i\n",
    "    (array[i + 1], array[high]) = (array[high], array[i + 1])\n",
    "\n",
    "    # return the position from where partition is done\n",
    "    return i + 1\n",
    "\n",
    "\n",
    "# function to perform quicksort\n",
    "def quickSort(array, low, high):\n",
    "    if low < high:\n",
    "        # find pivot element such that\n",
    "        # element smaller than pivot are on the left\n",
    "        # element greater than pivot are on the right\n",
    "        pi = partition(array, low, high)\n",
    "\n",
    "        # recursive call on the left of pivot\n",
    "        quickSort(array, low, pi - 1)\n",
    "\n",
    "        # recursive call on the right of pivot\n",
    "        quickSort(array, pi + 1, high)\n",
    "\n",
    "\n",
    "data = [8, 7, 2, 1, 0, 9, 6]\n",
    "print(\"Unsorted Array\")\n",
    "print(data)\n",
    "\n",
    "size = len(data)\n",
    "\n",
    "quickSort(data, 0, size - 1)\n",
    "\n",
    "print('Sorted Array in Ascending Order:')\n",
    "print(data)\n"
   ],
   "metadata": {
    "collapsed": false,
    "pycharm": {
     "name": "#%%\n"
    }
   }
  },
  {
   "cell_type": "markdown",
   "source": [
    "\n",
    "\n"
   ],
   "metadata": {
    "collapsed": false,
    "pycharm": {
     "name": "#%% md\n"
    }
   }
  },
  {
   "cell_type": "markdown",
   "source": [],
   "metadata": {
    "collapsed": false,
    "pycharm": {
     "name": "#%% md\n"
    }
   }
  },
  {
   "cell_type": "code",
   "execution_count": 14,
   "outputs": [
    {
     "name": "stdout",
     "output_type": "stream",
     "text": [
      "[-2, 1, 3, 8]\n",
      "Approach 1:  [1, 2, 3, 4, 8, 9, 10]\n"
     ]
    }
   ],
   "source": [
    "def Bubble_sort(array):\n",
    "    for i in range(len(array) - 1):\n",
    "        for j in range(len(array) - 1):\n",
    "            if array[j] > array[j + 1]:\n",
    "                swap1(j, j + 1, array)\n",
    "    print(\"Approach 1: \", array)\n",
    "\n",
    "\n",
    "# Worse Case:  O(n^2)T, O(1) T\n",
    "# Best Case:  O(n)T, O(1) T, thus if the array is sorted\n",
    "\n",
    "# APPROACH TWO\n",
    "def Bubble_Sort(array):\n",
    "    isSorted = False\n",
    "    # counter keeps track of the sorted region on the right and avoid\n",
    "    # looping through that region since it is already sorted\n",
    "    counter = 0\n",
    "    while not isSorted:\n",
    "        isSorted = True\n",
    "        for i in range(len(array) - 1 - counter):\n",
    "            if array[i] > array[i + 1]:\n",
    "                swap1(i, i + 1, array)\n",
    "                isSorted = False\n",
    "        counter += 1\n",
    "    return array\n",
    "\n",
    "def swap1(i, j, array):\n",
    "    array[i], array[j] = array[j], array[i]\n",
    "\n",
    "\n",
    "def main():\n",
    "    arr = [8, -2, 1, 3]\n",
    "    print(Bubble_Sort(arr))\n",
    "    Bubble_sort([9, 2, 3, 8, 10, 1, 4])\n",
    "\n",
    "main()"
   ],
   "metadata": {
    "collapsed": false,
    "pycharm": {
     "name": "#%%\n"
    }
   }
  },
  {
   "cell_type": "markdown",
   "source": [
    "\n"
   ],
   "metadata": {
    "collapsed": false,
    "pycharm": {
     "name": "#%% md\n"
    }
   }
  },
  {
   "cell_type": "markdown",
   "source": [
    "# MERGE SORT"
   ],
   "metadata": {
    "collapsed": false,
    "pycharm": {
     "name": "#%% md\n"
    }
   }
  },
  {
   "cell_type": "code",
   "execution_count": 15,
   "outputs": [
    {
     "name": "stdout",
     "output_type": "stream",
     "text": [
      "[-234, -18, 0, 1, 2, 22, 99, 200, 1000]\n"
     ]
    }
   ],
   "source": [
    "def merge(customList, l, m, r):\n",
    "    n1 = m - l + 1\n",
    "    n2 = r - m\n",
    "\n",
    "    L = [0] * (n1)\n",
    "    R = [0] * (n2)\n",
    "\n",
    "    for i in range(0, n1):\n",
    "        L[i] = customList[l + i]\n",
    "\n",
    "    for j in range(0, n2):\n",
    "        R[j] = customList[m + 1 + j]\n",
    "\n",
    "    i = 0\n",
    "    j = 0\n",
    "    k = l\n",
    "    while i < n1 and j < n2:\n",
    "        if L[i] <= R[j]:\n",
    "            customList[k] = L[i]\n",
    "            i += 1\n",
    "        # else:\n",
    "            customList[k] = R[j]\n",
    "            j += 1\n",
    "        k += 1\n",
    "    while i < n1:\n",
    "        customList[k] = L[i]\n",
    "        i += 1\n",
    "        k += 1\n",
    "\n",
    "    while j < n2:\n",
    "        customList[k] = R[j]\n",
    "        j += 1\n",
    "        k += 1\n",
    "\n",
    "\n",
    "def mergeSort(customList, l, r):\n",
    "    if l < r:\n",
    "        m = (l + (r - 1)) // 2\n",
    "        mergeSort(customList, l, m)\n",
    "        mergeSort(customList, m + 1, r)\n",
    "        merge(customList, l, m, r)\n",
    "    return customList\n",
    "\n",
    "\n",
    "print(mergeSort([200, -234, 0, 2, 99, 1000, -18, 22, 1], 0, 8))\n",
    "\n"
   ],
   "metadata": {
    "collapsed": false,
    "pycharm": {
     "name": "#%%\n"
    }
   }
  }
 ],
 "metadata": {
  "kernelspec": {
   "display_name": "Python 3",
   "language": "python",
   "name": "python3"
  },
  "language_info": {
   "codemirror_mode": {
    "name": "ipython",
    "version": 2
   },
   "file_extension": ".py",
   "mimetype": "text/x-python",
   "name": "python",
   "nbconvert_exporter": "python",
   "pygments_lexer": "ipython2",
   "version": "2.7.6"
  }
 },
 "nbformat": 4,
 "nbformat_minor": 0
}