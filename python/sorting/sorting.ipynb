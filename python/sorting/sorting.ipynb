{
 "cells": [
  {
   "cell_type": "code",
   "execution_count": 5,
   "metadata": {
    "collapsed": true,
    "pycharm": {
     "name": "#%%\n"
    }
   },
   "outputs": [
    {
     "ename": "KeyboardInterrupt",
     "evalue": "",
     "output_type": "error",
     "traceback": [
      "\u001B[1;31m---------------------------------------------------------------------------\u001B[0m",
      "\u001B[1;31mKeyboardInterrupt\u001B[0m                         Traceback (most recent call last)",
      "Input \u001B[1;32mIn [5]\u001B[0m, in \u001B[0;36m<cell line: 18>\u001B[1;34m()\u001B[0m\n\u001B[0;32m     15\u001B[0m     arr \u001B[38;5;241m=\u001B[39m [\u001B[38;5;241m8\u001B[39m, \u001B[38;5;241m-\u001B[39m\u001B[38;5;241m2\u001B[39m, \u001B[38;5;241m1\u001B[39m, \u001B[38;5;241m3\u001B[39m]\n\u001B[0;32m     16\u001B[0m     \u001B[38;5;28mprint\u001B[39m(selection_sort(arr))\n\u001B[1;32m---> 18\u001B[0m \u001B[43mmain\u001B[49m\u001B[43m(\u001B[49m\u001B[43m)\u001B[49m\n",
      "Input \u001B[1;32mIn [5]\u001B[0m, in \u001B[0;36mmain\u001B[1;34m()\u001B[0m\n\u001B[0;32m     14\u001B[0m \u001B[38;5;28;01mdef\u001B[39;00m \u001B[38;5;21mmain\u001B[39m():\n\u001B[0;32m     15\u001B[0m     arr \u001B[38;5;241m=\u001B[39m [\u001B[38;5;241m8\u001B[39m, \u001B[38;5;241m-\u001B[39m\u001B[38;5;241m2\u001B[39m, \u001B[38;5;241m1\u001B[39m, \u001B[38;5;241m3\u001B[39m]\n\u001B[1;32m---> 16\u001B[0m     \u001B[38;5;28mprint\u001B[39m(\u001B[43mselection_sort\u001B[49m\u001B[43m(\u001B[49m\u001B[43marr\u001B[49m\u001B[43m)\u001B[49m)\n",
      "Input \u001B[1;32mIn [5]\u001B[0m, in \u001B[0;36mselection_sort\u001B[1;34m(arr)\u001B[0m\n\u001B[0;32m      5\u001B[0m \u001B[38;5;28;01mwhile\u001B[39;00m j \u001B[38;5;241m<\u001B[39m \u001B[38;5;28mlen\u001B[39m(arr):\n\u001B[0;32m      6\u001B[0m     mini \u001B[38;5;241m=\u001B[39m \u001B[38;5;28mmin\u001B[39m(arr[j:])\n\u001B[1;32m----> 7\u001B[0m     \u001B[38;5;28;01mif\u001B[39;00m \u001B[43mmini\u001B[49m\u001B[43m \u001B[49m\u001B[38;5;241;43m<\u001B[39;49m\u001B[43m \u001B[49m\u001B[38;5;28;43msorted\u001B[39;49m:\n\u001B[0;32m      8\u001B[0m         \u001B[38;5;28msorted\u001B[39m, mini \u001B[38;5;241m=\u001B[39m mini, \u001B[38;5;28msorted\u001B[39m\n\u001B[0;32m      9\u001B[0m         j \u001B[38;5;241m+\u001B[39m\u001B[38;5;241m=\u001B[39m \u001B[38;5;241m1\u001B[39m\n",
      "\u001B[1;31mKeyboardInterrupt\u001B[0m: "
     ]
    }
   ],
   "source": [
    "def selection_sort(arr):\n",
    "    i, j = 0, 1\n",
    "    while i < len(arr) - 1:\n",
    "        sorted = arr[i]\n",
    "        while j < len(arr):\n",
    "            mini = min(arr[j:])\n",
    "            if mini < sorted:\n",
    "                sorted, mini = mini, sorted\n",
    "                j += 1\n",
    "        i += 1\n",
    "    return arr\n",
    "\n",
    "\n",
    "def main():\n",
    "    arr = [8, -2, 1, 3]\n",
    "    print(selection_sort(arr))\n",
    "\n",
    "main()"
   ]
  }
 ],
 "metadata": {
  "kernelspec": {
   "display_name": "Python 3",
   "language": "python",
   "name": "python3"
  },
  "language_info": {
   "codemirror_mode": {
    "name": "ipython",
    "version": 2
   },
   "file_extension": ".py",
   "mimetype": "text/x-python",
   "name": "python",
   "nbconvert_exporter": "python",
   "pygments_lexer": "ipython2",
   "version": "2.7.6"
  }
 },
 "nbformat": 4,
 "nbformat_minor": 0
}