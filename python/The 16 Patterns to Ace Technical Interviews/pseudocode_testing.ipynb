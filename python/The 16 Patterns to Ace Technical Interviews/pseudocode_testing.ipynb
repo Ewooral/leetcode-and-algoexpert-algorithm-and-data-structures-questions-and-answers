{
 "cells": [
  {
   "cell_type": "code",
   "execution_count": 2,
   "metadata": {
    "collapsed": false,
    "pycharm": {
     "name": "#%%\n"
    }
   },
   "outputs": [
    {
     "name": "stdout",
     "output_type": "stream",
     "text": [
      "sel_sort ( [2, 0, 9, -1, -9, 4] )\n",
      "sel_sort ( [2, 0, 9, -1, 4] )\n",
      "sel_sort ( [2, 0, 9, 4] )\n",
      "sel_sort ( [2, 9, 4] )\n",
      "sel_sort ( [9, 4] )\n",
      "sel_sort ( [9] )\n",
      "[-9, -1, 0, 2, 4, 9]\n"
     ]
    }
   ],
   "source": [
    "# Selection Sort\n",
    "import math\n",
    "\n",
    "\n",
    "def selSort(array):\n",
    "    print(\"sel_sort\", \"(\", array,\")\")\n",
    "    if len(array) <= 1:\n",
    "        return array\n",
    "    li_2 = list(array)\n",
    "    mini = min(li_2)\n",
    "    li_2.remove(mini)\n",
    "    return [mini] + selSort(li_2)\n",
    "li_1 = [2, 0, 9, -1, -9, 4]\n",
    "# li_1 = [2, 0, 1]\n",
    "print(selSort(li_1))"
   ]
  },
  {
   "cell_type": "markdown",
   "source": [
    "\n",
    "\n",
    "\n",
    "\n",
    "\n",
    "\n",
    "# Find Frequency of a character in strings"
   ],
   "metadata": {
    "collapsed": false,
    "pycharm": {
     "name": "#%% md\n"
    }
   }
  },
  {
   "cell_type": "code",
   "execution_count": 54,
   "outputs": [
    {
     "name": "stdout",
     "output_type": "stream",
     "text": [
      "4\n",
      "4\n",
      "4\n"
     ]
    }
   ],
   "source": [
    "def FC(char, target):\n",
    "    frequency = {}\n",
    "    for c in target:\n",
    "        if c not in frequency:\n",
    "            frequency[c] = 0\n",
    "        frequency[c] += 1\n",
    "    return frequency[char]\n",
    "print(FC(\"i\", \"ijklimloistui\"))\n",
    "\n",
    "\n",
    "from collections import Counter\n",
    "def freq(char, target):\n",
    "    fre = Counter(target)\n",
    "    return fre[char]\n",
    "print(freq(\"i\", \"ijklimloistui\"))\n",
    "\n",
    "\n",
    "def findFreq(char, target):\n",
    "    freq = {}\n",
    "    for c in target:\n",
    "        freq[c] = freq.get(c, 0) + 1\n",
    "    return freq[char]\n",
    "print(freq(\"i\", \"ijklimloistui\"))"
   ],
   "metadata": {
    "collapsed": false,
    "pycharm": {
     "name": "#%%\n"
    }
   }
  },
  {
   "cell_type": "code",
   "execution_count": 4,
   "metadata": {
    "collapsed": false,
    "pycharm": {
     "name": "#%%\n"
    }
   },
   "outputs": [],
   "source": [
    "\n",
    "# Create A Graph data structure\n",
    "from collections import defaultdict\n",
    "from dataclasses import dataclass\n",
    "@dataclass\n",
    "class Graph:\n",
    "    graph: dict = None\n",
    "    if graph is None:\n",
    "        graph = defaultdict\n",
    "    else:\n",
    "        graph = None\n",
    "\n",
    "    def addVertex(self, vertex, edge):\n",
    "        self.graph[vertex].append(edge)\n",
    "\n",
    "graph = Graph({})"
   ]
  },
  {
   "cell_type": "code",
   "execution_count": 5,
   "metadata": {
    "collapsed": false,
    "pycharm": {
     "name": "#%%\n"
    }
   },
   "outputs": [
    {
     "data": {
      "text/plain": "{}"
     },
     "execution_count": 5,
     "metadata": {},
     "output_type": "execute_result"
    }
   ],
   "source": [
    "graph.graph"
   ]
  },
  {
   "cell_type": "code",
   "execution_count": 6,
   "metadata": {
    "collapsed": false,
    "pycharm": {
     "name": "#%%\n"
    }
   },
   "outputs": [],
   "source": [
    "graph.graph.update({\n",
    "    \"a\": [\"b\", \"c\"],\n",
    "    \"b\": [\"a\", \"d\", \"e\"],\n",
    "    \"c\": [\"a\", \"e\"],\n",
    "    \"d\": [\"b\", \"e\", \"f\"],\n",
    "    \"e\": [\"d\", \"c\"],\n",
    "    \"f\": [\"d\", \"e\"]})"
   ]
  },
  {
   "cell_type": "code",
   "execution_count": 7,
   "metadata": {
    "collapsed": false,
    "pycharm": {
     "name": "#%%\n"
    }
   },
   "outputs": [],
   "source": [
    "G = graph.graph"
   ]
  },
  {
   "cell_type": "code",
   "execution_count": 7,
   "metadata": {
    "collapsed": false,
    "pycharm": {
     "name": "#%%\n"
    }
   },
   "outputs": [],
   "source": []
  },
  {
   "cell_type": "code",
   "execution_count": 8,
   "metadata": {
    "collapsed": false,
    "pycharm": {
     "name": "#%%\n"
    }
   },
   "outputs": [],
   "source": [
    "def find_path(graph, start, end, path=None):\n",
    "        print(\"find_path\", \"(\", path, \")\")\n",
    "        if path is None:\n",
    "            path = []\n",
    "        path += [start]\n",
    "        if start == end:\n",
    "            return path\n",
    "        for node in graph[start]:\n",
    "            if node not in path:\n",
    "                new_path = find_path(graph, node, end, path)\n",
    "                if len(new_path) > 0:\n",
    "                    return new_path\n",
    "        return None"
   ]
  },
  {
   "cell_type": "code",
   "execution_count": 9,
   "outputs": [
    {
     "name": "stdout",
     "output_type": "stream",
     "text": [
      "find_path ( None )\n",
      "find_path ( ['a'] )\n",
      "find_path ( ['a', 'b'] )\n",
      "['a', 'b', 'd']\n"
     ]
    }
   ],
   "source": [
    "print(find_path(G, \"a\", \"d\"))"
   ],
   "metadata": {
    "collapsed": false,
    "pycharm": {
     "name": "#%%\n"
    }
   }
  },
  {
   "cell_type": "code",
   "execution_count": 10,
   "metadata": {
    "collapsed": false,
    "pycharm": {
     "name": "#%%\n"
    }
   },
   "outputs": [
    {
     "data": {
      "text/plain": "['b', 'e', 'f']"
     },
     "execution_count": 10,
     "metadata": {},
     "output_type": "execute_result"
    }
   ],
   "source": [
    "graph.graph.get(\"d\")"
   ]
  },
  {
   "cell_type": "code",
   "execution_count": 11,
   "metadata": {
    "collapsed": false,
    "pycharm": {
     "name": "#%%\n"
    }
   },
   "outputs": [],
   "source": [
    "vis = [[False for i in range(3)] for j in range(3)]"
   ]
  },
  {
   "cell_type": "code",
   "execution_count": 12,
   "metadata": {
    "collapsed": false,
    "pycharm": {
     "name": "#%%\n"
    }
   },
   "outputs": [
    {
     "data": {
      "text/plain": "[[False, False, False], [False, False, False], [False, False, False]]"
     },
     "execution_count": 12,
     "metadata": {},
     "output_type": "execute_result"
    }
   ],
   "source": [
    "vis"
   ]
  },
  {
   "cell_type": "code",
   "execution_count": 12,
   "metadata": {
    "collapsed": false,
    "pycharm": {
     "name": "#%%\n"
    }
   },
   "outputs": [],
   "source": []
  },
  {
   "cell_type": "markdown",
   "metadata": {
    "collapsed": false,
    "pycharm": {
     "name": "#%% md\n"
    }
   },
   "source": []
  },
  {
   "cell_type": "code",
   "execution_count": 13,
   "metadata": {
    "collapsed": false,
    "pycharm": {
     "name": "#%%\n"
    }
   },
   "outputs": [
    {
     "name": "stdout",
     "output_type": "stream",
     "text": [
      "[1, 2, 3, 4, 5, 6, 7, 8, 9, 10, 11, 12, 13, 14, 15, 16]\n"
     ]
    }
   ],
   "source": [
    "# zigzag traversal\n",
    "arra = [\n",
    "    [1, 3, 4, 10],\n",
    "    [2, 5, 9, 11],\n",
    "    [6, 8, 12, 15],\n",
    "    [7 , 13, 14, 16],\n",
    "]\n",
    "def zigzagTraverse(arr):\n",
    "    height = len(arr) - 1\n",
    "    width = len(arr[0]) - 1\n",
    "    result = []\n",
    "    row = col = 0\n",
    "    goingDown = True\n",
    "    while not isOutOfBounds(row, col, height, width):\n",
    "        result.append(arr[row][col])\n",
    "        if goingDown:\n",
    "            if col == 0 or row == height:\n",
    "                goingDown = False\n",
    "                if row == height:\n",
    "                    col += 1\n",
    "                else:\n",
    "                    row += 1\n",
    "            else:\n",
    "                row += 1\n",
    "                col -= 1\n",
    "        else:\n",
    "            if row == 0 or col == width:\n",
    "                goingDown = True\n",
    "                if col == width:\n",
    "                    row += 1\n",
    "                else:\n",
    "                    col += 1\n",
    "            else:\n",
    "                row -= 1\n",
    "                col += 1\n",
    "    return result\n",
    "\n",
    "\n",
    "def isOutOfBounds(row, col, height, width):\n",
    "    return row < 0 or row > height or  col < 0 or col > width\n",
    "print(zigzagTraverse(arra))"
   ]
  },
  {
   "cell_type": "markdown",
   "source": [],
   "metadata": {
    "collapsed": false,
    "pycharm": {
     "name": "#%% md\n"
    }
   }
  },
  {
   "cell_type": "markdown",
   "metadata": {
    "collapsed": false,
    "pycharm": {
     "name": "#%% md\n"
    }
   },
   "source": [
    "\n",
    "# First Duplicate value"
   ]
  },
  {
   "cell_type": "code",
   "execution_count": 14,
   "metadata": {
    "collapsed": false,
    "pycharm": {
     "name": "#%%\n"
    }
   },
   "outputs": [
    {
     "data": {
      "text/plain": "5"
     },
     "execution_count": 14,
     "metadata": {},
     "output_type": "execute_result"
    }
   ],
   "source": [
    "\n",
    "arr2 = [5, 1, 5, 2, 3, 3, 4]\n",
    "def first_Duplicate(arr):\n",
    "    hash_set = set()\n",
    "    for value in arr:\n",
    "        if value in hash_set:\n",
    "            return value\n",
    "        hash_set.add(value)\n",
    "    return -1\n",
    "first_Duplicate(arr2)"
   ]
  },
  {
   "cell_type": "markdown",
   "source": [],
   "metadata": {
    "collapsed": false,
    "pycharm": {
     "name": "#%% md\n"
    }
   }
  },
  {
   "cell_type": "markdown",
   "source": [
    "\n",
    "\n",
    "\n",
    "\n"
   ],
   "metadata": {
    "collapsed": false,
    "pycharm": {
     "name": "#%% md\n"
    }
   }
  },
  {
   "cell_type": "markdown",
   "source": [
    "\n",
    "# Move value instances to end of list\n",
    "Given two inputs, an array of elements and an integer, Find all instances\n",
    "of the integer in the input array and move them to the end of the array\n",
    "\n",
    "Eg. Input arr = [2, 1, 2, 2, 2, 3, 4, 2], valueToMove = 2\n",
    "    Output arr = [1, 3, 4, 2, 2, 2, 2, 2]\n",
    "\n",
    "constraints\n",
    "This operation should be done in place\n",
    "order of the other numbers is not relevant\n"
   ],
   "metadata": {
    "collapsed": false,
    "pycharm": {
     "name": "#%% md\n"
    }
   }
  },
  {
   "cell_type": "code",
   "execution_count": 3,
   "metadata": {
    "collapsed": false,
    "pycharm": {
     "name": "#%%\n"
    }
   },
   "outputs": [
    {
     "name": "stdout",
     "output_type": "stream",
     "text": [
      "[2, 2, 1, 4, 2, 2, 2, 3, 3, 3]\n",
      "[8, 1, 3, 2, 2, 2, 2, 2]\n",
      "['p', 'l', 'o', 'p', 'e', 'e']\n"
     ]
    }
   ],
   "source": [
    "'''\n",
    "1. initialize a left, right pointer, variable valueToMove\n",
    "2. while left is less than right:\n",
    "3. reduce the right pointer by 1 while left is less than right and right value is equal to valueToMove\n",
    "4. If left value is equal to valueToMove, swap left and right values\n",
    "5. while left is still less than right increment left pointer by one and return the array\n",
    "'''\n",
    "def move_instances_to_end(arr, k):\n",
    "    l = 0\n",
    "    r = len(arr) - 1\n",
    "    while l < r:\n",
    "        while l < r and arr[r] == k:\n",
    "            r -= 1\n",
    "        if arr[l] == k:\n",
    "            arr[l], arr[r] = arr[r], arr[l]\n",
    "        l += 1\n",
    "    return arr\n",
    "\n",
    "\n",
    "# Approach 2\n",
    "def moveInstances(arr, move):\n",
    "    j = len(arr) - 1\n",
    "    i = 0\n",
    "    while i <= j:\n",
    "        leftNum, rightNum = arr[i], arr[j]\n",
    "        if rightNum == move:\n",
    "            j -= 1\n",
    "        else:\n",
    "            if leftNum == move:\n",
    "                swap(i, j, arr)\n",
    "                i += 1\n",
    "                j -= 1\n",
    "            else:\n",
    "                i += 1\n",
    "    return arr\n",
    "\n",
    "\n",
    "def swap(i, j, arr):\n",
    "    arr[i], arr[j] = arr[j], arr[i]\n",
    "\n",
    "\n",
    "def main():\n",
    "    arr = [\n",
    "            [2, 3, 1, 3, 2, 2, 2, 3, 4, 2],\n",
    "            [8, 1, 2, 2, 2, 3, 2, 2]\n",
    "           ]\n",
    "    valueToMove = [3, 2]\n",
    "    print(moveInstances(arr[0], valueToMove[0]))\n",
    "    print(moveInstances(arr[1], valueToMove[1]))\n",
    "\n",
    "    arr3 = [\"p\", \"e\", \"o\", \"p\", \"l\", \"e\"]\n",
    "    k = \"e\"\n",
    "    print(move_instances_to_end(arr3, k))\n",
    "\n",
    "if __name__ == '__main__':\n",
    "    main()\n"
   ]
  },
  {
   "cell_type": "markdown",
   "metadata": {
    "collapsed": false,
    "pycharm": {
     "name": "#%% md\n"
    }
   },
   "source": []
  },
  {
   "cell_type": "code",
   "execution_count": 15,
   "metadata": {
    "collapsed": false,
    "pycharm": {
     "name": "#%%\n"
    }
   },
   "outputs": [],
   "source": []
  },
  {
   "cell_type": "code",
   "execution_count": 16,
   "metadata": {
    "collapsed": false,
    "pycharm": {
     "name": "#%%\n"
    }
   },
   "outputs": [
    {
     "data": {
      "text/plain": "2"
     },
     "execution_count": 16,
     "metadata": {},
     "output_type": "execute_result"
    }
   ],
   "source": [
    "gui = [4, 1, 3, 2, 2]\n",
    "def first_duplicate(arr):\n",
    "    # value - 1 = index\n",
    "    for value in arr:\n",
    "        absValue = abs(value)\n",
    "        if arr[absValue - 1] < 0:\n",
    "            return absValue\n",
    "        # set values to negatives\n",
    "        arr[absValue - 1] *= -1\n",
    "    return -1\n",
    "first_Duplicate(gui)"
   ]
  },
  {
   "cell_type": "code",
   "execution_count": 17,
   "metadata": {
    "collapsed": false,
    "pycharm": {
     "name": "#%%\n"
    }
   },
   "outputs": [
    {
     "name": "stdout",
     "output_type": "stream",
     "text": [
      "20\n"
     ]
    }
   ],
   "source": [
    "def non_constructible_change(coins):\n",
    "    coins.sort()\n",
    "    # current_change_created = ccc\n",
    "    ccc = 0\n",
    "    for coin in coins:\n",
    "        if coin > ccc + 1:\n",
    "            return ccc + 1\n",
    "        ccc += coin\n",
    "    return ccc + 1\n",
    "print(non_constructible_change([5, 7, 1, 1, 2, 3, 22]))"
   ]
  },
  {
   "cell_type": "code",
   "execution_count": 18,
   "metadata": {
    "collapsed": false,
    "pycharm": {
     "name": "#%%\n"
    }
   },
   "outputs": [
    {
     "name": "stdout",
     "output_type": "stream",
     "text": [
      "[28, 26]\n"
     ]
    }
   ],
   "source": [
    "def smallest_difference(arr1, arr2):\n",
    "    arr1.sort()\n",
    "    arr2.sort()\n",
    "    l = r = 0\n",
    "    smallest = float(\"inf\")\n",
    "    current = float(\"inf\")\n",
    "    smallestPair = []\n",
    "    while l < len(arr1) and r < len(arr2):\n",
    "        firstNum = arr1[l]\n",
    "        secondNum = arr2[r]\n",
    "        # current = abs(firstNum - secondNum)\n",
    "        if firstNum < secondNum:\n",
    "            current = secondNum - firstNum\n",
    "            l += 1\n",
    "        elif secondNum < firstNum:\n",
    "            current = firstNum - secondNum\n",
    "            r += 1\n",
    "        else:\n",
    "            return [firstNum, secondNum]\n",
    "        if smallest > current:\n",
    "            smallest = current\n",
    "            smallestPair = [firstNum, secondNum]\n",
    "    return smallestPair\n",
    "print(smallest_difference([-1,5, 10, 20, 28, 3], [26, 134, 135, 15, 17]))"
   ]
  },
  {
   "cell_type": "code",
   "execution_count": 19,
   "metadata": {
    "collapsed": false,
    "pycharm": {
     "name": "#%%\n"
    }
   },
   "outputs": [
    {
     "name": "stdout",
     "output_type": "stream",
     "text": [
      "pascal ( 3 )\n",
      "pascal ( 2 )\n",
      "pascal ( 1 )\n",
      "pascal ( 0 )\n",
      "[1, 3, 3, 1]\n"
     ]
    }
   ],
   "source": [
    "def pascal (n):\n",
    " print(\"pascal\", \"(\", n, \")\")\n",
    " if n == 0:\n",
    "    return [1]\n",
    " else:\n",
    "    row = [1]\n",
    "    previous_row = pascal (n - 1)\n",
    "    for i in range(len(previous_row) - 1):\n",
    "        row.append (previous_row[i] + previous_row[i + 1])\n",
    "    row.append (1)\n",
    " return row\n",
    "print(pascal(3))"
   ]
  },
  {
   "cell_type": "markdown",
   "metadata": {
    "collapsed": false,
    "pycharm": {
     "name": "#%% md\n"
    }
   },
   "source": [
    "\n",
    "\n"
   ]
  },
  {
   "cell_type": "markdown",
   "metadata": {
    "collapsed": false,
    "pycharm": {
     "name": "#%% md\n"
    }
   },
   "source": [
    "# Find the max sum subarray of a fixed size k\n",
    "arr = [4, 2, 1, 7, 8, 1, 2, 8, 1, 0]\n",
    "**Solution**\n",
    "\n",
    "4, 2, 1  = 7\n",
    "2, 1, 7  = 10\n",
    "1, 7, 8 = 16\n",
    "7, 8, 1  = 16\n",
    "8, 1, 2  = 11\n",
    "1, 2, 8  = 11\n",
    "2, 8, 1  = 11\n",
    "8, 1, 0  = 9\n",
    "max([7, 10, 16, 16, 11, 11, 11, 9]) = 16"
   ]
  },
  {
   "cell_type": "code",
   "execution_count": 20,
   "metadata": {
    "collapsed": false,
    "pycharm": {
     "name": "#%%\n"
    }
   },
   "outputs": [
    {
     "name": "stdout",
     "output_type": "stream",
     "text": [
      "15\n",
      "16\n",
      "16\n"
     ]
    }
   ],
   "source": [
    "\n",
    "from typing import List\n",
    "# sum of subarray of length k\n",
    "def fixed_sliding_window(arr: List[int], k: int) -> List[int]:\n",
    "    '''sum up the first subarray and add it to the result\n",
    "    cs = current_subarray\n",
    "    '''\n",
    "    cs = sum(arr[:k])\n",
    "    result = [cs]\n",
    "\n",
    "    '''To get each subsequence subarray, add the next value\n",
    "    in the list and remove the first value\n",
    "    '''\n",
    "    for i in range(1, len(arr) - k + 1 ):\n",
    "        cs = cs - arr[i - 1]\n",
    "        cs = cs + arr[i + k - 1]\n",
    "        result.append(cs)\n",
    "\n",
    "    finalMax = result[0]\n",
    "    for i in result[1:]:\n",
    "        if i < finalMax:\n",
    "            continue\n",
    "        else:\n",
    "            finalMax = i\n",
    "\n",
    "    return (finalMax)\n",
    "\n",
    "\n",
    "print(fixed_sliding_window([1, 2, 3, 4, 5, 6], 3))\n",
    "print(fixed_sliding_window([1, 3, -1, -3, 5, 3, 6, 7], 3))\n",
    "print(fixed_sliding_window([4, 2, 1, 7, 8, 1, 2, 8, 1, 0], 3))"
   ]
  },
  {
   "cell_type": "markdown",
   "metadata": {
    "collapsed": false,
    "pycharm": {
     "name": "#%% md\n"
    }
   },
   "source": []
  },
  {
   "cell_type": "code",
   "execution_count": 20,
   "metadata": {
    "collapsed": false,
    "pycharm": {
     "name": "#%%\n"
    }
   },
   "outputs": [],
   "source": []
  },
  {
   "cell_type": "markdown",
   "metadata": {
    "collapsed": false,
    "pycharm": {
     "name": "#%% md\n"
    }
   },
   "source": [
    "\n",
    "\n"
   ]
  },
  {
   "cell_type": "code",
   "execution_count": 21,
   "metadata": {
    "collapsed": false,
    "pycharm": {
     "name": "#%%\n"
    }
   },
   "outputs": [
    {
     "name": "stdout",
     "output_type": "stream",
     "text": [
      "11\n",
      "11\n"
     ]
    }
   ],
   "source": [
    "# Kadane's Algorithm\n",
    "def Kadane(arr):\n",
    "    cuMax = filMax = arr[0]\n",
    "    for num in arr[1:]:\n",
    "        cuMax = max(num, cuMax + num)\n",
    "        filMax = max(filMax, cuMax)\n",
    "    return filMax\n",
    "# Kadane([4, 1, 3, 2, 2, 2, 2, 2])\n",
    "print(Kadane([4, 2, 1, -9, 8, 1, 2, -8, 1, 0]))\n",
    "print(Kadane([4, 2, 1, -9, 8, 1, 2, -8, 1, 0]))"
   ]
  },
  {
   "cell_type": "markdown",
   "metadata": {
    "collapsed": false,
    "pycharm": {
     "name": "#%% md\n"
    }
   },
   "source": []
  },
  {
   "cell_type": "markdown",
   "metadata": {
    "collapsed": false,
    "pycharm": {
     "name": "#%% md\n"
    }
   },
   "source": [
    "# BINARY TREE CONSTRUCTION, ZIGZAG\n",
    "# AND LEVEL ORDER TRAVERSAL,\n",
    "# LEFT AND RIGHT INSERTION\n",
    "# AND MANY MORE..."
   ]
  },
  {
   "cell_type": "code",
   "execution_count": 22,
   "metadata": {
    "collapsed": false,
    "pycharm": {
     "name": "#%%\n"
    }
   },
   "outputs": [
    {
     "name": "stdout",
     "output_type": "stream",
     "text": [
      "...Insert Nodes...\n",
      "...search...\n",
      "Not Found!\n",
      "\n",
      "        __1__\n",
      "       /     \\\n",
      "    __2       3\n",
      "   /   \\     / \\\n",
      "  4     5   6   7\n",
      " / \\\n",
      "8   9\n",
      "\n",
      "1\n",
      "2\n",
      "3\n",
      "4\n",
      "5\n",
      "6\n",
      "7\n",
      "8\n",
      "9\n",
      "...all nodes depths...\n",
      "26\n",
      "nodes depths:  16\n",
      "...depths of all nodes relative to each root node...\n",
      "[26, TreeInfo(num_nodes_in_tree=5, sum_of_depths=6, sum_of_all_depths=8)]\n",
      "node ( \n",
      "8\n",
      " )\n",
      "node ( \n",
      "9\n",
      " )\n",
      "node ( \n",
      "  4\n",
      " / \\\n",
      "8   9\n",
      " )\n",
      "node ( \n",
      "5\n",
      " )\n",
      "node ( \n",
      "    __2\n",
      "   /   \\\n",
      "  4     5\n",
      " / \\\n",
      "8   9\n",
      " )\n",
      "node ( \n",
      "6\n",
      " )\n",
      "node ( \n",
      "7\n",
      " )\n",
      "node ( \n",
      "  3\n",
      " / \\\n",
      "6   7\n",
      " )\n",
      "node ( \n",
      "        __1__\n",
      "       /     \\\n",
      "    __2       3\n",
      "   /   \\     / \\\n",
      "  4     5   6   7\n",
      " / \\\n",
      "8   9\n",
      " )\n",
      "26\n",
      "zigzag_level_order Traversal [[1], [3, 2], [4, 5, 6, 7], [9, 8]]\n"
     ]
    }
   ],
   "source": [
    "from dataclasses import dataclass\n",
    "from collections import deque as que\n",
    "from binarytree import Node\n",
    "import queue\n",
    "\n",
    "\n",
    "@dataclass\n",
    "class BinaryTree:\n",
    "    value: int = None\n",
    "    left: int = None\n",
    "    right: int = None\n",
    "\n",
    "\n",
    "def insertAtLeft(rootNode, nodeValue):\n",
    "    if rootNode is None:\n",
    "        rootNode = nodeValue\n",
    "    else:\n",
    "        q = queue.Queue()\n",
    "        q.put(rootNode)\n",
    "        while not q.empty():\n",
    "            root = q.get()\n",
    "            if root.left is not None:\n",
    "                q.put(root.left)\n",
    "            else:\n",
    "                root.left = nodeValue\n",
    "                return \"...Inserted!...\"\n",
    "\n",
    "\n",
    "def insertAtRight(rootNode, nodeValue):\n",
    "    if rootNode is None:\n",
    "        rootNode = nodeValue\n",
    "    else:\n",
    "        q = queue.Queue()\n",
    "        q.put(rootNode)\n",
    "        while not q.empty():\n",
    "            root = q.get()\n",
    "            if root.right is not None:\n",
    "                q.put(root.right)\n",
    "            else:\n",
    "                root.right = nodeValue\n",
    "                return \"...Inserted!...\"\n",
    "\n",
    "\n",
    "print(\"...Insert Nodes...\")\n",
    "root = Node(1)\n",
    "\n",
    "insertAtLeft(root, Node(2))\n",
    "insertAtRight(root, Node(3))\n",
    "\n",
    "insertAtLeft(root.left, Node(4))\n",
    "insertAtRight(root.left, Node(5))\n",
    "\n",
    "insertAtLeft(root.right, Node(6))\n",
    "insertAtRight(root.right, Node(7))\n",
    "\n",
    "insertAtLeft(root.left.left, Node(8))\n",
    "insertAtRight(root.left.left, Node(9))\n",
    "\n",
    "\n",
    "\n",
    "def level_order(rootNode):\n",
    "    if rootNode is None:\n",
    "        return\n",
    "    else:\n",
    "        q = queue.Queue()\n",
    "        q.put(rootNode)\n",
    "        while not q.empty():\n",
    "            root = q.get()\n",
    "            print(root.value)\n",
    "            if root.left is not None:\n",
    "                q.put(root.left)\n",
    "            if root.right is not None:\n",
    "                q.put(root.right)\n",
    "\n",
    "\n",
    "def search(rootNode, value):\n",
    "    if rootNode is None:\n",
    "        return\n",
    "    else:\n",
    "        q = queue.Queue()\n",
    "        q.put(rootNode)\n",
    "        while not q.empty():\n",
    "            root = q.get()\n",
    "            if root.value == value:\n",
    "                return f\"Found {value}\"\n",
    "            if root.left is not None:\n",
    "                q.put(root.left)\n",
    "            if root.right is not None:\n",
    "                q.put(root.right)\n",
    "        return \"Not Found!\"\n",
    "\n",
    "\n",
    "print(\"...search...\")\n",
    "print(search(root, 10))\n",
    "\n",
    "print(root)\n",
    "level_order(root)\n",
    "\n",
    "\n",
    "# TWO APPROACHES TO FIND ALL NODE DEPTH\n",
    "# APPROACH ONE\n",
    "# iteratively\n",
    "def allKindOfNodeDepthsI(root):\n",
    "    sumOfAllDepths = 0\n",
    "    stack = [root]\n",
    "    while len(stack) > 0:\n",
    "        node = stack.pop()\n",
    "        if node is None:\n",
    "            continue\n",
    "        sumOfAllDepths += nodeDepths(node)\n",
    "        stack.append(node.left)\n",
    "        stack.append(node.right)\n",
    "    return sumOfAllDepths\n",
    "\n",
    "\n",
    "def nodeDepths(node, depth=0):\n",
    "    if node is None:\n",
    "        return 0\n",
    "    return depth + nodeDepths(node.left, depth + 1) + nodeDepths(node.right, depth + 1)\n",
    "\n",
    "\n",
    "# recursively O(nlog(n)) T, O(h)S\n",
    "# APPROACH TWO O(N) T, O(H) S\n",
    "def allKindOfNodeDepthsII(rooty):\n",
    "    if rooty is None:\n",
    "        return 0\n",
    "    else:\n",
    "        return allKindOfNodeDepthsII(rooty.left) + allKindOfNodeDepthsII(rooty.right) + nodeDepthsI(rooty)\n",
    "\n",
    "\n",
    "def nodeDepthsI(node, depth=0):\n",
    "    print(\"node\", \"(\", node, \")\")\n",
    "    if node is None:\n",
    "        return 0\n",
    "    return depth + nodeDepths(node.left, depth + 1) + nodeDepths(node.right, depth + 1)\n",
    "\n",
    "\n",
    "# depths of all nodes relative to each root of the tree\n",
    "print(\"...all nodes depths...\")\n",
    "print(allKindOfNodeDepthsI(root))\n",
    "print(\"nodes depths: \", nodeDepths(root, depth=0))\n",
    "\n",
    "\n",
    "# APPROACH TWO O(N) T, O(H) S\n",
    "def allKindsOfNodeDepthsIV(root):\n",
    "    return [getTreeInfo(root).sum_of_all_depths, getTreeInfo(root.left)]\n",
    "\n",
    "\n",
    "def getTreeInfo(tree):\n",
    "    if tree is None:\n",
    "        return TreeInfo()\n",
    "    leftTreeInfo = getTreeInfo(tree.left)\n",
    "    rightTreeInfo = getTreeInfo(tree.right)\n",
    "\n",
    "    sumOfLeftDepths = leftTreeInfo.sum_of_depths + leftTreeInfo.num_nodes_in_tree\n",
    "    sumOfRightDepths = rightTreeInfo.sum_of_depths + rightTreeInfo.num_nodes_in_tree\n",
    "\n",
    "    numNodesInTree = 1 + leftTreeInfo.num_nodes_in_tree + rightTreeInfo.num_nodes_in_tree\n",
    "    sumOfDepths = sumOfLeftDepths + sumOfRightDepths\n",
    "    sumOfAllDepths = sumOfDepths + leftTreeInfo.sum_of_all_depths + rightTreeInfo.sum_of_all_depths\n",
    "    return TreeInfo(numNodesInTree, sumOfDepths, sumOfAllDepths)\n",
    "\n",
    "\n",
    "def zigzag_level_order(root):\n",
    "    if root is None:\n",
    "        return []\n",
    "    else:\n",
    "        result = []\n",
    "        zigzag = False\n",
    "        q = que()\n",
    "        q.append(root)\n",
    "        while q:\n",
    "            level = []\n",
    "            for _ in range(len(q)):\n",
    "                if zigzag:\n",
    "                    node = q.pop()\n",
    "                    level.append(node.value)\n",
    "                    if node.right:\n",
    "                        q.appendleft(node.right)\n",
    "                    if node.left:\n",
    "                        q.appendleft(node.left)\n",
    "                else:\n",
    "                    node = q.popleft()\n",
    "                    level.append(node.value)\n",
    "                    if node.left:\n",
    "                        q.append(node.left)\n",
    "                    if node.right:\n",
    "                        q.append(node.right)\n",
    "            result.append(level)\n",
    "            zigzag = not zigzag\n",
    "        return result\n",
    "\n",
    "@dataclass\n",
    "class TreeInfo:\n",
    "    num_nodes_in_tree: int = 0\n",
    "    sum_of_depths: int = 0\n",
    "    sum_of_all_depths: int = 0\n",
    "\n",
    "\n",
    "# depths of all nodes relative to each root of the tree\n",
    "print(\"...depths of all nodes relative to each root node...\")\n",
    "print(allKindsOfNodeDepthsIV(root))\n",
    "print(allKindOfNodeDepthsII(root))\n",
    "print(\"zigzag_level_order Traversal\", zigzag_level_order(root))\n"
   ]
  },
  {
   "cell_type": "markdown",
   "metadata": {
    "collapsed": false,
    "pycharm": {
     "name": "#%% md\n"
    }
   },
   "source": []
  },
  {
   "cell_type": "markdown",
   "source": [],
   "metadata": {
    "collapsed": false,
    "pycharm": {
     "name": "#%% md\n"
    }
   }
  },
  {
   "cell_type": "markdown",
   "source": [
    "# BINARY SEARCH TREE"
   ],
   "metadata": {
    "collapsed": false,
    "pycharm": {
     "name": "#%% md\n"
    }
   }
  },
  {
   "cell_type": "code",
   "execution_count": 23,
   "metadata": {
    "pycharm": {
     "name": "#%%\n"
    }
   },
   "outputs": [
    {
     "name": "stdout",
     "output_type": "stream",
     "text": [
      "..........Inserted!........\n",
      "..........Inserted!........\n",
      "..........Inserted!........\n",
      "..........Inserted!........\n",
      "..........Inserted!........\n",
      "\n",
      "      ____50\n",
      "     /      \\\n",
      "  __30       70\n",
      " /    \\\n",
      "2      40\n",
      " \\\n",
      "  4\n",
      "\n"
     ]
    }
   ],
   "source": [
    "\n",
    "@dataclass\n",
    "class BinarySearchTree:\n",
    "    value: int = None\n",
    "    left: int = None\n",
    "    right: int = None\n",
    "\n",
    "\n",
    "\n",
    "\n",
    "def insert(rootNode, value):\n",
    "    if rootNode.value is None:\n",
    "        rootNode.value = value\n",
    "    elif value <= rootNode.value:\n",
    "        if rootNode.left is None:\n",
    "            rootNode.left = Node(value)\n",
    "        else:\n",
    "            insert(rootNode.left, value)\n",
    "    else:\n",
    "        if rootNode.right is None:\n",
    "            rootNode.right = Node(value)\n",
    "        else:\n",
    "            insert(rootNode.right, value)\n",
    "    return \"..........Inserted!........\"\n",
    "\n",
    "\n",
    "\n",
    "newNode = Node(value=50)\n",
    "\n",
    "print(insert(newNode, 70))\n",
    "print(insert(newNode, 30))\n",
    "print(insert(newNode, 2))\n",
    "print(insert(newNode, 4))\n",
    "print(insert(newNode, 40))\n",
    "\n",
    "print(newNode)\n",
    "\n",
    "\n"
   ]
  },
  {
   "cell_type": "markdown",
   "source": [
    "\n",
    "\n",
    "\n",
    "\n"
   ],
   "metadata": {
    "collapsed": false,
    "pycharm": {
     "name": "#%% md\n"
    }
   }
  },
  {
   "cell_type": "markdown",
   "source": [
    "# TRIE DATA STRUCTURE"
   ],
   "metadata": {
    "collapsed": false,
    "pycharm": {
     "name": "#%% md\n"
    }
   }
  },
  {
   "cell_type": "code",
   "execution_count": 24,
   "outputs": [
    {
     "name": "stdout",
     "output_type": "stream",
     "text": [
      "...create...\n",
      " App, Successfully inserted!\n",
      " Pass, Successfully inserted!\n",
      " Mukes, Successfully inserted!\n",
      "...delete...\n",
      "...search...\n",
      "App\n",
      "Pass\n"
     ]
    }
   ],
   "source": [
    "class TrieNode:\n",
    "    def __init__(self) -> None:\n",
    "        self.children = {}\n",
    "        self.endOfString = False\n",
    "\n",
    "    def __str__(self):\n",
    "        print(self.children.values())\n",
    "\n",
    "\n",
    "# O(N) T, S\n",
    "def insertString(current, word):\n",
    "    for ch in word:\n",
    "        node = current.children.get(ch)\n",
    "        if node is not None:\n",
    "            continue\n",
    "        else:\n",
    "            node = TrieNode()\n",
    "            current.children.update({ch: node})\n",
    "        current = node\n",
    "    current.endOfString = True\n",
    "    print(f\" {word}, Successfully inserted!\")\n",
    "\n",
    "\n",
    "# O(m) T, O(1) S\n",
    "def searchString(currentNode, word):\n",
    "    for ch in word:\n",
    "        node = currentNode.children.get(ch)\n",
    "        if node is None:\n",
    "            return False\n",
    "        currentNode = node\n",
    "    print(word) if currentNode.endOfString else None\n",
    "\n",
    "\n",
    "def deleteString(root, word, index):\n",
    "    ch = word[index]\n",
    "    currentNode = root.children.get(ch)\n",
    "    cannotDelete = False\n",
    "\n",
    "    if len(currentNode.children) > 1:\n",
    "        deleteString(currentNode, word, index + 1)\n",
    "        return False\n",
    "\n",
    "    if index == len(word) - 1:\n",
    "        if len(currentNode.children) >= 1:\n",
    "            currentNode.endOfString = False\n",
    "            return False\n",
    "        else:\n",
    "            root.children.pop(ch)\n",
    "            return True\n",
    "\n",
    "    if currentNode.endOfString is True:\n",
    "        deleteString(currentNode, word, index + 1)\n",
    "        return False\n",
    "\n",
    "    cannotDelete = deleteString(currentNode, word, index + 1)\n",
    "    if cannotDelete is True:\n",
    "        root.children.pop(ch)\n",
    "        return \"Cannot Delete\"\n",
    "    else:\n",
    "        return \"Deleted Successfully!\"\n",
    "\n",
    "\n",
    "nTrie = TrieNode()\n",
    "\n",
    "\n",
    "print(\"...create...\")\n",
    "insertString(nTrie, \"App\")\n",
    "insertString(nTrie, \"Pass\")\n",
    "insertString(nTrie, \"Mukes\")\n",
    "print(\"...delete...\")\n",
    "# print(deleteString(nTrie, \"App\", 0))\n",
    "print(\"...search...\")\n",
    "\n",
    "searchString(nTrie, \"App\")\n",
    "searchString(nTrie, \"Pass\")\n",
    "\n"
   ],
   "metadata": {
    "collapsed": false,
    "pycharm": {
     "name": "#%%\n"
    }
   }
  },
  {
   "cell_type": "markdown",
   "source": [
    "# REVERSE STRING"
   ],
   "metadata": {
    "collapsed": false,
    "pycharm": {
     "name": "#%% md\n"
    }
   }
  },
  {
   "cell_type": "code",
   "execution_count": 25,
   "outputs": [
    {
     "name": "stdout",
     "output_type": "stream",
     "text": [
      "reverse_string(God is goood!), reverse_string(od is goood!), reverse_string(d is goood!), reverse_string( is goood!), reverse_string(is goood!), reverse_string(s goood!), reverse_string( goood!), reverse_string(goood!), reverse_string(oood!), reverse_string(ood!), reverse_string(od!), reverse_string(d!), reverse_string(!), reverse_string(), "
     ]
    },
    {
     "data": {
      "text/plain": "'!dooog si doG'"
     },
     "execution_count": 25,
     "metadata": {},
     "output_type": "execute_result"
    }
   ],
   "source": [
    "# Reverse a string\n",
    "def reverse_string(s):\n",
    "    print(\"reverse_string\", \"(\",s,\")\", sep=\"\", end=\", \")\n",
    "    if s == '':\n",
    "      return ''\n",
    "    else: return reverse_string(s[1:]) + s[0]\n",
    "\n",
    "reverse_string(\"God is goood!\")"
   ],
   "metadata": {
    "collapsed": false,
    "pycharm": {
     "name": "#%%\n"
    }
   }
  },
  {
   "cell_type": "markdown",
   "source": [
    "# IS A STRING PALINDROME"
   ],
   "metadata": {
    "collapsed": false,
    "pycharm": {
     "name": "#%% md\n"
    }
   }
  },
  {
   "cell_type": "code",
   "execution_count": 26,
   "outputs": [
    {
     "data": {
      "text/plain": "True"
     },
     "execution_count": 26,
     "metadata": {},
     "output_type": "execute_result"
    }
   ],
   "source": [
    "# Function that determines if a string is a palindrome.\n",
    "def is_palindrome(s):\n",
    "    n = len(s)\n",
    "    if n <= 1:\n",
    "       return True\n",
    "    else: return (s[0] == s[n - 1]) and is_palindrome(s[1:n - 1])\n",
    "is_palindrome(\"bab\")"
   ],
   "metadata": {
    "collapsed": false,
    "pycharm": {
     "name": "#%%\n"
    }
   }
  },
  {
   "cell_type": "markdown",
   "source": [
    "# MERGE SORT"
   ],
   "metadata": {
    "collapsed": false,
    "pycharm": {
     "name": "#%% md\n"
    }
   }
  },
  {
   "cell_type": "code",
   "execution_count": 27,
   "outputs": [
    {
     "name": "stdout",
     "output_type": "stream",
     "text": [
      "sel_sort ( [[4, 9, 12]] [[10, 3]] )\n",
      "sel_sort ( [[9, 12]] [[10, 3]] )\n",
      "sel_sort ( [[12]] [[10, 3]] )\n",
      "sel_sort ( [[12]] [[3]] )\n",
      "sel_sort ( [[12]] [[]] )\n",
      "[4, 9, 10, 3, 12]\n"
     ]
    }
   ],
   "source": [
    "def merge(a, b):\n",
    " print(\"sel_sort\", \"(\",[a], [b],\")\")\n",
    " if not a:\n",
    "    return b\n",
    " elif not b:\n",
    "    return a\n",
    " else:\n",
    "    if a[0] < b[0]:\n",
    "        return [a[0]] + merge (a[1:], b)\n",
    "    else:\n",
    "        return [b[0]] + merge (a, b[1:])\n",
    "print(merge([4, 9, 12],[10, 3]))"
   ],
   "metadata": {
    "collapsed": false,
    "pycharm": {
     "name": "#%%\n"
    }
   }
  },
  {
   "cell_type": "code",
   "execution_count": 28,
   "outputs": [
    {
     "name": "stdout",
     "output_type": "stream",
     "text": [
      "sel_sort ( [[3]] [[2]] )\n",
      "sel_sort ( [[3]] [[]] )\n",
      "sel_sort ( [[9]] [[-1]] )\n",
      "sel_sort ( [[9]] [[]] )\n",
      "sel_sort ( [[0]] [[-1, 9]] )\n",
      "sel_sort ( [[0]] [[9]] )\n",
      "sel_sort ( [[]] [[9]] )\n",
      "sel_sort ( [[2, 3]] [[-1, 0, 9]] )\n",
      "sel_sort ( [[2, 3]] [[0, 9]] )\n",
      "sel_sort ( [[2, 3]] [[9]] )\n",
      "sel_sort ( [[3]] [[9]] )\n",
      "sel_sort ( [[]] [[9]] )\n"
     ]
    },
    {
     "data": {
      "text/plain": "[-1, 0, 2, 3, 9]"
     },
     "execution_count": 28,
     "metadata": {},
     "output_type": "execute_result"
    }
   ],
   "source": [
    "def merge_sort(a):\n",
    "    n = len(a)\n",
    "    if n <= 1:\n",
    "       return a\n",
    "    else:\n",
    "       a1 = merge_sort(a[0:n // 2])\n",
    "       a2 = merge_sort(a[n // 2:n])\n",
    "    return merge (a1, a2)\n",
    "merge_sort([3, 2, 0, 9, -1])"
   ],
   "metadata": {
    "collapsed": false,
    "pycharm": {
     "name": "#%%\n"
    }
   }
  },
  {
   "cell_type": "code",
   "execution_count": 28,
   "outputs": [],
   "source": [],
   "metadata": {
    "collapsed": false,
    "pycharm": {
     "name": "#%%\n"
    }
   }
  },
  {
   "cell_type": "markdown",
   "source": [
    "\n",
    "\n",
    "\n",
    "# FIRST NON REPEATING CHARACTERS"
   ],
   "metadata": {
    "collapsed": false,
    "pycharm": {
     "name": "#%% md\n"
    }
   }
  },
  {
   "cell_type": "code",
   "execution_count": 29,
   "outputs": [
    {
     "name": "stdout",
     "output_type": "stream",
     "text": [
      "a\n",
      "a\n"
     ]
    }
   ],
   "source": [
    "# Approach 1\n",
    "def first_non_repeating_char(string):\n",
    "    found_duplicate = False\n",
    "    for ch in range(len(string)):\n",
    "        for ch2 in range(len(string)):\n",
    "            if string[ch] == string[ch2] and ch != ch2:\n",
    "                found_duplicate = True\n",
    "        if not found_duplicate:\n",
    "            return string[ch]\n",
    "    return -1\n",
    "print(first_non_repeating_char(\"abcdf\"))\n",
    "\n",
    "\n",
    "# Approach 2\n",
    "# O(N)T, O(1)S\n",
    "def FirstNonRepeatingChar(Str):\n",
    "    freq = {}\n",
    "    for ch in Str:\n",
    "        freq[ch] = freq.get(ch, 0) + 1\n",
    "    for i in range(len(Str)):\n",
    "        ch2 = Str[i]\n",
    "        if freq[ch2] == 1:\n",
    "            return ch2\n",
    "    return -1\n",
    "\n",
    "\n",
    "print(first_non_repeating_char(\"abcdf\"))"
   ],
   "metadata": {
    "collapsed": false,
    "pycharm": {
     "name": "#%%\n"
    }
   }
  },
  {
   "cell_type": "markdown",
   "source": [
    "# MINIMUM CHARACTERS FOR WORDS"
   ],
   "metadata": {
    "collapsed": false,
    "pycharm": {
     "name": "#%% md\n"
    }
   }
  },
  {
   "cell_type": "code",
   "execution_count": 30,
   "outputs": [
    {
     "name": "stdout",
     "output_type": "stream",
     "text": [
      "['t', 't', 'h', 'i', 's', 'a', 'd', 'd', 'e', 'e', 'm']\n"
     ]
    }
   ],
   "source": [
    "# O(n * l) time | O(c) s\n",
    "\n",
    "def min_char_word(words):\n",
    "  maxCharFreq = {}\n",
    "  for word in words:\n",
    "    charFreq = freq(word)\n",
    "    updateMaxFreq(charFreq, maxCharFreq)\n",
    "  return makeArrayFromCharFreq(maxCharFreq)\n",
    "\n",
    "\n",
    "def countCharFreq(string):\n",
    "  charFreqs = {}\n",
    "  for char in string:\n",
    "    if char not in charFreqs:\n",
    "      charFreqs[char] = 0\n",
    "    charFreqs[char] += 1\n",
    "  return charFreqs\n",
    "\n",
    "\n",
    "def freq(li):\n",
    "  dic = {}\n",
    "  for n in li:\n",
    "    dic[n] = dic.get(n, 0) + 1\n",
    "  return dic\n",
    "\n",
    "def updateMaxFreq(freqs, maxFreqs):\n",
    "  for char in freqs:\n",
    "    freq = freqs[char]\n",
    "    if char in maxFreqs:\n",
    "      maxFreqs[char] = max(freq, maxFreqs[char])\n",
    "    else:\n",
    "      maxFreqs[char] = freq\n",
    "\n",
    "\n",
    "def makeArrayFromCharFreq(charFreqs):\n",
    "  chars = []\n",
    "  for char in charFreqs:\n",
    "    freq = charFreqs[char]\n",
    "    for _ in range(freq):\n",
    "      chars.append(char)\n",
    "  return chars\n",
    "\n",
    "\n",
    "print(min_char_word([\"this\", \"that\", \"did\", \"deed\", \"them\" \"a\"]))\n"
   ],
   "metadata": {
    "collapsed": false,
    "pycharm": {
     "name": "#%%\n"
    }
   }
  },
  {
   "cell_type": "markdown",
   "source": [
    "\n",
    "\n",
    "# DIJKSTRA ALGORITHM"
   ],
   "metadata": {
    "collapsed": false,
    "pycharm": {
     "name": "#%% md\n"
    }
   }
  },
  {
   "cell_type": "code",
   "execution_count": 31,
   "outputs": [
    {
     "name": "stdout",
     "output_type": "stream",
     "text": [
      "{'A': 0, 'B': 2, 'C': 5, 'D': 3, 'E': 4, 'G': 13, 'F': 13}\n",
      "..............\n",
      "{0: 0, 1: 7, 2: 13, 3: 27, 4: 10}\n"
     ]
    }
   ],
   "source": [
    "class _Graph:\n",
    "    def __init__(self):\n",
    "        self.vertices = set()\n",
    "        self.edges = defaultdict(list)\n",
    "        self.distances = {}\n",
    "    def addVertex(self, vertex):\n",
    "        self.vertices.add(vertex)\n",
    "    def addEdge(self, fVertex, tVertex, distance):\n",
    "        self.edges[fVertex].append(tVertex)\n",
    "        self.distances[(fVertex, tVertex)] = distance\n",
    "\n",
    "def dijkstra(graph, startVertex):\n",
    "    visited = {startVertex: 0}\n",
    "    path = defaultdict(list)\n",
    "    vertices = set(graph.vertices)\n",
    "\n",
    "    while vertices:\n",
    "        minVertex = None\n",
    "        for vertex in vertices:\n",
    "            if vertex in visited:\n",
    "                if minVertex is None:\n",
    "                    minVertex = vertex\n",
    "                elif visited[vertex] < visited[minVertex]:\n",
    "                    minVertex = vertex\n",
    "        if minVertex is None:\n",
    "            break\n",
    "        vertices.remove(minVertex)\n",
    "        currentWeight = visited[minVertex]\n",
    "        for edge in graph.edges[minVertex]:\n",
    "            weight = currentWeight + graph.distances[(minVertex, edge)]\n",
    "            if edge not in visited or weight < visited[edge]:\n",
    "                visited[edge] = weight\n",
    "                path[edge].append(minVertex)\n",
    "    return  visited\n",
    "\n",
    "def dic_to_list(hash_table = None):\n",
    "    if hash_table is None:\n",
    "        hash_table = defaultdict(list)\n",
    "    start, end = 0, len(hash_table) - 1\n",
    "    while start < end:\n",
    "        print([hash_table.keys(), hash_table.values()])\n",
    "        start += 1\n",
    "    return\n",
    "\n",
    "\n",
    "g = _Graph()\n",
    "g.addVertex(\"A\")\n",
    "g.addVertex(\"B\")\n",
    "g.addVertex(\"C\")\n",
    "g.addVertex(\"D\")\n",
    "g.addVertex(\"E\")\n",
    "g.addVertex(\"F\")\n",
    "g.addVertex(\"G\")\n",
    "g.addEdge(\"A\", \"B\", 2)\n",
    "g.addEdge(\"A\", \"C\", 5)\n",
    "g.addEdge(\"B\", \"C\", 6)\n",
    "g.addEdge(\"B\", \"D\", 1)\n",
    "g.addEdge(\"B\", \"E\", 3)\n",
    "g.addEdge(\"C\", \"F\", 8)\n",
    "g.addEdge(\"D\", \"E\", 1)\n",
    "g.addEdge(\"E\", \"G\", 9)\n",
    "g.addEdge(\"F\", \"G\", 7)\n",
    "print(dijkstra(g, \"A\"))\n",
    "\n",
    "gg = _Graph()\n",
    "gg.addVertex(0)\n",
    "gg.addVertex(1)\n",
    "gg.addVertex(2)\n",
    "gg.addVertex(3)\n",
    "gg.addVertex(4)\n",
    "gg.addVertex(5)\n",
    "gg.addEdge(0, 1, 7)\n",
    "gg.addEdge(1, 2, 6)\n",
    "gg.addEdge(1, 3, 20)\n",
    "gg.addEdge(1, 4, 3)\n",
    "gg.addEdge(2, 3, 14)\n",
    "gg.addEdge(3, 4, 2)\n",
    "print(\"..............\")\n",
    "print(dijkstra(gg, 0))\n",
    "\n",
    "\n"
   ],
   "metadata": {
    "collapsed": false,
    "pycharm": {
     "name": "#%%\n"
    }
   }
  },
  {
   "cell_type": "markdown",
   "source": [
    "\n",
    "\n",
    "\n",
    "\n",
    "\n",
    "\n",
    "# RIGHT SMALLER THAN\n",
    "Input: [8, 5, 11, -1, 3, 4, 2]\n",
    "Output: [5, 4, 4, 0, 1, 1, 0]\n",
    "Output represents the number of Inputs lesser than\n",
    "current Input\n",
    "E.g 5 represents no of integers\n",
    "\n",
    "NB. Optimal solution involves constructing a\n",
    "BST, inserting nodes from right to left.\n",
    "We'll keep track of the left sub-tree\n",
    "sizes and increment them when we need to"
   ],
   "metadata": {
    "collapsed": false,
    "pycharm": {
     "name": "#%% md\n"
    }
   }
  },
  {
   "cell_type": "code",
   "execution_count": 32,
   "outputs": [
    {
     "name": "stdout",
     "output_type": "stream",
     "text": [
      "[5, 4, 4, 0, 1, 1, 0]\n",
      "[5, 4, 4, 0, 1, 1, 0]\n"
     ]
    }
   ],
   "source": [
    "# O(n^2)T, O(n)S\n",
    "# Brute force Approach\n",
    "def right_smaller_than(arr):\n",
    "    result = []\n",
    "    for i in range(len(arr)):\n",
    "        count = 0\n",
    "        current = arr[i]\n",
    "        for j in range(i + 1, len(arr)):\n",
    "            Next = arr[j]\n",
    "            if current > Next:\n",
    "                count += 1\n",
    "        result.append(count)\n",
    "    return result\n",
    "\n",
    "\n",
    "\n",
    "# Optimal Approach\n",
    "# O(NlogN)T, O(N)S\n",
    "def rightSmallerThan(arr):\n",
    "    if len(arr) == 0:\n",
    "        return []\n",
    "    rightSmallerCounts = arr[:]\n",
    "    lastIdx = len(arr) - 1\n",
    "    rightSmallerCounts[lastIdx] = 0\n",
    "    for i in reversed(range(len(arr) - 1)):\n",
    "        insert(BST, arr[i], i, rightSmallerCounts, nS=0)\n",
    "    return rightSmallerCounts\n",
    "\n",
    "\n",
    "class SpecialBST:\n",
    "    def __init__(self, value=None):\n",
    "        self.value = value\n",
    "        self.leftSubtreeSize = 0\n",
    "        self.left = None\n",
    "        self.right = None\n",
    "\n",
    "\n",
    "BST = SpecialBST(2)\n",
    "# 2 represents last item in our array and first item in our BST\n",
    "\n",
    "\n",
    "# log(n)T, S\n",
    "def insert(BST, value, Idx, rightSmallerCounts, nS=0):\n",
    "    # nS = number smaller at insert time\n",
    "    if value < BST.value:\n",
    "        BST.leftSubtreeSize += 1\n",
    "        if BST.left is None:\n",
    "            BST.left = SpecialBST(value)\n",
    "            rightSmallerCounts[Idx] = nS\n",
    "        else:\n",
    "            insert(BST.left, value, Idx, rightSmallerCounts, nS)\n",
    "    else:\n",
    "        nS += BST.leftSubtreeSize\n",
    "        if value > BST.value:\n",
    "            nS += 1\n",
    "        if BST.right is None:\n",
    "            BST.right = SpecialBST(value)\n",
    "            rightSmallerCounts[Idx] = nS\n",
    "        else:\n",
    "            insert(BST.right, value, Idx, rightSmallerCounts, nS)\n",
    "\n",
    "\n",
    "def main():\n",
    "    arr4 = [8, 5, 11, -1, 3, 4, 2]\n",
    "    print(right_smaller_than(arr4))\n",
    "    print(rightSmallerThan(arr4))\n",
    "\n",
    "\n",
    "if __name__ == '__main__':\n",
    "    main()"
   ],
   "metadata": {
    "collapsed": false,
    "pycharm": {
     "name": "#%%\n"
    }
   }
  },
  {
   "cell_type": "markdown",
   "source": [
    "\n",
    "\n",
    "\n",
    "\n",
    "\n",
    "\n",
    "\n",
    "# REVERSE WORDS IN STRING. WHITESPACES ARE ALSO CHARACTERS\n",
    "INPUT: WORD = \"Good to have you back \"\n",
    "Ouput: \"back you have to Good\""
   ],
   "metadata": {
    "collapsed": false,
    "pycharm": {
     "name": "#%% md\n"
    }
   }
  },
  {
   "cell_type": "code",
   "execution_count": 33,
   "outputs": [
    {
     "name": "stdout",
     "output_type": "stream",
     "text": [
      "back you have to Good\n"
     ]
    }
   ],
   "source": [
    "def reverse_words_in_string(string):\n",
    "    reverse_words = []\n",
    "    start_of_word = 0\n",
    "    for index in range(len(string)):\n",
    "        ch = string[index]\n",
    "        if ch == \" \":\n",
    "            reverse_words.append(string[start_of_word:index])\n",
    "            start_of_word = index\n",
    "        elif string[start_of_word] == \" \":\n",
    "            reverse_words.append(\" \")\n",
    "            start_of_word = index\n",
    "\n",
    "    reverse_words.append(string[start_of_word:])\n",
    "    reverse_word(reverse_words)\n",
    "    return \"\".join(reverse_words)\n",
    "\n",
    "\n",
    "def reverse_word(word):\n",
    "    start, end = 0, len(word) - 1\n",
    "    while start < end:\n",
    "        word[start], word[end] = word[end], word[start]\n",
    "        start += 1\n",
    "        end -= 1\n",
    "\n",
    "\n",
    "def main():\n",
    "    WORD = \"Good to have you back\"\n",
    "    print(reverse_words_in_string(WORD))\n",
    "\n",
    "if __name__ == '__main__':\n",
    "    main()"
   ],
   "metadata": {
    "collapsed": false,
    "pycharm": {
     "name": "#%%\n"
    }
   }
  },
  {
   "cell_type": "markdown",
   "source": [
    "\n",
    "\n",
    "\n",
    "\n",
    "\n",
    "\n",
    "\n",
    "# BALANCE BRACKET"
   ],
   "metadata": {
    "collapsed": false,
    "pycharm": {
     "name": "#%% md\n"
    }
   }
  },
  {
   "cell_type": "code",
   "execution_count": 34,
   "outputs": [
    {
     "name": "stdout",
     "output_type": "stream",
     "text": [
      "True\n"
     ]
    }
   ],
   "source": [
    "def balance_bracket(string):\n",
    "    opening_brackets = \"([{\"\n",
    "    closing_brackets = \")}]\"\n",
    "    matching_brackets = {\n",
    "        \")\":\"(\",\n",
    "        \"}\":\"{\",\n",
    "        \"]\":\"[\"\n",
    "    }\n",
    "    stack = []\n",
    "    for ch in string:\n",
    "        if ch in opening_brackets:\n",
    "            stack.append(ch)\n",
    "        if ch in closing_brackets:\n",
    "            if len(stack) == 0:\n",
    "                return False\n",
    "            # if stack[-1] == matching_brackets[ch]:\n",
    "            #     stack.pop()\n",
    "            # else:\n",
    "            #     return False\n",
    "            stack.pop() if stack[-1] == matching_brackets[ch] else False\n",
    "    return len(stack) == 0\n",
    "\n",
    "def main():\n",
    "    str1 = \"(abc)\"\n",
    "    print(balance_bracket(str1))\n",
    "\n",
    "if __name__ == '__main__':\n",
    "    main()"
   ],
   "metadata": {
    "collapsed": false,
    "pycharm": {
     "name": "#%%\n"
    }
   }
  },
  {
   "cell_type": "markdown",
   "source": [
    "# FIND N SUM (2SUM, 3SUM, 4SUM, ...)For kSum function:\n",
    "Given an array nums of n integers, return an array of all the unique\n",
    "quadruplets [nums[a], nums[b], nums[c], nums[d]] such that:\n",
    "\n",
    "    0 <= a, b, c, d < n\n",
    "    a, b, c, and d are distinct.\n",
    "    nums[a] + nums[b] + nums[c] + nums[d] == target\n",
    "\n",
    "You may return the answer in any order.\n",
    "Example 1:\n",
    "\n",
    "Input: nums = [1,0,-1,0,-2,2], target = 0\n",
    "Output: [[-2,-1,1,2],[-2,0,0,2],[-1,0,0,1]]\n",
    "\n",
    "Example 2:\n",
    "\n",
    "Input: nums = [2,2,2,2,2], target = 8\n",
    "Output: [[2,2,2,2]]\n",
    "\n",
    "##### K sum Algorithm\n",
    "    At the start of the kSum function, we will check three conditions:\n",
    "        Have we run out of numbers to choose from?\n",
    "        Is the smallest number remaining greater than target / k?\n",
    "        If so, then any k numbers we choose will be too large.\n",
    "        Is the largest number remaining smaller than target / k?\n",
    "        If so, then any k numbers we choose will be too small.\n",
    "        If any of these conditions is true, there is no need to continue as no combination of the remaining\n",
    "        elements can sum to target.\n",
    "    If k equals 2, call twoSum and return the result.\n",
    "    Iterate i through the array from start:\n",
    "        If the current value is the same as the one before, skip it.\n",
    "        Recursively call kSum with start = i + 1, k = k - 1, and target - nums[i].\n",
    "        For each returned subset of values:\n",
    "            Include the current value nums[i] into subset.\n",
    "            Add subset to the result res.\n",
    "    Return the result res."
   ],
   "metadata": {
    "collapsed": false,
    "pycharm": {
     "name": "#%% md\n"
    }
   }
  },
  {
   "cell_type": "code",
   "execution_count": 35,
   "outputs": [
    {
     "name": "stdout",
     "output_type": "stream",
     "text": [
      "Four sum:  [[-4, -2, -1, 9], [-4, -1, 3, 4], [-4, 0, 2, 4], [-4, 1, 2, 3], [-2, -1, 1, 4], [-2, -1, 2, 3], [-2, 0, 1, 3], [-2, 0, 2, 2], [-1, 0, 1, 2]]\n"
     ]
    }
   ],
   "source": [
    "def fourSum(nums, target):\n",
    "    nums.sort()\n",
    "    return kSum(nums, target, 4)\n",
    "\n",
    "def kSum(nums, target, k):\n",
    "        res = []\n",
    "        if not nums:\n",
    "            return res\n",
    "        average_value = target // k\n",
    "        if average_value < nums[0] or nums[-1] < average_value:\n",
    "            return res\n",
    "        if k == 2:\n",
    "            return twoSum(nums, target)\n",
    "        for i in range(len(nums)):\n",
    "            if i == 0 or nums[i - 1] != nums[i]:\n",
    "                for subset in kSum(nums[i + 1:], target - nums[i], k - 1):\n",
    "                    res.append([nums[i]] + subset)\n",
    "        return res\n",
    "\n",
    "\n",
    "def twoSum(nums, target):\n",
    "        res = []\n",
    "        lo, hi = 0, len(nums) - 1\n",
    "        while lo < hi:\n",
    "            curr_sum = nums[lo] + nums[hi]\n",
    "            if curr_sum < target:\n",
    "                lo += 1\n",
    "            elif curr_sum > target:\n",
    "                hi -= 1\n",
    "            else:\n",
    "                res.append([nums[lo], nums[hi]])\n",
    "                lo += 1\n",
    "                hi -= 1\n",
    "        return res\n",
    "\n",
    "print(\"Four sum: \", fourSum([3, 2, 0, -1, 4, 2, -2, 1, 9, -4], 2))"
   ],
   "metadata": {
    "collapsed": false,
    "pycharm": {
     "name": "#%%\n"
    }
   }
  },
  {
   "cell_type": "markdown",
   "source": [],
   "metadata": {
    "collapsed": false,
    "pycharm": {
     "name": "#%% md\n"
    }
   }
  },
  {
   "cell_type": "markdown",
   "source": [
    "\n",
    "\n",
    "\n",
    "\n"
   ],
   "metadata": {
    "collapsed": false,
    "pycharm": {
     "name": "#%% md\n"
    }
   }
  },
  {
   "cell_type": "markdown",
   "source": [],
   "metadata": {
    "collapsed": false,
    "pycharm": {
     "name": "#%% md\n"
    }
   }
  },
  {
   "cell_type": "markdown",
   "source": [
    "\n",
    "# Line Through Points\n",
    "Given an input points which is a list of lists that\n",
    "represents the points on the [x, y] plane. Determine\n",
    "the list that passes through the most points\n",
    "\n",
    "points = [\n",
    "[1, 1], [2, 2],\n",
    "[3, 3], [0, 4],\n",
    "[-2, 6], [4, 0],\n",
    "[2, 1]\n",
    "]\n",
    "\n",
    "* Generate every single possible line from two points\n",
    "  using `y = mx + b` where `m` is the `slope` or\n",
    "  `gradient` and `b` is the `y-intercept`\n",
    "\n",
    "* slope = (change in y or rise)/ (change in x or run)\n",
    "  - `run` is how far we go on the `x-axis`\n",
    "  - `rise` is how far we go up on the `y-axis`\n",
    "  - slope = rise/run\n",
    "\n",
    "* Keep track of max points line passes through. maxPoint = 1\n",
    "* loop through all points and keept track of current and next point (p1 = points[i], p2 = points[i+1])\n",
    "* find the slope between two points. e.g p1 = [1, 1], p2 = [2, 2]\n",
    "* store all slopes in a hash table\n",
    "* With the slope we might get decimal numbers which are similar, so we cannot store slopes as decimals in\n",
    "  our hash table because of floating point in precision error. E.g. 0.1 and 0.10001 will be rounded as 0.1 which might alter\n",
    "  our slope on the graph, so we will use rational(a no. over another no. 2/5)/fraction to represent our slope in the hash table\n",
    "* keep track of both rise and run values of the slope\n",
    "* get a slope key in order to store the slope value in the hash table\n",
    "* if slope key is not in hash table, set its value to 1\n",
    "* go ahead to increment value by 1\n",
    "*  find the max number between initial maxNum and slope values in the hash table\n",
    "\n"
   ],
   "metadata": {
    "collapsed": false,
    "pycharm": {
     "name": "#%% md\n"
    }
   }
  },
  {
   "cell_type": "code",
   "execution_count": 36,
   "outputs": [
    {
     "name": "stdout",
     "output_type": "stream",
     "text": [
      "4\n"
     ]
    }
   ],
   "source": [
    "import math\n",
    "\n",
    "\n",
    "# O(n^2) T, O(n) S\n",
    "def line_through_points(points):\n",
    "    maxNum = 1\n",
    "    # for Idx1, p1 in enumerate(points):\n",
    "    for Idx1 in range(len(points)):\n",
    "        p1 = points[Idx1]\n",
    "        slopes = {}\n",
    "        for Idx2 in range(Idx1 + 1, len(points)):\n",
    "            p2 = points[Idx2]\n",
    "            rise, run = get_slope_of_line_between_points(p1, p2)\n",
    "            slopeKey = createHashableKeyForRational(rise, run)\n",
    "            if slopeKey not in slopes:\n",
    "                slopes[slopeKey] = 1\n",
    "            slopes[slopeKey] += 1\n",
    "        maxNum = max(maxNum, max(slopes.values(), default=0))\n",
    "    return maxNum\n",
    "\n",
    "\n",
    "def get_slope_of_line_between_points(p1, p2):\n",
    "    p1x, p1y = p1\n",
    "    p2x, p2y = p2\n",
    "    slope = [1, 0]\n",
    "    if p1x != p2x:\n",
    "        xDiff = p1x - p2x  # numerator\n",
    "        yDiff = p1y - p2y  # denominator\n",
    "        # find the greatest common divisor and divide both the numerator and denominator by it\n",
    "        gcd = greatest_common_divisor(abs(xDiff), abs(yDiff))\n",
    "        xDiff = xDiff // gcd\n",
    "        yDiff = yDiff // gcd\n",
    "        if xDiff < 0:\n",
    "            xDiff *= -1\n",
    "            yDiff *= -1\n",
    "        slope = [yDiff, xDiff]\n",
    "    return slope\n",
    "\n",
    "\n",
    "def createHashableKeyForRational(numerator, denominator):\n",
    "    return str(numerator) + \":\" + str(denominator)\n",
    "\n",
    "\n",
    "# greatest common divisor I\n",
    "def greatest_common_divisor(a, b):\n",
    "    while True:\n",
    "        if a == 0:\n",
    "            return b\n",
    "        if b == 0:\n",
    "            return a\n",
    "\n",
    "        a, b = b, a % b\n",
    "\n",
    "\n",
    "# greatest common divisor II\n",
    "def _gcd(a, b):\n",
    "    return math.gcd(a, b)\n",
    "\n",
    "\n",
    "def main():\n",
    "    points = [\n",
    "        [1, 1], [2, 2],\n",
    "        [3, 3], [0, 4],\n",
    "        [-2, 6], [4, 0],\n",
    "        [2, 1]\n",
    "    ]\n",
    "    print(line_through_points(points))\n",
    "\n",
    "\n",
    "if __name__ == '__main__':\n",
    "    main()\n"
   ],
   "metadata": {
    "collapsed": false,
    "pycharm": {
     "name": "#%%\n"
    }
   }
  },
  {
   "cell_type": "markdown",
   "source": [
    "\n",
    "\n",
    "\n",
    "\n"
   ],
   "metadata": {
    "collapsed": false,
    "pycharm": {
     "name": "#%% md\n"
    }
   }
  },
  {
   "cell_type": "markdown",
   "source": [
    "# Find Slope of a line in a rational/fraction form given two points, p1, p2.\n",
    "Decimals as a slope is wrong\n",
    "Eg. p1 = [25, 7]\n",
    "    p2 = [2, 1]\n",
    "\n",
    " Output: 6/23"
   ],
   "metadata": {
    "collapsed": false,
    "pycharm": {
     "name": "#%% md\n"
    }
   }
  },
  {
   "cell_type": "code",
   "execution_count": 37,
   "outputs": [
    {
     "name": "stdout",
     "output_type": "stream",
     "text": [
      "6/23\n"
     ]
    }
   ],
   "source": [
    "def get_slope_of_line_between_points(p1, p2):\n",
    "    p1x, p1y = p1\n",
    "    p2x, p2y = p2\n",
    "    slope = f\"{1}/{0}\"\n",
    "    if p1x != p2x:\n",
    "        xDiff = p1x - p2x  # numerator\n",
    "        yDiff = p1y - p2y  # denominator\n",
    "        # find the greatest common divisor and divide both the numerator and denominator by it\n",
    "        gcd = greatest_common_divisor(abs(xDiff), abs(yDiff))\n",
    "        xDiff = xDiff // gcd\n",
    "        yDiff = yDiff // gcd\n",
    "        if xDiff < 0:\n",
    "            xDiff *= -1\n",
    "            yDiff *= -1\n",
    "        slope = f\"{yDiff}/{xDiff}\"\n",
    "    return slope\n",
    "\n",
    "def greatest_common_divisor(a, b):\n",
    "    while True:\n",
    "        if a == 0:\n",
    "            return b\n",
    "        if b == 0:\n",
    "            return a\n",
    "\n",
    "        a, b = b, a % b\n",
    "\n",
    "def main():\n",
    "    p1 = [25, 7]\n",
    "    p2 = [2, 1]\n",
    "    print(get_slope_of_line_between_points(p1, p2))\n",
    "\n",
    "if __name__ == '__main__':\n",
    "    main()\n"
   ],
   "metadata": {
    "collapsed": false,
    "pycharm": {
     "name": "#%%\n"
    }
   }
  },
  {
   "cell_type": "markdown",
   "source": [
    "\n",
    "\n",
    "\n",
    "\n",
    "\n",
    "\n"
   ],
   "metadata": {
    "collapsed": false,
    "pycharm": {
     "name": "#%% md\n"
    }
   }
  },
  {
   "cell_type": "markdown",
   "source": [
    "# Search suggestion"
   ],
   "metadata": {
    "collapsed": false,
    "pycharm": {
     "name": "#%% md\n"
    }
   }
  },
  {
   "cell_type": "code",
   "execution_count": 38,
   "outputs": [
    {
     "name": "stdout",
     "output_type": "stream",
     "text": [
      "[['God', 'Godandman', 'Godinme'], ['God', 'Godandman', 'Godinme'], ['God', 'Godandman', 'Godinme'], ['Godinme', 'Godis'], ['Godis']]\n"
     ]
    }
   ],
   "source": [
    "def ws(sw, pr):\n",
    "    res = []\n",
    "    pr.sort()\n",
    "    for i in range(len(sw)):\n",
    "        ch = sw[:i+1]\n",
    "        prod = []\n",
    "        for p in pr:\n",
    "            chI = p[:i+1]\n",
    "            if ch == chI:\n",
    "                prod.append(p)\n",
    "        # if len(prod) >= 3:\n",
    "        #     res.append(prod[:3])\n",
    "        # else:\n",
    "        #     res.append(prod)\n",
    "        res.append(prod[:min(3, len(prod))])\n",
    "    return res\n",
    "\n",
    "sw = \"Godis\"\n",
    "pr = [\"Gudais\", \"God\", \"Godandman\", \"Godinme\", \"Godis\"]\n",
    "print(ws(sw, pr))"
   ],
   "metadata": {
    "collapsed": false,
    "pycharm": {
     "name": "#%%\n"
    }
   }
  },
  {
   "cell_type": "markdown",
   "source": [
    "\n",
    "\n",
    "\n",
    "\n"
   ],
   "metadata": {
    "collapsed": false,
    "pycharm": {
     "name": "#%% md\n"
    }
   }
  },
  {
   "cell_type": "markdown",
   "source": [
    "# string_splosion\n",
    "Given a non-empty string like \"Code\" return a string like \"CCoCodCode\".\n",
    "\n",
    "string_splosion('Code') → 'CCoCodCode'\n",
    "string_splosion('abc') → 'aababc'\n",
    "string_splosion('ab') → 'aab'\n"
   ],
   "metadata": {
    "collapsed": false,
    "pycharm": {
     "name": "#%% md\n"
    }
   }
  },
  {
   "cell_type": "code",
   "execution_count": 39,
   "outputs": [
    {
     "name": "stdout",
     "output_type": "stream",
     "text": [
      "CCoCodCode\n",
      "aababc\n",
      "aab\n"
     ]
    }
   ],
   "source": [
    "def string_splotion(str):\n",
    "    string = \"\"\n",
    "    for i in range(len(str)):\n",
    "        curStr = str[:i+1]\n",
    "        string = string + curStr\n",
    "    return string\n",
    "\n",
    "def main():\n",
    "    s1 = \"Code\"\n",
    "    s2 = \"abc\"\n",
    "    s3 = \"ab\"\n",
    "    print(string_splotion(s1))\n",
    "    print(string_splotion(s2))\n",
    "    print(string_splotion(s3))\n",
    "\n",
    "if __name__ == '__main__':\n",
    "    main()"
   ],
   "metadata": {
    "collapsed": false,
    "pycharm": {
     "name": "#%%\n"
    }
   }
  },
  {
   "cell_type": "markdown",
   "source": [
    "\n",
    "\n",
    "\n",
    "\n",
    "\n",
    "\n",
    "\n"
   ],
   "metadata": {
    "collapsed": false,
    "pycharm": {
     "name": "#%% md\n"
    }
   }
  },
  {
   "cell_type": "markdown",
   "source": [
    "# Find Intersection\n",
    "Have the function FindIntersection(strArr) read the\n",
    "array of strings stored in strArr which will\n",
    "contain 2 elements: the first element will represent a list\n",
    "of comma-separated numbers sorted in ascending order, the second\n",
    "element will represent a second list of comma-separated\n",
    "numbers (also sorted). Your goal is to return a comma-separated\n",
    "string containing the numbers that occur in elements of strArr in\n",
    "sorted order. If there is no intersection, return the string false.\n",
    "Examples\n",
    "Input: [\"1, 3, 4, 7, 13\", \"1, 2, 4, 13, 15\"]\n",
    "Output: 1,4,13\n",
    "Input: [\"1, 3, 9, 10, 17, 18\", \"1, 4, 9, 10\"]\n",
    "Output: 1,9,10"
   ],
   "metadata": {
    "collapsed": false,
    "pycharm": {
     "name": "#%% md\n"
    }
   }
  },
  {
   "cell_type": "code",
   "execution_count": 40,
   "outputs": [
    {
     "name": "stdout",
     "output_type": "stream",
     "text": [
      "1,4,13\n"
     ]
    }
   ],
   "source": [
    "def find_intersection(strArr):\n",
    "    setOne = set(strArr[0].split(\", \"))\n",
    "    setTwo = set(strArr[1].split(\", \"))\n",
    "\n",
    "    # We cannot use sorted to sort the strings unless we convert the strings to integers\n",
    "    result = sorted(list(setOne.intersection(setTwo)), key=lambda str: int(str))\n",
    "\n",
    "    return ','.join(result) if len(result) > 0 else False\n",
    "\n",
    "def main():\n",
    "    print(find_intersection([\"1, 3, 4, 7, 13\", \"1, 2, 4, 13, 15\"]))\n",
    "\n",
    "if __name__ == '__main__':\n",
    "    main()\n"
   ],
   "metadata": {
    "collapsed": false,
    "pycharm": {
     "name": "#%%\n"
    }
   }
  },
  {
   "cell_type": "markdown",
   "source": [
    "\n",
    "\n",
    "\n",
    "\n",
    "\n",
    "\n",
    "\n"
   ],
   "metadata": {
    "collapsed": false,
    "pycharm": {
     "name": "#%% md\n"
    }
   }
  },
  {
   "cell_type": "markdown",
   "source": [
    "# COUNT SUBSTRING EQUAL TO LAST SUBSTRING\n",
    "Given a string, return the count of the number of times that a substring of\n",
    "length 2 appears in the string and also as the last 2 chars of the string,\n",
    "so \"hixxxhi\" yields 1 (we won't count the end substring).\n",
    "\n",
    "\n",
    "last2('hixxhi') → 1\n",
    "last2('xaxxaxaxx') → 1\n",
    "last2('axxxaaxx') → 2\n"
   ],
   "metadata": {
    "collapsed": false,
    "pycharm": {
     "name": "#%% md\n"
    }
   }
  },
  {
   "cell_type": "code",
   "execution_count": 41,
   "outputs": [
    {
     "name": "stdout",
     "output_type": "stream",
     "text": [
      "last two characters:  ba\n",
      "substring count: 1\n",
      "\n",
      "last two characters:  xx\n",
      "substring count: 1\n",
      "\n",
      "last two characters:  hi\n",
      "substring count: 1\n"
     ]
    }
   ],
   "source": [
    "def count_substring_of_length_two(string):\n",
    "    i = 0\n",
    "    j = 2\n",
    "    count = 0\n",
    "    last_two_ch = string[len(string)-2:]\n",
    "    print(\"last two characters: \", last_two_ch)\n",
    "    while i < len(string) - 2:\n",
    "        ch = string[i:j]\n",
    "        i += 1\n",
    "        j += 1\n",
    "        if ch == last_two_ch:\n",
    "            count += 1\n",
    "    return f\"substring count: {count}\"\n",
    "\n",
    "# Approach 2:\n",
    "def last2(str):\n",
    "  # Screen out too-short string case.\n",
    "  if len(str) < 2:\n",
    "    return 0\n",
    "\n",
    "  # last 2 chars, can be written as str[-2:]\n",
    "  last2 = str[len(str)-2:]\n",
    "  count = 0\n",
    "\n",
    "  # Check each substring length 2 starting at i\n",
    "  for i in range(len(str)-2):\n",
    "    sub = str[i:i+2]\n",
    "    if sub == last2:\n",
    "      count = count + 1\n",
    "\n",
    "  return count\n",
    "\n",
    "def main():\n",
    "    str1 = 'axabbayba'\n",
    "    str2 = 'xaxxaxaxx'\n",
    "    str3 = 'hixxhi'\n",
    "    print(count_substring_of_length_two(str1))\n",
    "    print()\n",
    "    print(count_substring_of_length_two(str2))\n",
    "    print()\n",
    "    print(count_substring_of_length_two(str3))\n",
    "\n",
    "if __name__ == '__main__':\n",
    "    main()\n",
    "\n"
   ],
   "metadata": {
    "collapsed": false,
    "pycharm": {
     "name": "#%%\n"
    }
   }
  },
  {
   "cell_type": "markdown",
   "source": [
    "\n",
    "\n",
    "\n",
    "\n",
    "\n"
   ],
   "metadata": {
    "collapsed": false,
    "pycharm": {
     "name": "#%% md\n"
    }
   }
  },
  {
   "cell_type": "markdown",
   "source": [
    "# Return the number of 9's\n",
    "Given an array of ints, return the number of 9's in the array.\n",
    "E.g. nums = [1, 2, 9, 5, 8, 9, 3, 9]\n",
    "output = 9 appears 3 times"
   ],
   "metadata": {
    "collapsed": false,
    "pycharm": {
     "name": "#%% md\n"
    }
   }
  },
  {
   "cell_type": "code",
   "execution_count": 42,
   "outputs": [
    {
     "name": "stdout",
     "output_type": "stream",
     "text": [
      "3\n"
     ]
    }
   ],
   "source": [
    "def count_nines(nums):\n",
    "    count = 0\n",
    "    for i in range(len(nums)):\n",
    "        if nums[i] == 9:\n",
    "            count += 1\n",
    "    return count\n",
    "\n",
    "def main():\n",
    "    nums = [1, 2, 9, 5, 8, 9, 3, 9]\n",
    "    print(count_nines(nums))\n",
    "main()"
   ],
   "metadata": {
    "collapsed": false,
    "pycharm": {
     "name": "#%%\n"
    }
   }
  },
  {
   "cell_type": "markdown",
   "source": [
    "\n",
    "\n",
    "\n",
    "\n"
   ],
   "metadata": {
    "collapsed": false,
    "pycharm": {
     "name": "#%% md\n"
    }
   }
  },
  {
   "cell_type": "markdown",
   "source": [
    "# Return True if subarray has 9\n",
    "Given an array of ints, return True if one of the first 4 elements in the array is a 9. The array length may be less than 4.\n",
    "\n",
    "\n",
    "array_front9([1, 2, 9, 3, 4]) → True\n",
    "array_front9([1, 2, 3, 4, 9]) → False\n",
    "array_front9([1, 2, 3, 4, 5]) → False\n",
    "\n",
    "\n",
    "\n",
    "\n"
   ],
   "metadata": {
    "collapsed": false,
    "pycharm": {
     "name": "#%% md\n"
    }
   }
  },
  {
   "cell_type": "code",
   "execution_count": 43,
   "outputs": [
    {
     "name": "stdout",
     "output_type": "stream",
     "text": [
      "True\n",
      "True\n",
      "False\n",
      "False\n"
     ]
    }
   ],
   "source": [
    "def array_front9(nums):\n",
    "\n",
    "    for num in nums[:4]:\n",
    "        if num == 9:\n",
    "            return True\n",
    "    return False\n",
    "\n",
    "\n",
    "def main():\n",
    "    nums = [1, 9, 2]\n",
    "    nums1 = [1, 2, 9, 3, 4]\n",
    "    nums2 = [1, 2, 3, 4, 9]\n",
    "    nums3 = [1, 2, 3, 4, 5]\n",
    "\n",
    "    print(array_front9(nums))\n",
    "    print(array_front9(nums1))\n",
    "    print(array_front9(nums2))\n",
    "    print(array_front9(nums3))\n",
    "main()"
   ],
   "metadata": {
    "collapsed": false,
    "pycharm": {
     "name": "#%%\n"
    }
   }
  },
  {
   "cell_type": "markdown",
   "source": [
    "\n",
    "\n",
    "\n",
    "\n"
   ],
   "metadata": {
    "collapsed": false,
    "pycharm": {
     "name": "#%% md\n"
    }
   }
  },
  {
   "cell_type": "markdown",
   "source": [
    "# Check for Pattern\n",
    "Given an array of ints, return True if the sequence of numbers 1, 2, 3 appears in the array somewhere.\n",
    "array123([1, 1, 2, 3, 1]) → True\n",
    "array123([1, 1, 2, 4, 1]) → False\n",
    "array123([1, 1, 2, 1, 2, 3]) → True\n"
   ],
   "metadata": {
    "collapsed": false,
    "pycharm": {
     "name": "#%% md\n"
    }
   }
  },
  {
   "cell_type": "code",
   "execution_count": 44,
   "outputs": [
    {
     "name": "stdout",
     "output_type": "stream",
     "text": [
      "True\n",
      "False\n",
      "True\n",
      "True\n",
      "True\n"
     ]
    }
   ],
   "source": [
    "def check_sequence_appearance(ls, seq):\n",
    "    seqIdx = lsIdx = 0\n",
    "    if len(seq) < 1 or len(ls) < 1:\n",
    "        return\n",
    "    while seqIdx < len(seq):\n",
    "        lsNum = ls[lsIdx]\n",
    "        seqNum = seq[seqIdx]\n",
    "        if seqNum == lsNum:\n",
    "            seqIdx += 1\n",
    "            lsIdx += 1\n",
    "        else:\n",
    "            seqIdx = 0\n",
    "            lsNum = ls[lsIdx]\n",
    "            seqNum = seq[seqIdx]\n",
    "            if seqNum == lsNum:\n",
    "                seqIdx += 1\n",
    "                lsIdx += 1\n",
    "            else:\n",
    "                lsIdx += 1\n",
    "        if lsIdx >= len(ls):\n",
    "            break\n",
    "\n",
    "    return seqIdx == len(seq)\n",
    "\n",
    "\n",
    "def main():\n",
    "    seq = [\"apple\", \"banana\"]\n",
    "    sequence = [1, 2, 3]\n",
    "    list1 = [1, 1, 2, 1, 2, 3]\n",
    "    list2 = [1, 1, 2, 4, 1]\n",
    "    list3 = [1, 1, 2, 3, 1]\n",
    "    list4 = [1, 3, 1, 2, 3, 1, 1, 3]\n",
    "    list5 = [\"bread\", \"coke\", \"milk\",\"apple\", \"banana\", \"apple\", \"apple\"]\n",
    "\n",
    "    print(check_sequence_appearance(list1, sequence))\n",
    "    print(check_sequence_appearance(list2, sequence))\n",
    "    print(check_sequence_appearance(list3, sequence))\n",
    "    print(check_sequence_appearance(list4, sequence))\n",
    "    print(check_sequence_appearance(list5, seq))\n",
    "\n",
    "main()"
   ],
   "metadata": {
    "collapsed": false,
    "pycharm": {
     "name": "#%%\n"
    }
   }
  },
  {
   "cell_type": "markdown",
   "source": [],
   "metadata": {
    "collapsed": false,
    "pycharm": {
     "name": "#%% md\n"
    }
   }
  },
  {
   "cell_type": "markdown",
   "source": [
    "\n",
    "\n"
   ],
   "metadata": {
    "collapsed": false,
    "pycharm": {
     "name": "#%% md\n"
    }
   }
  },
  {
   "cell_type": "markdown",
   "source": [
    "# Substring count\n",
    "Given 2 strings, a and b, return the number of the positions where\n",
    "they contain the same length 2 substring. So \"xxcaazz\" and \"xxbaaz\"\n",
    "yields 3, since the \"xx\", \"aa\", and \"az\" substrings appear in the same place in both strings.\n",
    "\n",
    "\n",
    "string_match('xxcaazz', 'xxbaaz') → 3\n",
    "string_match('abc', 'abc') → 2\n",
    "string_match('abc', 'axc') → 0\n",
    "\n"
   ],
   "metadata": {
    "collapsed": false,
    "pycharm": {
     "name": "#%% md\n"
    }
   }
  },
  {
   "cell_type": "code",
   "execution_count": 45,
   "outputs": [
    {
     "name": "stdout",
     "output_type": "stream",
     "text": [
      "3\n",
      "2\n",
      "0\n"
     ]
    }
   ],
   "source": [
    "def substring_count(a, b):\n",
    "    i, j = 0, 2\n",
    "    count = 0\n",
    "    shorter = min(len(a), len(b))\n",
    "    while i < shorter:\n",
    "        sub_str_a = a[i:j]\n",
    "        sub_str_b = b[i:j]\n",
    "        lengthA = len(sub_str_a)\n",
    "        lengthB = len(sub_str_b)\n",
    "        if sub_str_a == sub_str_b:\n",
    "            if lengthA == 2 and lengthB == 2:\n",
    "                count += 1\n",
    "        i += 1\n",
    "        j += 1\n",
    "\n",
    "    return count\n",
    "\n",
    "def main():\n",
    "    a = \"xxcaazz\"\n",
    "    b = \"xxbaaz\"\n",
    "    c = \"abc\"\n",
    "    d = \"abc\"\n",
    "    e = \"axc\"\n",
    "    print(substring_count(a, b))\n",
    "    print(substring_count(c, d))\n",
    "    print(substring_count(c, e))\n",
    "\n",
    "if __name__ == '__main__':\n",
    "    main()"
   ],
   "metadata": {
    "collapsed": false,
    "pycharm": {
     "name": "#%%\n"
    }
   }
  },
  {
   "cell_type": "markdown",
   "source": [
    "\n",
    "\n",
    "\n",
    "\n"
   ],
   "metadata": {
    "collapsed": false,
    "pycharm": {
     "name": "#%% md\n"
    }
   }
  },
  {
   "cell_type": "markdown",
   "source": [
    "\n",
    "\n",
    "\n",
    "\n"
   ],
   "metadata": {
    "collapsed": false,
    "pycharm": {
     "name": "#%% md\n"
    }
   }
  },
  {
   "cell_type": "markdown",
   "source": [
    "# Count strings of length - Permutation\n",
    "Given an integer n, count how many strings of length n can be formed under the following rules\n",
    "1. Each character is a lower case vowel ('a', 'e', 'i', 'o', 'u')\n",
    "2. Each vowel 'a' may only be followed by an 'e'\n",
    "3. Each vowel 'e' may only be followed by an 'a' or an 'i'\n",
    "4. Each vowel 'i' may not be followed by another 'i'\n",
    "5. Each vowel 'o' may only be followed by an 'i' or a 'u'\n",
    "6. Each vowel 'u' may only be followed by an 'a'\n",
    "Since the answer maybe too large, return its modulo 10^9 + 7"
   ],
   "metadata": {
    "collapsed": false,
    "pycharm": {
     "name": "#%% md\n"
    }
   }
  },
  {
   "cell_type": "code",
   "execution_count": 46,
   "outputs": [
    {
     "data": {
      "text/plain": "10"
     },
     "execution_count": 46,
     "metadata": {},
     "output_type": "execute_result"
    }
   ],
   "source": [
    "def countVowel(n):\n",
    "    dp = [[], [1, 1, 1, 1, 1]]\n",
    "    a, e, i, o, u = 0, 1, 2, 3, 4\n",
    "    mod = 10 ** 9+7\n",
    "    for j in range(2, n+1):\n",
    "        dp.append([0, 0, 0, 0, 0])\n",
    "        dp[j][a] = (dp[j-1][e] + dp[j-1][i] + dp[j-1][u]) % mod\n",
    "        dp[j][e] = (dp[j-1][a] + dp[j-1][i]) % mod\n",
    "        dp[j][i] = (dp[j-1][e] + dp[j-1][o]) % mod\n",
    "        dp[j][o] = dp[j-1][i]\n",
    "        dp[j][u] = dp[j-1][i] + dp[j-1][o]\n",
    "\n",
    "    return sum(dp[n]) % mod\n",
    "\n",
    "countVowel(2)"
   ],
   "metadata": {
    "collapsed": false,
    "pycharm": {
     "name": "#%%\n"
    }
   }
  },
  {
   "cell_type": "markdown",
   "source": [
    "\n",
    "\n",
    "\n",
    "\n",
    "\n",
    "\n"
   ],
   "metadata": {
    "collapsed": false,
    "pycharm": {
     "name": "#%% md\n"
    }
   }
  },
  {
   "cell_type": "markdown",
   "source": [
    "# Strings with index of even numbers\n",
    "Given a string, return a new string made of every other\n",
    "char starting with the first, so \"Hello\" yields \"Hlo\".\n",
    "\n",
    "\n",
    "string_bits('Hello') → 'Hlo'\n",
    "string_bits('Hi') → 'H'\n",
    "string_bits('Heeololeo') → 'Hello'\n"
   ],
   "metadata": {
    "collapsed": false,
    "pycharm": {
     "name": "#%% md\n"
    }
   }
  },
  {
   "cell_type": "code",
   "execution_count": 47,
   "outputs": [
    {
     "name": "stdout",
     "output_type": "stream",
     "text": [
      "Hlo\n",
      "H\n",
      "Hello\n"
     ]
    }
   ],
   "source": [
    "def string_bits(str):\n",
    "    result = \"\"\n",
    "  # Many ways to do this. This uses the standard loop of i on every char,\n",
    "  # and inside the loop skips the odd index values.\n",
    "    for i in range(len(str)):\n",
    "      if i % 2 == 0:\n",
    "        result = result + str[i]\n",
    "    return result\n",
    "\n",
    "def main():\n",
    "    print(string_bits(\"Hello\"))\n",
    "    print(string_bits(\"Hi\"))\n",
    "    print(string_bits(\"Heeololeo\"))\n",
    "\n",
    "if __name__ == '__main__':\n",
    "    main()"
   ],
   "metadata": {
    "collapsed": false,
    "pycharm": {
     "name": "#%%\n"
    }
   }
  },
  {
   "cell_type": "markdown",
   "source": [
    "\n",
    "\n",
    "\n",
    "\n",
    "\n"
   ],
   "metadata": {
    "collapsed": false,
    "pycharm": {
     "name": "#%% md\n"
    }
   }
  },
  {
   "cell_type": "markdown",
   "source": [
    "# Return first 3 characters or less N times\n",
    "Given a string and a non-negative int n, we'll say that the front of the\n",
    "string is the first 3 chars, or whatever is there if the string is less than length 3.\n",
    "Return n copies of the front;\n",
    "\n",
    "front_times('Chocolate', 2) → 'ChoCho'\n",
    "front_times('Chocolate', 3) → 'ChoChoCho'\n",
    "front_times('Abc', 3) → 'AbcAbcAbc'\n",
    "\n",
    "\n"
   ],
   "metadata": {
    "collapsed": false,
    "pycharm": {
     "name": "#%% md\n"
    }
   }
  },
  {
   "cell_type": "markdown",
   "source": [],
   "metadata": {
    "collapsed": false,
    "pycharm": {
     "name": "#%% md\n"
    }
   }
  },
  {
   "cell_type": "code",
   "execution_count": 48,
   "outputs": [
    {
     "name": "stdout",
     "output_type": "stream",
     "text": [
      "ChoCho\n",
      "ChoChoCho\n",
      "AbcAbcAbc\n",
      "AAA\n"
     ]
    }
   ],
   "source": [
    "def firstThreeChars(string, n):\n",
    "    first_three = string[:3]\n",
    "    return first_three * n\n",
    "\n",
    "def main():\n",
    "    print(firstThreeChars(\"Chocolate\", 2))\n",
    "    print(firstThreeChars(\"Chocolate\", 3))\n",
    "    print(firstThreeChars(\"Abc\", 3))\n",
    "    print(firstThreeChars(\"A\", 3))\n",
    "\n",
    "if __name__ == '__main__':\n",
    "    main()"
   ],
   "metadata": {
    "collapsed": false,
    "pycharm": {
     "name": "#%%\n"
    }
   }
  },
  {
   "cell_type": "markdown",
   "source": [],
   "metadata": {
    "collapsed": false,
    "pycharm": {
     "name": "#%% md\n"
    }
   }
  },
  {
   "cell_type": "markdown",
   "source": [
    "\n"
   ],
   "metadata": {
    "collapsed": false,
    "pycharm": {
     "name": "#%% md\n"
    }
   }
  },
  {
   "cell_type": "markdown",
   "source": [
    "# Return True if we sleep in\n",
    "The parameter `weekday` is True if it is a weekday, and the parameter\n",
    "vacation is True if we are on vacation. We sleep in if it is not a\n",
    "weekday, or we're on vacation. Return True if we sleep in.\n",
    "\n",
    "\n",
    "sleep_in(False, False) → True\n",
    "sleep_in(True, False) → False\n",
    "sleep_in(False, True) → True"
   ],
   "metadata": {
    "collapsed": false,
    "pycharm": {
     "name": "#%% md\n"
    }
   }
  },
  {
   "cell_type": "code",
   "execution_count": 49,
   "outputs": [
    {
     "name": "stdout",
     "output_type": "stream",
     "text": [
      "True\n",
      "True\n",
      "False\n"
     ]
    }
   ],
   "source": [
    "def sleep_in(weekday, vacation):\n",
    "    return not weekday or vacation\n",
    "\n",
    "def main():\n",
    "    print(sleep_in(False, False))\n",
    "    print(sleep_in(False, True))\n",
    "    print(sleep_in(True, False))\n",
    "\n",
    "main()"
   ],
   "metadata": {
    "collapsed": false,
    "pycharm": {
     "name": "#%%\n"
    }
   }
  },
  {
   "cell_type": "markdown",
   "source": [
    "\n",
    "\n",
    "\n",
    "\n",
    "\n",
    "\n"
   ],
   "metadata": {
    "collapsed": false,
    "pycharm": {
     "name": "#%% md\n"
    }
   }
  },
  {
   "cell_type": "markdown",
   "source": [
    "# Spiral Traverse\n",
    "Given an m x n matrix, return all elements of the matrix in spiral order.\n",
    "\n",
    "\n",
    "\n",
    "Example 1:\n",
    "\n",
    "Input: matrix = [\n",
    "            [1,2,3],\n",
    "            [4,5,6],\n",
    "            [7,8,9]]\n",
    "Output: [1,2,3,6,9,8,7,4,5]\n",
    "\n",
    "Example 2:\n",
    "\n",
    "Input: matrix = [\n",
    "            [1,2,3,4],\n",
    "            [5,6,7,8],\n",
    "            [9,10,11,12]]\n",
    "Output: [1,2,3,4,8,12,11,10,9,5,6,7]\n",
    "\n",
    "\n",
    "\n",
    "Constraints:\n",
    "\n",
    "    m == matrix.length\n",
    "    n == matrix[i].length\n",
    "    1 <= m, n <= 10\n",
    "    -100 <= matrix[i][j] <= 100\n",
    "\n",
    "\n",
    "Intution:\n",
    "->Create an empty list to store the answer.\n",
    "->Remove Top Row from matrix and insert into answer list.\n",
    "->Remove Rightmost Column from matrix and insert into answer list.\n",
    "->Remove Bottom Row from matrix and insert into answer list (in reverse order as sprial is expected to go from right to left in bottom-most row).\n",
    "->Remove Leftmost Column from matrix and insert into answers list (In reverse order, as the spiral is expected to go from bottom to top in left-most row).\n",
    "->Repeat this process unless the length of matrix becomes 0.\n",
    "\n",
    "Complexity Analysis:\n",
    "Time Complexity:\n",
    "O(n x m)\n",
    "Space complexity:\n",
    "O( n x m)\n",
    "\n",
    "(where m is number of rows and n is number of columns)\n",
    "\n",
    "Code:"
   ],
   "metadata": {
    "collapsed": false,
    "pycharm": {
     "name": "#%% md\n"
    }
   }
  },
  {
   "cell_type": "code",
   "execution_count": 85,
   "outputs": [
    {
     "name": "stdout",
     "output_type": "stream",
     "text": [
      "[1, 2, 3, 4, 5, 6, 7, 8, 9, 10, 11, 12, 13, 14, 15, 16]\n",
      "[]\n"
     ]
    }
   ],
   "source": [
    "from typing import List\n",
    "def spiral_order(matrix: List[List[int]]) -> List[int]:\n",
    "    ans = []\n",
    "    while len(matrix):  # Process would be repeated unless the length of matrix becomes zero.\n",
    "        try:  # Exception handling, in case the pop operation on empty matrix is performed.\n",
    "            ans += matrix.pop(0)  # Removing Top Row from matrix and inserting into answer list.\n",
    "            ans += [i.pop() for i in matrix]  # Removing Rightmost Column from matrix and inserting into answer list.\n",
    "            ans += matrix.pop()[::-1]  # Removing Bottom Row from matrix and inserting into answer list in reverse order.\n",
    "            ans += [i.pop(0) for i in matrix][::-1]  # Removing Leftmost Column from matrix and inserting into answers list in reverse order.\n",
    "        except:\n",
    "            break\n",
    "    return ans\n",
    "\n",
    "def main():\n",
    "    lists = [\n",
    "     [1, 2, 3, 4],\n",
    "     [12, 13, 14, 5],\n",
    "     [11, 16, 15, 6],\n",
    "     [10, 9, 8, 7]\n",
    "    ]\n",
    "    print(spiral_order(lists))\n",
    "\n",
    "if __name__ == '__main__':\n",
    "    main()"
   ],
   "metadata": {
    "collapsed": false,
    "pycharm": {
     "name": "#%%\n"
    }
   }
  },
  {
   "cell_type": "markdown",
   "source": [
    "\n",
    "\n",
    "\n",
    "\n"
   ],
   "metadata": {
    "collapsed": false,
    "pycharm": {
     "name": "#%% md\n"
    }
   }
  },
  {
   "cell_type": "markdown",
   "source": [
    "# Swap Nodes in a List\n",
    "li = [0, 1, 2, 3, 4, 5]\n",
    "output = [1, 0, 3, 2, 5, 4]"
   ],
   "metadata": {
    "collapsed": false,
    "pycharm": {
     "name": "#%% md\n"
    }
   }
  },
  {
   "cell_type": "code",
   "execution_count": 47,
   "outputs": [
    {
     "name": "stdout",
     "output_type": "stream",
     "text": [
      "[1, 0, 3, 2, 5, 4, -2]\n",
      "[1, 0, 2]\n"
     ]
    }
   ],
   "source": [
    "def swapNode(arr):\n",
    "     l = 0\n",
    "     r = l + 1\n",
    "     lastI = 1\n",
    "     if len(arr) % 2 == 1:\n",
    "         lastItem = arr.pop()\n",
    "         lastI *= lastItem\n",
    "     while r <= len(arr):\n",
    "         swap(l, r, arr)\n",
    "         l += 2\n",
    "         r += 2\n",
    "     arr.append(lastI)\n",
    "     return arr\n",
    "\n",
    "def swap(l, r, arr):\n",
    "    arr[l], arr[r] = arr[r], arr[l]\n",
    "\n",
    "def main():\n",
    "    ll = [0, 1, 2]\n",
    "    li = [0, 1, 2, 3, 4, 5, -2]\n",
    "    print(swapNode(li))\n",
    "    print(swapNode(ll))\n",
    "\n",
    "if __name__ == '__main__':\n",
    "    main()\n",
    "\n"
   ],
   "metadata": {
    "collapsed": false,
    "pycharm": {
     "name": "#%%\n"
    }
   }
  },
  {
   "cell_type": "markdown",
   "source": [],
   "metadata": {
    "collapsed": false,
    "pycharm": {
     "name": "#%% md\n"
    }
   }
  },
  {
   "cell_type": "markdown",
   "source": [],
   "metadata": {
    "collapsed": false,
    "pycharm": {
     "name": "#%% md\n"
    }
   }
  },
  {
   "cell_type": "code",
   "execution_count": 3,
   "outputs": [
    {
     "name": "stdout",
     "output_type": "stream",
     "text": [
      "Array after merging\n",
      "1 2 3 4 5 6 7 8 \n",
      "1 2 3 4 5 6 7 8 "
     ]
    }
   ],
   "source": [
    "# Python program to merge\n",
    "# two sorted arrays\n",
    "\n",
    "# Merge arr1[0..n1-1] and\n",
    "# arr2[0..n2-1] into\n",
    "# arr3[0..n1+n2-1]\n",
    "def mergeArrays(arr1, arr2, n1, n2):\n",
    "\tarr3 = [None] * (n1 + n2)\n",
    "\ti = 0\n",
    "\tj = 0\n",
    "\tk = 0\n",
    "\n",
    "\t# Traverse both array\n",
    "\twhile i < n1 and j < n2:\n",
    "\n",
    "\t\t# Check if current element\n",
    "\t\t# of first array is smaller\n",
    "\t\t# than current element of\n",
    "\t\t# second array. If yes,\n",
    "\t\t# store first array element\n",
    "\t\t# and increment first array\n",
    "\t\t# index. Otherwise do same\n",
    "\t\t# with second array\n",
    "\t\tif arr1[i] < arr2[j]:\n",
    "\t\t\tarr3[k] = arr1[i]\n",
    "\t\t\tk = k + 1\n",
    "\t\t\ti = i + 1\n",
    "\t\telse:\n",
    "\t\t\tarr3[k] = arr2[j]\n",
    "\t\t\tk = k + 1\n",
    "\t\t\tj = j + 1\n",
    "\n",
    "\n",
    "\t# Store remaining elements\n",
    "\t# of first array\n",
    "\twhile i < n1:\n",
    "\t\tarr3[k] = arr1[i]\n",
    "\t\tk = k + 1\n",
    "\t\ti = i + 1\n",
    "\n",
    "\t# Store remaining elements\n",
    "\t# of second array\n",
    "\twhile j < n2:\n",
    "\t\tarr3[k] = arr2[j]\n",
    "\t\tk = k + 1\n",
    "\t\tj = j + 1\n",
    "\tprint(\"Array after merging\")\n",
    "\tfor i in range(n1 + n2):\n",
    "\t\tprint(str(arr3[i]), end = \" \")\n",
    "\n",
    "# Driver code\n",
    "arr1 = [1, 3, 5, 7]\n",
    "n1 = len(arr1)\n",
    "\n",
    "arr2 = [2, 4, 6, 8]\n",
    "n2 = len(arr2)\n",
    "mergeArrays(arr1, arr2, n1, n2)\n",
    "\n",
    "# This code is contributed\n",
    "# by ChitraNayal\n",
    "\n",
    "\n",
    "\n",
    "\n",
    "\n",
    "print()\n",
    "# Python program to merge two sorted arrays\n",
    "# using maps\n",
    "import bisect\n",
    "\n",
    "# Function to merge arrays\n",
    "def mergeArrays(a, b, n, m):\n",
    "\t# Declaring a map.\n",
    "\t# using map as a inbuilt tool\n",
    "\t# to store elements in sorted order.\n",
    "\tmp=[]\n",
    "\n",
    "\t# Inserting values to a map.\n",
    "\tfor i in range(n):\n",
    "\t\tbisect.insort(mp, a[i])\n",
    "\n",
    "\tfor i in range(m):\n",
    "\t\tbisect.insort(mp, b[i])\n",
    "\n",
    "\t# Printing keys of the map.\n",
    "\tfor i in mp:\n",
    "\t\tprint(i,end=' ')\n",
    "\n",
    "# Driver code\n",
    "arr1 = [1, 3, 5, 7]\n",
    "arr2 = [2, 4, 6, 8]\n",
    "size = len(arr1)\n",
    "size1 = len(arr2)\n",
    "\n",
    "# Function call\n",
    "mergeArrays(arr1, arr2, size, size1)\n",
    "\n",
    "# This code is contributed by Pushpesh Raj\n"
   ],
   "metadata": {
    "collapsed": false,
    "pycharm": {
     "name": "#%%\n"
    }
   }
  },
  {
   "cell_type": "markdown",
   "source": [],
   "metadata": {
    "collapsed": false,
    "pycharm": {
     "name": "#%% md\n"
    }
   }
  },
  {
   "cell_type": "markdown",
   "source": [],
   "metadata": {
    "collapsed": false,
    "pycharm": {
     "name": "#%% md\n"
    }
   }
  },
  {
   "cell_type": "markdown",
   "source": [
    "# Longest Increasing Subsequence\n",
    "Medium\n",
    "\n",
    "Given an integer array nums, return the length of the longest strictly increasing subsequence.\n",
    "\n",
    "A subsequence is a sequence that can be derived from an array by deleting some or no elements without changing the order of the remaining elements. For example, [3,6,2,7] is a subsequence of the array [0,3,1,6,2,2,7].\n",
    "\n",
    "\n",
    "\n",
    "Example 1:\n",
    "\n",
    "Input: nums = [10,9,2,5,3,7,101,18]\n",
    "Output: 4\n",
    "Explanation: The longest increasing subsequence is [2,3,7,101], therefore the length is 4.\n",
    "\n",
    "Example 2:\n",
    "\n",
    "Input: nums = [0,1,0,3,2,3]\n",
    "Output: 4\n",
    "\n",
    "Example 3:\n",
    "\n",
    "Input: nums = [7,7,7,7,7,7,7]\n",
    "Output: 1\n",
    "\n",
    "\n",
    "\n",
    "Constraints:\n",
    "\n",
    "    1 <= nums.length <= 2500\n",
    "    -104 <= nums[i] <= 104\n",
    "\n",
    "\n",
    "\n",
    "Follow up: Can you come up with an algorithm that runs in O(n log(n)) time complexity?\n"
   ],
   "metadata": {
    "collapsed": false,
    "pycharm": {
     "name": "#%% md\n"
    }
   }
  },
  {
   "cell_type": "markdown",
   "source": [
    "tails is an array storing the smallest tail of all increasing subsequences with length i+1 in tails[i].\n",
    "For example, say we have nums = [4,5,6,3], then all the available increasing subsequences are:\n",
    "\n",
    "len = 1   :      [4], [5], [6], [3]   => tails[0] = 3\n",
    "len = 2   :      [4, 5], [5, 6]       => tails[1] = 5\n",
    "len = 3   :      [4, 5, 6]            => tails[2] = 6\n",
    "\n",
    "We can easily prove that tails is a increasing array. Therefore it is possible to do a binary search in tails array to find the one needs update.\n",
    "\n",
    "Each time we only do one of the two:\n",
    "\n",
    "(1) if x is larger than all tails, append it, increase the size by 1\n",
    "(2) if tails[i-1] < x <= tails[i], update tails[i]\n",
    "\n",
    "Doing so will maintain the tails invariant. The the final answer is just the size."
   ],
   "metadata": {
    "collapsed": false,
    "pycharm": {
     "name": "#%% md\n"
    }
   }
  },
  {
   "cell_type": "code",
   "execution_count": null,
   "outputs": [],
   "source": [
    "def lengthOfLIS(self, nums):\n",
    "    tails = [0] * len(nums)\n",
    "    size = 0\n",
    "    for x in nums:\n",
    "        i, j = 0, size\n",
    "        while i != j:\n",
    "            m = (i + j) / 2\n",
    "            if tails[m] < x:\n",
    "                i = m + 1\n",
    "            else:\n",
    "                j = m\n",
    "        tails[i] = x\n",
    "        size = max(i + 1, size)\n",
    "    return size"
   ],
   "metadata": {
    "collapsed": false,
    "pycharm": {
     "name": "#%%\n"
    }
   }
  },
  {
   "cell_type": "markdown",
   "source": [],
   "metadata": {
    "collapsed": false,
    "pycharm": {
     "name": "#%% md\n"
    }
   }
  },
  {
   "cell_type": "markdown",
   "source": [],
   "metadata": {
    "collapsed": false,
    "pycharm": {
     "name": "#%% md\n"
    }
   }
  },
  {
   "cell_type": "markdown",
   "source": [],
   "metadata": {
    "collapsed": false,
    "pycharm": {
     "name": "#%% md\n"
    }
   }
  },
  {
   "cell_type": "markdown",
   "source": [
    "\n",
    "# Trapping Rain Water\n",
    "Hard\n",
    "\n",
    "Given n non-negative integers representing an elevation map where the width of each bar is 1, compute how much water it can trap after raining.\n",
    "\n",
    "\n",
    "\n",
    "Example 1:\n",
    "\n",
    "Input: height = [0,1,0,2,1,0,1,3,2,1,2,1]\n",
    "Output: 6\n",
    "Explanation: The above elevation map (black section) is represented by array [0,1,0,2,1,0,1,3,2,1,2,1]. In this case, 6 units of rain water (blue section) are being trapped.\n",
    "\n",
    "Example 2:\n",
    "\n",
    "Input: height = [4,2,0,3,2,5]\n",
    "Output: 9\n",
    "\n",
    "\n",
    "\n",
    "Constraints:\n",
    "\n",
    "    n == height.length\n",
    "    1 <= n <= 2 * 104\n",
    "    0 <= height[i] <= 105\n",
    "\n",
    "\n",
    "\n",
    "Complexity analysis\n",
    "\n",
    "    Time complexity: O(n). Single iteration of O(n).\n",
    "    Space complexity: O(1) extra space. Only constant space required for left, right, left_max and right_max\n"
   ],
   "metadata": {
    "collapsed": false,
    "pycharm": {
     "name": "#%% md\n"
    }
   }
  },
  {
   "cell_type": "markdown",
   "source": [
    "int trap(vector<int>& height)\n",
    "{\n",
    "    int left = 0, right = height.size() - 1;\n",
    "    int ans = 0;\n",
    "    int left_max = 0, right_max = 0;\n",
    "    while (left < right) {\n",
    "        if (height[left] < height[right]) {\n",
    "            height[left] >= left_max ? (left_max = height[left]) : ans += (left_max - height[left]);\n",
    "            ++left;\n",
    "        }\n",
    "        else {\n",
    "            height[right] >= right_max ? (right_max = height[right]) : ans += (right_max - height[right]);\n",
    "            --right;\n",
    "        }\n",
    "    }\n",
    "    return ans;\n",
    "}\n",
    "\n",
    "class Solution:\n",
    "    # O(n^2) time | O(n) space\n",
    "    def trap(self, height: List[int]) -> int:\n",
    "        total = 0\n",
    "        for i, curr in enumerate(height):\n",
    "            left = 0 if i == 0 else max(height[:i])\n",
    "            right = 0 if i == len(height) - 1 else max(height[i+1:])\n",
    "            total += max(0, min(left, right) - curr)\n",
    "\n",
    "    # O(n) time | O(n) space\n",
    "    def trap(self, height: List[int]) -> int:\n",
    "        left = [0] * len(height)\n",
    "        for i in range(1, len(height)):\n",
    "            left[i] = max(left[i - 1], height[i - 1])\n",
    "\n",
    "        right = [0] * len(height)\n",
    "        for i in range(len(height) - 2, -1, -1):\n",
    "            right[i] = max(right[i + 1], height[i + 1])\n",
    "\n",
    "        total = 0\n",
    "        for i, curr in enumerate(height):\n",
    "            total += max(0, min(left[i], right[i]) - curr)\n",
    "        return total\n",
    "\n",
    "    # O(n) time | O(n) space\n",
    "    def trap(self, height: List[int]) -> int:\n",
    "        total = 0\n",
    "        stack = []  # monotonic stack\n",
    "        for i, right in enumerate(height):\n",
    "            while stack and right > height[stack[-1]]:\n",
    "                curr = height[stack.pop()]\n",
    "                if not stack:\n",
    "                    break\n",
    "                j, left = stack[-1], height[stack[-1]]\n",
    "                volume = min(left, right) - curr\n",
    "                total += volume * (i - j - 1)\n",
    "            stack.append(i)\n",
    "        return total\n",
    "\n",
    "    # O(n) time | O(1) space\n",
    "    def trap(self, height: List[int]) -> int:\n",
    "        max_left = max_right = 0\n",
    "        left, right = 0, len(height) - 1\n",
    "\n",
    "        total = 0\n",
    "        while left < right:\n",
    "            max_left = max(max_left, height[left])\n",
    "            max_right = max(max_right, height[right])\n",
    "            if height[left] <= height[right]:\n",
    "                total += max_left - height[left]\n",
    "                left += 1\n",
    "            else:\n",
    "                total += max_right - height[right]\n",
    "                right -= 1\n",
    "        return total"
   ],
   "metadata": {
    "collapsed": false,
    "pycharm": {
     "name": "#%% md\n"
    }
   }
  },
  {
   "cell_type": "markdown",
   "source": [],
   "metadata": {
    "collapsed": false,
    "pycharm": {
     "name": "#%% md\n"
    }
   }
  },
  {
   "cell_type": "markdown",
   "source": [],
   "metadata": {
    "collapsed": false,
    "pycharm": {
     "name": "#%% md\n"
    }
   }
  },
  {
   "cell_type": "markdown",
   "source": [],
   "metadata": {
    "collapsed": false,
    "pycharm": {
     "name": "#%% md\n"
    }
   }
  },
  {
   "cell_type": "markdown",
   "source": [
    "# Sort Colors\n",
    "Medium\n",
    "\n",
    "Given an array nums with n objects colored red, white, or blue, sort them in-place so that objects of the same color are adjacent, with the colors in the order red, white, and blue.\n",
    "\n",
    "We will use the integers 0, 1, and 2 to represent the color red, white, and blue, respectively.\n",
    "\n",
    "You must solve this problem without using the library's sort function.\n",
    "\n",
    "\n",
    "\n",
    "Example 1:\n",
    "\n",
    "Input: nums = [2,0,2,1,1,0]\n",
    "Output: [0,0,1,1,2,2]\n",
    "\n",
    "Example 2:\n",
    "\n",
    "Input: nums = [2,0,1]\n",
    "Output: [0,1,2]\n",
    "\n",
    "\n",
    "\n",
    "Constraints:\n",
    "\n",
    "    n == nums.length\n",
    "    1 <= n <= 300\n",
    "    nums[i] is either 0, 1, or 2.\n",
    "\n",
    "\n",
    "\n",
    "Follow up: Could you come up with a one-pass algorithm using only constant extra space?\n"
   ],
   "metadata": {
    "collapsed": false,
    "pycharm": {
     "name": "#%% md\n"
    }
   }
  },
  {
   "cell_type": "code",
   "execution_count": null,
   "outputs": [],
   "source": [
    "# Python program to sort an array with\n",
    "# 0, 1 and 2 in a single pass\n",
    "\n",
    "# Function to sort array\n",
    "def sort012( a, arr_size):\n",
    "\tlo = 0\n",
    "\thi = arr_size - 1\n",
    "\tmid = 0\n",
    "\twhile mid <= hi:\n",
    "\t\tif a[mid] == 0:\n",
    "\t\t\ta[lo], a[mid] = a[mid], a[lo]\n",
    "\t\t\tlo = lo + 1\n",
    "\t\t\tmid = mid + 1\n",
    "\t\telif a[mid] == 1:\n",
    "\t\t\tmid = mid + 1\n",
    "\t\telse:\n",
    "\t\t\ta[mid], a[hi] = a[hi], a[mid]\n",
    "\t\t\thi = hi - 1\n",
    "\treturn a\n",
    "\n",
    "# Function to print array\n",
    "def printArray( a):\n",
    "\tfor k in a:\n",
    "\t\tprint(k,end=' ')\n",
    "\n",
    "# Driver Program\n",
    "arr = [0, 1, 1, 0, 1, 2, 1, 2, 0, 0, 0, 1]\n",
    "arr_size = len(arr)\n",
    "arr = sort012( arr, arr_size)\n",
    "printArray(arr)\n",
    "\n",
    "# Contributed by Harshit Agrawal\n"
   ],
   "metadata": {
    "collapsed": false,
    "pycharm": {
     "name": "#%%\n"
    }
   }
  },
  {
   "cell_type": "markdown",
   "source": [
    "    Approach: The problem is similar to our old post “Segregate 0s and 1s in an array”.\n",
    "    The problem was posed with three colours, here `0′, `1′ and `2′. The array is divided into four sections:\n",
    "        a[1..Lo-1] zeroes (red)\n",
    "        a[Lo..Mid-1] ones (white)\n",
    "        a[Mid..Hi] unknown\n",
    "        a[Hi+1..N] twos (blue)\n",
    "        If the ith element is 0 then swap the element to the low range, thus shrinking the unknown range.\n",
    "        Similarly, if the element is 1 then keep it as it is but shrink the unknown range.\n",
    "        If the element is 2 then swap it with an element in high range.\n",
    "    Algorithm:\n",
    "        Keep three indices low = 1, mid = 1 and high = N and there are four ranges, 1 to low (the range containing 0), low to mid (the range containing 1), mid to high (the range containing unknown elements) and high to N (the range containing 2).\n",
    "        Traverse the array from start to end and mid is less than high. (Loop counter is i)\n",
    "        If the element is 0 then swap the element with the element at index low and update low = low + 1 and mid = mid + 1\n",
    "        If the element is 1 then update mid = mid + 1\n",
    "        If the element is 2 then swap the element with the element at index high and update high = high – 1 and update i = i – 1. As the swapped element is not processed\n",
    "        Print the array.\n",
    "    Dry Run:\n",
    "    Part way through the process, some red, white and blue elements are known and are in the “right” place. The section of unknown elements, a[Mid..Hi], is shrunk by examining a[Mid]:\n",
    "\n",
    "\n",
    "    DNF1\n",
    "\n",
    "    Examine a[Mid]. There are three possibilities:\n",
    "    a[Mid] is (0) red, (1) white or (2) blue.\n",
    "    Case (0) a[Mid] is red, swap a[Lo] and a[Mid]; Lo++; Mid++\n",
    "\n",
    "\n",
    "    DNF2\n",
    "\n",
    "    Case (1) a[Mid] is white, Mid++\n",
    "\n",
    "\n",
    "    DNF3\n",
    "\n",
    "    Case (2) a[Mid] is blue, swap a[Mid] and a[Hi]; Hi–\n",
    "\n",
    "\n",
    "    DNF4\n",
    "\n",
    "    Continue until Mid>Hi.\n",
    "\n",
    "\n",
    "\n",
    "    Implementation:\n",
    "\n",
    "Complete Interview Preparation - GFG\n",
    "\n",
    "# Python program to sort an array with\n",
    "# 0, 1 and 2 in a single pass\n",
    "\n",
    "# Function to sort array\n",
    "def sort012( a, arr_size):\n",
    "    lo = 0\n",
    "    hi = arr_size - 1\n",
    "    mid = 0\n",
    "    while mid <= hi:\n",
    "        if a[mid] == 0:\n",
    "            a[lo], a[mid] = a[mid], a[lo]\n",
    "            lo = lo + 1\n",
    "            mid = mid + 1\n",
    "        elif a[mid] == 1:\n",
    "            mid = mid + 1\n",
    "        else:\n",
    "            a[mid], a[hi] = a[hi], a[mid]\n",
    "            hi = hi - 1\n",
    "    return a\n",
    "\n",
    "# Function to print array\n",
    "def printArray( a):\n",
    "    for k in a:\n",
    "        print(k,end=' ')\n",
    "\n",
    "# Driver Program\n",
    "arr = [0, 1, 1, 0, 1, 2, 1, 2, 0, 0, 0, 1]\n",
    "arr_size = len(arr)\n",
    "arr = sort012( arr, arr_size)\n",
    "printArray(arr)\n",
    "\n",
    "# Contributed by Harshit Agrawal\n",
    "Output\n",
    "\n",
    "0 0 0 0 0 1 1 1 1 1 2 2\n",
    "\n",
    "Complexity Analysis:\n",
    "\n",
    "    Time Complexity: O(n).\n",
    "    Only one traversal of the array is needed.\n",
    "    Space Complexity: O(1).\n",
    "    No extra space is required.\n",
    "\n",
    "Approach: Count the number of 0s, 1s and 2s in the given array. Then store all the 0s in the beginning followed by all the 1s then all the 2s.\n",
    "\n",
    "    Algorithm:\n",
    "        Keep three counter c0 to count 0s, c1 to count 1s and c2 to count 2s\n",
    "        Traverse through the array and increase the count of c0 if the element is 0,increase the count of c1 if the element is 1 and increase the count of c2 if the element is 2\n",
    "        Now again traverse the array and replace first c0 elements with 0, next c1 elements with 1 and next c2 elements with 2.\n",
    "    Implementation:\n",
    "\n",
    "\n",
    "# Python implementation of the approach\n",
    "\n",
    "# Utility function to print contents of an array\n",
    "def printArr(arr, n):\n",
    "    for i in range(n):\n",
    "        print(arr[i],end=\" \")\n",
    "\n",
    "\n",
    "# Function to sort the array of 0s, 1s and 2s\n",
    "def sortArr(arr, n):\n",
    "    cnt0 = 0\n",
    "    cnt1 = 0\n",
    "    cnt2 = 0\n",
    "\n",
    "    # Count the number of 0s, 1s and 2s in the array\n",
    "    for i in range(n):\n",
    "        if arr[i] == 0:\n",
    "            cnt0+=1\n",
    "\n",
    "        elif arr[i] == 1:\n",
    "            cnt1+=1\n",
    "\n",
    "        elif arr[i] == 2:\n",
    "            cnt2+=1\n",
    "\n",
    "    # Update the array\n",
    "    i = 0\n",
    "\n",
    "    # Store all the 0s in the beginning\n",
    "    while (cnt0 > 0):\n",
    "        arr[i] = 0\n",
    "        i+=1\n",
    "        cnt0-=1\n",
    "\n",
    "    # Then all the 1s\n",
    "    while (cnt1 > 0):\n",
    "        arr[i] = 1\n",
    "        i+=1\n",
    "        cnt1-=1\n",
    "\n",
    "    # Finally all the 2s\n",
    "    while (cnt2 > 0):\n",
    "        arr[i] = 2\n",
    "        i+=1\n",
    "        cnt2-=1\n",
    "\n",
    "    # Print the sorted array\n",
    "    printArr(arr, n)\n",
    "\n",
    "\n",
    "# Driver code\n",
    "\n",
    "arr = [0, 1, 1, 0, 1, 2, 1, 2, 0, 0, 0, 1]\n",
    "n = len(arr)\n",
    "\n",
    "sortArr(arr, n)\n",
    "\n",
    "#This code is contributed by shubhamsingh10\n",
    "Output\n",
    "\n",
    "0 0 0 0 0 1 1 1 1 1 2 2\n",
    "\n",
    "Complexity Analysis:\n",
    "\n",
    "    Time Complexity: O(n).\n",
    "    Only non nested traversals of the array is needed.\n",
    "    Space Complexity: O(1).\n",
    "    As no extra space is required."
   ],
   "metadata": {
    "collapsed": false,
    "pycharm": {
     "name": "#%% md\n"
    }
   }
  },
  {
   "cell_type": "markdown",
   "source": [
    "\n",
    "\n",
    "\n",
    "\n",
    "\n"
   ],
   "metadata": {
    "collapsed": false,
    "pycharm": {
     "name": "#%% md\n"
    }
   }
  },
  {
   "cell_type": "markdown",
   "source": [
    "# Palindrome Pairs\n",
    "\n",
    "Given a list of unique words, return all the pairs of the distinct indices (i, j) in the\n",
    "given list, so that the concatenation of the two words words[i] + words[j] is a palindrome.\n",
    "\n",
    "Example 1:\n",
    "Input: \twords = [\"abcd\",\"dcba\",\"lls\",\"s\",\"sssll\"]\n",
    "Output: \t[[0,1],[1,0],[3,2],[2,4]]\n",
    "Explanation: \tThe palindromes are [\"dcbaabcd\",\"abcddcba\",\"slls\",\"llssssll\"]\n",
    "Example 2:\n",
    "Input: \twords = [\"bat\",\"tab\",\"cat\"]\n",
    "Output: \t[[0,1],[1,0]]\n",
    "Explanation: \tThe palindromes are [\"battab\",\"tabbat\"]\n",
    "Example 3:\n",
    "Input: \twords = [\"a\",\"\"]\n",
    "Output: \t[[0,1],[1,0]]\n",
    "\n",
    "A naive approach here would attempt every possible pairing of words, but that would be inefficient. Instead, we can figure out what possible words would pair with each word and specifically check for those.\n",
    "\n",
    "To do this, we'll first have to store each word in a map structure (wmap), with the word as the key and the index as the value. This way, we can look up any possible matches with the current word as we iterate through words.\n",
    "\n",
    "The next thing we'll want to do is define a helper function (isPal) to check if a word is a palindrome. Rather than having to pass it a substring of a word, we can define it to take a range of indexes to check, so that we're not constantly building new strings.\n",
    "\n",
    "As we iterate through words, then, each word will possibly match another word in one of three ways:\n",
    "\n",
    "    A blank string word will match on either side with any palindrome word. (e.g. \"\" will match with \"abc\" and vice versa)\n",
    "    A full word will match on either side with its backwards version. (e.g. \"abc\" will match with \"cba\", and vice versa)\n",
    "    A partial word will match its backwards version on the opposite side if the leftover portion of the word is a palindrome (e.g. \"abcddd\" will match with \"cba\" because \"abc\" matches with \"cba\" and \"ddd\" is a palindrome)\n",
    "\n",
    "The first check is easy to perform. If we find a blank string, we can iterate through the entire words list an extra time searching for palindromes to match. We just need to remember not to match the blank string with itself.\n",
    "\n",
    "For the second check, since we'll eventually iterate to the matching full word, we should only add the one pair at this time, rather than both, as we'll be able to add the second ordering of the same pair when we get to the second word.\n",
    "\n",
    "The third check is the most difficult. For this, we'll want to first reverse the current word to its backwards version (bw), since we'll be matching existing frontwards words in wmap. Then we should iterate through the indexes of the word itself, testing both sides of the dividing index (j) for being a palindrome.\n",
    "\n",
    "If a palindrome is found, then we can attempt to lookup the other portion of the word in wmap. If a match is found, we can push that pair to our answer array (ans). At the end of the iteration of words, we can return ans.\n",
    "\n",
    "    Time Complexity: O(N * M^2) where N is the length of words and M is the average length of the words in words\n",
    "    Space Complexity: O(N) for wmap\n"
   ],
   "metadata": {
    "collapsed": false,
    "pycharm": {
     "name": "#%% md\n"
    }
   }
  },
  {
   "cell_type": "code",
   "execution_count": null,
   "outputs": [],
   "source": [
    "class Solution:\n",
    "    def palindromePairs(self, words: List[str]) -> List[List[int]]:\n",
    "        wmap, ans = {}, []\n",
    "        for i in range(len(words)):\n",
    "            wmap[words[i]] = i\n",
    "        for i in range(len(words)):\n",
    "            if words[i] == \"\":\n",
    "                for j in range(len(words)):\n",
    "                    w = words[j]\n",
    "                    if self.isPal(w, 0, len(w)-1) and j != i:\n",
    "                        ans.append([i, j])\n",
    "                        ans.append([j, i])\n",
    "                continue\n",
    "            bw = words[i][::-1]\n",
    "            if bw in wmap:\n",
    "                res = wmap[bw]\n",
    "                if res != i: ans.append([i, res])\n",
    "            for j in range(1, len(bw)):\n",
    "                if self.isPal(bw, 0, j - 1) and bw[j:] in wmap:\n",
    "                    ans.append([i, wmap[bw[j:]]])\n",
    "                if self.isPal(bw, j, len(bw)-1) and bw[:j] in wmap:\n",
    "                    ans.append([wmap[bw[:j]], i])\n",
    "        return ans\n",
    "\n",
    "    def isPal(self, word: str, i: int, j: int) -> bool:\n",
    "        while i < j:\n",
    "            if word[i] != word[j]: return False\n",
    "            i += 1\n",
    "            j -= 1\n",
    "        return True\n"
   ],
   "metadata": {
    "collapsed": false,
    "pycharm": {
     "name": "#%%\n"
    }
   }
  },
  {
   "cell_type": "markdown",
   "source": [],
   "metadata": {
    "collapsed": false,
    "pycharm": {
     "name": "#%% md\n"
    }
   }
  },
  {
   "cell_type": "markdown",
   "source": [
    "\n",
    "\n",
    "\n",
    "\n",
    "\n",
    "\n",
    "\n"
   ],
   "metadata": {
    "collapsed": false,
    "pycharm": {
     "name": "#%% md\n"
    }
   }
  },
  {
   "cell_type": "markdown",
   "source": [
    "# Count smaller elements on right side\n",
    "\n",
    "    Difficulty Level : Hard\n",
    "    Last Updated : 11 Jul, 2022\n",
    "\n",
    "Write a function to count number of smaller elements on right of each element in an array. Given an unsorted array arr[] of distinct integers, construct another array countSmaller[] such that countSmaller[i] contains count of smaller elements on right side of each element arr[i] in array.\n",
    "\n",
    "Examples:\n",
    "\n",
    "Input:   arr[] =  {12, 1, 2, 3, 0, 11, 4}\n",
    "Output:  countSmaller[]  =  {6, 1, 1, 1, 0, 1, 0}\n",
    "\n",
    "(Corner Cases)\n",
    "Input:   arr[] =  {5, 4, 3, 2, 1}\n",
    "Output:  countSmaller[]  =  {4, 3, 2, 1, 0}\n",
    "\n",
    "Input:   arr[] =  {1, 2, 3, 4, 5}\n",
    "Output:  countSmaller[]  =  {0, 0, 0, 0, 0}\n",
    "\n",
    "\n",
    "Method 1 (Simple)\n",
    "Use two loops. The outer loop picks all elements from left to right. The inner loop iterates through all the elements on right side of the picked element and updates countSmaller[].\n",
    "\n",
    "Output:\n",
    "\n",
    "8 7 5 4 2 4 3 1 0 0\n",
    "\n",
    "Time Complexity: O(n^2)\n",
    "Auxiliary Space: O(1)"
   ],
   "metadata": {
    "collapsed": false,
    "pycharm": {
     "name": "#%% md\n"
    }
   }
  },
  {
   "cell_type": "code",
   "execution_count": 4,
   "outputs": [
    {
     "name": "stdout",
     "output_type": "stream",
     "text": [
      "8 7 5 4 2 4 3 1 0 0 \n"
     ]
    }
   ],
   "source": [
    "def constructLowerArray (arr, countSmaller, n):\n",
    "\n",
    "    # initialize all the counts in countSmaller array as 0\n",
    "    for i in range(n):\n",
    "        countSmaller[i] = 0\n",
    "\n",
    "    for i in range(n):\n",
    "        for j in range(i + 1,n):\n",
    "            if (arr[j] < arr[i]):\n",
    "                countSmaller[i] += 1\n",
    "\n",
    "# Utility function that prints out an array on a line\n",
    "def printArray(arr, size):\n",
    "    for i in range(size):\n",
    "        print(arr[i],end=\" \")\n",
    "    print()\n",
    "\n",
    "# Driver code\n",
    "arr = [12, 10, 5, 4, 2, 20, 6, 1, 0, 2]\n",
    "n = len(arr)\n",
    "low = [0]*n\n",
    "constructLowerArray(arr, low, n)\n",
    "printArray(low, n)"
   ],
   "metadata": {
    "collapsed": false,
    "pycharm": {
     "name": "#%%\n"
    }
   }
  },
  {
   "cell_type": "markdown",
   "source": [
    "\n",
    "\n"
   ],
   "metadata": {
    "collapsed": false,
    "pycharm": {
     "name": "#%% md\n"
    }
   }
  },
  {
   "cell_type": "markdown",
   "source": [
    "# Rotate a 2D array\n",
    "Inplace rotate square matrix by 90 degrees | Set 1\n",
    "\n",
    "    Difficulty Level : Hard\n",
    "    Last Updated : 19 Aug, 2022\n",
    "\n",
    "Given a square matrix, turn it by 90 degrees in anti-clockwise direction without using any extra space.\n",
    "\n",
    "Examples :\n",
    "\n",
    "Input:\n",
    "Matrix:\n",
    " 1  2  3\n",
    " 4  5  6\n",
    " 7  8  9\n",
    "Output:\n",
    " 3  6  9\n",
    " 2  5  8\n",
    " 1  4  7\n",
    "The given matrix is rotated by 90 degree\n",
    "in anti-clockwise direction.\n",
    "\n",
    "Input:\n",
    " 1  2  3  4\n",
    " 5  6  7  8\n",
    " 9 10 11 12\n",
    "13 14 15 16\n",
    "Output:\n",
    " 4  8 12 16\n",
    " 3  7 11 15\n",
    " 2  6 10 14\n",
    " 1  5  9 13\n",
    "The given matrix is rotated by 90 degree\n",
    "in anti-clockwise direction."
   ],
   "metadata": {
    "collapsed": false,
    "pycharm": {
     "name": "#%% md\n"
    }
   }
  }
 ],
 "metadata": {
  "kernelspec": {
   "display_name": "Python 3.10.4 ('Ewooral-Tutorials-i81cRfln')",
   "language": "python",
   "name": "python3"
  },
  "language_info": {
   "codemirror_mode": {
    "name": "ipython",
    "version": 2
   },
   "file_extension": ".py",
   "mimetype": "text/x-python",
   "name": "python",
   "nbconvert_exporter": "python",
   "pygments_lexer": "ipython2",
   "version": "3.10.4"
  },
  "vscode": {
   "interpreter": {
    "hash": "05c8a8c633d4086db68ec7b0d5ad0ea301cda540407eed8d9149fd8c4a0026e0"
   }
  }
 },
 "nbformat": 4,
 "nbformat_minor": 0
}