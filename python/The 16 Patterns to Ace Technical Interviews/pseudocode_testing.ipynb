{
 "cells": [
  {
   "cell_type": "code",
   "execution_count": 214,
   "metadata": {
    "collapsed": false,
    "pycharm": {
     "name": "#%%\n"
    }
   },
   "outputs": [
    {
     "name": "stdout",
     "output_type": "stream",
     "text": [
      "sel_sort ( [2, 0, 9, -1, -9, 4] )\n",
      "sel_sort ( [2, 0, 9, -1, 4] )\n",
      "sel_sort ( [2, 0, 9, 4] )\n",
      "sel_sort ( [2, 9, 4] )\n",
      "sel_sort ( [9, 4] )\n",
      "sel_sort ( [9] )\n",
      "[-9, -1, 0, 2, 4, 9]\n"
     ]
    }
   ],
   "source": [
    "# Selection Sort\n",
    "import math\n",
    "\n",
    "\n",
    "def selSort(array):\n",
    "    print(\"sel_sort\", \"(\", array,\")\")\n",
    "    if len(array) <= 1:\n",
    "        return array\n",
    "    li_2 = list(array)\n",
    "    mini = min(li_2)\n",
    "    li_2.remove(mini)\n",
    "    return [mini] + selSort(li_2)\n",
    "li_1 = [2, 0, 9, -1, -9, 4]\n",
    "# li_1 = [2, 0, 1]\n",
    "print(selSort(li_1))"
   ]
  },
  {
   "cell_type": "markdown",
   "source": [
    "\n",
    "\n",
    "\n",
    "\n",
    "\n",
    "\n",
    "# Find Frequency of a character in strings"
   ],
   "metadata": {
    "collapsed": false,
    "pycharm": {
     "name": "#%% md\n"
    }
   }
  },
  {
   "cell_type": "code",
   "execution_count": 215,
   "outputs": [
    {
     "data": {
      "text/plain": "4"
     },
     "execution_count": 215,
     "metadata": {},
     "output_type": "execute_result"
    }
   ],
   "source": [
    "def FC(char, target):\n",
    "    frequency = {}\n",
    "    for c in target:\n",
    "        if c not in frequency:\n",
    "            frequency[c] = 0\n",
    "        frequency[c] += 1\n",
    "    return frequency[char]\n",
    "FC(\"i\", \"ijklimloistui\")"
   ],
   "metadata": {
    "collapsed": false,
    "pycharm": {
     "name": "#%%\n"
    }
   }
  },
  {
   "cell_type": "code",
   "execution_count": 216,
   "metadata": {
    "collapsed": false,
    "pycharm": {
     "name": "#%%\n"
    }
   },
   "outputs": [],
   "source": [
    "\n",
    "# Create A Graph data structure\n",
    "from collections import defaultdict\n",
    "from dataclasses import dataclass\n",
    "@dataclass\n",
    "class Graph:\n",
    "    graph: dict = None\n",
    "    if graph is None:\n",
    "        graph = defaultdict\n",
    "    else:\n",
    "        graph = None\n",
    "\n",
    "    def addVertex(self, vertex, edge):\n",
    "        self.graph[vertex].append(edge)\n",
    "\n",
    "graph = Graph({})"
   ]
  },
  {
   "cell_type": "code",
   "execution_count": 217,
   "metadata": {
    "collapsed": false,
    "pycharm": {
     "name": "#%%\n"
    }
   },
   "outputs": [
    {
     "data": {
      "text/plain": "{}"
     },
     "execution_count": 217,
     "metadata": {},
     "output_type": "execute_result"
    }
   ],
   "source": [
    "graph.graph"
   ]
  },
  {
   "cell_type": "code",
   "execution_count": 218,
   "metadata": {
    "collapsed": false,
    "pycharm": {
     "name": "#%%\n"
    }
   },
   "outputs": [],
   "source": [
    "graph.graph.update({\n",
    "    \"a\": [\"b\", \"c\"],\n",
    "    \"b\": [\"a\", \"d\", \"e\"],\n",
    "    \"c\": [\"a\", \"e\"],\n",
    "    \"d\": [\"b\", \"e\", \"f\"],\n",
    "    \"e\": [\"d\", \"c\"],\n",
    "    \"f\": [\"d\", \"e\"]})"
   ]
  },
  {
   "cell_type": "code",
   "execution_count": 219,
   "metadata": {
    "collapsed": false,
    "pycharm": {
     "name": "#%%\n"
    }
   },
   "outputs": [],
   "source": [
    "G = graph.graph"
   ]
  },
  {
   "cell_type": "code",
   "execution_count": 219,
   "metadata": {
    "collapsed": false,
    "pycharm": {
     "name": "#%%\n"
    }
   },
   "outputs": [],
   "source": []
  },
  {
   "cell_type": "code",
   "execution_count": 220,
   "metadata": {
    "collapsed": false,
    "pycharm": {
     "name": "#%%\n"
    }
   },
   "outputs": [],
   "source": [
    "def find_path(graph, start, end, path=None):\n",
    "        print(\"find_path\", \"(\", path, \")\")\n",
    "        if path is None:\n",
    "            path = []\n",
    "        path += [start]\n",
    "        if start == end:\n",
    "            return path\n",
    "        for node in graph[start]:\n",
    "            if node not in path:\n",
    "                new_path = find_path(graph, node, end, path)\n",
    "                if len(new_path) > 0:\n",
    "                    return new_path\n",
    "        return None"
   ]
  },
  {
   "cell_type": "code",
   "execution_count": 221,
   "outputs": [
    {
     "name": "stdout",
     "output_type": "stream",
     "text": [
      "find_path ( None )\n",
      "find_path ( ['a'] )\n",
      "find_path ( ['a', 'b'] )\n",
      "['a', 'b', 'd']\n"
     ]
    }
   ],
   "source": [
    "print(find_path(G, \"a\", \"d\"))"
   ],
   "metadata": {
    "collapsed": false,
    "pycharm": {
     "name": "#%%\n"
    }
   }
  },
  {
   "cell_type": "code",
   "execution_count": 222,
   "metadata": {
    "collapsed": false,
    "pycharm": {
     "name": "#%%\n"
    }
   },
   "outputs": [
    {
     "data": {
      "text/plain": "['b', 'e', 'f']"
     },
     "execution_count": 222,
     "metadata": {},
     "output_type": "execute_result"
    }
   ],
   "source": [
    "graph.graph.get(\"d\")"
   ]
  },
  {
   "cell_type": "code",
   "execution_count": 223,
   "metadata": {
    "collapsed": false,
    "pycharm": {
     "name": "#%%\n"
    }
   },
   "outputs": [],
   "source": [
    "vis = [[False for i in range(3)] for j in range(3)]"
   ]
  },
  {
   "cell_type": "code",
   "execution_count": 224,
   "metadata": {
    "collapsed": false,
    "pycharm": {
     "name": "#%%\n"
    }
   },
   "outputs": [
    {
     "data": {
      "text/plain": "[[False, False, False], [False, False, False], [False, False, False]]"
     },
     "execution_count": 224,
     "metadata": {},
     "output_type": "execute_result"
    }
   ],
   "source": [
    "vis"
   ]
  },
  {
   "cell_type": "code",
   "execution_count": 224,
   "metadata": {
    "collapsed": false,
    "pycharm": {
     "name": "#%%\n"
    }
   },
   "outputs": [],
   "source": []
  },
  {
   "cell_type": "markdown",
   "metadata": {
    "collapsed": false,
    "pycharm": {
     "name": "#%% md\n"
    }
   },
   "source": []
  },
  {
   "cell_type": "code",
   "execution_count": 225,
   "metadata": {
    "collapsed": false,
    "pycharm": {
     "name": "#%%\n"
    }
   },
   "outputs": [
    {
     "name": "stdout",
     "output_type": "stream",
     "text": [
      "[1, 2, 3, 4, 5, 6, 7, 8, 9, 10, 11, 12, 13, 14, 15, 16]\n"
     ]
    }
   ],
   "source": [
    "# zigzag traversal\n",
    "arra = [\n",
    "    [1, 3, 4, 10],\n",
    "    [2, 5, 9, 11],\n",
    "    [6, 8, 12, 15],\n",
    "    [7 , 13, 14, 16],\n",
    "]\n",
    "def zigzagTraverse(arr):\n",
    "    height = len(arr) - 1\n",
    "    width = len(arr[0]) - 1\n",
    "    result = []\n",
    "    row = col = 0\n",
    "    goingDown = True\n",
    "    while not isOutOfBounds(row, col, height, width):\n",
    "        result.append(arr[row][col])\n",
    "        if goingDown:\n",
    "            if col == 0 or row == height:\n",
    "                goingDown = False\n",
    "                if row == height:\n",
    "                    col += 1\n",
    "                else:\n",
    "                    row += 1\n",
    "            else:\n",
    "                row += 1\n",
    "                col -= 1\n",
    "        else:\n",
    "            if row == 0 or col == width:\n",
    "                goingDown = True\n",
    "                if col == width:\n",
    "                    row += 1\n",
    "                else:\n",
    "                    col += 1\n",
    "            else:\n",
    "                row -= 1\n",
    "                col += 1\n",
    "    return result\n",
    "\n",
    "\n",
    "def isOutOfBounds(row, col, height, width):\n",
    "    return row < 0 or row > height or  col < 0 or col > width\n",
    "print(zigzagTraverse(arra))"
   ]
  },
  {
   "cell_type": "markdown",
   "source": [],
   "metadata": {
    "collapsed": false,
    "pycharm": {
     "name": "#%% md\n"
    }
   }
  },
  {
   "cell_type": "markdown",
   "metadata": {
    "collapsed": false,
    "pycharm": {
     "name": "#%% md\n"
    }
   },
   "source": [
    "\n"
   ]
  },
  {
   "cell_type": "code",
   "execution_count": 226,
   "metadata": {
    "collapsed": false,
    "pycharm": {
     "name": "#%%\n"
    }
   },
   "outputs": [
    {
     "data": {
      "text/plain": "5"
     },
     "execution_count": 226,
     "metadata": {},
     "output_type": "execute_result"
    }
   ],
   "source": [
    "# First Duplicate value\n",
    "arr2 = [5, 1, 5, 2, 3, 3, 4]\n",
    "def first_Duplicate(arr):\n",
    "    hash_set = set()\n",
    "    for value in arr:\n",
    "        if value in hash_set:\n",
    "            return value\n",
    "        hash_set.add(value)\n",
    "    return -1\n",
    "first_Duplicate(arr2)"
   ]
  },
  {
   "cell_type": "code",
   "execution_count": 227,
   "metadata": {
    "collapsed": false,
    "pycharm": {
     "name": "#%%\n"
    }
   },
   "outputs": [
    {
     "data": {
      "text/plain": "['p', 'l', 'o', 'p', 'e', 'e']"
     },
     "execution_count": 227,
     "metadata": {},
     "output_type": "execute_result"
    }
   ],
   "source": [
    "'''\n",
    "1. initialize a left, right pointer, variable valueToMove\n",
    "2. while left is less than right:\n",
    "3. reduce the right pointer by 1 while left is less than right and right value is equal to valueToMove\n",
    "4. If left value is equal to valueToMove, swap left and right values\n",
    "5. while left is still less than right increment left pointer by one and return the array\n",
    "'''\n",
    "arr3 = [\"p\", \"e\", \"o\", \"p\", \"l\", \"e\"]\n",
    "k = 2\n",
    "def move_instances_to_end(arr, k):\n",
    "    l = 0\n",
    "    r = len(arr) - 1\n",
    "    while l < r:\n",
    "        while l < r and arr[r] == k:\n",
    "            r -= 1\n",
    "        if arr[l] == k:\n",
    "            arr[l], arr[r] = arr[r], arr[l]\n",
    "        l += 1\n",
    "    return arr\n",
    "\n",
    "\n",
    "move_instances_to_end(arr3, \"e\")"
   ]
  },
  {
   "cell_type": "markdown",
   "metadata": {
    "collapsed": false,
    "pycharm": {
     "name": "#%% md\n"
    }
   },
   "source": []
  },
  {
   "cell_type": "code",
   "execution_count": 227,
   "metadata": {
    "collapsed": false,
    "pycharm": {
     "name": "#%%\n"
    }
   },
   "outputs": [],
   "source": []
  },
  {
   "cell_type": "code",
   "execution_count": 228,
   "metadata": {
    "collapsed": false,
    "pycharm": {
     "name": "#%%\n"
    }
   },
   "outputs": [
    {
     "data": {
      "text/plain": "2"
     },
     "execution_count": 228,
     "metadata": {},
     "output_type": "execute_result"
    }
   ],
   "source": [
    "gui = [4, 1, 3, 2, 2]\n",
    "def first_duplicate(arr):\n",
    "    # value - 1 = index\n",
    "    for value in arr:\n",
    "        absValue = abs(value)\n",
    "        if arr[absValue - 1] < 0:\n",
    "            return absValue\n",
    "        # set values to negatives\n",
    "        arr[absValue - 1] *= -1\n",
    "    return -1\n",
    "first_Duplicate(gui)"
   ]
  },
  {
   "cell_type": "code",
   "execution_count": 229,
   "metadata": {
    "collapsed": false,
    "pycharm": {
     "name": "#%%\n"
    }
   },
   "outputs": [
    {
     "name": "stdout",
     "output_type": "stream",
     "text": [
      "20\n"
     ]
    }
   ],
   "source": [
    "def non_constructible_change(coins):\n",
    "    coins.sort()\n",
    "    # current_change_created = ccc\n",
    "    ccc = 0\n",
    "    for coin in coins:\n",
    "        if coin > ccc + 1:\n",
    "            return ccc + 1\n",
    "        ccc += coin\n",
    "    return ccc + 1\n",
    "print(non_constructible_change([5, 7, 1, 1, 2, 3, 22]))"
   ]
  },
  {
   "cell_type": "code",
   "execution_count": 230,
   "metadata": {
    "collapsed": false,
    "pycharm": {
     "name": "#%%\n"
    }
   },
   "outputs": [
    {
     "name": "stdout",
     "output_type": "stream",
     "text": [
      "[28, 26]\n"
     ]
    }
   ],
   "source": [
    "def smallest_difference(arr1, arr2):\n",
    "    arr1.sort()\n",
    "    arr2.sort()\n",
    "    l = r = 0\n",
    "    smallest = float(\"inf\")\n",
    "    current = float(\"inf\")\n",
    "    smallestPair = []\n",
    "    while l < len(arr1) and r < len(arr2):\n",
    "        firstNum = arr1[l]\n",
    "        secondNum = arr2[r]\n",
    "        # current = abs(firstNum - secondNum)\n",
    "        if firstNum < secondNum:\n",
    "            current = secondNum - firstNum\n",
    "            l += 1\n",
    "        elif secondNum < firstNum:\n",
    "            current = firstNum - secondNum\n",
    "            r += 1\n",
    "        else:\n",
    "            return [firstNum, secondNum]\n",
    "        if smallest > current:\n",
    "            smallest = current\n",
    "            smallestPair = [firstNum, secondNum]\n",
    "    return smallestPair\n",
    "print(smallest_difference([-1,5, 10, 20, 28, 3], [26, 134, 135, 15, 17]))"
   ]
  },
  {
   "cell_type": "code",
   "execution_count": 231,
   "metadata": {
    "collapsed": false,
    "pycharm": {
     "name": "#%%\n"
    }
   },
   "outputs": [
    {
     "name": "stdout",
     "output_type": "stream",
     "text": [
      "pascal ( 3 )\n",
      "pascal ( 2 )\n",
      "pascal ( 1 )\n",
      "pascal ( 0 )\n",
      "[1, 3, 3, 1]\n"
     ]
    }
   ],
   "source": [
    "def pascal (n):\n",
    " print(\"pascal\", \"(\", n, \")\")\n",
    " if n == 0:\n",
    "    return [1]\n",
    " else:\n",
    "    row = [1]\n",
    "    previous_row = pascal (n - 1)\n",
    "    for i in range(len(previous_row) - 1):\n",
    "        row.append (previous_row[i] + previous_row[i + 1])\n",
    "    row.append (1)\n",
    " return row\n",
    "print(pascal(3))"
   ]
  },
  {
   "cell_type": "markdown",
   "metadata": {
    "collapsed": false,
    "pycharm": {
     "name": "#%% md\n"
    }
   },
   "source": [
    "\n",
    "\n"
   ]
  },
  {
   "cell_type": "markdown",
   "metadata": {
    "collapsed": false,
    "pycharm": {
     "name": "#%% md\n"
    }
   },
   "source": [
    "# Find the max sum subarray of a fixed size k\n",
    "arr = [4, 2, 1, 7, 8, 1, 2, 8, 1, 0]\n",
    "**Solution**\n",
    "\n",
    "4, 2, 1  = 7\n",
    "2, 1, 7  = 10\n",
    "1, 7, 8 = 16\n",
    "7, 8, 1  = 16\n",
    "8, 1, 2  = 11\n",
    "1, 2, 8  = 11\n",
    "2, 8, 1  = 11\n",
    "8, 1, 0  = 9\n",
    "max([7, 10, 16, 16, 11, 11, 11, 9]) = 16"
   ]
  },
  {
   "cell_type": "code",
   "execution_count": 232,
   "metadata": {
    "collapsed": false,
    "pycharm": {
     "name": "#%%\n"
    }
   },
   "outputs": [
    {
     "name": "stdout",
     "output_type": "stream",
     "text": [
      "15\n",
      "16\n",
      "16\n"
     ]
    }
   ],
   "source": [
    "\n",
    "from typing import List\n",
    "# sum of subarray of length k\n",
    "def fixed_sliding_window(arr: List[int], k: int) -> List[int]:\n",
    "    '''sum up the first subarray and add it to the result\n",
    "    cs = current_subarray\n",
    "    '''\n",
    "    cs = sum(arr[:k])\n",
    "    result = [cs]\n",
    "\n",
    "    '''To get each subsequence subarray, add the next value\n",
    "    in the list and remove the first value\n",
    "    '''\n",
    "    for i in range(1, len(arr) - k + 1 ):\n",
    "        cs = cs - arr[i - 1]\n",
    "        cs = cs + arr[i + k - 1]\n",
    "        result.append(cs)\n",
    "\n",
    "    finalMax = result[0]\n",
    "    for i in result[1:]:\n",
    "        if i < finalMax:\n",
    "            continue\n",
    "        else:\n",
    "            finalMax = i\n",
    "\n",
    "    return (finalMax)\n",
    "\n",
    "\n",
    "print(fixed_sliding_window([1, 2, 3, 4, 5, 6], 3))\n",
    "print(fixed_sliding_window([1, 3, -1, -3, 5, 3, 6, 7], 3))\n",
    "print(fixed_sliding_window([4, 2, 1, 7, 8, 1, 2, 8, 1, 0], 3))"
   ]
  },
  {
   "cell_type": "markdown",
   "metadata": {
    "collapsed": false,
    "pycharm": {
     "name": "#%% md\n"
    }
   },
   "source": []
  },
  {
   "cell_type": "code",
   "execution_count": 232,
   "metadata": {
    "collapsed": false,
    "pycharm": {
     "name": "#%%\n"
    }
   },
   "outputs": [],
   "source": []
  },
  {
   "cell_type": "markdown",
   "metadata": {
    "collapsed": false,
    "pycharm": {
     "name": "#%% md\n"
    }
   },
   "source": [
    "\n",
    "\n"
   ]
  },
  {
   "cell_type": "code",
   "execution_count": 233,
   "metadata": {
    "collapsed": false,
    "pycharm": {
     "name": "#%%\n"
    }
   },
   "outputs": [
    {
     "name": "stdout",
     "output_type": "stream",
     "text": [
      "11\n",
      "11\n"
     ]
    }
   ],
   "source": [
    "# Kadane's Algorithm\n",
    "def Kadane(arr):\n",
    "    cuMax = filMax = arr[0]\n",
    "    for num in arr[1:]:\n",
    "        cuMax = max(num, cuMax + num)\n",
    "        filMax = max(filMax, cuMax)\n",
    "    return filMax\n",
    "# Kadane([4, 1, 3, 2, 2, 2, 2, 2])\n",
    "print(Kadane([4, 2, 1, -9, 8, 1, 2, -8, 1, 0]))\n",
    "print(Kadane([4, 2, 1, -9, 8, 1, 2, -8, 1, 0]))"
   ]
  },
  {
   "cell_type": "markdown",
   "metadata": {
    "collapsed": false,
    "pycharm": {
     "name": "#%% md\n"
    }
   },
   "source": []
  },
  {
   "cell_type": "markdown",
   "metadata": {
    "collapsed": false,
    "pycharm": {
     "name": "#%% md\n"
    }
   },
   "source": [
    "# BINARY TREE CONSTRUCTION, ZIGZAG\n",
    "# AND LEVEL ORDER TRAVERSAL,\n",
    "# LEFT AND RIGHT INSERTION\n",
    "# AND MANY MORE..."
   ]
  },
  {
   "cell_type": "code",
   "execution_count": 234,
   "metadata": {
    "collapsed": false,
    "pycharm": {
     "name": "#%%\n"
    }
   },
   "outputs": [
    {
     "name": "stdout",
     "output_type": "stream",
     "text": [
      "...Insert Nodes...\n",
      "...search...\n",
      "Not Found!\n",
      "\n",
      "        __1__\n",
      "       /     \\\n",
      "    __2       3\n",
      "   /   \\     / \\\n",
      "  4     5   6   7\n",
      " / \\\n",
      "8   9\n",
      "\n",
      "1\n",
      "2\n",
      "3\n",
      "4\n",
      "5\n",
      "6\n",
      "7\n",
      "8\n",
      "9\n",
      "...all nodes depths...\n",
      "26\n",
      "nodes depths:  16\n",
      "...depths of all nodes relative to each root node...\n",
      "[26, TreeInfo(num_nodes_in_tree=5, sum_of_depths=6, sum_of_all_depths=8)]\n",
      "node ( \n",
      "8\n",
      " )\n",
      "node ( \n",
      "9\n",
      " )\n",
      "node ( \n",
      "  4\n",
      " / \\\n",
      "8   9\n",
      " )\n",
      "node ( \n",
      "5\n",
      " )\n",
      "node ( \n",
      "    __2\n",
      "   /   \\\n",
      "  4     5\n",
      " / \\\n",
      "8   9\n",
      " )\n",
      "node ( \n",
      "6\n",
      " )\n",
      "node ( \n",
      "7\n",
      " )\n",
      "node ( \n",
      "  3\n",
      " / \\\n",
      "6   7\n",
      " )\n",
      "node ( \n",
      "        __1__\n",
      "       /     \\\n",
      "    __2       3\n",
      "   /   \\     / \\\n",
      "  4     5   6   7\n",
      " / \\\n",
      "8   9\n",
      " )\n",
      "26\n",
      "zigzag_level_order Traversal [[1], [3, 2], [4, 5, 6, 7], [9, 8]]\n"
     ]
    }
   ],
   "source": [
    "from dataclasses import dataclass\n",
    "from collections import deque as que\n",
    "from binarytree import Node\n",
    "import queue\n",
    "\n",
    "\n",
    "@dataclass\n",
    "class BinaryTree:\n",
    "    value: int = None\n",
    "    left: int = None\n",
    "    right: int = None\n",
    "\n",
    "\n",
    "def insertAtLeft(rootNode, nodeValue):\n",
    "    if rootNode is None:\n",
    "        rootNode = nodeValue\n",
    "    else:\n",
    "        q = queue.Queue()\n",
    "        q.put(rootNode)\n",
    "        while not q.empty():\n",
    "            root = q.get()\n",
    "            if root.left is not None:\n",
    "                q.put(root.left)\n",
    "            else:\n",
    "                root.left = nodeValue\n",
    "                return \"...Inserted!...\"\n",
    "\n",
    "\n",
    "def insertAtRight(rootNode, nodeValue):\n",
    "    if rootNode is None:\n",
    "        rootNode = nodeValue\n",
    "    else:\n",
    "        q = queue.Queue()\n",
    "        q.put(rootNode)\n",
    "        while not q.empty():\n",
    "            root = q.get()\n",
    "            if root.right is not None:\n",
    "                q.put(root.right)\n",
    "            else:\n",
    "                root.right = nodeValue\n",
    "                return \"...Inserted!...\"\n",
    "\n",
    "\n",
    "print(\"...Insert Nodes...\")\n",
    "root = Node(1)\n",
    "\n",
    "insertAtLeft(root, Node(2))\n",
    "insertAtRight(root, Node(3))\n",
    "\n",
    "insertAtLeft(root.left, Node(4))\n",
    "insertAtRight(root.left, Node(5))\n",
    "\n",
    "insertAtLeft(root.right, Node(6))\n",
    "insertAtRight(root.right, Node(7))\n",
    "\n",
    "insertAtLeft(root.left.left, Node(8))\n",
    "insertAtRight(root.left.left, Node(9))\n",
    "\n",
    "\n",
    "\n",
    "def level_order(rootNode):\n",
    "    if rootNode is None:\n",
    "        return\n",
    "    else:\n",
    "        q = queue.Queue()\n",
    "        q.put(rootNode)\n",
    "        while not q.empty():\n",
    "            root = q.get()\n",
    "            print(root.value)\n",
    "            if root.left is not None:\n",
    "                q.put(root.left)\n",
    "            if root.right is not None:\n",
    "                q.put(root.right)\n",
    "\n",
    "\n",
    "def search(rootNode, value):\n",
    "    if rootNode is None:\n",
    "        return\n",
    "    else:\n",
    "        q = queue.Queue()\n",
    "        q.put(rootNode)\n",
    "        while not q.empty():\n",
    "            root = q.get()\n",
    "            if root.value == value:\n",
    "                return f\"Found {value}\"\n",
    "            if root.left is not None:\n",
    "                q.put(root.left)\n",
    "            if root.right is not None:\n",
    "                q.put(root.right)\n",
    "        return \"Not Found!\"\n",
    "\n",
    "\n",
    "print(\"...search...\")\n",
    "print(search(root, 10))\n",
    "\n",
    "print(root)\n",
    "level_order(root)\n",
    "\n",
    "\n",
    "# TWO APPROACHES TO FIND ALL NODE DEPTH\n",
    "# APPROACH ONE\n",
    "# iteratively\n",
    "def allKindOfNodeDepthsI(root):\n",
    "    sumOfAllDepths = 0\n",
    "    stack = [root]\n",
    "    while len(stack) > 0:\n",
    "        node = stack.pop()\n",
    "        if node is None:\n",
    "            continue\n",
    "        sumOfAllDepths += nodeDepths(node)\n",
    "        stack.append(node.left)\n",
    "        stack.append(node.right)\n",
    "    return sumOfAllDepths\n",
    "\n",
    "\n",
    "def nodeDepths(node, depth=0):\n",
    "    if node is None:\n",
    "        return 0\n",
    "    return depth + nodeDepths(node.left, depth + 1) + nodeDepths(node.right, depth + 1)\n",
    "\n",
    "\n",
    "# recursively O(nlog(n)) T, O(h)S\n",
    "# APPROACH TWO O(N) T, O(H) S\n",
    "def allKindOfNodeDepthsII(rooty):\n",
    "    if rooty is None:\n",
    "        return 0\n",
    "    else:\n",
    "        return allKindOfNodeDepthsII(rooty.left) + allKindOfNodeDepthsII(rooty.right) + nodeDepthsI(rooty)\n",
    "\n",
    "\n",
    "def nodeDepthsI(node, depth=0):\n",
    "    print(\"node\", \"(\", node, \")\")\n",
    "    if node is None:\n",
    "        return 0\n",
    "    return depth + nodeDepths(node.left, depth + 1) + nodeDepths(node.right, depth + 1)\n",
    "\n",
    "\n",
    "# depths of all nodes relative to each root of the tree\n",
    "print(\"...all nodes depths...\")\n",
    "print(allKindOfNodeDepthsI(root))\n",
    "print(\"nodes depths: \", nodeDepths(root, depth=0))\n",
    "\n",
    "\n",
    "# APPROACH TWO O(N) T, O(H) S\n",
    "def allKindsOfNodeDepthsIV(root):\n",
    "    return [getTreeInfo(root).sum_of_all_depths, getTreeInfo(root.left)]\n",
    "\n",
    "\n",
    "def getTreeInfo(tree):\n",
    "    if tree is None:\n",
    "        return TreeInfo()\n",
    "    leftTreeInfo = getTreeInfo(tree.left)\n",
    "    rightTreeInfo = getTreeInfo(tree.right)\n",
    "\n",
    "    sumOfLeftDepths = leftTreeInfo.sum_of_depths + leftTreeInfo.num_nodes_in_tree\n",
    "    sumOfRightDepths = rightTreeInfo.sum_of_depths + rightTreeInfo.num_nodes_in_tree\n",
    "\n",
    "    numNodesInTree = 1 + leftTreeInfo.num_nodes_in_tree + rightTreeInfo.num_nodes_in_tree\n",
    "    sumOfDepths = sumOfLeftDepths + sumOfRightDepths\n",
    "    sumOfAllDepths = sumOfDepths + leftTreeInfo.sum_of_all_depths + rightTreeInfo.sum_of_all_depths\n",
    "    return TreeInfo(numNodesInTree, sumOfDepths, sumOfAllDepths)\n",
    "\n",
    "\n",
    "def zigzag_level_order(root):\n",
    "    if root is None:\n",
    "        return []\n",
    "    else:\n",
    "        result = []\n",
    "        zigzag = False\n",
    "        q = que()\n",
    "        q.append(root)\n",
    "        while q:\n",
    "            level = []\n",
    "            for _ in range(len(q)):\n",
    "                if zigzag:\n",
    "                    node = q.pop()\n",
    "                    level.append(node.value)\n",
    "                    if node.right:\n",
    "                        q.appendleft(node.right)\n",
    "                    if node.left:\n",
    "                        q.appendleft(node.left)\n",
    "                else:\n",
    "                    node = q.popleft()\n",
    "                    level.append(node.value)\n",
    "                    if node.left:\n",
    "                        q.append(node.left)\n",
    "                    if node.right:\n",
    "                        q.append(node.right)\n",
    "            result.append(level)\n",
    "            zigzag = not zigzag\n",
    "        return result\n",
    "\n",
    "@dataclass\n",
    "class TreeInfo:\n",
    "    num_nodes_in_tree: int = 0\n",
    "    sum_of_depths: int = 0\n",
    "    sum_of_all_depths: int = 0\n",
    "\n",
    "\n",
    "# depths of all nodes relative to each root of the tree\n",
    "print(\"...depths of all nodes relative to each root node...\")\n",
    "print(allKindsOfNodeDepthsIV(root))\n",
    "print(allKindOfNodeDepthsII(root))\n",
    "print(\"zigzag_level_order Traversal\", zigzag_level_order(root))\n"
   ]
  },
  {
   "cell_type": "markdown",
   "metadata": {
    "collapsed": false,
    "pycharm": {
     "name": "#%% md\n"
    }
   },
   "source": []
  },
  {
   "cell_type": "markdown",
   "source": [],
   "metadata": {
    "collapsed": false,
    "pycharm": {
     "name": "#%% md\n"
    }
   }
  },
  {
   "cell_type": "markdown",
   "source": [
    "# BINARY SEARCH TREE"
   ],
   "metadata": {
    "collapsed": false,
    "pycharm": {
     "name": "#%% md\n"
    }
   }
  },
  {
   "cell_type": "code",
   "execution_count": 235,
   "metadata": {
    "pycharm": {
     "name": "#%%\n"
    }
   },
   "outputs": [
    {
     "name": "stdout",
     "output_type": "stream",
     "text": [
      "..........Inserted!........\n",
      "..........Inserted!........\n",
      "..........Inserted!........\n",
      "..........Inserted!........\n",
      "..........Inserted!........\n",
      "\n",
      "      ____50\n",
      "     /      \\\n",
      "  __30       70\n",
      " /    \\\n",
      "2      40\n",
      " \\\n",
      "  4\n",
      "\n"
     ]
    }
   ],
   "source": [
    "\n",
    "@dataclass\n",
    "class BinarySearchTree:\n",
    "    value: int = None\n",
    "    left: int = None\n",
    "    right: int = None\n",
    "\n",
    "\n",
    "\n",
    "\n",
    "def insert(rootNode, value):\n",
    "    if rootNode.value is None:\n",
    "        rootNode.value = value\n",
    "    elif value <= rootNode.value:\n",
    "        if rootNode.left is None:\n",
    "            rootNode.left = Node(value)\n",
    "        else:\n",
    "            insert(rootNode.left, value)\n",
    "    else:\n",
    "        if rootNode.right is None:\n",
    "            rootNode.right = Node(value)\n",
    "        else:\n",
    "            insert(rootNode.right, value)\n",
    "    return \"..........Inserted!........\"\n",
    "\n",
    "\n",
    "\n",
    "newNode = Node(value=50)\n",
    "\n",
    "print(insert(newNode, 70))\n",
    "print(insert(newNode, 30))\n",
    "print(insert(newNode, 2))\n",
    "print(insert(newNode, 4))\n",
    "print(insert(newNode, 40))\n",
    "\n",
    "print(newNode)\n",
    "\n",
    "\n"
   ]
  },
  {
   "cell_type": "markdown",
   "source": [
    "\n",
    "\n",
    "\n",
    "\n"
   ],
   "metadata": {
    "collapsed": false,
    "pycharm": {
     "name": "#%% md\n"
    }
   }
  },
  {
   "cell_type": "markdown",
   "source": [
    "# TRIE DATA STRUCTURE"
   ],
   "metadata": {
    "collapsed": false,
    "pycharm": {
     "name": "#%% md\n"
    }
   }
  },
  {
   "cell_type": "code",
   "execution_count": 236,
   "outputs": [
    {
     "name": "stdout",
     "output_type": "stream",
     "text": [
      "...create...\n",
      " App, Successfully inserted!\n",
      " Pass, Successfully inserted!\n",
      " Mukes, Successfully inserted!\n",
      "...delete...\n",
      "...search...\n",
      "App\n",
      "Pass\n"
     ]
    }
   ],
   "source": [
    "class TrieNode:\n",
    "    def __init__(self) -> None:\n",
    "        self.children = {}\n",
    "        self.endOfString = False\n",
    "\n",
    "    def __str__(self):\n",
    "        print(self.children.values())\n",
    "\n",
    "\n",
    "# O(N) T, S\n",
    "def insertString(current, word):\n",
    "    for ch in word:\n",
    "        node = current.children.get(ch)\n",
    "        if node is not None:\n",
    "            continue\n",
    "        else:\n",
    "            node = TrieNode()\n",
    "            current.children.update({ch: node})\n",
    "        current = node\n",
    "    current.endOfString = True\n",
    "    print(f\" {word}, Successfully inserted!\")\n",
    "\n",
    "\n",
    "# O(m) T, O(1) S\n",
    "def searchString(currentNode, word):\n",
    "    for ch in word:\n",
    "        node = currentNode.children.get(ch)\n",
    "        if node is None:\n",
    "            return False\n",
    "        currentNode = node\n",
    "    print(word) if currentNode.endOfString else None\n",
    "\n",
    "\n",
    "def deleteString(root, word, index):\n",
    "    ch = word[index]\n",
    "    currentNode = root.children.get(ch)\n",
    "    cannotDelete = False\n",
    "\n",
    "    if len(currentNode.children) > 1:\n",
    "        deleteString(currentNode, word, index + 1)\n",
    "        return False\n",
    "\n",
    "    if index == len(word) - 1:\n",
    "        if len(currentNode.children) >= 1:\n",
    "            currentNode.endOfString = False\n",
    "            return False\n",
    "        else:\n",
    "            root.children.pop(ch)\n",
    "            return True\n",
    "\n",
    "    if currentNode.endOfString is True:\n",
    "        deleteString(currentNode, word, index + 1)\n",
    "        return False\n",
    "\n",
    "    cannotDelete = deleteString(currentNode, word, index + 1)\n",
    "    if cannotDelete is True:\n",
    "        root.children.pop(ch)\n",
    "        return \"Cannot Delete\"\n",
    "    else:\n",
    "        return \"Deleted Successfully!\"\n",
    "\n",
    "\n",
    "nTrie = TrieNode()\n",
    "\n",
    "\n",
    "print(\"...create...\")\n",
    "insertString(nTrie, \"App\")\n",
    "insertString(nTrie, \"Pass\")\n",
    "insertString(nTrie, \"Mukes\")\n",
    "print(\"...delete...\")\n",
    "# print(deleteString(nTrie, \"App\", 0))\n",
    "print(\"...search...\")\n",
    "\n",
    "searchString(nTrie, \"App\")\n",
    "searchString(nTrie, \"Pass\")\n",
    "\n"
   ],
   "metadata": {
    "collapsed": false,
    "pycharm": {
     "name": "#%%\n"
    }
   }
  },
  {
   "cell_type": "markdown",
   "source": [
    "# REVERSE STRING"
   ],
   "metadata": {
    "collapsed": false,
    "pycharm": {
     "name": "#%% md\n"
    }
   }
  },
  {
   "cell_type": "code",
   "execution_count": 237,
   "outputs": [
    {
     "name": "stdout",
     "output_type": "stream",
     "text": [
      "reverse_string(God is goood!), reverse_string(od is goood!), reverse_string(d is goood!), reverse_string( is goood!), reverse_string(is goood!), reverse_string(s goood!), reverse_string( goood!), reverse_string(goood!), reverse_string(oood!), reverse_string(ood!), reverse_string(od!), reverse_string(d!), reverse_string(!), reverse_string(), "
     ]
    },
    {
     "data": {
      "text/plain": "'!dooog si doG'"
     },
     "execution_count": 237,
     "metadata": {},
     "output_type": "execute_result"
    }
   ],
   "source": [
    "# Reverse a string\n",
    "def reverse_string(s):\n",
    "    print(\"reverse_string\", \"(\",s,\")\", sep=\"\", end=\", \")\n",
    "    if s == '':\n",
    "      return ''\n",
    "    else: return reverse_string(s[1:]) + s[0]\n",
    "\n",
    "reverse_string(\"God is goood!\")"
   ],
   "metadata": {
    "collapsed": false,
    "pycharm": {
     "name": "#%%\n"
    }
   }
  },
  {
   "cell_type": "markdown",
   "source": [
    "# IS A STRING PALINDROME"
   ],
   "metadata": {
    "collapsed": false,
    "pycharm": {
     "name": "#%% md\n"
    }
   }
  },
  {
   "cell_type": "code",
   "execution_count": 238,
   "outputs": [
    {
     "data": {
      "text/plain": "True"
     },
     "execution_count": 238,
     "metadata": {},
     "output_type": "execute_result"
    }
   ],
   "source": [
    "# Function that determines if a string is a palindrome.\n",
    "def is_palindrome(s):\n",
    "    n = len(s)\n",
    "    if n <= 1:\n",
    "       return True\n",
    "    else: return (s[0] == s[n - 1]) and is_palindrome(s[1:n - 1])\n",
    "is_palindrome(\"bab\")"
   ],
   "metadata": {
    "collapsed": false,
    "pycharm": {
     "name": "#%%\n"
    }
   }
  },
  {
   "cell_type": "markdown",
   "source": [
    "# MERGE SORT"
   ],
   "metadata": {
    "collapsed": false,
    "pycharm": {
     "name": "#%% md\n"
    }
   }
  },
  {
   "cell_type": "code",
   "execution_count": 239,
   "outputs": [
    {
     "name": "stdout",
     "output_type": "stream",
     "text": [
      "sel_sort ( [[4, 9, 12]] [[10, 3]] )\n",
      "sel_sort ( [[9, 12]] [[10, 3]] )\n",
      "sel_sort ( [[12]] [[10, 3]] )\n",
      "sel_sort ( [[12]] [[3]] )\n",
      "sel_sort ( [[12]] [[]] )\n",
      "[4, 9, 10, 3, 12]\n"
     ]
    }
   ],
   "source": [
    "def merge(a, b):\n",
    " print(\"sel_sort\", \"(\",[a], [b],\")\")\n",
    " if not a:\n",
    "    return b\n",
    " elif not b:\n",
    "    return a\n",
    " else:\n",
    "    if a[0] < b[0]:\n",
    "        return [a[0]] + merge (a[1:], b)\n",
    "    else:\n",
    "        return [b[0]] + merge (a, b[1:])\n",
    "print(merge([4, 9, 12],[10, 3]))"
   ],
   "metadata": {
    "collapsed": false,
    "pycharm": {
     "name": "#%%\n"
    }
   }
  },
  {
   "cell_type": "code",
   "execution_count": 240,
   "outputs": [
    {
     "name": "stdout",
     "output_type": "stream",
     "text": [
      "sel_sort ( [[3]] [[2]] )\n",
      "sel_sort ( [[3]] [[]] )\n",
      "sel_sort ( [[9]] [[-1]] )\n",
      "sel_sort ( [[9]] [[]] )\n",
      "sel_sort ( [[0]] [[-1, 9]] )\n",
      "sel_sort ( [[0]] [[9]] )\n",
      "sel_sort ( [[]] [[9]] )\n",
      "sel_sort ( [[2, 3]] [[-1, 0, 9]] )\n",
      "sel_sort ( [[2, 3]] [[0, 9]] )\n",
      "sel_sort ( [[2, 3]] [[9]] )\n",
      "sel_sort ( [[3]] [[9]] )\n",
      "sel_sort ( [[]] [[9]] )\n"
     ]
    },
    {
     "data": {
      "text/plain": "[-1, 0, 2, 3, 9]"
     },
     "execution_count": 240,
     "metadata": {},
     "output_type": "execute_result"
    }
   ],
   "source": [
    "def merge_sort(a):\n",
    "    n = len(a)\n",
    "    if n <= 1:\n",
    "       return a\n",
    "    else:\n",
    "       a1 = merge_sort(a[0:n // 2])\n",
    "       a2 = merge_sort(a[n // 2:n])\n",
    "    return merge (a1, a2)\n",
    "merge_sort([3, 2, 0, 9, -1])"
   ],
   "metadata": {
    "collapsed": false,
    "pycharm": {
     "name": "#%%\n"
    }
   }
  },
  {
   "cell_type": "code",
   "execution_count": 240,
   "outputs": [],
   "source": [],
   "metadata": {
    "collapsed": false,
    "pycharm": {
     "name": "#%%\n"
    }
   }
  },
  {
   "cell_type": "markdown",
   "source": [
    "\n",
    "\n",
    "\n",
    "# FIRST NON REPEATING CHARACTERS"
   ],
   "metadata": {
    "collapsed": false,
    "pycharm": {
     "name": "#%% md\n"
    }
   }
  },
  {
   "cell_type": "code",
   "execution_count": 241,
   "outputs": [
    {
     "name": "stdout",
     "output_type": "stream",
     "text": [
      "a\n",
      "a\n"
     ]
    }
   ],
   "source": [
    "# Approach 1\n",
    "def first_non_repeating_char(string):\n",
    "    found_duplicate = False\n",
    "    for ch in range(len(string)):\n",
    "        for ch2 in range(len(string)):\n",
    "            if string[ch] == string[ch2] and ch != ch2:\n",
    "                found_duplicate = True\n",
    "        if not found_duplicate:\n",
    "            return string[ch]\n",
    "    return -1\n",
    "print(first_non_repeating_char(\"abcdf\"))\n",
    "\n",
    "\n",
    "# Approach 2\n",
    "# O(N)T, O(1)S\n",
    "def FirstNonRepeatingChar(Str):\n",
    "    freq = {}\n",
    "    for ch in Str:\n",
    "        freq[ch] = freq.get(ch, 0) + 1\n",
    "    for i in range(len(Str)):\n",
    "        ch2 = Str[i]\n",
    "        if freq[ch2] == 1:\n",
    "            return ch2\n",
    "    return -1\n",
    "\n",
    "\n",
    "print(first_non_repeating_char(\"abcdf\"))"
   ],
   "metadata": {
    "collapsed": false,
    "pycharm": {
     "name": "#%%\n"
    }
   }
  },
  {
   "cell_type": "markdown",
   "source": [
    "# MINIMUM CHARACTERS FOR WORDS"
   ],
   "metadata": {
    "collapsed": false,
    "pycharm": {
     "name": "#%% md\n"
    }
   }
  },
  {
   "cell_type": "code",
   "execution_count": 242,
   "outputs": [
    {
     "name": "stdout",
     "output_type": "stream",
     "text": [
      "['t', 't', 'h', 'i', 's', 'a', 'd', 'd', 'e', 'e', 'm']\n"
     ]
    }
   ],
   "source": [
    "# O(n * l) time | O(c) s\n",
    "\n",
    "def min_char_word(words):\n",
    "  maxCharFreq = {}\n",
    "  for word in words:\n",
    "    charFreq = freq(word)\n",
    "    updateMaxFreq(charFreq, maxCharFreq)\n",
    "  return makeArrayFromCharFreq(maxCharFreq)\n",
    "\n",
    "\n",
    "def countCharFreq(string):\n",
    "  charFreqs = {}\n",
    "  for char in string:\n",
    "    if char not in charFreqs:\n",
    "      charFreqs[char] = 0\n",
    "    charFreqs[char] += 1\n",
    "  return charFreqs\n",
    "\n",
    "\n",
    "def freq(li):\n",
    "  dic = {}\n",
    "  for n in li:\n",
    "    dic[n] = dic.get(n, 0) + 1\n",
    "  return dic\n",
    "\n",
    "def updateMaxFreq(freqs, maxFreqs):\n",
    "  for char in freqs:\n",
    "    freq = freqs[char]\n",
    "    if char in maxFreqs:\n",
    "      maxFreqs[char] = max(freq, maxFreqs[char])\n",
    "    else:\n",
    "      maxFreqs[char] = freq\n",
    "\n",
    "\n",
    "def makeArrayFromCharFreq(charFreqs):\n",
    "  chars = []\n",
    "  for char in charFreqs:\n",
    "    freq = charFreqs[char]\n",
    "    for _ in range(freq):\n",
    "      chars.append(char)\n",
    "  return chars\n",
    "\n",
    "\n",
    "print(min_char_word([\"this\", \"that\", \"did\", \"deed\", \"them\" \"a\"]))\n"
   ],
   "metadata": {
    "collapsed": false,
    "pycharm": {
     "name": "#%%\n"
    }
   }
  },
  {
   "cell_type": "markdown",
   "source": [
    "\n",
    "\n",
    "# DIJKSTRA ALGORITHM"
   ],
   "metadata": {
    "collapsed": false,
    "pycharm": {
     "name": "#%% md\n"
    }
   }
  },
  {
   "cell_type": "code",
   "execution_count": 243,
   "outputs": [
    {
     "name": "stdout",
     "output_type": "stream",
     "text": [
      "{'A': 0, 'B': 2, 'C': 5, 'D': 3, 'E': 4, 'G': 13, 'F': 13}\n",
      "..............\n",
      "{0: 0, 1: 7, 2: 13, 3: 27, 4: 10}\n"
     ]
    }
   ],
   "source": [
    "class _Graph:\n",
    "    def __init__(self):\n",
    "        self.vertices = set()\n",
    "        self.edges = defaultdict(list)\n",
    "        self.distances = {}\n",
    "    def addVertex(self, vertex):\n",
    "        self.vertices.add(vertex)\n",
    "    def addEdge(self, fVertex, tVertex, distance):\n",
    "        self.edges[fVertex].append(tVertex)\n",
    "        self.distances[(fVertex, tVertex)] = distance\n",
    "\n",
    "def dijkstra(graph, startVertex):\n",
    "    visited = {startVertex: 0}\n",
    "    path = defaultdict(list)\n",
    "    vertices = set(graph.vertices)\n",
    "\n",
    "    while vertices:\n",
    "        minVertex = None\n",
    "        for vertex in vertices:\n",
    "            if vertex in visited:\n",
    "                if minVertex is None:\n",
    "                    minVertex = vertex\n",
    "                elif visited[vertex] < visited[minVertex]:\n",
    "                    minVertex = vertex\n",
    "        if minVertex is None:\n",
    "            break\n",
    "        vertices.remove(minVertex)\n",
    "        currentWeight = visited[minVertex]\n",
    "        for edge in graph.edges[minVertex]:\n",
    "            weight = currentWeight + graph.distances[(minVertex, edge)]\n",
    "            if edge not in visited or weight < visited[edge]:\n",
    "                visited[edge] = weight\n",
    "                path[edge].append(minVertex)\n",
    "    return  visited\n",
    "\n",
    "def dic_to_list(hash_table = None):\n",
    "    if hash_table is None:\n",
    "        hash_table = defaultdict(list)\n",
    "    start, end = 0, len(hash_table) - 1\n",
    "    while start < end:\n",
    "        print([hash_table.keys(), hash_table.values()])\n",
    "        start += 1\n",
    "    return\n",
    "\n",
    "\n",
    "g = _Graph()\n",
    "g.addVertex(\"A\")\n",
    "g.addVertex(\"B\")\n",
    "g.addVertex(\"C\")\n",
    "g.addVertex(\"D\")\n",
    "g.addVertex(\"E\")\n",
    "g.addVertex(\"F\")\n",
    "g.addVertex(\"G\")\n",
    "g.addEdge(\"A\", \"B\", 2)\n",
    "g.addEdge(\"A\", \"C\", 5)\n",
    "g.addEdge(\"B\", \"C\", 6)\n",
    "g.addEdge(\"B\", \"D\", 1)\n",
    "g.addEdge(\"B\", \"E\", 3)\n",
    "g.addEdge(\"C\", \"F\", 8)\n",
    "g.addEdge(\"D\", \"E\", 1)\n",
    "g.addEdge(\"E\", \"G\", 9)\n",
    "g.addEdge(\"F\", \"G\", 7)\n",
    "print(dijkstra(g, \"A\"))\n",
    "\n",
    "gg = _Graph()\n",
    "gg.addVertex(0)\n",
    "gg.addVertex(1)\n",
    "gg.addVertex(2)\n",
    "gg.addVertex(3)\n",
    "gg.addVertex(4)\n",
    "gg.addVertex(5)\n",
    "gg.addEdge(0, 1, 7)\n",
    "gg.addEdge(1, 2, 6)\n",
    "gg.addEdge(1, 3, 20)\n",
    "gg.addEdge(1, 4, 3)\n",
    "gg.addEdge(2, 3, 14)\n",
    "gg.addEdge(3, 4, 2)\n",
    "print(\"..............\")\n",
    "print(dijkstra(gg, 0))\n",
    "\n",
    "\n"
   ],
   "metadata": {
    "collapsed": false,
    "pycharm": {
     "name": "#%%\n"
    }
   }
  },
  {
   "cell_type": "markdown",
   "source": [
    "\n",
    "\n",
    "\n",
    "\n",
    "\n",
    "\n",
    "# RIGHT SMALLER THAN\n",
    "Input: [8, 5, 11, -1, 3, 4, 2]\n",
    "Output: [5, 4, 4, 0, 1, 1, 0]\n",
    "Output represents the number of Inputs lesser than\n",
    "current Input\n",
    "E.g 5 represents no of integers\n",
    "\n",
    "NB. Optimal solution involves constructing a\n",
    "BST, inserting nodes from right to left.\n",
    "We'll keep track of the left sub-tree\n",
    "sizes and increment them when we need to"
   ],
   "metadata": {
    "collapsed": false,
    "pycharm": {
     "name": "#%% md\n"
    }
   }
  },
  {
   "cell_type": "code",
   "execution_count": 244,
   "outputs": [
    {
     "name": "stdout",
     "output_type": "stream",
     "text": [
      "[5, 4, 4, 0, 1, 1, 0]\n",
      "[5, 4, 4, 0, 1, 1, 0]\n"
     ]
    }
   ],
   "source": [
    "# O(n^2)T, O(n)S\n",
    "# Brute force Approach\n",
    "def right_smaller_than(arr):\n",
    "    result = []\n",
    "    for i in range(len(arr)):\n",
    "        count = 0\n",
    "        current = arr[i]\n",
    "        for j in range(i + 1, len(arr)):\n",
    "            Next = arr[j]\n",
    "            if current > Next:\n",
    "                count += 1\n",
    "        result.append(count)\n",
    "    return result\n",
    "\n",
    "\n",
    "\n",
    "# Optimal Approach\n",
    "# O(NlogN)T, O(N)S\n",
    "def rightSmallerThan(arr):\n",
    "    if len(arr) == 0:\n",
    "        return []\n",
    "    rightSmallerCounts = arr[:]\n",
    "    lastIdx = len(arr) - 1\n",
    "    rightSmallerCounts[lastIdx] = 0\n",
    "    for i in reversed(range(len(arr) - 1)):\n",
    "        insert(BST, arr[i], i, rightSmallerCounts, nS=0)\n",
    "    return rightSmallerCounts\n",
    "\n",
    "\n",
    "class SpecialBST:\n",
    "    def __init__(self, value=None):\n",
    "        self.value = value\n",
    "        self.leftSubtreeSize = 0\n",
    "        self.left = None\n",
    "        self.right = None\n",
    "\n",
    "\n",
    "BST = SpecialBST(2)\n",
    "# 2 represents last item in our array and first item in our BST\n",
    "\n",
    "\n",
    "# log(n)T, S\n",
    "def insert(BST, value, Idx, rightSmallerCounts, nS=0):\n",
    "    # nS = number smaller at insert time\n",
    "    if value < BST.value:\n",
    "        BST.leftSubtreeSize += 1\n",
    "        if BST.left is None:\n",
    "            BST.left = SpecialBST(value)\n",
    "            rightSmallerCounts[Idx] = nS\n",
    "        else:\n",
    "            insert(BST.left, value, Idx, rightSmallerCounts, nS)\n",
    "    else:\n",
    "        nS += BST.leftSubtreeSize\n",
    "        if value > BST.value:\n",
    "            nS += 1\n",
    "        if BST.right is None:\n",
    "            BST.right = SpecialBST(value)\n",
    "            rightSmallerCounts[Idx] = nS\n",
    "        else:\n",
    "            insert(BST.right, value, Idx, rightSmallerCounts, nS)\n",
    "\n",
    "\n",
    "def main():\n",
    "    arr4 = [8, 5, 11, -1, 3, 4, 2]\n",
    "    print(right_smaller_than(arr4))\n",
    "    print(rightSmallerThan(arr4))\n",
    "\n",
    "\n",
    "if __name__ == '__main__':\n",
    "    main()"
   ],
   "metadata": {
    "collapsed": false,
    "pycharm": {
     "name": "#%%\n"
    }
   }
  },
  {
   "cell_type": "markdown",
   "source": [
    "\n",
    "\n",
    "\n",
    "\n",
    "\n",
    "\n",
    "\n",
    "# REVERSE WORDS IN STRING. WHITESPACES ARE ALSO CHARACTERS\n",
    "INPUT: WORD = \"Good to have you back \"\n",
    "Ouput: \"back you have to Good\""
   ],
   "metadata": {
    "collapsed": false,
    "pycharm": {
     "name": "#%% md\n"
    }
   }
  },
  {
   "cell_type": "code",
   "execution_count": 245,
   "outputs": [
    {
     "name": "stdout",
     "output_type": "stream",
     "text": [
      "back you have to Good\n"
     ]
    }
   ],
   "source": [
    "def reverse_words_in_string(string):\n",
    "    reverse_words = []\n",
    "    start_of_word = 0\n",
    "    for index in range(len(string)):\n",
    "        ch = string[index]\n",
    "        if ch == \" \":\n",
    "            reverse_words.append(string[start_of_word:index])\n",
    "            start_of_word = index\n",
    "        elif string[start_of_word] == \" \":\n",
    "            reverse_words.append(\" \")\n",
    "            start_of_word = index\n",
    "\n",
    "    reverse_words.append(string[start_of_word:])\n",
    "    reverse_word(reverse_words)\n",
    "    return \"\".join(reverse_words)\n",
    "\n",
    "\n",
    "def reverse_word(word):\n",
    "    start, end = 0, len(word) - 1\n",
    "    while start < end:\n",
    "        word[start], word[end] = word[end], word[start]\n",
    "        start += 1\n",
    "        end -= 1\n",
    "\n",
    "\n",
    "def main():\n",
    "    WORD = \"Good to have you back\"\n",
    "    print(reverse_words_in_string(WORD))\n",
    "\n",
    "if __name__ == '__main__':\n",
    "    main()"
   ],
   "metadata": {
    "collapsed": false,
    "pycharm": {
     "name": "#%%\n"
    }
   }
  },
  {
   "cell_type": "markdown",
   "source": [
    "\n",
    "\n",
    "\n",
    "\n",
    "\n",
    "\n",
    "\n",
    "# BALANCE BRACKET"
   ],
   "metadata": {
    "collapsed": false,
    "pycharm": {
     "name": "#%% md\n"
    }
   }
  },
  {
   "cell_type": "code",
   "execution_count": 246,
   "outputs": [
    {
     "name": "stdout",
     "output_type": "stream",
     "text": [
      "True\n"
     ]
    }
   ],
   "source": [
    "def balance_bracket(string):\n",
    "    opening_brackets = \"([{\"\n",
    "    closing_brackets = \")}]\"\n",
    "    matching_brackets = {\n",
    "        \")\":\"(\",\n",
    "        \"}\":\"{\",\n",
    "        \"]\":\"[\"\n",
    "    }\n",
    "    stack = []\n",
    "    for ch in string:\n",
    "        if ch in opening_brackets:\n",
    "            stack.append(ch)\n",
    "        if ch in closing_brackets:\n",
    "            if len(stack) == 0:\n",
    "                return False\n",
    "            # if stack[-1] == matching_brackets[ch]:\n",
    "            #     stack.pop()\n",
    "            # else:\n",
    "            #     return False\n",
    "            stack.pop() if stack[-1] == matching_brackets[ch] else False\n",
    "    return len(stack) == 0\n",
    "\n",
    "def main():\n",
    "    str1 = \"(abc)\"\n",
    "    print(balance_bracket(str1))\n",
    "\n",
    "if __name__ == '__main__':\n",
    "    main()"
   ],
   "metadata": {
    "collapsed": false,
    "pycharm": {
     "name": "#%%\n"
    }
   }
  },
  {
   "cell_type": "markdown",
   "source": [
    "# FIND N SUM (2SUM, 3SUM, 4SUM, ...)For kSum function:\n",
    "Given an array nums of n integers, return an array of all the unique\n",
    "quadruplets [nums[a], nums[b], nums[c], nums[d]] such that:\n",
    "\n",
    "    0 <= a, b, c, d < n\n",
    "    a, b, c, and d are distinct.\n",
    "    nums[a] + nums[b] + nums[c] + nums[d] == target\n",
    "\n",
    "You may return the answer in any order.\n",
    "Example 1:\n",
    "\n",
    "Input: nums = [1,0,-1,0,-2,2], target = 0\n",
    "Output: [[-2,-1,1,2],[-2,0,0,2],[-1,0,0,1]]\n",
    "\n",
    "Example 2:\n",
    "\n",
    "Input: nums = [2,2,2,2,2], target = 8\n",
    "Output: [[2,2,2,2]]\n",
    "\n",
    "##### K sum Algorithm\n",
    "    At the start of the kSum function, we will check three conditions:\n",
    "        Have we run out of numbers to choose from?\n",
    "        Is the smallest number remaining greater than target / k?\n",
    "        If so, then any k numbers we choose will be too large.\n",
    "        Is the largest number remaining smaller than target / k?\n",
    "        If so, then any k numbers we choose will be too small.\n",
    "        If any of these conditions is true, there is no need to continue as no combination of the remaining\n",
    "        elements can sum to target.\n",
    "    If k equals 2, call twoSum and return the result.\n",
    "    Iterate i through the array from start:\n",
    "        If the current value is the same as the one before, skip it.\n",
    "        Recursively call kSum with start = i + 1, k = k - 1, and target - nums[i].\n",
    "        For each returned subset of values:\n",
    "            Include the current value nums[i] into subset.\n",
    "            Add subset to the result res.\n",
    "    Return the result res."
   ],
   "metadata": {
    "collapsed": false,
    "pycharm": {
     "name": "#%% md\n"
    }
   }
  },
  {
   "cell_type": "code",
   "execution_count": 102,
   "outputs": [
    {
     "name": "stdout",
     "output_type": "stream",
     "text": [
      "Four sum:  [[-4, -2, -1, 9], [-4, -1, 3, 4], [-4, 0, 2, 4], [-4, 1, 2, 3], [-2, -1, 1, 4], [-2, -1, 2, 3], [-2, 0, 1, 3], [-2, 0, 2, 2], [-1, 0, 1, 2]]\n"
     ]
    }
   ],
   "source": [
    "def fourSum(nums, target):\n",
    "    nums.sort()\n",
    "    return kSum(nums, target, 4)\n",
    "\n",
    "def kSum(nums, target, k):\n",
    "        res = []\n",
    "        if not nums:\n",
    "            return res\n",
    "        average_value = target // k\n",
    "        if average_value < nums[0] or nums[-1] < average_value:\n",
    "            return res\n",
    "        if k == 2:\n",
    "            return twoSum(nums, target)\n",
    "        for i in range(len(nums)):\n",
    "            if i == 0 or nums[i - 1] != nums[i]:\n",
    "                for subset in kSum(nums[i + 1:], target - nums[i], k - 1):\n",
    "                    res.append([nums[i]] + subset)\n",
    "        return res\n",
    "\n",
    "\n",
    "def twoSum(nums, target):\n",
    "        res = []\n",
    "        lo, hi = 0, len(nums) - 1\n",
    "        while lo < hi:\n",
    "            curr_sum = nums[lo] + nums[hi]\n",
    "            if curr_sum < target:\n",
    "                lo += 1\n",
    "            elif curr_sum > target:\n",
    "                hi -= 1\n",
    "            else:\n",
    "                res.append([nums[lo], nums[hi]])\n",
    "                lo += 1\n",
    "                hi -= 1\n",
    "        return res\n",
    "\n",
    "print(\"Four sum: \", fourSum([3, 2, 0, -1, 4, 2, -2, 1, 9, -4], 2))"
   ],
   "metadata": {
    "collapsed": false,
    "pycharm": {
     "name": "#%%\n"
    }
   }
  },
  {
   "cell_type": "markdown",
   "source": [],
   "metadata": {
    "collapsed": false,
    "pycharm": {
     "name": "#%% md\n"
    }
   }
  },
  {
   "cell_type": "markdown",
   "source": [
    "\n",
    "\n",
    "\n",
    "\n"
   ],
   "metadata": {
    "collapsed": false,
    "pycharm": {
     "name": "#%% md\n"
    }
   }
  },
  {
   "cell_type": "markdown",
   "source": [],
   "metadata": {
    "collapsed": false,
    "pycharm": {
     "name": "#%% md\n"
    }
   }
  },
  {
   "cell_type": "markdown",
   "source": [
    "\n",
    "# Line Through Points\n",
    "Given an input points which is a list of lists that\n",
    "represents the points on the [x, y] plane. Determine\n",
    "the list that passes through the most points\n",
    "\n",
    "points = [\n",
    "[1, 1], [2, 2],\n",
    "[3, 3], [0, 4],\n",
    "[-2, 6], [4, 0],\n",
    "[2, 1]\n",
    "]\n",
    "\n",
    "* Generate every single possible line from two points\n",
    "  using `y = mx + b` where `m` is the `slope` or\n",
    "  `gradient` and `b` is the `y-intercept`\n",
    "\n",
    "* slope = (change in y or rise)/ (change in x or run)\n",
    "  - `run` is how far we go on the `x-axis`\n",
    "  - `rise` is how far we go up on the `y-axis`\n",
    "  - slope = rise/run\n",
    "\n",
    "* Keep track of max points line passes through. maxPoint = 1\n",
    "* loop through all points and keept track of current and next point (p1 = points[i], p2 = points[i+1])\n",
    "* find the slope between two points. e.g p1 = [1, 1], p2 = [2, 2]\n",
    "* store all slopes in a hash table\n",
    "* With the slope we might get decimal numbers which are similar, so we cannot store slopes as decimals in\n",
    "  our hash table because of floating point in precision error. E.g. 0.1 and 0.10001 will be rounded as 0.1 which might alter\n",
    "  our slope on the graph, so we will use rational(a no. over another no. 2/5)/fraction to represent our slope in the hash table\n",
    "* keep track of both rise and run values of the slope\n",
    "* get a slope key in order to store the slope value in the hash table\n",
    "* if slope key is not in hash table, set its value to 1\n",
    "* go ahead to increment value by 1\n",
    "*  find the max number between initial maxNum and slope values in the hash table\n",
    "\n"
   ],
   "metadata": {
    "collapsed": false,
    "pycharm": {
     "name": "#%% md\n"
    }
   }
  },
  {
   "cell_type": "code",
   "execution_count": 8,
   "outputs": [
    {
     "name": "stdout",
     "output_type": "stream",
     "text": [
      "4\n"
     ]
    }
   ],
   "source": [
    "import math\n",
    "\n",
    "\n",
    "# O(n^2) T, O(n) S\n",
    "def line_through_points(points):\n",
    "    maxNum = 1\n",
    "    # for Idx1, p1 in enumerate(points):\n",
    "    for Idx1 in range(len(points)):\n",
    "        p1 = points[Idx1]\n",
    "        slopes = {}\n",
    "        for Idx2 in range(Idx1 + 1, len(points)):\n",
    "            p2 = points[Idx2]\n",
    "            rise, run = get_slope_of_line_between_points(p1, p2)\n",
    "            slopeKey = createHashableKeyForRational(rise, run)\n",
    "            if slopeKey not in slopes:\n",
    "                slopes[slopeKey] = 1\n",
    "            slopes[slopeKey] += 1\n",
    "        maxNum = max(maxNum, max(slopes.values(), default=0))\n",
    "    return maxNum\n",
    "\n",
    "\n",
    "def get_slope_of_line_between_points(p1, p2):\n",
    "    p1x, p1y = p1\n",
    "    p2x, p2y = p2\n",
    "    slope = [1, 0]\n",
    "    if p1x != p2x:\n",
    "        xDiff = p1x - p2x  # numerator\n",
    "        yDiff = p1y - p2y  # denominator\n",
    "        # find the greatest common divisor and divide both the numerator and denominator by it\n",
    "        gcd = greatest_common_divisor(abs(xDiff), abs(yDiff))\n",
    "        xDiff = xDiff // gcd\n",
    "        yDiff = yDiff // gcd\n",
    "        if xDiff < 0:\n",
    "            xDiff *= -1\n",
    "            yDiff *= -1\n",
    "        slope = [yDiff, xDiff]\n",
    "    return slope\n",
    "\n",
    "\n",
    "def createHashableKeyForRational(numerator, denominator):\n",
    "    return str(numerator) + \":\" + str(denominator)\n",
    "\n",
    "\n",
    "# greatest common divisor I\n",
    "def greatest_common_divisor(a, b):\n",
    "    while True:\n",
    "        if a == 0:\n",
    "            return b\n",
    "        if b == 0:\n",
    "            return a\n",
    "\n",
    "        a, b = b, a % b\n",
    "\n",
    "\n",
    "# greatest common divisor II\n",
    "def _gcd(a, b):\n",
    "    return math.gcd(a, b)\n",
    "\n",
    "\n",
    "def main():\n",
    "    points = [\n",
    "        [1, 1], [2, 2],\n",
    "        [3, 3], [0, 4],\n",
    "        [-2, 6], [4, 0],\n",
    "        [2, 1]\n",
    "    ]\n",
    "    print(line_through_points(points))\n",
    "\n",
    "\n",
    "if __name__ == '__main__':\n",
    "    main()\n"
   ],
   "metadata": {
    "collapsed": false,
    "pycharm": {
     "name": "#%%\n"
    }
   }
  },
  {
   "cell_type": "markdown",
   "source": [
    "\n",
    "\n",
    "\n",
    "\n"
   ],
   "metadata": {
    "collapsed": false,
    "pycharm": {
     "name": "#%% md\n"
    }
   }
  },
  {
   "cell_type": "markdown",
   "source": [
    "# Find Slope of a line in a rational/fraction form given two points, p1, p2.\n",
    "Decimals as a slope is wrong\n",
    "Eg. p1 = [25, 7]\n",
    "    p2 = [2, 1]\n",
    "\n",
    " Output: 6/23"
   ],
   "metadata": {
    "collapsed": false,
    "pycharm": {
     "name": "#%% md\n"
    }
   }
  },
  {
   "cell_type": "code",
   "execution_count": 24,
   "outputs": [
    {
     "data": {
      "text/plain": "'5/1'"
     },
     "execution_count": 24,
     "metadata": {},
     "output_type": "execute_result"
    }
   ],
   "source": [
    "def get_slope_of_line_between_points(p1, p2):\n",
    "    p1x, p1y = p1\n",
    "    p2x, p2y = p2\n",
    "    slope = f\"{1}/{0}\"\n",
    "    if p1x != p2x:\n",
    "        xDiff = p1x - p2x  # numerator\n",
    "        yDiff = p1y - p2y  # denominator\n",
    "        # find the greatest common divisor and divide both the numerator and denominator by it\n",
    "        gcd = greatest_common_divisor(abs(xDiff), abs(yDiff))\n",
    "        xDiff = xDiff // gcd\n",
    "        yDiff = yDiff // gcd\n",
    "        if xDiff < 0:\n",
    "            xDiff *= -1\n",
    "            yDiff *= -1\n",
    "        slope = f\"{yDiff}/{xDiff}\"\n",
    "    return slope\n",
    "\n",
    "p1 = [7, 25]\n",
    "p2 = [3, 5]\n",
    "get_slope_of_line_between_points(p1, p2)"
   ],
   "metadata": {
    "collapsed": false,
    "pycharm": {
     "name": "#%%\n"
    }
   }
  },
  {
   "cell_type": "markdown",
   "source": [
    "\n",
    "\n",
    "\n",
    "\n",
    "\n",
    "\n"
   ],
   "metadata": {
    "collapsed": false,
    "pycharm": {
     "name": "#%% md\n"
    }
   }
  },
  {
   "cell_type": "markdown",
   "source": [
    "# Search suggestion"
   ],
   "metadata": {
    "collapsed": false,
    "pycharm": {
     "name": "#%% md\n"
    }
   }
  },
  {
   "cell_type": "code",
   "execution_count": 30,
   "outputs": [
    {
     "name": "stdout",
     "output_type": "stream",
     "text": [
      "[['God', 'Godandman', 'Godinme'], ['God', 'Godandman', 'Godinme'], ['God', 'Godandman', 'Godinme'], ['Godinme', 'Godis'], ['Godis']]\n"
     ]
    }
   ],
   "source": [
    "def ws(sw, pr):\n",
    "    res = []\n",
    "    pr.sort()\n",
    "    for i in range(len(sw)):\n",
    "        ch = sw[:i+1]\n",
    "        prod = []\n",
    "        for p in pr:\n",
    "            chI = p[:i+1]\n",
    "            if ch == chI:\n",
    "                prod.append(p)\n",
    "        # if len(prod) >= 3:\n",
    "        #     res.append(prod[:3])\n",
    "        # else:\n",
    "        #     res.append(prod)\n",
    "        res.append(prod[:min(3, len(prod))])\n",
    "    return res\n",
    "\n",
    "sw = \"Godis\"\n",
    "pr = [\"Gudais\", \"God\", \"Godandman\", \"Godinme\", \"Godis\"]\n",
    "print(ws(sw, pr))"
   ],
   "metadata": {
    "collapsed": false,
    "pycharm": {
     "name": "#%%\n"
    }
   }
  },
  {
   "cell_type": "markdown",
   "source": [
    "\n",
    "\n",
    "\n",
    "\n"
   ],
   "metadata": {
    "collapsed": false,
    "pycharm": {
     "name": "#%% md\n"
    }
   }
  },
  {
   "cell_type": "markdown",
   "source": [
    "# string_splosion\n",
    "Given a non-empty string like \"Code\" return a string like \"CCoCodCode\".\n",
    "\n",
    "string_splosion('Code') → 'CCoCodCode'\n",
    "string_splosion('abc') → 'aababc'\n",
    "string_splosion('ab') → 'aab'\n"
   ],
   "metadata": {
    "collapsed": false,
    "pycharm": {
     "name": "#%% md\n"
    }
   }
  },
  {
   "cell_type": "code",
   "execution_count": 32,
   "outputs": [
    {
     "name": "stdout",
     "output_type": "stream",
     "text": [
      "CCoCodCode\n",
      "aababc\n",
      "aab\n"
     ]
    }
   ],
   "source": [
    "def string_splotion(str):\n",
    "    string = \"\"\n",
    "    for i in range(len(str)):\n",
    "        curStr = str[:i+1]\n",
    "        string = string + curStr\n",
    "    return string\n",
    "\n",
    "def main():\n",
    "    s1 = \"Code\"\n",
    "    s2 = \"abc\"\n",
    "    s3 = \"ab\"\n",
    "    print(string_splotion(s1))\n",
    "    print(string_splotion(s2))\n",
    "    print(string_splotion(s3))\n",
    "\n",
    "if __name__ == '__main__':\n",
    "    main()"
   ],
   "metadata": {
    "collapsed": false,
    "pycharm": {
     "name": "#%%\n"
    }
   }
  },
  {
   "cell_type": "markdown",
   "source": [
    "\n",
    "\n",
    "\n",
    "\n",
    "\n",
    "\n",
    "\n"
   ],
   "metadata": {
    "collapsed": false,
    "pycharm": {
     "name": "#%% md\n"
    }
   }
  },
  {
   "cell_type": "markdown",
   "source": [
    "# Find Intersection\n",
    "Have the function FindIntersection(strArr) read the\n",
    "array of strings stored in strArr which will\n",
    "contain 2 elements: the first element will represent a list\n",
    "of comma-separated numbers sorted in ascending order, the second\n",
    "element will represent a second list of comma-separated\n",
    "numbers (also sorted). Your goal is to return a comma-separated\n",
    "string containing the numbers that occur in elements of strArr in\n",
    "sorted order. If there is no intersection, return the string false.\n",
    "Examples\n",
    "Input: [\"1, 3, 4, 7, 13\", \"1, 2, 4, 13, 15\"]\n",
    "Output: 1,4,13\n",
    "Input: [\"1, 3, 9, 10, 17, 18\", \"1, 4, 9, 10\"]\n",
    "Output: 1,9,10"
   ],
   "metadata": {
    "collapsed": false,
    "pycharm": {
     "name": "#%% md\n"
    }
   }
  },
  {
   "cell_type": "code",
   "execution_count": 99,
   "outputs": [
    {
     "name": "stdout",
     "output_type": "stream",
     "text": [
      "1,4,13\n"
     ]
    }
   ],
   "source": [
    "def find_intersection(strArr):\n",
    "    setOne = set(strArr[0].split(\", \"))\n",
    "    setTwo = set(strArr[1].split(\", \"))\n",
    "\n",
    "    result = sorted(list(setOne.intersection(setTwo)), key=lambda str: int(str))\n",
    "\n",
    "    return ','.join(result) if len(result) > 0 else False\n",
    "\n",
    "def main():\n",
    "    print(find_intersection([\"1, 3, 4, 7, 13\", \"1, 2, 4, 13, 15\"]))\n",
    "\n",
    "if __name__ == '__main__':\n",
    "    main()\n"
   ],
   "metadata": {
    "collapsed": false,
    "pycharm": {
     "name": "#%%\n"
    }
   }
  },
  {
   "cell_type": "markdown",
   "source": [
    "\n",
    "\n",
    "\n"
   ],
   "metadata": {
    "collapsed": false,
    "pycharm": {
     "name": "#%% md\n"
    }
   }
  },
  {
   "cell_type": "markdown",
   "source": [
    "# Practice Map and Lamda"
   ],
   "metadata": {
    "collapsed": false,
    "pycharm": {
     "name": "#%% md\n"
    }
   }
  },
  {
   "cell_type": "code",
   "execution_count": 42,
   "outputs": [
    {
     "data": {
      "text/plain": "[5, 8, 10]"
     },
     "execution_count": 42,
     "metadata": {},
     "output_type": "execute_result"
    }
   ],
   "source": [
    "n1 = [1, 3, 4]\n",
    "n2 = [4, 5, 6]\n",
    "\n",
    "res = map(lambda x, y: x + y, n1, n2)\n",
    "list(res)"
   ],
   "metadata": {
    "collapsed": false,
    "pycharm": {
     "name": "#%%\n"
    }
   }
  }
 ],
 "metadata": {
  "kernelspec": {
   "display_name": "Python 3.10.4 ('Ewooral-Tutorials-i81cRfln')",
   "language": "python",
   "name": "python3"
  },
  "language_info": {
   "codemirror_mode": {
    "name": "ipython",
    "version": 2
   },
   "file_extension": ".py",
   "mimetype": "text/x-python",
   "name": "python",
   "nbconvert_exporter": "python",
   "pygments_lexer": "ipython2",
   "version": "3.10.4"
  },
  "vscode": {
   "interpreter": {
    "hash": "05c8a8c633d4086db68ec7b0d5ad0ea301cda540407eed8d9149fd8c4a0026e0"
   }
  }
 },
 "nbformat": 4,
 "nbformat_minor": 0
}