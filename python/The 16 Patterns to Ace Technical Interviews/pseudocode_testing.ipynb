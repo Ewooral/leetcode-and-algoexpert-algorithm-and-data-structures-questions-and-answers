{
 "cells": [
  {
   "cell_type": "code",
   "execution_count": 133,
   "metadata": {
    "collapsed": false,
    "pycharm": {
     "name": "#%%\n"
    }
   },
   "outputs": [
    {
     "name": "stdout",
     "output_type": "stream",
     "text": [
      "sel_sort ( [2, 0, 9, -1, -9, 4] )\n",
      "sel_sort ( [2, 0, 9, -1, 4] )\n",
      "sel_sort ( [2, 0, 9, 4] )\n",
      "sel_sort ( [2, 9, 4] )\n",
      "sel_sort ( [9, 4] )\n",
      "sel_sort ( [9] )\n",
      "[-9, -1, 0, 2, 4, 9]\n"
     ]
    }
   ],
   "source": [
    "# Selection Sort\n",
    "\n",
    "def selSort(array):\n",
    "    print(\"sel_sort\", \"(\", array,\")\")\n",
    "    if len(array) <= 1:\n",
    "        return array\n",
    "    li_2 = list(array)\n",
    "    mini = min(li_2)\n",
    "    li_2.remove(mini)\n",
    "    return [mini] + selSort(li_2)\n",
    "li_1 = [2, 0, 9, -1, -9, 4]\n",
    "print(selSort(li_1))"
   ]
  },
  {
   "cell_type": "code",
   "execution_count": 134,
   "metadata": {
    "collapsed": false,
    "pycharm": {
     "name": "#%%\n"
    }
   },
   "outputs": [],
   "source": [
    "\n",
    "# Create A Graph data structure\n",
    "from collections import defaultdict\n",
    "from dataclasses import dataclass\n",
    "@dataclass\n",
    "class Graph:\n",
    "    graph: dict = None\n",
    "    if graph is None:\n",
    "        graph = defaultdict\n",
    "    else:\n",
    "        graph = None\n",
    "\n",
    "    def addVertex(self, vertex, edge):\n",
    "        self.graph[vertex].append(edge)\n",
    "\n",
    "graph = Graph({})"
   ]
  },
  {
   "cell_type": "code",
   "execution_count": 135,
   "metadata": {
    "collapsed": false,
    "pycharm": {
     "name": "#%%\n"
    }
   },
   "outputs": [
    {
     "data": {
      "text/plain": "{}"
     },
     "execution_count": 135,
     "metadata": {},
     "output_type": "execute_result"
    }
   ],
   "source": [
    "graph.graph"
   ]
  },
  {
   "cell_type": "code",
   "execution_count": 136,
   "metadata": {
    "collapsed": false,
    "pycharm": {
     "name": "#%%\n"
    }
   },
   "outputs": [],
   "source": [
    "graph.graph.update({\n",
    "    \"a\": [\"b\", \"c\"],\n",
    "    \"b\": [\"a\", \"d\", \"e\"],\n",
    "    \"c\": [\"a\", \"e\"],\n",
    "    \"d\": [\"b\", \"e\", \"f\"],\n",
    "    \"e\": [\"d\", \"c\"],\n",
    "    \"f\": [\"d\", \"e\"]})"
   ]
  },
  {
   "cell_type": "code",
   "execution_count": 137,
   "metadata": {
    "collapsed": false,
    "pycharm": {
     "name": "#%%\n"
    }
   },
   "outputs": [],
   "source": [
    "G = graph.graph"
   ]
  },
  {
   "cell_type": "code",
   "execution_count": 137,
   "metadata": {
    "collapsed": false,
    "pycharm": {
     "name": "#%%\n"
    }
   },
   "outputs": [],
   "source": []
  },
  {
   "cell_type": "code",
   "execution_count": 1,
   "metadata": {
    "collapsed": false,
    "pycharm": {
     "name": "#%%\n"
    }
   },
   "outputs": [],
   "source": [
    "def find_path(graph, start, end, path=None):\n",
    "        print(\"find_path\", \"(\", path, \")\")\n",
    "        if path is None:\n",
    "            path = []\n",
    "        path += [start]\n",
    "        if start == end:\n",
    "            return path\n",
    "        for node in graph[start]:\n",
    "            if node not in path:\n",
    "                new_path = find_path(graph, node, end, path)\n",
    "                if len(new_path) > 0:\n",
    "                    return new_path\n",
    "            # return \"Cycle has been detected!\"\n",
    "        return None"
   ]
  },
  {
   "cell_type": "code",
   "execution_count": 139,
   "metadata": {
    "collapsed": false,
    "pycharm": {
     "name": "#%%\n"
    }
   },
   "outputs": [
    {
     "name": "stdout",
     "output_type": "stream",
     "text": [
      "find_path ( None )\n",
      "find_path ( ['a'] )\n",
      "find_path ( ['a', 'b'] )\n",
      "['a', 'b', 'd']\n"
     ]
    }
   ],
   "source": [
    "print(find_path(G, \"a\", \"d\"))"
   ]
  },
  {
   "cell_type": "code",
   "execution_count": 140,
   "metadata": {
    "collapsed": false,
    "pycharm": {
     "name": "#%%\n"
    }
   },
   "outputs": [
    {
     "data": {
      "text/plain": "['b', 'e', 'f']"
     },
     "execution_count": 140,
     "metadata": {},
     "output_type": "execute_result"
    }
   ],
   "source": [
    "graph.graph.get(\"d\")"
   ]
  },
  {
   "cell_type": "code",
   "execution_count": 141,
   "metadata": {
    "collapsed": false,
    "pycharm": {
     "name": "#%%\n"
    }
   },
   "outputs": [],
   "source": [
    "vis = [[False for i in range(3)] for j in range(3)]"
   ]
  },
  {
   "cell_type": "code",
   "execution_count": 142,
   "metadata": {
    "collapsed": false,
    "pycharm": {
     "name": "#%%\n"
    }
   },
   "outputs": [
    {
     "data": {
      "text/plain": "[[False, False, False], [False, False, False], [False, False, False]]"
     },
     "execution_count": 142,
     "metadata": {},
     "output_type": "execute_result"
    }
   ],
   "source": [
    "vis"
   ]
  },
  {
   "cell_type": "code",
   "execution_count": 142,
   "metadata": {
    "collapsed": false,
    "pycharm": {
     "name": "#%%\n"
    }
   },
   "outputs": [],
   "source": []
  },
  {
   "cell_type": "markdown",
   "metadata": {
    "collapsed": false,
    "pycharm": {
     "name": "#%% md\n"
    }
   },
   "source": []
  },
  {
   "cell_type": "code",
   "execution_count": 143,
   "metadata": {
    "collapsed": false,
    "pycharm": {
     "name": "#%%\n"
    }
   },
   "outputs": [
    {
     "name": "stdout",
     "output_type": "stream",
     "text": [
      "[1, 2, 3, 4, 5, 6, 7, 8, 9, 10, 11, 12, 13, 14, 15, 16]\n"
     ]
    }
   ],
   "source": [
    "# zigzag traversal\n",
    "arra = [\n",
    "    [1, 3, 4, 10],\n",
    "    [2, 5, 9, 11],\n",
    "    [6, 8, 12, 15],\n",
    "    [7 , 13, 14, 16],\n",
    "]\n",
    "def zigzagTraverse(arr):\n",
    "    height = len(arr) - 1\n",
    "    width = len(arr[0]) - 1\n",
    "    result = []\n",
    "    row = col = 0\n",
    "    goingDown = True\n",
    "    while not isOutOfBounds(row, col, height, width):\n",
    "        result.append(arr[row][col])\n",
    "        if goingDown:\n",
    "            if col == 0 or row == height:\n",
    "                goingDown = False\n",
    "                if row == height:\n",
    "                    col += 1\n",
    "                else:\n",
    "                    row += 1\n",
    "            else:\n",
    "                row += 1\n",
    "                col -= 1\n",
    "        else:\n",
    "            if row == 0 or col == width:\n",
    "                goingDown = True\n",
    "                if col == width:\n",
    "                    row += 1\n",
    "                else:\n",
    "                    col += 1\n",
    "            else:\n",
    "                row -= 1\n",
    "                col += 1\n",
    "    return result\n",
    "\n",
    "\n",
    "def isOutOfBounds(row, col, height, width):\n",
    "    return row < 0 or row > height or  col < 0 or col > width\n",
    "print(zigzagTraverse(arra))"
   ]
  },
  {
   "cell_type": "markdown",
   "metadata": {
    "collapsed": false,
    "pycharm": {
     "name": "#%% md\n"
    }
   },
   "source": [
    "\n"
   ]
  },
  {
   "cell_type": "code",
   "execution_count": 144,
   "metadata": {
    "collapsed": false,
    "pycharm": {
     "name": "#%%\n"
    }
   },
   "outputs": [
    {
     "data": {
      "text/plain": "5"
     },
     "execution_count": 144,
     "metadata": {},
     "output_type": "execute_result"
    }
   ],
   "source": [
    "# First Duplicate value\n",
    "arr2 = [5, 1, 5, 2, 3, 3, 4]\n",
    "def first_Duplicate(arr):\n",
    "    hash_set = set()\n",
    "    for value in arr:\n",
    "        if value in hash_set:\n",
    "            return value\n",
    "        hash_set.add(value)\n",
    "    return -1\n",
    "first_Duplicate(arr2)"
   ]
  },
  {
   "cell_type": "code",
   "execution_count": 145,
   "metadata": {
    "collapsed": false,
    "pycharm": {
     "name": "#%%\n"
    }
   },
   "outputs": [
    {
     "data": {
      "text/plain": "['p', 'l', 'o', 'p', 'e', 'e']"
     },
     "execution_count": 145,
     "metadata": {},
     "output_type": "execute_result"
    }
   ],
   "source": [
    "'''\n",
    "1. initialize a left, right pointer, variable valueToMove\n",
    "2. while left is less than right:\n",
    "3. reduce the right pointer by 1 while left is less than right and right value is equal to valueToMove\n",
    "4. If left value is equal to valueToMove, swap left and right values\n",
    "5. while left is still less than right increment left pointer by one and return the array\n",
    "'''\n",
    "arr3 = [\"p\", \"e\", \"o\", \"p\", \"l\", \"e\"]\n",
    "k = 2\n",
    "def move_instances_to_end(arr, k):\n",
    "    l = 0\n",
    "    r = len(arr) - 1\n",
    "    while l < r:\n",
    "        while l < r and arr[r] == k:\n",
    "            r -= 1\n",
    "        if arr[l] == k:\n",
    "            arr[l], arr[r] = arr[r], arr[l]\n",
    "        l += 1\n",
    "    return arr\n",
    "\n",
    "\n",
    "move_instances_to_end(arr3, \"e\")"
   ]
  },
  {
   "cell_type": "markdown",
   "metadata": {
    "collapsed": false,
    "pycharm": {
     "name": "#%% md\n"
    }
   },
   "source": []
  },
  {
   "cell_type": "code",
   "execution_count": 145,
   "metadata": {
    "collapsed": false,
    "pycharm": {
     "name": "#%%\n"
    }
   },
   "outputs": [],
   "source": []
  },
  {
   "cell_type": "code",
   "execution_count": 146,
   "metadata": {
    "collapsed": false,
    "pycharm": {
     "name": "#%%\n"
    }
   },
   "outputs": [
    {
     "data": {
      "text/plain": "2"
     },
     "execution_count": 146,
     "metadata": {},
     "output_type": "execute_result"
    }
   ],
   "source": [
    "gui = [4, 1, 3, 2, 2]\n",
    "def first_duplicate(arr):\n",
    "    # value - 1 = index\n",
    "    for value in arr:\n",
    "        absValue = abs(value)\n",
    "        if arr[absValue - 1] < 0:\n",
    "            return absValue\n",
    "        # set values to negatives\n",
    "        arr[absValue - 1] *= -1\n",
    "    return -1\n",
    "first_Duplicate(gui)"
   ]
  },
  {
   "cell_type": "code",
   "execution_count": 147,
   "metadata": {
    "collapsed": false,
    "pycharm": {
     "name": "#%%\n"
    }
   },
   "outputs": [
    {
     "name": "stdout",
     "output_type": "stream",
     "text": [
      "20\n"
     ]
    }
   ],
   "source": [
    "def non_constructible_change(coins):\n",
    "    coins.sort()\n",
    "    # current_change_created = ccc\n",
    "    ccc = 0\n",
    "    for coin in coins:\n",
    "        if coin > ccc + 1:\n",
    "            return ccc + 1\n",
    "        ccc += coin\n",
    "    return ccc + 1\n",
    "print(non_constructible_change([5, 7, 1, 1, 2, 3, 22]))"
   ]
  },
  {
   "cell_type": "code",
   "execution_count": 148,
   "metadata": {
    "collapsed": false,
    "pycharm": {
     "name": "#%%\n"
    }
   },
   "outputs": [
    {
     "name": "stdout",
     "output_type": "stream",
     "text": [
      "[28, 26]\n"
     ]
    }
   ],
   "source": [
    "def smallest_difference(arr1, arr2):\n",
    "    arr1.sort()\n",
    "    arr2.sort()\n",
    "    l = r = 0\n",
    "    smallest = float(\"inf\")\n",
    "    current = float(\"inf\")\n",
    "    smallestPair = []\n",
    "    while l < len(arr1) and r < len(arr2):\n",
    "        firstNum = arr1[l]\n",
    "        secondNum = arr2[r]\n",
    "        # current = abs(firstNum - secondNum)\n",
    "        if firstNum < secondNum:\n",
    "            current = secondNum - firstNum\n",
    "            l += 1\n",
    "        elif secondNum < firstNum:\n",
    "            current = firstNum - secondNum\n",
    "            r += 1\n",
    "        else:\n",
    "            return [firstNum, secondNum]\n",
    "        if smallest > current:\n",
    "            smallest = current\n",
    "            smallestPair = [firstNum, secondNum]\n",
    "    return smallestPair\n",
    "print(smallest_difference([-1,5, 10, 20, 28, 3], [26, 134, 135, 15, 17]))"
   ]
  },
  {
   "cell_type": "code",
   "execution_count": 149,
   "metadata": {
    "collapsed": false,
    "pycharm": {
     "name": "#%%\n"
    }
   },
   "outputs": [
    {
     "name": "stdout",
     "output_type": "stream",
     "text": [
      "pascal ( 3 )\n",
      "pascal ( 2 )\n",
      "pascal ( 1 )\n",
      "pascal ( 0 )\n",
      "[1, 3, 3, 1]\n"
     ]
    }
   ],
   "source": [
    "def pascal (n):\n",
    " print(\"pascal\", \"(\", n, \")\")\n",
    " if n == 0:\n",
    "    return [1]\n",
    " else:\n",
    "    row = [1]\n",
    "    previous_row = pascal (n - 1)\n",
    "    for i in range(len(previous_row) - 1):\n",
    "        row.append (previous_row[i] + previous_row[i + 1])\n",
    "    row.append (1)\n",
    " return row\n",
    "print(pascal(3))"
   ]
  },
  {
   "cell_type": "code",
   "execution_count": 150,
   "metadata": {
    "collapsed": false,
    "pycharm": {
     "name": "#%%\n"
    }
   },
   "outputs": [
    {
     "name": "stdout",
     "output_type": "stream",
     "text": [
      "sel_sort ( [[4, 9, 12]] [[10, 3]] )\n",
      "sel_sort ( [[9, 12]] [[10, 3]] )\n",
      "sel_sort ( [[12]] [[10, 3]] )\n",
      "sel_sort ( [[12]] [[3]] )\n",
      "sel_sort ( [[12]] [[]] )\n",
      "[4, 9, 10, 3, 12]\n"
     ]
    }
   ],
   "source": [
    "def merge(a, b):\n",
    " print(\"sel_sort\", \"(\",[a], [b],\")\")\n",
    " if not a:\n",
    "    return b\n",
    " elif not b:\n",
    "    return a\n",
    " else:\n",
    "    if a[0] < b[0]:\n",
    "        return [a[0]] + merge (a[1:], b)\n",
    "    else:\n",
    "        return [b[0]] + merge (a, b[1:])\n",
    "print(merge([4, 9, 12],[10, 3]))"
   ]
  },
  {
   "cell_type": "markdown",
   "metadata": {
    "collapsed": false,
    "pycharm": {
     "name": "#%% md\n"
    }
   },
   "source": [
    "\n",
    "\n"
   ]
  },
  {
   "cell_type": "markdown",
   "metadata": {
    "collapsed": false,
    "pycharm": {
     "name": "#%% md\n"
    }
   },
   "source": [
    "# Find the max sum subarray of a fixed size k\n",
    "arr = [4, 2, 1, 7, 8, 1, 2, 8, 1, 0]\n",
    "**Solution**\n",
    "\n",
    "4, 2, 1  = 7\n",
    "2, 1, 7  = 10\n",
    "1, 7, 8 = 16\n",
    "7, 8, 1  = 16\n",
    "8, 1, 2  = 11\n",
    "1, 2, 8  = 11\n",
    "2, 8, 1  = 11\n",
    "8, 1, 0  = 9\n",
    "max([7, 10, 16, 16, 11, 11, 11, 9]) = 16"
   ]
  },
  {
   "cell_type": "code",
   "execution_count": 151,
   "metadata": {
    "collapsed": false,
    "pycharm": {
     "name": "#%%\n"
    }
   },
   "outputs": [
    {
     "name": "stdout",
     "output_type": "stream",
     "text": [
      "15\n",
      "16\n",
      "16\n"
     ]
    }
   ],
   "source": [
    "\n",
    "from typing import List\n",
    "# sum of subarray of length k\n",
    "def fixed_sliding_window(arr: List[int], k: int) -> List[int]:\n",
    "    '''sum up the first subarray and add it to the result\n",
    "    cs = current_subarray\n",
    "    '''\n",
    "    cs = sum(arr[:k])\n",
    "    result = [cs]\n",
    "\n",
    "    '''To get each subsequence subarray, add the next value\n",
    "    in the list and remove the first value\n",
    "    '''\n",
    "    for i in range(1, len(arr) - k + 1 ):\n",
    "        cs = cs - arr[i - 1]\n",
    "        cs = cs + arr[i + k - 1]\n",
    "        result.append(cs)\n",
    "\n",
    "    finalMax = result[0]\n",
    "    for i in result[1:]:\n",
    "        if i < finalMax:\n",
    "            continue\n",
    "        else:\n",
    "            finalMax = i\n",
    "\n",
    "    return (finalMax)\n",
    "\n",
    "\n",
    "print(fixed_sliding_window([1, 2, 3, 4, 5, 6], 3))\n",
    "print(fixed_sliding_window([1, 3, -1, -3, 5, 3, 6, 7], 3))\n",
    "print(fixed_sliding_window([4, 2, 1, 7, 8, 1, 2, 8, 1, 0], 3))"
   ]
  },
  {
   "cell_type": "markdown",
   "metadata": {
    "collapsed": false,
    "pycharm": {
     "name": "#%% md\n"
    }
   },
   "source": []
  },
  {
   "cell_type": "code",
   "execution_count": 151,
   "metadata": {
    "collapsed": false,
    "pycharm": {
     "name": "#%%\n"
    }
   },
   "outputs": [],
   "source": []
  },
  {
   "cell_type": "markdown",
   "metadata": {
    "collapsed": false,
    "pycharm": {
     "name": "#%% md\n"
    }
   },
   "source": [
    "\n",
    "\n"
   ]
  },
  {
   "cell_type": "code",
   "execution_count": 153,
   "metadata": {
    "collapsed": false,
    "pycharm": {
     "name": "#%%\n"
    }
   },
   "outputs": [
    {
     "name": "stdout",
     "output_type": "stream",
     "text": [
      "11\n"
     ]
    }
   ],
   "source": [
    "# Kadane's Algorithm\n",
    "def Kadane(arr):\n",
    "    cuMax = filMax = arr[0]\n",
    "    for num in arr[1:]:\n",
    "        cuMax = max(num, cuMax + num)\n",
    "        filMax = max(filMax, cuMax)\n",
    "    return filMax\n",
    "# Kadane([4, 1, 3, 2, 2, 2, 2, 2])\n",
    "print(Kadane([4, 2, 1, -9, 8, 1, 2, -8, 1, 0]))"
   ]
  },
  {
   "cell_type": "markdown",
   "metadata": {
    "collapsed": false,
    "pycharm": {
     "name": "#%% md\n"
    }
   },
   "source": []
  },
  {
   "cell_type": "markdown",
   "metadata": {
    "collapsed": false,
    "pycharm": {
     "name": "#%% md\n"
    }
   },
   "source": [
    "# BINARY TREE CONSTRUCTION, ZIGZAG AND LEVEL ORDER TRAVERSAL, LEFT AND RIGHT INSERTION\n",
    "# AND MANY MORE..."
   ]
  },
  {
   "cell_type": "code",
   "execution_count": 154,
   "metadata": {
    "collapsed": false,
    "pycharm": {
     "name": "#%%\n"
    }
   },
   "outputs": [
    {
     "name": "stdout",
     "output_type": "stream",
     "text": [
      "...Insert Nodes...\n",
      "...search...\n",
      "Not Found!\n",
      "\n",
      "        __1__\n",
      "       /     \\\n",
      "    __2       3\n",
      "   /   \\     / \\\n",
      "  4     5   6   7\n",
      " / \\\n",
      "8   9\n",
      "\n",
      "1\n",
      "2\n",
      "3\n",
      "4\n",
      "5\n",
      "6\n",
      "7\n",
      "8\n",
      "9\n",
      "...all nodes depths...\n",
      "26\n",
      "nodes depths:  16\n",
      "...depths of all nodes relative to each root node...\n",
      "[26, TreeInfo(num_nodes_in_tree=5, sum_of_depths=6, sum_of_all_depths=8)]\n",
      "node ( \n",
      "8\n",
      " )\n",
      "node ( \n",
      "9\n",
      " )\n",
      "node ( \n",
      "  4\n",
      " / \\\n",
      "8   9\n",
      " )\n",
      "node ( \n",
      "5\n",
      " )\n",
      "node ( \n",
      "    __2\n",
      "   /   \\\n",
      "  4     5\n",
      " / \\\n",
      "8   9\n",
      " )\n",
      "node ( \n",
      "6\n",
      " )\n",
      "node ( \n",
      "7\n",
      " )\n",
      "node ( \n",
      "  3\n",
      " / \\\n",
      "6   7\n",
      " )\n",
      "node ( \n",
      "        __1__\n",
      "       /     \\\n",
      "    __2       3\n",
      "   /   \\     / \\\n",
      "  4     5   6   7\n",
      " / \\\n",
      "8   9\n",
      " )\n",
      "26\n",
      "zigzag_level_order Traversal [[1], [3, 2], [4, 5, 6, 7], [9, 8]]\n"
     ]
    }
   ],
   "source": [
    "from dataclasses import dataclass\n",
    "from collections import deque as que\n",
    "from binarytree import Node\n",
    "import queue\n",
    "\n",
    "\n",
    "@dataclass\n",
    "class BinaryTree:\n",
    "    value: int = None\n",
    "    left: int = None\n",
    "    right: int = None\n",
    "\n",
    "\n",
    "def insertAtLeft(rootNode, nodeValue):\n",
    "    if rootNode is None:\n",
    "        rootNode = nodeValue\n",
    "    else:\n",
    "        q = queue.Queue()\n",
    "        q.put(rootNode)\n",
    "        while not q.empty():\n",
    "            root = q.get()\n",
    "            if root.left is not None:\n",
    "                q.put(root.left)\n",
    "            else:\n",
    "                root.left = nodeValue\n",
    "                return \"...Inserted!...\"\n",
    "\n",
    "\n",
    "def insertAtRight(rootNode, nodeValue):\n",
    "    if rootNode is None:\n",
    "        rootNode = nodeValue\n",
    "    else:\n",
    "        q = queue.Queue()\n",
    "        q.put(rootNode)\n",
    "        while not q.empty():\n",
    "            root = q.get()\n",
    "            if root.right is not None:\n",
    "                q.put(root.right)\n",
    "            else:\n",
    "                root.right = nodeValue\n",
    "                return \"...Inserted!...\"\n",
    "\n",
    "\n",
    "print(\"...Insert Nodes...\")\n",
    "root = Node(1)\n",
    "\n",
    "insertAtLeft(root, Node(2))\n",
    "insertAtRight(root, Node(3))\n",
    "\n",
    "insertAtLeft(root.left, Node(4))\n",
    "insertAtRight(root.left, Node(5))\n",
    "\n",
    "insertAtLeft(root.right, Node(6))\n",
    "insertAtRight(root.right, Node(7))\n",
    "\n",
    "insertAtLeft(root.left.left, Node(8))\n",
    "insertAtRight(root.left.left, Node(9))\n",
    "\n",
    "\n",
    "\n",
    "def level_order(rootNode):\n",
    "    if rootNode is None:\n",
    "        return\n",
    "    else:\n",
    "        q = queue.Queue()\n",
    "        q.put(rootNode)\n",
    "        while not q.empty():\n",
    "            root = q.get()\n",
    "            print(root.value)\n",
    "            if root.left is not None:\n",
    "                q.put(root.left)\n",
    "            if root.right is not None:\n",
    "                q.put(root.right)\n",
    "\n",
    "\n",
    "def search(rootNode, value):\n",
    "    if rootNode is None:\n",
    "        return\n",
    "    else:\n",
    "        q = queue.Queue()\n",
    "        q.put(rootNode)\n",
    "        while not q.empty():\n",
    "            root = q.get()\n",
    "            if root.value == value:\n",
    "                return f\"Found {value}\"\n",
    "            if root.left is not None:\n",
    "                q.put(root.left)\n",
    "            if root.right is not None:\n",
    "                q.put(root.right)\n",
    "        return \"Not Found!\"\n",
    "\n",
    "\n",
    "print(\"...search...\")\n",
    "print(search(root, 10))\n",
    "\n",
    "print(root)\n",
    "level_order(root)\n",
    "\n",
    "\n",
    "# TWO APPROACHES TO FIND ALL NODE DEPTH\n",
    "# APPROACH ONE\n",
    "# iteratively\n",
    "def allKindOfNodeDepthsI(root):\n",
    "    sumOfAllDepths = 0\n",
    "    stack = [root]\n",
    "    while len(stack) > 0:\n",
    "        node = stack.pop()\n",
    "        if node is None:\n",
    "            continue\n",
    "        sumOfAllDepths += nodeDepths(node)\n",
    "        stack.append(node.left)\n",
    "        stack.append(node.right)\n",
    "    return sumOfAllDepths\n",
    "\n",
    "\n",
    "def nodeDepths(node, depth=0):\n",
    "    if node is None:\n",
    "        return 0\n",
    "    return depth + nodeDepths(node.left, depth + 1) + nodeDepths(node.right, depth + 1)\n",
    "\n",
    "\n",
    "# recursively O(nlog(n)) T, O(h)S\n",
    "# APPROACH TWO O(N) T, O(H) S\n",
    "def allKindOfNodeDepthsII(rooty):\n",
    "    if rooty is None:\n",
    "        return 0\n",
    "    else:\n",
    "        return allKindOfNodeDepthsII(rooty.left) + allKindOfNodeDepthsII(rooty.right) + nodeDepthsI(rooty)\n",
    "\n",
    "\n",
    "def nodeDepthsI(node, depth=0):\n",
    "    print(\"node\", \"(\", node, \")\")\n",
    "    if node is None:\n",
    "        return 0\n",
    "    return depth + nodeDepths(node.left, depth + 1) + nodeDepths(node.right, depth + 1)\n",
    "\n",
    "\n",
    "# depths of all nodes relative to each root of the tree\n",
    "print(\"...all nodes depths...\")\n",
    "print(allKindOfNodeDepthsI(root))\n",
    "print(\"nodes depths: \", nodeDepths(root, depth=0))\n",
    "\n",
    "\n",
    "# APPROACH TWO O(N) T, O(H) S\n",
    "def allKindsOfNodeDepthsIV(root):\n",
    "    return [getTreeInfo(root).sum_of_all_depths, getTreeInfo(root.left)]\n",
    "\n",
    "\n",
    "def getTreeInfo(tree):\n",
    "    if tree is None:\n",
    "        return TreeInfo()\n",
    "    leftTreeInfo = getTreeInfo(tree.left)\n",
    "    rightTreeInfo = getTreeInfo(tree.right)\n",
    "\n",
    "    sumOfLeftDepths = leftTreeInfo.sum_of_depths + leftTreeInfo.num_nodes_in_tree\n",
    "    sumOfRightDepths = rightTreeInfo.sum_of_depths + rightTreeInfo.num_nodes_in_tree\n",
    "\n",
    "    numNodesInTree = 1 + leftTreeInfo.num_nodes_in_tree + rightTreeInfo.num_nodes_in_tree\n",
    "    sumOfDepths = sumOfLeftDepths + sumOfRightDepths\n",
    "    sumOfAllDepths = sumOfDepths + leftTreeInfo.sum_of_all_depths + rightTreeInfo.sum_of_all_depths\n",
    "    return TreeInfo(numNodesInTree, sumOfDepths, sumOfAllDepths)\n",
    "\n",
    "\n",
    "def zigzag_level_order(root):\n",
    "    if root is None:\n",
    "        return []\n",
    "    else:\n",
    "        result = []\n",
    "        zigzag = False\n",
    "        q = que()\n",
    "        q.append(root)\n",
    "        while q:\n",
    "            level = []\n",
    "            for _ in range(len(q)):\n",
    "                if zigzag:\n",
    "                    node = q.pop()\n",
    "                    level.append(node.value)\n",
    "                    if node.right:\n",
    "                        q.appendleft(node.right)\n",
    "                    if node.left:\n",
    "                        q.appendleft(node.left)\n",
    "                else:\n",
    "                    node = q.popleft()\n",
    "                    level.append(node.value)\n",
    "                    if node.left:\n",
    "                        q.append(node.left)\n",
    "                    if node.right:\n",
    "                        q.append(node.right)\n",
    "            result.append(level)\n",
    "            zigzag = not zigzag\n",
    "        return result\n",
    "\n",
    "@dataclass\n",
    "class TreeInfo:\n",
    "    num_nodes_in_tree: int = 0\n",
    "    sum_of_depths: int = 0\n",
    "    sum_of_all_depths: int = 0\n",
    "\n",
    "\n",
    "# depths of all nodes relative to each root of the tree\n",
    "print(\"...depths of all nodes relative to each root node...\")\n",
    "print(allKindsOfNodeDepthsIV(root))\n",
    "print(allKindOfNodeDepthsII(root))\n",
    "print(\"zigzag_level_order Traversal\", zigzag_level_order(root))\n"
   ]
  },
  {
   "cell_type": "markdown",
   "metadata": {
    "collapsed": false,
    "pycharm": {
     "name": "#%% md\n"
    }
   },
   "source": []
  },
  {
   "cell_type": "markdown",
   "source": [],
   "metadata": {
    "collapsed": false,
    "pycharm": {
     "name": "#%% md\n"
    }
   }
  },
  {
   "cell_type": "markdown",
   "source": [
    "# BINARY SEARCH TREE"
   ],
   "metadata": {
    "collapsed": false,
    "pycharm": {
     "name": "#%% md\n"
    }
   }
  },
  {
   "cell_type": "code",
   "execution_count": 182,
   "metadata": {
    "pycharm": {
     "name": "#%%\n"
    }
   },
   "outputs": [
    {
     "name": "stdout",
     "output_type": "stream",
     "text": [
      "..........Inserted!........\n",
      "..........Inserted!........\n",
      "..........Inserted!........\n",
      "..........Inserted!........\n",
      "..........Inserted!........\n",
      "..........Inserted!........\n",
      "..........Inserted!........\n",
      "..........Inserted!........\n",
      "..........Inserted!........\n",
      "\n",
      "      ____50\n",
      "     /      \\\n",
      "  __30       70\n",
      " /    \\\n",
      "2      40\n",
      " \\\n",
      "  4\n",
      "\n",
      "BinarySearchTree(value=20, left=Node(19), right=Node(21))\n"
     ]
    }
   ],
   "source": [
    "\n",
    "@dataclass\n",
    "class BinarySearchTree:\n",
    "    value: int = None\n",
    "    left: int = None\n",
    "    right: int = None\n",
    "\n",
    "\n",
    "\n",
    "\n",
    "def insert(rootNode, value):\n",
    "    if rootNode.value is None:\n",
    "        rootNode.value = value\n",
    "    elif value <= rootNode.value:\n",
    "        if rootNode.left is None:\n",
    "            rootNode.left = Node(value)\n",
    "        else:\n",
    "            insert(rootNode.left, value)\n",
    "    else:\n",
    "        if rootNode.right is None:\n",
    "            rootNode.right = Node(value)\n",
    "        else:\n",
    "            insert(rootNode.right, value)\n",
    "    return \"..........Inserted!........\"\n",
    "\n",
    "\n",
    "\n",
    "newNode = Node(value=50)\n",
    "\n",
    "print(insert(newNode, 70))\n",
    "print(insert(newNode, 30))\n",
    "print(insert(newNode, 2))\n",
    "print(insert(newNode, 4))\n",
    "print(insert(newNode, 40))\n",
    "\n",
    "print(newNode)\n",
    "\n",
    "\n"
   ]
  },
  {
   "cell_type": "markdown",
   "source": [
    "\n",
    "\n",
    "\n",
    "\n"
   ],
   "metadata": {
    "collapsed": false,
    "pycharm": {
     "name": "#%% md\n"
    }
   }
  },
  {
   "cell_type": "markdown",
   "source": [
    "# TRIE DATA STRUCTURE"
   ],
   "metadata": {
    "collapsed": false,
    "pycharm": {
     "name": "#%% md\n"
    }
   }
  },
  {
   "cell_type": "code",
   "execution_count": 163,
   "outputs": [
    {
     "name": "stdout",
     "output_type": "stream",
     "text": [
      "...create...\n",
      " App, Successfully inserted!\n",
      " Pass, Successfully inserted!\n",
      " Mukes, Successfully inserted!\n",
      "...delete...\n",
      "...search...\n",
      "App\n",
      "Pass\n"
     ]
    }
   ],
   "source": [
    "class TrieNode:\n",
    "    def __init__(self) -> None:\n",
    "        self.children = {}\n",
    "        self.endOfString = False\n",
    "\n",
    "    def __str__(self):\n",
    "        print(self.children.values())\n",
    "\n",
    "\n",
    "# O(N) T, S\n",
    "def insertString(current, word):\n",
    "    for ch in word:\n",
    "        node = current.children.get(ch)\n",
    "        if node is not None:\n",
    "            continue\n",
    "        else:\n",
    "            node = TrieNode()\n",
    "            current.children.update({ch: node})\n",
    "        current = node\n",
    "    current.endOfString = True\n",
    "    print(f\" {word}, Successfully inserted!\")\n",
    "\n",
    "\n",
    "# O(m) T, O(1) S\n",
    "def searchString(currentNode, word):\n",
    "    for ch in word:\n",
    "        node = currentNode.children.get(ch)\n",
    "        if node is None:\n",
    "            return False\n",
    "        currentNode = node\n",
    "    print(word) if currentNode.endOfString else None\n",
    "\n",
    "\n",
    "def deleteString(root, word, index):\n",
    "    ch = word[index]\n",
    "    currentNode = root.children.get(ch)\n",
    "    cannotDelete = False\n",
    "\n",
    "    if len(currentNode.children) > 1:\n",
    "        deleteString(currentNode, word, index + 1)\n",
    "        return False\n",
    "\n",
    "    if index == len(word) - 1:\n",
    "        if len(currentNode.children) >= 1:\n",
    "            currentNode.endOfString = False\n",
    "            return False\n",
    "        else:\n",
    "            root.children.pop(ch)\n",
    "            return True\n",
    "\n",
    "    if currentNode.endOfString is True:\n",
    "        deleteString(currentNode, word, index + 1)\n",
    "        return False\n",
    "\n",
    "    cannotDelete = deleteString(currentNode, word, index + 1)\n",
    "    if cannotDelete is True:\n",
    "        root.children.pop(ch)\n",
    "        return \"Cannot Delete\"\n",
    "    else:\n",
    "        return \"Deleted Successfully!\"\n",
    "\n",
    "\n",
    "nTrie = TrieNode()\n",
    "\n",
    "\n",
    "print(\"...create...\")\n",
    "insertString(nTrie, \"App\")\n",
    "insertString(nTrie, \"Pass\")\n",
    "insertString(nTrie, \"Mukes\")\n",
    "print(\"...delete...\")\n",
    "# print(deleteString(nTrie, \"App\", 0))\n",
    "print(\"...search...\")\n",
    "\n",
    "searchString(nTrie, \"App\")\n",
    "searchString(nTrie, \"Pass\")\n",
    "\n"
   ],
   "metadata": {
    "collapsed": false,
    "pycharm": {
     "name": "#%%\n"
    }
   }
  },
  {
   "cell_type": "markdown",
   "source": [
    "# REVERSE STRING"
   ],
   "metadata": {
    "collapsed": false,
    "pycharm": {
     "name": "#%% md\n"
    }
   }
  },
  {
   "cell_type": "code",
   "execution_count": 169,
   "outputs": [
    {
     "name": "stdout",
     "output_type": "stream",
     "text": [
      "reverse_string(God is goood!), reverse_string(od is goood!), reverse_string(d is goood!), reverse_string( is goood!), reverse_string(is goood!), reverse_string(s goood!), reverse_string( goood!), reverse_string(goood!), reverse_string(oood!), reverse_string(ood!), reverse_string(od!), reverse_string(d!), reverse_string(!), reverse_string(), "
     ]
    },
    {
     "data": {
      "text/plain": "''"
     },
     "execution_count": 169,
     "metadata": {},
     "output_type": "execute_result"
    }
   ],
   "source": [
    "# Reverse a string\n",
    "def reverse_string(s):\n",
    "    print(\"reverse_string\", \"(\",s,\")\", sep=\"\", end=\", \")\n",
    "    if s == '':\n",
    "      return ''\n",
    "    else: return reverse_string(s[1:]) + s[0]\n",
    "\n",
    "reverse_string(\"God is goood!\")"
   ],
   "metadata": {
    "collapsed": false,
    "pycharm": {
     "name": "#%%\n"
    }
   }
  },
  {
   "cell_type": "markdown",
   "source": [
    "# IS A STRING PALINDROME"
   ],
   "metadata": {
    "collapsed": false,
    "pycharm": {
     "name": "#%% md\n"
    }
   }
  },
  {
   "cell_type": "code",
   "execution_count": 175,
   "outputs": [
    {
     "data": {
      "text/plain": "True"
     },
     "execution_count": 175,
     "metadata": {},
     "output_type": "execute_result"
    }
   ],
   "source": [
    "# Function that determines if a string is a palindrome.\n",
    "def is_palindrome(s):\n",
    "    n = len(s)\n",
    "    if n <= 1:\n",
    "       return True\n",
    "    else: return (s[0] == s[n - 1]) and is_palindrome(s[1:n - 1])\n",
    "is_palindrome(\"bab\")"
   ],
   "metadata": {
    "collapsed": false,
    "pycharm": {
     "name": "#%%\n"
    }
   }
  },
  {
   "cell_type": "markdown",
   "source": [
    "# MERGE SORT"
   ],
   "metadata": {
    "collapsed": false,
    "pycharm": {
     "name": "#%% md\n"
    }
   }
  },
  {
   "cell_type": "code",
   "execution_count": 177,
   "outputs": [
    {
     "name": "stdout",
     "output_type": "stream",
     "text": [
      "sel_sort ( [[3]] [[2]] )\n",
      "sel_sort ( [[3]] [[]] )\n",
      "sel_sort ( [[9]] [[-1]] )\n",
      "sel_sort ( [[9]] [[]] )\n",
      "sel_sort ( [[0]] [[-1, 9]] )\n",
      "sel_sort ( [[0]] [[9]] )\n",
      "sel_sort ( [[]] [[9]] )\n",
      "sel_sort ( [[2, 3]] [[-1, 0, 9]] )\n",
      "sel_sort ( [[2, 3]] [[0, 9]] )\n",
      "sel_sort ( [[2, 3]] [[9]] )\n",
      "sel_sort ( [[3]] [[9]] )\n",
      "sel_sort ( [[]] [[9]] )\n"
     ]
    },
    {
     "data": {
      "text/plain": "[-1, 0, 2, 3, 9]"
     },
     "execution_count": 177,
     "metadata": {},
     "output_type": "execute_result"
    }
   ],
   "source": [
    "def merge_sort(a):\n",
    "    n = len(a)\n",
    "    if n <= 1:\n",
    "       return a\n",
    "    else:\n",
    "       a1 = merge_sort(a[0:n // 2])\n",
    "       a2 = merge_sort(a[n // 2:n])\n",
    "    return merge (a1, a2)\n",
    "merge_sort([3, 2, 0, 9, -1])"
   ],
   "metadata": {
    "collapsed": false,
    "pycharm": {
     "name": "#%%\n"
    }
   }
  },
  {
   "cell_type": "code",
   "execution_count": 6,
   "outputs": [
    {
     "name": "stdout",
     "output_type": "stream",
     "text": [
      "1000\n",
      "100.0\n",
      "10.0\n",
      "1.0\n"
     ]
    },
    {
     "data": {
      "text/plain": "1"
     },
     "execution_count": 6,
     "metadata": {},
     "output_type": "execute_result"
    }
   ],
   "source": [],
   "metadata": {
    "collapsed": false,
    "pycharm": {
     "name": "#%%\n"
    }
   }
  },
  {
   "cell_type": "markdown",
   "source": [
    "\n",
    "\n",
    "\n",
    "# FIRST NON REPEATING CHARACTERS"
   ],
   "metadata": {
    "collapsed": false,
    "pycharm": {
     "name": "#%% md\n"
    }
   }
  },
  {
   "cell_type": "code",
   "execution_count": 23,
   "outputs": [
    {
     "name": "stdout",
     "output_type": "stream",
     "text": [
      "a\n",
      "a\n"
     ]
    }
   ],
   "source": [
    "# Approach 1\n",
    "def first_non_repeating_char(string):\n",
    "    found_duplicate = False\n",
    "    for ch in range(len(string)):\n",
    "        for ch2 in range(len(string)):\n",
    "            if string[ch] == string[ch2] and ch != ch2:\n",
    "                found_duplicate = True\n",
    "        if not found_duplicate:\n",
    "            return string[ch]\n",
    "    return -1\n",
    "print(first_non_repeating_char(\"abcdf\"))\n",
    "\n",
    "\n",
    "# Approach 2\n",
    "# O(N)T, O(1)S\n",
    "def FirstNonRepeatingChar(Str):\n",
    "    freq = {}\n",
    "    for ch in Str:\n",
    "        freq[ch] = freq.get(ch, 0) + 1\n",
    "    for i in range(len(Str)):\n",
    "        ch2 = Str[i]\n",
    "        if freq[ch2] == 1:\n",
    "            return ch2\n",
    "    return -1\n",
    "\n",
    "\n",
    "print(first_non_repeating_char(\"abcdf\"))"
   ],
   "metadata": {
    "collapsed": false,
    "pycharm": {
     "name": "#%%\n"
    }
   }
  },
  {
   "cell_type": "markdown",
   "source": [
    "# MINIMUM CHARACTERS FOR WORDS"
   ],
   "metadata": {
    "collapsed": false,
    "pycharm": {
     "name": "#%% md\n"
    }
   }
  },
  {
   "cell_type": "code",
   "execution_count": 45,
   "outputs": [
    {
     "name": "stdout",
     "output_type": "stream",
     "text": [
      "['t', 't', 'h', 'i', 's', 'a', 'd', 'd', 'e', 'e', 'm']\n"
     ]
    }
   ],
   "source": [
    "# O(n * l) time | O(c) s\n",
    "\n",
    "def min_char_word(words):\n",
    "  maxCharFreq = {}\n",
    "  for word in words:\n",
    "    charFreq = countCharFreq(word)\n",
    "    updateMaxFreq(charFreq, maxCharFreq)\n",
    "  return makeArrayFromCharFreq(maxCharFreq)\n",
    "\n",
    "\n",
    "def countCharFreq(string):\n",
    "  charFreqs = {}\n",
    "  for char in string:\n",
    "    if char not in charFreqs:\n",
    "      charFreqs[char] = 0\n",
    "    charFreqs[char] += 1\n",
    "  return charFreqs\n",
    "\n",
    "\n",
    "def updateMaxFreq(freqs, maxFreqs):\n",
    "  for char in freqs:\n",
    "    freq = freqs[char]\n",
    "    if char in maxFreqs:\n",
    "      maxFreqs[char] = max(freq, maxFreqs[char])\n",
    "    else:\n",
    "      maxFreqs[char] = freq\n",
    "\n",
    "\n",
    "def makeArrayFromCharFreq(charFreqs):\n",
    "  chars = []\n",
    "  for char in charFreqs:\n",
    "    freq = charFreqs[char]\n",
    "    for _ in range(freq):\n",
    "      chars.append(char)\n",
    "  return chars\n",
    "\n",
    "\n",
    "print(min_char_word([\"this\", \"that\", \"did\", \"deed\", \"them\" \"a\"]))\n"
   ],
   "metadata": {
    "collapsed": false,
    "pycharm": {
     "name": "#%%\n"
    }
   }
  }
 ],
 "metadata": {
  "kernelspec": {
   "display_name": "Python 3.10.4 ('Ewooral-Tutorials-i81cRfln')",
   "language": "python",
   "name": "python3"
  },
  "language_info": {
   "codemirror_mode": {
    "name": "ipython",
    "version": 2
   },
   "file_extension": ".py",
   "mimetype": "text/x-python",
   "name": "python",
   "nbconvert_exporter": "python",
   "pygments_lexer": "ipython2",
   "version": "3.10.4"
  },
  "vscode": {
   "interpreter": {
    "hash": "05c8a8c633d4086db68ec7b0d5ad0ea301cda540407eed8d9149fd8c4a0026e0"
   }
  }
 },
 "nbformat": 4,
 "nbformat_minor": 0
}