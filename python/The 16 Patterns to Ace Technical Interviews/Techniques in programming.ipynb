{
 "cells": [
  {
   "cell_type": "markdown",
   "source": [
    "## SIMPLE TECHNIQUE TO SET BOTH CHARACTER AND NUMERIC FREQUENCIES"
   ],
   "metadata": {
    "collapsed": false,
    "pycharm": {
     "name": "#%% md\n"
    }
   }
  },
  {
   "cell_type": "code",
   "execution_count": 1,
   "metadata": {
    "collapsed": true,
    "pycharm": {
     "name": "#%%\n"
    }
   },
   "outputs": [
    {
     "name": "stdout",
     "output_type": "stream",
     "text": [
      "{'o': 2, 'd': 1, 'y': 1, 'e': 1, 'w': 1, 'u': 1}\n"
     ]
    }
   ],
   "source": [
    "di = {}\n",
    "s = \"odoyewu\"\n",
    "for ch in s:\n",
    "     # setting char frequency\n",
    "    di[ch] = di.get(ch, 0) + 1\n",
    "print(di)"
   ]
  },
  {
   "cell_type": "code",
   "execution_count": 7,
   "outputs": [
    {
     "name": "stdout",
     "output_type": "stream",
     "text": [
      "{0: 2, 3: 2, 1: 1, 8: 2}\n"
     ]
    }
   ],
   "source": [
    "def c():\n",
    "    li = [0, 3, 1, 8, 0, 3, 8]\n",
    "    dic = {}\n",
    "    for n in li:\n",
    "        dic[n] = dic.get(n, 0) + 1\n",
    "    print(dic)\n",
    "c()"
   ],
   "metadata": {
    "collapsed": false,
    "pycharm": {
     "name": "#%%\n"
    }
   }
  }
 ],
 "metadata": {
  "kernelspec": {
   "display_name": "Python 3",
   "language": "python",
   "name": "python3"
  },
  "language_info": {
   "codemirror_mode": {
    "name": "ipython",
    "version": 2
   },
   "file_extension": ".py",
   "mimetype": "text/x-python",
   "name": "python",
   "nbconvert_exporter": "python",
   "pygments_lexer": "ipython2",
   "version": "2.7.6"
  }
 },
 "nbformat": 4,
 "nbformat_minor": 0
}