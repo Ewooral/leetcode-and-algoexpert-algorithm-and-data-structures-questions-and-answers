{
 "cells": [
  {
   "cell_type": "markdown",
   "source": [
    "## SIMPLE TECHNIQUE TO SET BOTH CHARACTER AND NUMERIC FREQUENCIES"
   ],
   "metadata": {
    "collapsed": false,
    "pycharm": {
     "name": "#%% md\n"
    }
   }
  },
  {
   "cell_type": "code",
   "execution_count": 83,
   "outputs": [
    {
     "name": "stdout",
     "output_type": "stream",
     "text": [
      "{'T': 1, 'r': 1, 'e': 3, 'H': 1, 'o': 1, 'u': 1, 's': 1}\n"
     ]
    }
   ],
   "source": [
    "def freq():\n",
    "    li = \"TreeHouse\"\n",
    "    dic = {}\n",
    "    for c in li:\n",
    "        dic[c] = dic.get(c, 0) + 1\n",
    "    print(dic)\n",
    "freq()"
   ],
   "metadata": {
    "collapsed": false,
    "pycharm": {
     "name": "#%%\n"
    }
   }
  },
  {
   "cell_type": "markdown",
   "source": [
    "\n",
    "\n",
    "\n",
    "# SIMPLE TECHNIQUE TO SORT CHARACTERS IN AN ARRAY OF WORDS\n"
   ],
   "metadata": {
    "collapsed": false,
    "pycharm": {
     "name": "#%% md\n"
    }
   }
  },
  {
   "cell_type": "code",
   "execution_count": 84,
   "outputs": [
    {
     "name": "stdout",
     "output_type": "stream",
     "text": [
      "sorted characters without joining them:  [['g', 'o'], ['g', 'o'], ['f', 'i'], ['f', 'i'], ['a', 'c', 't'], ['a', 'c', 't']]\n",
      "join- reversed-sorted characters:  ['act', 'act', 'fi', 'fi', 'go', 'go']\n"
     ]
    }
   ],
   "source": [
    "b = [\"go\", \"og\", \"fi\", \"if\", \"act\", \"cat\"]\n",
    "\n",
    "sortedWords = [(sorted(w))for w in b]\n",
    "b = sorted([\"\".join(sorted(w))for w in b]) # in-place sorting and reversing\n",
    "\n",
    "print(\"sorted characters without joining them: \", sortedWords)\n",
    "print(\"join- reversed-sorted characters: \", b)"
   ],
   "metadata": {
    "collapsed": false,
    "pycharm": {
     "name": "#%%\n"
    }
   }
  },
  {
   "cell_type": "code",
   "execution_count": 85,
   "outputs": [
    {
     "name": "stdout",
     "output_type": "stream",
     "text": [
      "['dkoiea']\n",
      "dkoiea\n"
     ]
    }
   ],
   "source": [
    "d = 'dkoiea'\n",
    "print(d.split())\n",
    "print(d.strip())"
   ],
   "metadata": {
    "collapsed": false,
    "pycharm": {
     "name": "#%%\n"
    }
   }
  },
  {
   "cell_type": "markdown",
   "source": [
    "\n",
    "\n",
    "# 3 SIMPLE TECHNIQUES TO CONVERT NTH-D ARRAY TO 1D ARRAY\n"
   ],
   "metadata": {
    "collapsed": false,
    "pycharm": {
     "name": "#%% md\n"
    }
   }
  },
  {
   "cell_type": "code",
   "execution_count": 86,
   "outputs": [
    {
     "name": "stdout",
     "output_type": "stream",
     "text": [
      "[1, 5, 9, 21, -1, 0, -124, 81, 121, 3, 6, 12, 20, 150]\n",
      "[1, 5, 9, 21, -1, 0, -124, 81, 121, 3, 6, 12, 20, 150]\n",
      "[1, 5, 9, 21, -1, 0, -124, 81, 121, 3, 6, 12, 20, 150]\n"
     ]
    }
   ],
   "source": [
    "# APPROACH 1\n",
    "bigArr= []\n",
    "arr1= [\n",
    "       [1, 5, 9, 21],\n",
    "       [-1, 0],\n",
    "       [-124, 81, 121],\n",
    "       [3, 6, 12, 20, 150]\n",
    " ]\n",
    "_1d_arr = [bigArr.extend(arr1[ar][:]) for ar in range(len(arr1))]\n",
    "print(bigArr)\n",
    "\n",
    "# Approach 2\n",
    "res2 = []\n",
    "for ar in range(len(arr1)):\n",
    "    one_d_array = arr1[ar][:]\n",
    "    res2.extend(one_d_array)\n",
    "print(res2)\n",
    "\n",
    "\n",
    "# APPROACH 3\n",
    "i = 0\n",
    "j = 0\n",
    "\n",
    "res = []\n",
    "while i < len(arr1):\n",
    "    res.append(arr1[i][j])\n",
    "    j += 1\n",
    "    if j == len(arr1[i]):\n",
    "        i += 1\n",
    "        j = 0\n",
    "print(res)"
   ],
   "metadata": {
    "collapsed": false,
    "pycharm": {
     "name": "#%%\n"
    }
   }
  },
  {
   "cell_type": "markdown",
   "source": [
    "\n",
    "\n",
    "\n",
    "\n",
    "\n"
   ],
   "metadata": {
    "collapsed": false,
    "pycharm": {
     "name": "#%% md\n"
    }
   }
  },
  {
   "cell_type": "markdown",
   "source": [],
   "metadata": {
    "collapsed": false,
    "pycharm": {
     "name": "#%% md\n"
    }
   }
  },
  {
   "cell_type": "markdown",
   "source": [],
   "metadata": {
    "collapsed": false,
    "pycharm": {
     "name": "#%% md\n"
    }
   }
  }
 ],
 "metadata": {
  "kernelspec": {
   "display_name": "Python 3",
   "language": "python",
   "name": "python3"
  },
  "language_info": {
   "codemirror_mode": {
    "name": "ipython",
    "version": 2
   },
   "file_extension": ".py",
   "mimetype": "text/x-python",
   "name": "python",
   "nbconvert_exporter": "python",
   "pygments_lexer": "ipython2",
   "version": "2.7.6"
  }
 },
 "nbformat": 4,
 "nbformat_minor": 0
}