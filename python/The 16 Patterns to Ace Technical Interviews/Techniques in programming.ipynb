{
 "cells": [
  {
   "cell_type": "markdown",
   "source": [
    "## SIMPLE TECHNIQUE TO SET BOTH CHARACTER AND NUMERIC FREQUENCIES"
   ],
   "metadata": {
    "collapsed": false,
    "pycharm": {
     "name": "#%% md\n"
    }
   }
  },
  {
   "cell_type": "code",
   "execution_count": 78,
   "outputs": [
    {
     "name": "stdout",
     "output_type": "stream",
     "text": [
      "{'T': 1, 'r': 1, 'e': 3, 'H': 1, 'o': 1, 'u': 1, 's': 1}\n"
     ]
    }
   ],
   "source": [
    "import math\n",
    "\n",
    "\n",
    "def freq():\n",
    "    li = \"TreeHouse\"\n",
    "    dic = {}\n",
    "    for c in li:\n",
    "        dic[c] = dic.get(c, 0) + 1\n",
    "    print(dic)\n",
    "freq()"
   ],
   "metadata": {
    "collapsed": false,
    "pycharm": {
     "name": "#%%\n"
    }
   }
  },
  {
   "cell_type": "markdown",
   "source": [
    "\n",
    "\n",
    "\n",
    "# SIMPLE TECHNIQUE TO SORT CHARACTERS IN AN ARRAY OF WORDS\n"
   ],
   "metadata": {
    "collapsed": false,
    "pycharm": {
     "name": "#%% md\n"
    }
   }
  },
  {
   "cell_type": "code",
   "execution_count": 79,
   "outputs": [
    {
     "name": "stdout",
     "output_type": "stream",
     "text": [
      "sorted characters without joining them:  [['g', 'o'], ['g', 'o'], ['f', 'i'], ['f', 'i'], ['a', 'c', 't'], ['a', 'c', 't']]\n",
      "join- reversed-sorted characters:  ['act', 'act', 'fi', 'fi', 'go', 'go']\n"
     ]
    }
   ],
   "source": [
    "b = [\"go\", \"og\", \"fi\", \"if\", \"act\", \"cat\"]\n",
    "\n",
    "sortedWords = [(sorted(w))for w in b]\n",
    "b = sorted([\"\".join(sorted(w))for w in b]) # in-place sorting and reversing\n",
    "\n",
    "print(\"sorted characters without joining them: \", sortedWords)\n",
    "print(\"join- reversed-sorted characters: \", b)"
   ],
   "metadata": {
    "collapsed": false,
    "pycharm": {
     "name": "#%%\n"
    }
   }
  },
  {
   "cell_type": "code",
   "execution_count": 80,
   "outputs": [
    {
     "name": "stdout",
     "output_type": "stream",
     "text": [
      "['dkoiea']\n",
      "dkoiea\n"
     ]
    }
   ],
   "source": [
    "d = 'dkoiea'\n",
    "print(d.split())\n",
    "print(d.strip())"
   ],
   "metadata": {
    "collapsed": false,
    "pycharm": {
     "name": "#%%\n"
    }
   }
  },
  {
   "cell_type": "markdown",
   "source": [
    "\n",
    "\n",
    "# 3 SIMPLE TECHNIQUES TO CONVERT NTH-D ARRAY TO 1D ARRAY\n"
   ],
   "metadata": {
    "collapsed": false,
    "pycharm": {
     "name": "#%% md\n"
    }
   }
  },
  {
   "cell_type": "code",
   "execution_count": 81,
   "outputs": [
    {
     "name": "stdout",
     "output_type": "stream",
     "text": [
      "[1, 5, 9, 21, -1, 0, -124, 81, 121, 3, 6, 12, 20, 150]\n",
      "[1, 5, 9, 21, -1, 0, -124, 81, 121, 3, 6, 12, 20, 150]\n",
      "[1, 5, 9, 21, -1, 0, -124, 81, 121, 3, 6, 12, 20, 150]\n"
     ]
    }
   ],
   "source": [
    "# APPROACH 1\n",
    "bigArr= []\n",
    "arr1= [\n",
    "       [1, 5, 9, 21],\n",
    "       [-1, 0],\n",
    "       [-124, 81, 121],\n",
    "       [3, 6, 12, 20, 150]\n",
    " ]\n",
    "[bigArr.extend(arr1[ar][:]) for ar in range(len(arr1))]\n",
    "print(bigArr)\n",
    "\n",
    "# Approach 2\n",
    "res2 = []\n",
    "for ar in range(len(arr1)):\n",
    "    one_d_array = arr1[ar][:]\n",
    "    res2.extend(one_d_array)\n",
    "print(res2)\n",
    "\n",
    "\n",
    "# APPROACH 3\n",
    "i = 0\n",
    "j = 0\n",
    "\n",
    "res = []\n",
    "while i < len(arr1):\n",
    "    res.append(arr1[i][j])\n",
    "    j += 1\n",
    "    if j == len(arr1[i]):\n",
    "        i += 1\n",
    "        j = 0\n",
    "print(res)"
   ],
   "metadata": {
    "collapsed": false,
    "pycharm": {
     "name": "#%%\n"
    }
   }
  },
  {
   "cell_type": "markdown",
   "source": [
    "\n",
    "\n",
    "\n",
    "\n",
    "\n",
    "\n",
    "\n"
   ],
   "metadata": {
    "collapsed": false,
    "pycharm": {
     "name": "#%% md\n"
    }
   }
  },
  {
   "cell_type": "markdown",
   "source": [
    "# SIMPLE TECHNIQUE TO GET ALL POSSIBLE COMBINATIONS OF A LIST'S ELEMENT"
   ],
   "metadata": {
    "collapsed": false,
    "pycharm": {
     "name": "#%% md\n"
    }
   }
  },
  {
   "cell_type": "markdown",
   "source": [
    "COMBINATIONS are possible combinations of n items where\n",
    "`order does not matter`.\n",
    "\n",
    "Find combinations of `k` items chosen from `n` items\n",
    "=> n!/k! * (n-k)!\n",
    "\n",
    "How many different combinations are there if we choose 3 items from the\n",
    "set {A, B, C, D}\n",
    "n = 4, k = 3\n",
    "comb = 4!/ 3! * (4-3)! = 24/6 * 1 = 4"
   ],
   "metadata": {
    "collapsed": false,
    "pycharm": {
     "name": "#%% md\n"
    }
   }
  },
  {
   "cell_type": "code",
   "execution_count": 82,
   "outputs": [
    {
     "name": "stdout",
     "output_type": "stream",
     "text": [
      "[(), ('bar',), ('foo',), ('the',), ('bar', 'foo'), ('bar', 'the'), ('foo', 'the'), ('bar', 'foo', 'the')]\n",
      "[(), ('bar',), ('foo',), ('the',), ('bar', 'foo'), ('bar', 'the'), ('foo', 'the'), ('bar', 'foo', 'the')]\n"
     ]
    }
   ],
   "source": [
    "from itertools import combinations, chain, permutations\n",
    "\n",
    "# Approach 1\n",
    "stuff = [\"bar\", \"foo\", \"the\"]\n",
    "pea = []\n",
    "\n",
    "for L in range(0, len(stuff)+1):\n",
    "    for subset in combinations(stuff, L):\n",
    "        pea.append(subset)\n",
    "print(pea)\n",
    "\n",
    "\n",
    "\n",
    "# Approach 2\n",
    "peace = []\n",
    "\n",
    "def all_subsets(ss):\n",
    "    return chain(*map(lambda x: combinations(ss, x), range(0, len(ss)+1)))\n",
    "\n",
    "for subset in all_subsets(stuff):\n",
    "    peace.append(subset)\n",
    "print(peace)"
   ],
   "metadata": {
    "collapsed": false,
    "pycharm": {
     "name": "#%%\n"
    }
   }
  },
  {
   "cell_type": "markdown",
   "source": [],
   "metadata": {
    "collapsed": false,
    "pycharm": {
     "name": "#%% md\n"
    }
   }
  },
  {
   "cell_type": "markdown",
   "source": [],
   "metadata": {
    "collapsed": false,
    "pycharm": {
     "name": "#%% md\n"
    }
   }
  },
  {
   "cell_type": "markdown",
   "source": [
    "# SIMPLE TECHNIQUE TO FIND SUBARRAY OF K LENGTH IN A STRING\n",
    "This technique loops through a string of characters and returns a\n",
    "substring of a given range.\n",
    "For every iteration, the first string within the range is slashed and\n",
    "another character in the string outside the range is added to complement the range\n",
    "`\n",
    "E.g. string = \"makenomistake\"\n",
    "     word = \"ake\"\n",
    "     for i in range(0, len(string) - len(word) + 1)\n",
    "     new_word = string[i:i + len(word)]\n"
   ],
   "metadata": {
    "collapsed": false,
    "pycharm": {
     "name": "#%% md\n"
    }
   }
  },
  {
   "cell_type": "code",
   "execution_count": 83,
   "outputs": [
    {
     "name": "stdout",
     "output_type": "stream",
     "text": [
      "make, aken, keno, enom, nomi, omis, mist, ista, stak, take, "
     ]
    }
   ],
   "source": [
    "string = \"makenomistake\"\n",
    "word = \"make\"\n",
    "for i in range( len(string) - len(word) + 1):\n",
    "    new_word = string[i:i + len(word)]\n",
    "    print(new_word, end=\", \")\n"
   ],
   "metadata": {
    "collapsed": false,
    "pycharm": {
     "name": "#%%\n"
    }
   }
  },
  {
   "cell_type": "code",
   "execution_count": 84,
   "outputs": [
    {
     "name": "stdout",
     "output_type": "stream",
     "text": [
      "barfoo, arfoot, rfooth, foothe, oothef, othefo, thefoo, hefoob, efooba, foobar, oobarm, obarma, barman, "
     ]
    }
   ],
   "source": [
    "lenWords = 6\n",
    "s = \"barfoothefoobarman\"\n",
    "for i in range(len(s) - lenWords + 1):\n",
    "    str = s[i:i + lenWords]\n",
    "    print(str, end=\", \")"
   ],
   "metadata": {
    "collapsed": false,
    "pycharm": {
     "name": "#%%\n"
    }
   }
  },
  {
   "cell_type": "code",
   "execution_count": 85,
   "outputs": [
    {
     "name": "stdout",
     "output_type": "stream",
     "text": [
      "['bar', 'man']\n"
     ]
    }
   ],
   "source": [
    "\n",
    "words = [\"foo\", \"bar\"]\n",
    "str = s[i:i + len(\"\".join(words))]\n",
    "s = \"barfoothefoobarman\"\n",
    "n = len(words[0])\n",
    "chunk = [str[i:i + n] for i in range(0, len(str), n)]\n",
    "print(chunk)"
   ],
   "metadata": {
    "collapsed": false,
    "pycharm": {
     "name": "#%%\n"
    }
   }
  },
  {
   "cell_type": "code",
   "execution_count": 86,
   "outputs": [
    {
     "name": "stdout",
     "output_type": "stream",
     "text": [
      "['barfoothefoobarman']\n"
     ]
    }
   ],
   "source": [
    "k = s.split(s[:7:2])\n",
    "print(k)"
   ],
   "metadata": {
    "collapsed": false,
    "pycharm": {
     "name": "#%%\n"
    }
   }
  },
  {
   "cell_type": "markdown",
   "source": [
    "# USING INBUILT ITERTOOLS.PERMUTATIONS"
   ],
   "metadata": {
    "collapsed": false,
    "pycharm": {
     "name": "#%% md\n"
    }
   }
  },
  {
   "cell_type": "markdown",
   "source": [
    "Permutation is the number of different ways\n",
    "to arrange n items(order is relevant)\n",
    "\n",
    "* Permutations of n items = n!\n",
    "    no of permutations for three items (bar) are 3!\n",
    "    3 * 2 * 1 = 6\n",
    "    print(captain())\n",
    "* Number of permutations of k-items chosen from a set of n items\n",
    "  (n-choose-k) = n!/(n-k)!\n",
    "  - How many permutations are there if we choose two items from a total\n",
    "    of four items.\n",
    "    n = 4, k = 2\n",
    "    4!/(4-2) = 4 * 3 * 2 * 1/ 2 * 1 = 24/2 = 12"
   ],
   "metadata": {
    "collapsed": false,
    "pycharm": {
     "name": "#%% md\n"
    }
   }
  },
  {
   "cell_type": "code",
   "execution_count": 97,
   "outputs": [
    {
     "name": "stdout",
     "output_type": "stream",
     "text": [
      "[('a', 'b'), ('a', 'c'), ('a', 'd'), ('b', 'a'), ('b', 'c'), ('b', 'd'), ('c', 'a'), ('c', 'b'), ('c', 'd'), ('d', 'a'), ('d', 'b'), ('d', 'c')]\n",
      "12\n"
     ]
    }
   ],
   "source": [
    "jf = permutations(\"abcd\", 2)\n",
    "jeep = list(jf)\n",
    "print(jeep, end=\"\")\n",
    "print()\n",
    "print(len((jeep)))"
   ],
   "metadata": {
    "collapsed": false,
    "pycharm": {
     "name": "#%%\n"
    }
   }
  },
  {
   "cell_type": "code",
   "execution_count": 87,
   "outputs": [
    {
     "name": "stdout",
     "output_type": "stream",
     "text": [
      "[['bar', 'bra', 'abr', 'arb', 'rba', 'rab'], ['foo', 'foo', 'ofo', 'oof', 'ofo', 'oof'], ['the', 'teh', 'hte', 'het', 'eth', 'eht']]\n",
      "\n",
      "['bar', 'bra', 'abr', 'arb', 'rba', 'rab', 'foo', 'foo', 'ofo', 'oof', 'ofo', 'oof', 'the', 'teh', 'hte', 'het', 'eth', 'eht']\n"
     ]
    }
   ],
   "source": [
    "def captain():\n",
    "    res = []\n",
    "    st = [\"bar\", \"foo\", \"the\"]\n",
    "    s = \"barfoofoobarthefoobarman\"\n",
    "    for i in range(len(st)):\n",
    "        join_st = \"\".join(st[i])\n",
    "\n",
    "        n = math.factorial(len(join_st))\n",
    "        kul = []\n",
    "        for i in range(n):\n",
    "            # converting tuples to list\n",
    "            listOfTuples = list(permutations(join_st))\n",
    "            # converting each tuple in list to string\n",
    "            tupleToString = \"\".join(listOfTuples[i])\n",
    "            kul.append(tupleToString)\n",
    "        res.append(kul)\n",
    "\n",
    "    final = []\n",
    "    [final.extend(res[ar][:]) for ar in range(len(res))]\n",
    "\n",
    "    print(res)\n",
    "    print()\n",
    "    return final\n",
    "\n",
    "\n",
    "\n",
    "\n",
    "\n",
    "print(captain())"
   ],
   "metadata": {
    "collapsed": false,
    "pycharm": {
     "name": "#%%\n"
    }
   }
  },
  {
   "cell_type": "markdown",
   "source": [
    "\n",
    "\n",
    "\n",
    "\n",
    "\n",
    "\n",
    "\n",
    "\n"
   ],
   "metadata": {
    "collapsed": false,
    "pycharm": {
     "name": "#%% md\n"
    }
   }
  },
  {
   "cell_type": "markdown",
   "source": [
    "# Technique to find intersection between a list of two separate strings\n",
    "E.g.\n",
    "Input: [“1, 3, 4, 7, 13”, “1, 2, 4, 13, 15”]\n",
    "Output: 1,4,13"
   ],
   "metadata": {
    "collapsed": false,
    "pycharm": {
     "name": "#%% md\n"
    }
   }
  },
  {
   "cell_type": "code",
   "execution_count": 11,
   "outputs": [
    {
     "name": "stdout",
     "output_type": "stream",
     "text": [
      "['1', '4', '13']\n",
      "1, 4, 13\n"
     ]
    }
   ],
   "source": [
    "aa = [\"1, 3, 4, 7, 13\", \"1, 2, 4, 13, 15\"]\n",
    "bb = set(aa[0].split(\", \"))\n",
    "cc = set(aa[1].split(\", \"))\n",
    "dd = sorted(bb.intersection(cc), key=lambda string: int(string))\n",
    "print(dd)\n",
    "print(\", \".join(dd))"
   ],
   "metadata": {
    "collapsed": false,
    "pycharm": {
     "name": "#%%\n"
    }
   }
  },
  {
   "cell_type": "markdown",
   "source": [
    "\n",
    "\n",
    "\n"
   ],
   "metadata": {
    "collapsed": false,
    "pycharm": {
     "name": "#%% md\n"
    }
   }
  },
  {
   "cell_type": "markdown",
   "source": [
    "# Practice Map and Lamda"
   ],
   "metadata": {
    "collapsed": false,
    "pycharm": {
     "name": "#%% md\n"
    }
   }
  },
  {
   "cell_type": "code",
   "execution_count": 35,
   "outputs": [
    {
     "data": {
      "text/plain": "[5, 8, 10]"
     },
     "execution_count": 35,
     "metadata": {},
     "output_type": "execute_result"
    }
   ],
   "source": [
    "n1 = [1, 3, 4]\n",
    "n2 = [4, 5, 6]\n",
    "\n",
    "res = map(lambda x, y: x + y, n1, n2)\n",
    "list(res)"
   ],
   "metadata": {
    "collapsed": false,
    "pycharm": {
     "name": "#%%\n"
    }
   }
  },
  {
   "cell_type": "markdown",
   "source": [],
   "metadata": {
    "collapsed": false,
    "pycharm": {
     "name": "#%% md\n"
    }
   }
  },
  {
   "cell_type": "markdown",
   "source": [
    "# Walrus operator"
   ],
   "metadata": {
    "collapsed": false,
    "pycharm": {
     "name": "#%% md\n"
    }
   }
  },
  {
   "cell_type": "code",
   "execution_count": 2,
   "outputs": [
    {
     "name": "stdout",
     "output_type": "stream",
     "text": [
      "I am Fine\n",
      "I am Good\n",
      "F\n",
      "List is laughing at (14 elements, expected <= 10)\n",
      "List is too long (14 elements, expected <= 10)\n"
     ]
    }
   ],
   "source": [
    "\n",
    "eliaa = \"No!\"\n",
    "if eliaa:\n",
    "    print(\"I am Fine\")  # OR\n",
    "\n",
    "if elia := \"Yes\":\n",
    "    print(\"I am Good\")\n",
    "\n",
    "if (elia := \"validate\") == \"validate\":\n",
    "    print(\"F\")\n",
    "else:\n",
    "    print(None)\n",
    "\n",
    "a = \"yesandnoplease\"\n",
    "m = len(a)\n",
    "\n",
    "if m > 10:\n",
    "    print(f\"List is laughing at ({m} elements, expected <= 10)\")\n",
    "\n",
    "if (n := len(a)) > 10:\n",
    "    print(f\"List is too long ({n} elements, expected <= 10)\")\n"
   ],
   "metadata": {
    "collapsed": false,
    "pycharm": {
     "name": "#%%\n"
    }
   }
  },
  {
   "cell_type": "markdown",
   "source": [],
   "metadata": {
    "collapsed": false,
    "pycharm": {
     "name": "#%% md\n"
    }
   }
  },
  {
   "cell_type": "markdown",
   "source": [
    "# Convert to k decimal place"
   ],
   "metadata": {
    "collapsed": false,
    "pycharm": {
     "name": "#%% md\n"
    }
   }
  },
  {
   "cell_type": "code",
   "execution_count": 60,
   "outputs": [
    {
     "data": {
      "text/plain": "'0.46'"
     },
     "execution_count": 60,
     "metadata": {},
     "output_type": "execute_result"
    }
   ],
   "source": [
    "# convert to 2 decimal places\n",
    "i = 0.455802093\n",
    "f\"{i:.2f}\""
   ],
   "metadata": {
    "collapsed": false,
    "pycharm": {
     "name": "#%%\n"
    }
   }
  }
 ],
 "metadata": {
  "kernelspec": {
   "display_name": "Python 3",
   "language": "python",
   "name": "python3"
  },
  "language_info": {
   "codemirror_mode": {
    "name": "ipython",
    "version": 2
   },
   "file_extension": ".py",
   "mimetype": "text/x-python",
   "name": "python",
   "nbconvert_exporter": "python",
   "pygments_lexer": "ipython2",
   "version": "2.7.6"
  }
 },
 "nbformat": 4,
 "nbformat_minor": 0
}