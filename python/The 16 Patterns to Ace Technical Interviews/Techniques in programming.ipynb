{
 "cells": [
  {
   "cell_type": "markdown",
   "source": [
    "## SIMPLE TECHNIQUE TO SET BOTH CHARACTER AND NUMERIC FREQUENCIES"
   ],
   "metadata": {
    "collapsed": false,
    "pycharm": {
     "name": "#%% md\n"
    }
   }
  },
  {
   "cell_type": "code",
   "execution_count": 1,
   "metadata": {
    "collapsed": true,
    "pycharm": {
     "name": "#%%\n"
    }
   },
   "outputs": [
    {
     "name": "stdout",
     "output_type": "stream",
     "text": [
      "{'o': 2, 'd': 1, 'y': 1, 'e': 1, 'w': 1, 'u': 1}\n"
     ]
    }
   ],
   "source": [
    "di = {}\n",
    "s = \"odoyewu\"\n",
    "for ch in s:\n",
    "     # setting char frequency\n",
    "    di[ch] = di.get(ch, 0) + 1\n",
    "print(di)"
   ]
  },
  {
   "cell_type": "code",
   "execution_count": 12,
   "outputs": [
    {
     "name": "stdout",
     "output_type": "stream",
     "text": [
      "{'T': 1, 'r': 1, 'e': 3, 'H': 1, 'o': 1, 'u': 1, 's': 1}\n"
     ]
    }
   ],
   "source": [
    "def c():\n",
    "    li = \"TreeHouse\"\n",
    "    dic = {}\n",
    "    for n in li:\n",
    "        dic[n] = dic.get(n, 0) + 1\n",
    "    print(dic)\n",
    "c()"
   ],
   "metadata": {
    "collapsed": false,
    "pycharm": {
     "name": "#%%\n"
    }
   }
  },
  {
   "cell_type": "markdown",
   "source": [
    "\n",
    "\n",
    "\n",
    "# SIMPLE TECHNIQUE TO SORT CHARACTERS IN AN ARRAY OF WORDS\n"
   ],
   "metadata": {
    "collapsed": false,
    "pycharm": {
     "name": "#%% md\n"
    }
   }
  },
  {
   "cell_type": "code",
   "execution_count": 11,
   "outputs": [
    {
     "name": "stdout",
     "output_type": "stream",
     "text": [
      "sorted characters without joining them:  [['g', 'o'], ['g', 'o'], ['f', 'i'], ['f', 'i'], ['a', 'c', 't'], ['a', 'c', 't']]\n",
      "join sorted characters:  ['go', 'go', 'fi', 'fi', 'act', 'act']\n"
     ]
    }
   ],
   "source": [
    "b = [\"go\", \"og\", \"fi\", \"if\", \"act\", \"cat\"]\n",
    "\n",
    "sortedWords = [sorted(w)for w in b]\n",
    "sortedWords1 = [\"\".join(sorted(w))for w in b]\n",
    "print(\"sorted characters without joining them: \", sortedWords)\n",
    "print(\"join sorted characters: \", sortedWords1)"
   ],
   "metadata": {
    "collapsed": false,
    "pycharm": {
     "name": "#%%\n"
    }
   }
  }
 ],
 "metadata": {
  "kernelspec": {
   "display_name": "Python 3",
   "language": "python",
   "name": "python3"
  },
  "language_info": {
   "codemirror_mode": {
    "name": "ipython",
    "version": 2
   },
   "file_extension": ".py",
   "mimetype": "text/x-python",
   "name": "python",
   "nbconvert_exporter": "python",
   "pygments_lexer": "ipython2",
   "version": "2.7.6"
  }
 },
 "nbformat": 4,
 "nbformat_minor": 0
}