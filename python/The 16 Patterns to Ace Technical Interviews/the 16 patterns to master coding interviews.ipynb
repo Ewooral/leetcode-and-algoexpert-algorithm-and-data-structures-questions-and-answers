{
 "cells": [
  {
   "cell_type": "markdown",
   "source": [
    "# PATTERN 1 - SLIDING WINDOWS (DYNAMIC AND FIXED)"
   ],
   "metadata": {
    "collapsed": false,
    "pycharm": {
     "name": "#%% md\n"
    }
   }
  },
  {
   "cell_type": "markdown",
   "source": [
    "Given an array, find the average of all subarrays of ‘K’ contiguous elements in it.\n",
    "Array: [1, 3, 2, 6, -1, 4, 1, 8, 2],\n",
    "K=5\n",
    "(1 + 3 + 2 + 6 + -1)/ 5\n",
    "(3 + 2 + 6 + -1 + 4)/5\n",
    "..\n",
    "..\n",
    "(-1 + 4 + 1 + 8 + 2)/5\n",
    "\n",
    "Output: [2.2, 2.8, 2.4, 3.6, 2.8]"
   ],
   "metadata": {
    "collapsed": false,
    "pycharm": {
     "name": "#%% md\n"
    }
   }
  },
  {
   "cell_type": "code",
   "execution_count": 75,
   "outputs": [
    {
     "name": "stdout",
     "output_type": "stream",
     "text": [
      "Averages of subarrays of size K: [2.2, 2.8, 2.4, 3.6, 2.8]\n",
      "Averages of subarrays of size K: [2.2, 2.8, 2.4, 3.6, 2.8]\n"
     ]
    }
   ],
   "source": [
    "# Brute force Approach\n",
    "def find_averages_of_subarrays(K, arr):\n",
    "  result = []\n",
    "  for i in range(len(arr)-K+1):\n",
    "    # find sum of next 'K' elements\n",
    "    _sum = 0.0\n",
    "    for j in range(i, i+K):\n",
    "      _sum += arr[j]\n",
    "    result.append(_sum/K)  # calculate average\n",
    "\n",
    "  return result\n",
    "\n",
    "# Optimal Approach\n",
    "def find_averages_of_subarrays_1(K, arr):\n",
    "  result = []\n",
    "  windowSum = 0.0\n",
    "  windowStart = 0\n",
    "  for windowEnd in range(len(arr)):\n",
    "    windowSum += arr[windowEnd]  # add the next element\n",
    "    # slide the window, we don't need to slide if we've not hit the required window size of 'k'\n",
    "    if windowEnd >= K - 1:\n",
    "      result.append(windowSum / K)  # calculate the average\n",
    "      windowSum -= arr[windowStart]  # subtract the element going out\n",
    "      windowStart += 1  # slide the window ahead\n",
    "\n",
    "  return result\n",
    "\n",
    "def main():\n",
    "  result = find_averages_of_subarrays(5, [1, 3, 2, 6, -1, 4, 1, 8, 2])\n",
    "  result1 = find_averages_of_subarrays_1(5, [1, 3, 2, 6, -1, 4, 1, 8, 2])\n",
    "  print(\"Averages of subarrays of size K: \" + str(result))\n",
    "  print(\"Averages of subarrays of size K: \" + str(result1))\n",
    "\n",
    "\n",
    "main()"
   ],
   "metadata": {
    "collapsed": false,
    "pycharm": {
     "name": "#%%\n"
    }
   }
  },
  {
   "cell_type": "markdown",
   "source": [
    "\n",
    "### TIDBITS\n",
    "\n",
    "     len(arr) - k + 1 MEANS\n",
    "\n",
    "We're looping through the array of n size and subtracting subarray length from the length of the entire array\n",
    "and since we're dealing with index, we'll start from 0, which is why\n",
    "the plus 1 has been added.\n",
    "\n",
    "    range(i, k + 1) MEANS\n",
    "\n",
    "At each iteration `i`, we're looping within the range of `i` and `k + 1`, which is\n",
    "length of subarray size plus 1, since at every iteration, we're increasing the window size and reducing `i`"
   ],
   "metadata": {
    "collapsed": false,
    "pycharm": {
     "name": "#%% md\n"
    }
   }
  },
  {
   "cell_type": "markdown",
   "source": [
    "\n",
    "\n",
    "\n",
    "\n",
    "\n",
    "\n",
    "\n",
    "\n"
   ],
   "metadata": {
    "collapsed": false,
    "pycharm": {
     "name": "#%% md\n"
    }
   }
  },
  {
   "cell_type": "markdown",
   "source": [
    "### QUESTION 2 (FIXED)\n",
    "\n",
    "Given an array of positive numbers and a positive number ‘k,’ find the maximum sum of any contiguous subarray of size ‘k’.\n",
    "\n",
    "Example 1:\n",
    "\n",
    "Input: [2, 1, 5, 1, 3, 2], k=3\n",
    "Output: 9\n",
    "Explanation: Subarray with maximum sum is [5, 1, 3]."
   ],
   "metadata": {
    "collapsed": false,
    "pycharm": {
     "name": "#%% md\n"
    }
   }
  },
  {
   "cell_type": "code",
   "execution_count": 100,
   "outputs": [
    {
     "name": "stdout",
     "output_type": "stream",
     "text": [
      "9\n",
      "9\n"
     ]
    }
   ],
   "source": [
    "# Brute force Approach O(n * k ) T, O(n) S\n",
    "def max_subarray_sum(arr, k):\n",
    "  result = []\n",
    "  for i in range(len(arr) - k + 1):\n",
    "    max_sum = 0\n",
    "    for j in range(i, i + k):\n",
    "      max_sum += arr[j]\n",
    "    result.append(max_sum)\n",
    "  return max(result)\n",
    "print(max_subarray_sum([2, 1, 5, 1, 3, 2], 3))\n",
    "\n",
    "# Optimal Approach\n",
    "def max_subarray_sum_1(arr, k):\n",
    "  res = []\n",
    "  i = cs = 0 # cs is current sum, \"i\" is window start\n",
    "  for j in range(len(arr)): # j is where the subarray ends\n",
    "    cs += arr[j]\n",
    "    if j >= k - 1:\n",
    "      res.append(cs)\n",
    "      cs -= arr[i]\n",
    "      i += 1\n",
    "  fs = max(res)\n",
    "  return fs\n",
    "print(max_subarray_sum_1([2, 1, 5, 1, 3, 2], 3))\n",
    "\n"
   ],
   "metadata": {
    "collapsed": false,
    "pycharm": {
     "name": "#%%\n"
    }
   }
  },
  {
   "cell_type": "markdown",
   "source": [
    "\n",
    "\n",
    "\n",
    "\n"
   ],
   "metadata": {
    "collapsed": false,
    "pycharm": {
     "name": "#%% md\n"
    }
   }
  },
  {
   "cell_type": "markdown",
   "source": [
    "# QUESTION 3 - (NON FIXED)\n",
    "\n",
    "Given an array of positive integers and a number ‘S,’ find the length of the smallest contiguous subarray whose sum is greater than or equal to ‘S’. Return 0 if no such subarray exists.\n",
    "\n",
    "Example 1:\n",
    "\n",
    "    Input: [2, 1, 5, 2, 3, 2], S=7\n",
    "    Output: 2\n",
    "    Explanation: The smallest subarray with a sum greater than or equal to ‘7’ is [5, 2].\n",
    "\n"
   ],
   "metadata": {
    "collapsed": false,
    "pycharm": {
     "name": "#%% md\n"
    }
   }
  },
  {
   "cell_type": "code",
   "execution_count": 82,
   "outputs": [
    {
     "name": "stdout",
     "output_type": "stream",
     "text": [
      "Smallest subarray length: 2\n",
      "Smallest subarray length: 3\n",
      "Smallest subarray length: 3\n",
      "Smallest subarray length: 2\n"
     ]
    }
   ],
   "source": [
    "import math\n",
    "\n",
    "# APPROACH 1\n",
    "def smallest_subarray_sum(s, arr):\n",
    "  # win_start = i, win_end = j\n",
    "  i = _sum = 0\n",
    "  min_len = math.inf\n",
    "  for j in range(len(arr)):\n",
    "    _sum += arr[j]\n",
    "    while _sum >= s:\n",
    "      min_len = min(min_len, j - i + 1)\n",
    "      _sum -= arr[i]\n",
    "      i += 1\n",
    "  if min_len == math.inf:\n",
    "    return 0\n",
    "  return min_len\n",
    "\n",
    "# APPROACH 2\n",
    "def dynamic_sliding_window(arr, k):\n",
    "  min_length = float('inf')\n",
    "  start = end = current_sum = 0\n",
    "\n",
    "  # extend the sliding window until our criteria is met\n",
    "  while end < len(arr):\n",
    "    current_sum = current_sum + arr[end]\n",
    "    end = end + 1\n",
    "\n",
    "    # contract the sliding window until it\n",
    "    # no longer meets our condition\n",
    "    while start < end and current_sum >= k:\n",
    "      current_sum = current_sum - arr[start]\n",
    "      start += 1\n",
    "\n",
    "    # update the minimum length if this is shorter than the current min\n",
    "      min_length = min(min_length, end - start + 1)\n",
    "\n",
    "  return min_length\n",
    "\n",
    "\n",
    "\n",
    "def main():\n",
    "  print(\"Smallest subarray length: \" + str(smallest_subarray_sum(7, [2, 1, 5, 2, 3, 2])))\n",
    "  print(\"Smallest subarray length: \" + str(smallest_subarray_sum(8, [3, 4, 1, 1, 6])))\n",
    "  print(\"Smallest subarray length: \" + str(smallest_subarray_sum(8, [2, 1, 5, 2, 3, 2])))\n",
    "\n",
    "  print(\"Smallest subarray length:\", dynamic_sliding_window([2, 1, 5, 2, 3, 2], 7))\n",
    "\n",
    "\n",
    "main()"
   ],
   "metadata": {
    "collapsed": false,
    "pycharm": {
     "name": "#%%\n"
    }
   }
  },
  {
   "cell_type": "markdown",
   "source": [
    "# TIDBITS\n"
   ],
   "metadata": {
    "collapsed": false,
    "pycharm": {
     "name": "#%% md\n"
    }
   }
  },
  {
   "cell_type": "markdown",
   "source": [
    "\n",
    "\n",
    "\n",
    "\n",
    "\n",
    "\n",
    "\n",
    "# QUESTION 4\n",
    "## MAX ELEMENT IN SUBARRAY OF K SIZE\n",
    "\n",
    " Find max element in a subarray of k size\n",
    " E.g.[1, 2, 3, 4, 5, 6], k = 3\n",
    " Output: [3, 4, 5, 6]\n"
   ],
   "metadata": {
    "collapsed": false,
    "pycharm": {
     "name": "#%% md\n"
    }
   }
  },
  {
   "cell_type": "code",
   "execution_count": 79,
   "outputs": [
    {
     "name": "stdout",
     "output_type": "stream",
     "text": [
      "[3, 4, 5, 6, 6]\n",
      "[4, 7, 8, 8, 8]\n"
     ]
    }
   ],
   "source": [
    "\n",
    "def max_subarray_elem(arr, k):\n",
    "  res = []\n",
    "  max_elem = 0\n",
    "  win_start = 0\n",
    "  for win_end in range(len(arr)):\n",
    "    max_elem = max(max_elem, arr[win_end])\n",
    "    if win_end >= k - 1:\n",
    "      res.append(max_elem)\n",
    "      win_start += 1\n",
    "  return res\n",
    "print(max_subarray_elem([1, 2, 3, 4, 5, 6, 2], 3))\n",
    "print(max_subarray_elem([4, 2, 1, 7, 8, 1, 2], 3))"
   ],
   "metadata": {
    "collapsed": false,
    "pycharm": {
     "name": "#%%\n"
    }
   }
  },
  {
   "cell_type": "markdown",
   "source": [
    "\n",
    "\n",
    "\n",
    "\n",
    "# LONGEST SUBSTRING\n",
    "\n",
    "Given a string, find the `length` of the `longest substring` in it with no more than `K` `distinct` characters.\n",
    "\n",
    "Example 1:\n",
    "\n",
    "Input: String=\"araaci\", K=2\n",
    "Output: 4\n",
    "Explanation: The longest substring with no more than '2' distinct characters is \"araa\".\n",
    "\n",
    "Time Complexity#\n",
    "The above algorithm’s time complexity will be `O(N)`, where `N` is the number of characters in the input string. The outer for loop runs for all characters, and the inner while loop processes each character only once; therefore, the time complexity of the algorithm will be `O(N+N)`, which is asymptotically equivalent to `O(N)`.\n",
    "\n",
    "Space Complexity#\n",
    "The algorithm’s space complexity is `O(K)`, as we will be storing a maximum of `K+1` characters in the HashMap.\n"
   ],
   "metadata": {
    "collapsed": false,
    "pycharm": {
     "name": "#%% md\n"
    }
   }
  },
  {
   "cell_type": "code",
   "execution_count": 99,
   "outputs": [
    {
     "name": "stdout",
     "output_type": "stream",
     "text": [
      "Length of the longest substring: 4\n",
      "Length of the longest substring: 2\n",
      "Length of the longest substring: 5\n"
     ]
    }
   ],
   "source": [
    "def longest_substring_with_k_distinct(str1, k):\n",
    "  window_start = 0\n",
    "  max_length = 0\n",
    "  char_frequency = {}\n",
    "\n",
    "  # in the following loop we'll try to extend the range [window_start, window_end]\n",
    "  for window_end in range(len(str1)):\n",
    "    right_char = str1[window_end]\n",
    "    if right_char not in char_frequency:\n",
    "      char_frequency[right_char] = 0\n",
    "    char_frequency[right_char] += 1\n",
    "\n",
    "    # shrink the sliding window, until we are left with 'k' distinct characters in the char_frequency\n",
    "    while len(char_frequency) > k:\n",
    "      left_char = str1[window_start]\n",
    "      char_frequency[left_char] -= 1\n",
    "      if char_frequency[left_char] == 0:\n",
    "        del char_frequency[left_char]\n",
    "      window_start += 1  # shrink the window\n",
    "    # remember the maximum length so far\n",
    "    max_length = max(max_length, window_end-window_start + 1)\n",
    "  return max_length\n",
    "\n",
    "\n",
    "def main():\n",
    "  print(\"Length of the longest substring: \" + str(longest_substring_with_k_distinct(\"araaci\", 2)))\n",
    "  print(\"Length of the longest substring: \" + str(longest_substring_with_k_distinct(\"araaci\", 1)))\n",
    "  print(\"Length of the longest substring: \" + str(longest_substring_with_k_distinct(\"cbbebi\", 3)))\n",
    "\n",
    "\n",
    "main()\n"
   ],
   "metadata": {
    "collapsed": false,
    "pycharm": {
     "name": "#%%\n"
    }
   }
  },
  {
   "cell_type": "code",
   "execution_count": null,
   "outputs": [],
   "source": [],
   "metadata": {
    "collapsed": false,
    "pycharm": {
     "name": "#%%\n"
    }
   }
  },
  {
   "cell_type": "markdown",
   "source": [
    "\n",
    "\n",
    "\n",
    "\n",
    "\n",
    "\n",
    "\n",
    "# PATTERN 2 - GRAPHS\n",
    "\n",
    "A path through a graph that visits every edge once is called an `Eulerian path`.\n",
    "`Eulerian` paths are named after Leonhard Euler, who is credited with first solving\n",
    "the puzzle of the seven bridges of `Königsberg`.\n",
    "\n",
    "A `path` only has one end and one beginning, so if a graph has more than two vertices with an odd number of connected edges, there's no way a `Eulerian path` can exist.\n",
    "\n",
    "This means that the bridges of `Königsberg` cannot all be crossed exactly once. In the language of graphs, we would say that there is no `Eulerian path `in this graph.\n",
    "\n",
    "`NB`. You've learned a new fact about graphs: if there are more than two vertices with an odd number of connected edges, there can't be a `Eulerian path — that is, a path that uses every edge exactly once.`"
   ],
   "metadata": {
    "collapsed": false,
    "pycharm": {
     "name": "#%% md\n"
    }
   }
  }
 ],
 "metadata": {
  "kernelspec": {
   "display_name": "Python 3",
   "language": "python",
   "name": "python3"
  },
  "language_info": {
   "codemirror_mode": {
    "name": "ipython",
    "version": 2
   },
   "file_extension": ".py",
   "mimetype": "text/x-python",
   "name": "python",
   "nbconvert_exporter": "python",
   "pygments_lexer": "ipython2",
   "version": "2.7.6"
  }
 },
 "nbformat": 4,
 "nbformat_minor": 0
}