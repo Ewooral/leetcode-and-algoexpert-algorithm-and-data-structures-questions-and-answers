{
 "cells": [
  {
   "cell_type": "markdown",
   "source": [
    "# PATTERN 1 - SLIDING WINDOWS (DYNAMIC AND FIXED)"
   ],
   "metadata": {
    "collapsed": false,
    "pycharm": {
     "name": "#%% md\n"
    }
   }
  },
  {
   "cell_type": "markdown",
   "source": [
    "Given an array, find the average of all subarrays of ‘K’ contiguous elements in it.\n",
    "Array: [1, 3, 2, 6, -1, 4, 1, 8, 2],\n",
    "K=5\n",
    "(1 + 3 + 2 + 6 + -1)/ 5\n",
    "(3 + 2 + 6 + -1 + 4)/5\n",
    "..\n",
    "..\n",
    "(-1 + 4 + 1 + 8 + 2)/5\n",
    "\n",
    "Output: [2.2, 2.8, 2.4, 3.6, 2.8]"
   ],
   "metadata": {
    "collapsed": false,
    "pycharm": {
     "name": "#%% md\n"
    }
   }
  },
  {
   "cell_type": "code",
   "execution_count": 43,
   "outputs": [
    {
     "name": "stdout",
     "output_type": "stream",
     "text": [
      "Averages of subarrays of size K: [2.2, 2.8, 2.4, 3.6, 2.8]\n",
      "Averages of subarrays of size K: [2.2, 2.8, 2.4, 3.6, 2.8]\n"
     ]
    }
   ],
   "source": [
    "# Brute force Approach\n",
    "def find_averages_of_subarrays(K, arr):\n",
    "  result = []\n",
    "  for i in range(len(arr)-K+1):\n",
    "    # find sum of next 'K' elements\n",
    "    _sum = 0.0\n",
    "    for j in range(i, i+K):\n",
    "      _sum += arr[j]\n",
    "    result.append(_sum/K)  # calculate average\n",
    "\n",
    "  return result\n",
    "\n",
    "# Optimal Approach\n",
    "def find_averages_of_subarrays_1(K, arr):\n",
    "  result = []\n",
    "  windowSum = 0.0\n",
    "  windowStart = 0\n",
    "  for windowEnd in range(len(arr)):\n",
    "    windowSum += arr[windowEnd]  # add the next element\n",
    "    # slide the window, we don't need to slide if we've not hit the required window size of 'k'\n",
    "    if windowEnd >= K - 1:\n",
    "      result.append(windowSum / K)  # calculate the average\n",
    "      windowSum -= arr[windowStart]  # subtract the element going out\n",
    "      windowStart += 1  # slide the window ahead\n",
    "\n",
    "  return result\n",
    "\n",
    "def main():\n",
    "  result = find_averages_of_subarrays(5, [1, 3, 2, 6, -1, 4, 1, 8, 2])\n",
    "  result1 = find_averages_of_subarrays_1(5, [1, 3, 2, 6, -1, 4, 1, 8, 2])\n",
    "  print(\"Averages of subarrays of size K: \" + str(result))\n",
    "  print(\"Averages of subarrays of size K: \" + str(result1))\n",
    "\n",
    "\n",
    "main()"
   ],
   "metadata": {
    "collapsed": false,
    "pycharm": {
     "name": "#%%\n"
    }
   }
  },
  {
   "cell_type": "markdown",
   "source": [
    "\n",
    "### TIDBITS\n",
    "\n",
    "     len(arr) - k + 1 MEANS\n",
    "\n",
    "We're looping through the array of n size and subtracting subarray length from the length of the entire array\n",
    "and since we're dealing with index, we'll start from 0, which is why\n",
    "the plus 1 has been added.\n",
    "\n",
    "    range(i, k + 1) MEANS\n",
    "\n",
    "At each iteration `i`, we're looping within the range of `i` and `k + 1`, which is\n",
    "length of subarray size plus 1, since at every iteration, we're increasing the window size and reducing `i`"
   ],
   "metadata": {
    "collapsed": false,
    "pycharm": {
     "name": "#%% md\n"
    }
   }
  },
  {
   "cell_type": "markdown",
   "source": [
    "\n",
    "\n",
    "\n",
    "\n",
    "\n",
    "\n",
    "\n",
    "\n"
   ],
   "metadata": {
    "collapsed": false,
    "pycharm": {
     "name": "#%% md\n"
    }
   }
  },
  {
   "cell_type": "markdown",
   "source": [
    "### QUESTION 2 (FIXED)\n",
    "\n",
    "Given an array of positive numbers and a positive number ‘k,’ find the maximum sum of any contiguous subarray of size ‘k’.\n",
    "\n",
    "Example 1:\n",
    "\n",
    "Input: [2, 1, 5, 1, 3, 2], k=3\n",
    "Output: 9\n",
    "Explanation: Subarray with maximum sum is [5, 1, 3]."
   ],
   "metadata": {
    "collapsed": false,
    "pycharm": {
     "name": "#%% md\n"
    }
   }
  },
  {
   "cell_type": "code",
   "execution_count": 44,
   "outputs": [
    {
     "name": "stdout",
     "output_type": "stream",
     "text": [
      "9\n",
      "9\n"
     ]
    }
   ],
   "source": [
    "# Brute force Approach O(n * k ) T, O(n) S\n",
    "def max_subarray_sum(arr, k):\n",
    "  result = []\n",
    "  for i in range(len(arr) - k + 1):\n",
    "    max_sum = 0\n",
    "    for j in range(i, i + k):\n",
    "      max_sum += arr[j]\n",
    "    result.append(max_sum)\n",
    "  return max(result)\n",
    "print(max_subarray_sum([2, 1, 5, 1, 3, 2], 3))\n",
    "\n",
    "# Optimal Approach\n",
    "def max_subarray_sum_1(arr, k):\n",
    "  res = []\n",
    "  i = cs = 0 # cs is current sum, \"i\" is window start\n",
    "  for j in range(len(arr)): # j is where the subarray ends\n",
    "    cs += arr[j]\n",
    "    if j >= k - 1:\n",
    "      res.append(cs)\n",
    "      cs -= arr[i]\n",
    "      i += 1\n",
    "  fs = max(res)\n",
    "  return fs\n",
    "print(max_subarray_sum_1([2, 1, 5, 1, 3, 2], 3))\n",
    "\n"
   ],
   "metadata": {
    "collapsed": false,
    "pycharm": {
     "name": "#%%\n"
    }
   }
  },
  {
   "cell_type": "markdown",
   "source": [
    "\n",
    "\n",
    "\n",
    "\n"
   ],
   "metadata": {
    "collapsed": false,
    "pycharm": {
     "name": "#%% md\n"
    }
   }
  },
  {
   "cell_type": "markdown",
   "source": [
    "#### QUESTION 3 - (NON FIXED)\n",
    "\n",
    "Given an array of positive integers and a number ‘S,’ find the length of the smallest contiguous subarray whose sum is greater than or equal to ‘S’. Return 0 if no such subarray exists.\n",
    "\n",
    "Example 1:\n",
    "\n",
    "    Input: [2, 1, 5, 2, 3, 2], S=7\n",
    "    Output: 2\n",
    "    Explanation: The smallest subarray with a sum greater than or equal to ‘7’ is [5, 2].\n",
    "\n"
   ],
   "metadata": {
    "collapsed": false,
    "pycharm": {
     "name": "#%% md\n"
    }
   }
  },
  {
   "cell_type": "code",
   "execution_count": 45,
   "outputs": [
    {
     "name": "stdout",
     "output_type": "stream",
     "text": [
      "Smallest subarray length: 2\n",
      "Smallest subarray length: 3\n",
      "Smallest subarray length: 3\n",
      "Smallest subarray length: 2\n"
     ]
    }
   ],
   "source": [
    "import math\n",
    "\n",
    "# APPROACH 1\n",
    "def smallest_subarray_sum(s, arr):\n",
    "  # win_start = i, win_end = j\n",
    "  i = _sum = 0\n",
    "  min_len = math.inf\n",
    "  for j in range(len(arr)):\n",
    "    _sum += arr[j]\n",
    "    while _sum >= s:\n",
    "      min_len = min(min_len, j - i + 1)\n",
    "      _sum -= arr[i]\n",
    "      i += 1\n",
    "  if min_len == math.inf:\n",
    "    return 0\n",
    "  return min_len\n",
    "\n",
    "# APPROACH 2\n",
    "def dynamic_sliding_window(arr, k):\n",
    "  min_length = float('inf')\n",
    "  start = end = current_sum = 0\n",
    "\n",
    "  # extend the sliding window until our criteria is met\n",
    "  while end < len(arr):\n",
    "    current_sum = current_sum + arr[end]\n",
    "    end = end + 1\n",
    "\n",
    "    # contract the sliding window until it\n",
    "    # no longer meets our condition\n",
    "    while start < end and current_sum >= k:\n",
    "      current_sum = current_sum - arr[start]\n",
    "      start += 1\n",
    "\n",
    "    # update the minimum length if this is shorter than the current min\n",
    "      min_length = min(min_length, end - start + 1)\n",
    "\n",
    "  return min_length\n",
    "\n",
    "\n",
    "\n",
    "def main():\n",
    "  print(\"Smallest subarray length: \" + str(smallest_subarray_sum(7, [2, 1, 5, 2, 3, 2])))\n",
    "  print(\"Smallest subarray length: \" + str(smallest_subarray_sum(8, [3, 4, 1, 1, 6])))\n",
    "  print(\"Smallest subarray length: \" + str(smallest_subarray_sum(8, [2, 1, 5, 2, 3, 2])))\n",
    "\n",
    "  print(\"Smallest subarray length:\", dynamic_sliding_window([2, 1, 5, 2, 3, 2], 7))\n",
    "\n",
    "\n",
    "main()"
   ],
   "metadata": {
    "collapsed": false,
    "pycharm": {
     "name": "#%%\n"
    }
   }
  },
  {
   "cell_type": "markdown",
   "source": [
    "\n"
   ],
   "metadata": {
    "collapsed": false,
    "pycharm": {
     "name": "#%% md\n"
    }
   }
  },
  {
   "cell_type": "markdown",
   "source": [
    "\n",
    "\n",
    "\n",
    "\n",
    "\n",
    "\n",
    "\n",
    "### QUESTION 4\n",
    "#### MAX ELEMENT IN SUBARRAY OF K SIZE\n",
    "\n",
    " Find max element in a subarray of k size\n",
    " E.g.[1, 2, 3, 4, 5, 6], k = 3\n",
    " Output: [3, 4, 5, 6]\n"
   ],
   "metadata": {
    "collapsed": false,
    "pycharm": {
     "name": "#%% md\n"
    }
   }
  },
  {
   "cell_type": "code",
   "execution_count": 46,
   "outputs": [
    {
     "name": "stdout",
     "output_type": "stream",
     "text": [
      "[3, 4, 5, 6, 6]\n",
      "[4, 7, 8, 8, 8]\n"
     ]
    }
   ],
   "source": [
    "\n",
    "def max_subarray_elem(arr, k):\n",
    "  res = []\n",
    "  max_elem = 0\n",
    "  win_start = 0\n",
    "  for win_end in range(len(arr)):\n",
    "    max_elem = max(max_elem, arr[win_end])\n",
    "    if win_end >= k - 1:\n",
    "      res.append(max_elem)\n",
    "      win_start += 1\n",
    "  return res\n",
    "print(max_subarray_elem([1, 2, 3, 4, 5, 6, 2], 3))\n",
    "print(max_subarray_elem([4, 2, 1, 7, 8, 1, 2], 3))"
   ],
   "metadata": {
    "collapsed": false,
    "pycharm": {
     "name": "#%%\n"
    }
   }
  },
  {
   "cell_type": "markdown",
   "source": [
    "\n",
    "\n",
    "\n",
    "### QUESTION 5\n",
    "#### LONGEST SUBSTRING\n",
    "\n",
    "Given a string, find the `length` of the `longest substring` in it with no more than `K` `distinct` characters.\n",
    "\n",
    "Example 1:\n",
    "\n",
    "Input: String=\"araaci\", K=2\n",
    "Output: 4\n",
    "Explanation: The longest substring with no more than '2' distinct characters is \"araa\".\n",
    "\n",
    "Time Complexity#\n",
    "The above algorithm’s time complexity will be `O(N)`, where `N` is the number of characters in the input string. The outer for loop runs for all characters, and the inner while loop processes each character only once; therefore, the time complexity of the algorithm will be `O(N+N)`, which is asymptotically equivalent to `O(N)`.\n",
    "\n",
    "Space Complexity#\n",
    "The algorithm’s space complexity is `O(K)`, as we will be storing a maximum of `K+1` characters in the HashMap.\n"
   ],
   "metadata": {
    "collapsed": false,
    "pycharm": {
     "name": "#%% md\n"
    }
   }
  },
  {
   "cell_type": "code",
   "execution_count": 47,
   "outputs": [
    {
     "name": "stdout",
     "output_type": "stream",
     "text": [
      "Length of the longest substring: 4\n",
      "Length of the longest substring: 2\n",
      "Length of the longest substring: 5\n"
     ]
    }
   ],
   "source": [
    "def longest_substring_with_k_distinct(str1, k):\n",
    "  window_start = 0\n",
    "  max_length = 0\n",
    "  char_frequency = {}\n",
    "\n",
    "  # in the following loop we'll try to extend the range [window_start, window_end]\n",
    "  for window_end in range(len(str1)):\n",
    "    right_char = str1[window_end]\n",
    "    # if right_char not in char_frequency:\n",
    "    #   char_frequency[right_char] = 0\n",
    "    # char_frequency[right_char] += 1\n",
    "    char_frequency[right_char] = char_frequency.get(right_char, 0) + 1\n",
    "\n",
    "    # shrink the sliding window, until we are left with 'k' distinct characters in the char_frequency\n",
    "    while len(char_frequency) > k:\n",
    "      left_char = str1[window_start]\n",
    "      char_frequency[left_char] -= 1\n",
    "      if char_frequency[left_char] == 0:\n",
    "        del char_frequency[left_char]\n",
    "      window_start += 1  # shrink the window\n",
    "    # remember the maximum length so far\n",
    "    max_length = max(max_length, window_end-window_start + 1)\n",
    "  return max_length\n",
    "\n",
    "\n",
    "def main():\n",
    "  print(\"Length of the longest substring: \" + str(longest_substring_with_k_distinct(\"araaci\", 2)))\n",
    "  print(\"Length of the longest substring: \" + str(longest_substring_with_k_distinct(\"araaci\", 1)))\n",
    "  print(\"Length of the longest substring: \" + str(longest_substring_with_k_distinct(\"cbbebi\", 3)))\n",
    "\n",
    "\n",
    "main()\n"
   ],
   "metadata": {
    "collapsed": false,
    "pycharm": {
     "name": "#%%\n"
    }
   }
  },
  {
   "cell_type": "markdown",
   "source": [],
   "metadata": {
    "collapsed": false,
    "pycharm": {
     "name": "#%% md\n"
    }
   }
  },
  {
   "cell_type": "code",
   "execution_count": 48,
   "outputs": [
    {
     "name": "stdout",
     "output_type": "stream",
     "text": [
      "go\n",
      "og\n",
      "act\n",
      "cat\n"
     ]
    }
   ],
   "source": [
    "b = [\"go\", \"og\", \"act\", \"cat\"]\n",
    "\n",
    "sortedWords = [\"\".join(sorted(w))for w in b]\n",
    "indices = [i for i in range(len(b))]\n",
    "for i in range(len(b)):\n",
    "  indices.sort(key=lambda x:sortedWords[x])\n",
    "  print(b[i])"
   ],
   "metadata": {
    "collapsed": false,
    "pycharm": {
     "name": "#%%\n"
    }
   }
  },
  {
   "cell_type": "markdown",
   "source": [
    "\n"
   ],
   "metadata": {
    "collapsed": false,
    "pycharm": {
     "name": "#%% md\n"
    }
   }
  },
  {
   "cell_type": "markdown",
   "source": [
    "\n",
    "\n",
    "\n",
    "\n",
    "\n",
    "\n",
    "\n",
    "# PATTERN 2 - GRAPHS\n",
    "\n",
    "A path through a graph that visits every edge once is called an `Eulerian path`.\n",
    "`Eulerian` paths are named after Leonhard Euler, who is credited with first solving\n",
    "the puzzle of the seven bridges of `Königsberg`.\n",
    "\n",
    "A `path` only has one end and one beginning, so if a graph has more than two vertices with an odd number of connected edges, there's no way a `Eulerian path` can exist.\n",
    "\n",
    "This means that the bridges of `Königsberg` cannot all be crossed exactly once. In the language of graphs, we would say that there is no `Eulerian path `in this graph.\n",
    "\n",
    "`NB`. You've learned a new fact about graphs: if there are more than two vertices with an odd number of connected edges, there can't be a `Eulerian path — that is, a path that uses every edge exactly once.`"
   ],
   "metadata": {
    "collapsed": false,
    "pycharm": {
     "name": "#%% md\n"
    }
   }
  },
  {
   "cell_type": "code",
   "execution_count": 49,
   "outputs": [
    {
     "name": "stdout",
     "output_type": "stream",
     "text": [
      "..................................\n",
      "Breadth First Search:\n",
      "a\n",
      "b\n",
      "c\n",
      "d\n",
      "e\n",
      "Depth First Search: \n",
      "a\n",
      "d\n",
      "c\n",
      "b\n",
      "e\n",
      "...................\n",
      "defaultdict(<class 'list'>, {'a': ['b', 'c', 'd'], 'b': ['a', 'e'], 'c': ['a', 'd'], 'd': ['a', 'b', 'c'], 'e': ['b', 'd'], 'f': ['i', 'j']})\n",
      "search for adjacent vertex\n",
      "...................\n",
      "not found\n"
     ]
    },
    {
     "data": {
      "text/plain": "'Yes!'"
     },
     "execution_count": 49,
     "metadata": {},
     "output_type": "execute_result"
    }
   ],
   "source": [
    "from dataclasses import dataclass\n",
    "from collections import defaultdict\n",
    "\n",
    "@dataclass\n",
    "class Graph:\n",
    "  graphDic = defaultdict(list)\n",
    "  no_vertices:[int]\n",
    "\n",
    "\n",
    "def addEdge(g, vertex, edge):\n",
    "  g.graphD[vertex].append(edge)\n",
    "\n",
    "\n",
    "def topogologicalSortUtil(graph, v, visited, stack):\n",
    "  visited.append(v)\n",
    "  for i in graph.graphDic[v]:\n",
    "    if i not in visited:\n",
    "      topological_sortUtil(graph, i, visited, stack)\n",
    "  stack.insert(0, v)\n",
    "\n",
    "\n",
    "def topologicalSort(graph):\n",
    "  visited = []\n",
    "  stack = []\n",
    "  for k in list(graph.graphDic):\n",
    "    if k not in visited:\n",
    "      topological_sortUtil(graph, k, visited, stack)\n",
    "  print(stack)\n",
    "\n",
    "\n",
    "\n",
    "\n",
    "print(\"..................................\")\n",
    "\n",
    "def addNode(g, vertex, edge):\n",
    "  return g.graphDic.update({vertex : edge})\n",
    "\n",
    "\n",
    "def addEdges(g, vertex, edge):\n",
    "  g.graphDic[vertex].append(edge)\n",
    "\n",
    "\n",
    "# O(V + E) T and S\n",
    "# Breadth First Search\n",
    "def bfs(g, vertex):\n",
    "  visited = [vertex]\n",
    "  kueue = [vertex]\n",
    "  while kueue:\n",
    "    dequeue = kueue.pop(0)\n",
    "    print(dequeue)\n",
    "    for a_vertex in g.graphDic[dequeue]:\n",
    "      if a_vertex not in visited:\n",
    "        visited.append(a_vertex)\n",
    "        kueue.append(a_vertex)\n",
    "\n",
    "\n",
    "# O(V + E) T and S\n",
    "# Depth First Search\n",
    "def dfs(g, vertex):\n",
    "  visited = [vertex]\n",
    "  stack = [vertex]\n",
    "  while stack:\n",
    "    popVertex = stack.pop()\n",
    "    print(popVertex)\n",
    "    for a_vertex in g.graphDic[popVertex]:\n",
    "      if a_vertex not in visited:\n",
    "        visited.append(a_vertex)\n",
    "        stack.append(a_vertex)\n",
    "\n",
    "def searchVertex(g, vertex, node):\n",
    "  for v in g.graphDic[vertex]:\n",
    "    if v == node:\n",
    "      return \"found\"\n",
    "  return \"not found\"\n",
    "\n",
    "\n",
    "def searchNode(g, vertex):\n",
    "  try:\n",
    "    if g.graphDic[vertex]:\n",
    "      return \"Yes!\"\n",
    "    else:\n",
    "      return \"No!\"\n",
    "  except (KeyError) as err:\n",
    "    print(f\"{err}, not found\")\n",
    "\n",
    "graph = Graph(10)\n",
    "# graph.graphDic.update({\"a\": [\"b\", \"C\"], \"b\": [\"a\", \"d\", \"e\"]})\n",
    "addNode(graph, \"a\", [\"b\", \"c\", \"d\"])\n",
    "addNode(graph, \"b\", [\"a\", \"e\"])\n",
    "addNode(graph, \"c\", [\"a\", \"d\"])\n",
    "addNode(graph, \"d\", [\"a\", \"b\", \"c\"])\n",
    "addNode(graph, \"e\", [\"b\", \"d\"])\n",
    "addNode(graph, \"f\", [\"i\", \"j\"])\n",
    "\n",
    "# Add an Edge to the Graph\n",
    "# addEdges(graph, \"a\", \"c\")\n",
    "\n",
    "print(\"Breadth First Search:\")\n",
    "bfs(graph, \"a\")\n",
    "print(\"Depth First Search: \")\n",
    "dfs(graph, \"a\")\n",
    "\n",
    "print(\"...................\")\n",
    "print(graph.graphDic)\n",
    "\n",
    "print(\"search for adjacent vertex\")\n",
    "print(\"...................\")\n",
    "print(searchVertex(graph, \"c\", \"i\"))\n",
    "\n",
    "searchNode(graph, \"e\")\n"
   ],
   "metadata": {
    "collapsed": false,
    "pycharm": {
     "name": "#%%\n"
    }
   }
  },
  {
   "cell_type": "markdown",
   "source": [
    "\n",
    "\n",
    "\n"
   ],
   "metadata": {
    "collapsed": false,
    "pycharm": {
     "name": "#%% md\n"
    }
   }
  },
  {
   "cell_type": "markdown",
   "source": [],
   "metadata": {
    "collapsed": false,
    "pycharm": {
     "name": "#%% md\n"
    }
   }
  },
  {
   "cell_type": "code",
   "execution_count": 50,
   "outputs": [
    {
     "name": "stdout",
     "output_type": "stream",
     "text": [
      "defaultdict(<class 'list'>, {'A': ['C'], 'C': ['E'], 'E': ['H', 'F'], 'F': ['G'], 'B': ['D', 'C'], 'D': ['F']})\n",
      "\n",
      ".................\n",
      "['B', 'D', 'A', 'C', 'E', 'F', 'G', 'H']\n",
      "[3, 2, 1, 0]\n"
     ]
    }
   ],
   "source": [
    "class Graph:\n",
    "    def __init__(self, no_vertices):\n",
    "        self.graphD = defaultdict(list)\n",
    "        self.no_vertices = no_vertices\n",
    "\n",
    "\n",
    "def add_edge(g, vertex, edge):\n",
    "  g.graphD[vertex].append(edge)\n",
    "\n",
    "def topological_sortUtil(graph, v, visited, stack):\n",
    "    visited.append(v)\n",
    "    for i in graph.graphD[v]:\n",
    "        if i not in visited:\n",
    "            topological_sortUtil(graph, i, visited, stack)\n",
    "    stack.insert(0, v)\n",
    "\n",
    "def topological_sort(graph):\n",
    "    visited = []\n",
    "    stack = []\n",
    "    for k in list(graph.graphD):\n",
    "        if k not in visited:\n",
    "            topological_sortUtil(graph, k, visited, stack)\n",
    "    s = str(stack)\n",
    "    s.split()\n",
    "    print(\"\".join(s))\n",
    "\n",
    "cg = Graph(8)\n",
    "add_edge(cg, \"A\", \"C\")\n",
    "add_edge(cg, \"C\", \"E\")\n",
    "add_edge(cg, \"E\", \"H\")\n",
    "add_edge(cg, \"E\", \"F\")\n",
    "add_edge(cg, \"F\", \"G\")\n",
    "add_edge(cg, \"B\", \"D\")\n",
    "add_edge(cg, \"B\", \"C\")\n",
    "add_edge(cg, \"D\", \"F\")\n",
    "# C depends on A, E depends on C, H depends on E and so on...\n",
    "cg1 = Graph(0)\n",
    "add_edge(cg1, 3, 2)\n",
    "add_edge(cg1, 3, 0)\n",
    "add_edge(cg1, 2, 0)\n",
    "add_edge(cg1, 2, 1)\n",
    "\n",
    "\n",
    "print(cg.graphD)\n",
    "print()\n",
    "print(\".................\")\n",
    "topological_sort(cg)\n",
    "topological_sort(cg1)\n"
   ],
   "metadata": {
    "collapsed": false,
    "pycharm": {
     "name": "#%%\n"
    }
   }
  },
  {
   "cell_type": "markdown",
   "source": [
    "\n",
    "\n",
    "\n",
    "\n",
    "\n",
    "\n"
   ],
   "metadata": {
    "collapsed": false,
    "pycharm": {
     "name": "#%% md\n"
    }
   }
  },
  {
   "cell_type": "markdown",
   "source": [
    "\n",
    "\n",
    "\n",
    "\n",
    "\n",
    "\n",
    "# PATTERN 3 - RECURSION\n",
    "\n",
    "Elijah is tasked to Lead a fund-raising campaign by recruiting individuals to volunteer a total of $1000.00, each doling out a dollar($1.00)\n",
    "\n",
    "Recursive solution\n",
    "1. Elijah should Recruit `10 Americans` to donate `$100.00` each.\n",
    "\n",
    "2. Each of the Americans should recruit 10 additional `Ghanaians` donate `$10.00`\n",
    "\n",
    "3. Each of the `Ghanaians` should recruit `10` additional `Fantes` to donate `$1.00`"
   ],
   "metadata": {
    "collapsed": false,
    "pycharm": {
     "name": "#%% md\n"
    }
   }
  },
  {
   "cell_type": "code",
   "execution_count": 51,
   "outputs": [
    {
     "name": "stdout",
     "output_type": "stream",
     "text": [
      "500\n",
      "50.0\n",
      "5.0\n",
      "0.5\n"
     ]
    },
    {
     "data": {
      "text/plain": "0"
     },
     "execution_count": 51,
     "metadata": {},
     "output_type": "execute_result"
    }
   ],
   "source": [
    "def fund_raising(n):\n",
    "    print(n)\n",
    "    if n in [1, 0]:\n",
    "        return 1\n",
    "    if n < 1:\n",
    "      return 0\n",
    "    else:\n",
    "        Americans = 10\n",
    "        return fund_raising(n/Americans)\n",
    "fund_raising(500)"
   ],
   "metadata": {
    "collapsed": false,
    "pycharm": {
     "name": "#%%\n"
    }
   }
  },
  {
   "cell_type": "markdown",
   "source": [
    "\n",
    "#### THREE PROPERTIES OF RECURSION\n",
    "\n",
    "1. It must be possible to decompose the original problem into simpler\n",
    "instances of the same problem.\n",
    "2. Once each of these simpler subproblems has been solved, it must be\n",
    "possible to combine these solutions to produce a solution to the original\n",
    "problem.\n",
    "3. As the large problem is broken down into successively less complex\n",
    "ones, those subproblems must eventually become so simple that they\n",
    "can be solved without further subdivision\n",
    "\n",
    "\n",
    "\n",
    "\n",
    "\n",
    "#### Ques\n",
    "Suppose that there is a pile of sixteen `16` coins on a table, one of which is a\n",
    "counterfeit weighing slightly less than the others. You also have a `two-pan`\n",
    "balance which allows you to weigh one set of coins against another. Using\n",
    "the `divide-and-conquer strategy`, how could you determine the counterfeit\n",
    "coin in `four` weighings?\n",
    "If you solve this problem, see if you can come up with a procedure\n",
    "to find the counterfeit coin in just `three` weighings. The strategy is much\n",
    "the same, but the problem must be subdivided in a different way. Can you\n",
    "generalize this approach so that it works for any set of `N` coins?"
   ],
   "metadata": {
    "collapsed": false,
    "pycharm": {
     "name": "#%% md\n"
    }
   }
  },
  {
   "cell_type": "code",
   "execution_count": 52,
   "outputs": [
    {
     "name": "stdout",
     "output_type": "stream",
     "text": [
      "16\n",
      "8.0\n",
      "4.0\n",
      "2.0\n",
      "1.0\n"
     ]
    },
    {
     "data": {
      "text/plain": "1"
     },
     "execution_count": 52,
     "metadata": {},
     "output_type": "execute_result"
    }
   ],
   "source": [
    "def find_conterfeit(n):\n",
    "  print(n)\n",
    "  if n in [1, 0]:\n",
    "    return 1\n",
    "  else:\n",
    "    return find_conterfeit(n / 2)\n",
    "find_conterfeit(16)"
   ],
   "metadata": {
    "collapsed": false,
    "pycharm": {
     "name": "#%%\n"
    }
   }
  },
  {
   "cell_type": "code",
   "execution_count": 53,
   "outputs": [
    {
     "data": {
      "text/plain": "120"
     },
     "execution_count": 53,
     "metadata": {},
     "output_type": "execute_result"
    }
   ],
   "source": [
    "def fact(n):\n",
    "  if n == 1:\n",
    "    return 1\n",
    "  else:\n",
    "    return n * fact(n - 1)\n",
    "fact(5)"
   ],
   "metadata": {
    "collapsed": false,
    "pycharm": {
     "name": "#%%\n"
    }
   }
  },
  {
   "cell_type": "markdown",
   "source": [],
   "metadata": {
    "collapsed": false,
    "pycharm": {
     "name": "#%% md\n"
    }
   }
  },
  {
   "cell_type": "code",
   "execution_count": 54,
   "outputs": [
    {
     "data": {
      "text/plain": "1"
     },
     "execution_count": 54,
     "metadata": {},
     "output_type": "execute_result"
    }
   ],
   "source": [
    "a = {1: 0, 2: 1, 3: 2}\n",
    "a.get(2,)"
   ],
   "metadata": {
    "collapsed": false,
    "pycharm": {
     "name": "#%%\n"
    }
   }
  },
  {
   "cell_type": "code",
   "execution_count": null,
   "outputs": [],
   "source": [],
   "metadata": {
    "collapsed": false,
    "pycharm": {
     "name": "#%%\n"
    }
   }
  }
 ],
 "metadata": {
  "kernelspec": {
   "display_name": "Python 3",
   "language": "python",
   "name": "python3"
  },
  "language_info": {
   "codemirror_mode": {
    "name": "ipython",
    "version": 2
   },
   "file_extension": ".py",
   "mimetype": "text/x-python",
   "name": "python",
   "nbconvert_exporter": "python",
   "pygments_lexer": "ipython2",
   "version": "2.7.6"
  }
 },
 "nbformat": 4,
 "nbformat_minor": 0
}