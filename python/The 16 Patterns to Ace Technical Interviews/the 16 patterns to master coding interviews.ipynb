{
 "cells": [
  {
   "cell_type": "markdown",
   "source": [
    "# PATTERN 1 - SLIDING WINDOWS (DYNAMIC AND FIXED)"
   ],
   "metadata": {
    "collapsed": false,
    "pycharm": {
     "name": "#%% md\n"
    }
   }
  },
  {
   "cell_type": "markdown",
   "source": [
    "Given an array, find the average of all subarrays of ‘K’ contiguous elements in it.\n",
    "Array: [1, 3, 2, 6, -1, 4, 1, 8, 2],\n",
    "K=5\n",
    "(1 + 3 + 2 + 6 + -1)/ 5\n",
    "(3 + 2 + 6 + -1 + 4)/5\n",
    "..\n",
    "..\n",
    "(-1 + 4 + 1 + 8 + 2)/5\n",
    "\n",
    "Output: [2.2, 2.8, 2.4, 3.6, 2.8]"
   ],
   "metadata": {
    "collapsed": false,
    "pycharm": {
     "name": "#%% md\n"
    }
   }
  },
  {
   "cell_type": "code",
   "execution_count": 128,
   "outputs": [
    {
     "name": "stdout",
     "output_type": "stream",
     "text": [
      "Averages of subarrays of size K: [2.2, 2.8, 2.4, 3.6, 2.8]\n",
      "Averages of subarrays of size K: [2.2, 2.8, 2.4, 3.6, 2.8]\n",
      "Averages of subarrays of size K: [2.2, 2.8, 2.4, 3.6, 2.8]\n",
      "Averages of subarrays of size K: [2.2, 2.8, 2.4, 3.6, 2.8]\n"
     ]
    }
   ],
   "source": [
    "# Brute force Approach\n",
    "def find_averages_of_subarrays(K, arr):\n",
    "  result = []\n",
    "  for i in range(len(arr)-K+1):\n",
    "    # find sum of next 'K' elements\n",
    "    _sum = 0.0\n",
    "    for j in range(i, i+K):\n",
    "      _sum += arr[j]\n",
    "    result.append(_sum/K)  # calculate average\n",
    "\n",
    "  return result\n",
    "\n",
    "# Optimal Approach\n",
    "def find_averages_of_subarrays_1(K, arr):\n",
    "  result = []\n",
    "  windowSum = 0.0\n",
    "  windowStart = 0\n",
    "  for windowEnd in range(len(arr)):\n",
    "    windowSum += arr[windowEnd]  # add the next element\n",
    "    # slide the window, we don't need to slide if we've not hit the required window size of 'k'\n",
    "    if windowEnd >= K - 1:\n",
    "      result.append(windowSum / K)  # calculate the average\n",
    "      windowSum -= arr[windowStart]  # subtract the element going out\n",
    "      windowStart += 1  # slide the window ahead\n",
    "\n",
    "  return result\n",
    "\n",
    "def main():\n",
    "  result = find_averages_of_subarrays(5, [1, 3, 2, 6, -1, 4, 1, 8, 2])\n",
    "  result1 = find_averages_of_subarrays_1(5, [1, 3, 2, 6, -1, 4, 1, 8, 2])\n",
    "  print(\"Averages of subarrays of size K: \" + str(result))\n",
    "  print(\"Averages of subarrays of size K: \" + str(result1))\n",
    "\n",
    "\n",
    "main()"
   ],
   "metadata": {
    "collapsed": false,
    "pycharm": {
     "name": "#%%\n"
    }
   }
  },
  {
   "cell_type": "markdown",
   "source": [
    "\n",
    "### TIDBITS\n",
    "\n",
    "     len(arr) - k + 1 MEANS\n",
    "\n",
    "We're looping through the array of n size and subtracting subarray length from the length of the entire array\n",
    "and since we're dealing with index, we'll start from 0, which is why\n",
    "the plus 1 has been added.\n",
    "\n",
    "    range(i, k + 1) MEANS\n",
    "\n",
    "At each iteration `i`, we're looping within the range of `i` and `k + 1`, which is\n",
    "length of subarray size plus 1, since at every iteration, we're increasing the window size and reducing `i`"
   ],
   "metadata": {
    "collapsed": false,
    "pycharm": {
     "name": "#%% md\n"
    }
   }
  },
  {
   "cell_type": "markdown",
   "source": [
    "\n",
    "\n",
    "\n",
    "\n",
    "\n",
    "\n",
    "\n",
    "\n"
   ],
   "metadata": {
    "collapsed": false,
    "pycharm": {
     "name": "#%% md\n"
    }
   }
  },
  {
   "cell_type": "markdown",
   "source": [
    "### QUESTION 2 (FIXED)\n",
    "\n",
    "Given an array of positive numbers and a positive number ‘k,’ find the maximum sum of any contiguous subarray of size ‘k’.\n",
    "\n",
    "Example 1:\n",
    "\n",
    "Input: [2, 1, 5, 1, 3, 2], k=3\n",
    "Output: 9\n",
    "Explanation: Subarray with maximum sum is [5, 1, 3]."
   ],
   "metadata": {
    "collapsed": false,
    "pycharm": {
     "name": "#%% md\n"
    }
   }
  },
  {
   "cell_type": "code",
   "execution_count": 129,
   "outputs": [
    {
     "name": "stdout",
     "output_type": "stream",
     "text": [
      "9\n",
      "9\n",
      "9\n",
      "9\n"
     ]
    }
   ],
   "source": [
    "# Brute force Approach O(n * k ) T, O(n) S\n",
    "def max_subarray_sum(arr, k):\n",
    "  result = []\n",
    "  for i in range(len(arr) - k + 1):\n",
    "    max_sum = 0\n",
    "    for j in range(i, i + k):\n",
    "      max_sum += arr[j]\n",
    "    result.append(max_sum)\n",
    "  return max(result)\n",
    "print(max_subarray_sum([2, 1, 5, 1, 3, 2], 3))\n",
    "\n",
    "# Optimal Approach\n",
    "def max_subarray_sum_1(arr, k):\n",
    "  res = []\n",
    "  i = cs = 0 # cs is current sum, \"i\" is window start\n",
    "  for j in range(len(arr)): # j is where the subarray ends\n",
    "    cs += arr[j]\n",
    "    if j >= k - 1:\n",
    "      res.append(cs)\n",
    "      cs -= arr[i]\n",
    "      i += 1\n",
    "  fs = max(res)\n",
    "  return fs\n",
    "print(max_subarray_sum_1([2, 1, 5, 1, 3, 2], 3))\n",
    "\n"
   ],
   "metadata": {
    "collapsed": false,
    "pycharm": {
     "name": "#%%\n"
    }
   }
  },
  {
   "cell_type": "markdown",
   "source": [
    "\n",
    "\n",
    "\n",
    "\n"
   ],
   "metadata": {
    "collapsed": false,
    "pycharm": {
     "name": "#%% md\n"
    }
   }
  },
  {
   "cell_type": "markdown",
   "source": [
    "#### QUESTION 3 - (NON FIXED)\n",
    "\n",
    "Given an array of positive integers and a number ‘S,’ find the length of the smallest contiguous subarray whose sum is greater than or equal to ‘S’. Return 0 if no such subarray exists.\n",
    "\n",
    "Example 1:\n",
    "\n",
    "    Input: [2, 1, 5, 2, 3, 2], S=7\n",
    "    Output: 2\n",
    "    Explanation: The smallest subarray with a sum greater than or equal to ‘7’ is [5, 2].\n",
    "\n"
   ],
   "metadata": {
    "collapsed": false,
    "pycharm": {
     "name": "#%% md\n"
    }
   }
  },
  {
   "cell_type": "code",
   "execution_count": 130,
   "outputs": [
    {
     "name": "stdout",
     "output_type": "stream",
     "text": [
      "Smallest subarray length: 2\n",
      "Smallest subarray length: 3\n",
      "Smallest subarray length: 3\n",
      "Smallest subarray length: 2\n",
      "Smallest subarray length: 2\n",
      "Smallest subarray length: 3\n",
      "Smallest subarray length: 3\n",
      "Smallest subarray length: 2\n"
     ]
    }
   ],
   "source": [
    "import math\n",
    "\n",
    "# APPROACH 1\n",
    "def smallest_subarray_sum(s, arr):\n",
    "  # win_start = i, win_end = j\n",
    "  i = _sum = 0\n",
    "  min_len = math.inf\n",
    "  for j in range(len(arr)):\n",
    "    _sum += arr[j]\n",
    "    while _sum >= s:\n",
    "      min_len = min(min_len, j - i + 1)\n",
    "      _sum -= arr[i]\n",
    "      i += 1\n",
    "  if min_len == math.inf:\n",
    "    return 0\n",
    "  return min_len\n",
    "\n",
    "# APPROACH 2\n",
    "def dynamic_sliding_window(arr, k):\n",
    "  min_length = float('inf')\n",
    "  start = end = current_sum = 0\n",
    "\n",
    "  # extend the sliding window until our criteria is met\n",
    "  while end < len(arr):\n",
    "    current_sum = current_sum + arr[end]\n",
    "    end = end + 1\n",
    "\n",
    "    # contract the sliding window until it\n",
    "    # no longer meets our condition\n",
    "    while start < end and current_sum >= k:\n",
    "      current_sum = current_sum - arr[start]\n",
    "      start += 1\n",
    "\n",
    "    # update the minimum length if this is shorter than the current min\n",
    "      min_length = min(min_length, end - start + 1)\n",
    "\n",
    "  return min_length\n",
    "\n",
    "\n",
    "\n",
    "def main():\n",
    "  print(\"Smallest subarray length: \" + str(smallest_subarray_sum(7, [2, 1, 5, 2, 3, 2])))\n",
    "  print(\"Smallest subarray length: \" + str(smallest_subarray_sum(8, [3, 4, 1, 1, 6])))\n",
    "  print(\"Smallest subarray length: \" + str(smallest_subarray_sum(8, [2, 1, 5, 2, 3, 2])))\n",
    "\n",
    "  print(\"Smallest subarray length:\", dynamic_sliding_window([2, 1, 5, 2, 3, 2], 7))\n",
    "\n",
    "\n",
    "main()"
   ],
   "metadata": {
    "collapsed": false,
    "pycharm": {
     "name": "#%%\n"
    }
   }
  },
  {
   "cell_type": "markdown",
   "source": [
    "\n"
   ],
   "metadata": {
    "collapsed": false,
    "pycharm": {
     "name": "#%% md\n"
    }
   }
  },
  {
   "cell_type": "markdown",
   "source": [
    "\n",
    "\n",
    "\n",
    "\n",
    "\n",
    "\n",
    "\n",
    "### QUESTION 4\n",
    "#### MAX ELEMENT IN SUBARRAY OF K SIZE\n",
    "\n",
    " Find max element in a subarray of k size\n",
    " E.g.[1, 2, 3, 4, 5, 6], k = 3\n",
    " Output: [3, 4, 5, 6]\n"
   ],
   "metadata": {
    "collapsed": false,
    "pycharm": {
     "name": "#%% md\n"
    }
   }
  },
  {
   "cell_type": "code",
   "execution_count": 131,
   "outputs": [
    {
     "name": "stdout",
     "output_type": "stream",
     "text": [
      "[3, 4, 5, 6, 6]\n",
      "[4, 7, 8, 8, 8]\n",
      "[3, 4, 5, 6, 6]\n",
      "[4, 7, 8, 8, 8]\n"
     ]
    }
   ],
   "source": [
    "\n",
    "def max_subarray_elem(arr, k):\n",
    "  res = []\n",
    "  max_elem = 0\n",
    "  win_start = 0\n",
    "  for win_end in range(len(arr)):\n",
    "    max_elem = max(max_elem, arr[win_end])\n",
    "    if win_end >= k - 1:\n",
    "      res.append(max_elem)\n",
    "      win_start += 1\n",
    "  return res\n",
    "print(max_subarray_elem([1, 2, 3, 4, 5, 6, 2], 3))\n",
    "print(max_subarray_elem([4, 2, 1, 7, 8, 1, 2], 3))"
   ],
   "metadata": {
    "collapsed": false,
    "pycharm": {
     "name": "#%%\n"
    }
   }
  },
  {
   "cell_type": "markdown",
   "source": [
    "\n",
    "\n",
    "\n",
    "### QUESTION 5\n",
    "#### LONGEST SUBSTRING\n",
    "\n",
    "Given a string, find the `length` of the `longest substring` in it with no more than `K` `distinct` characters.\n",
    "\n",
    "Example 1:\n",
    "\n",
    "Input: String=\"araaci\", K=2\n",
    "Output: 4\n",
    "Explanation: The longest substring with no more than '2' distinct characters is \"araa\".\n",
    "\n",
    "Time Complexity#\n",
    "The above algorithm’s time complexity will be `O(N)`, where `N` is the number of characters in the input string. The outer for loop runs for all characters, and the inner while loop processes each character only once; therefore, the time complexity of the algorithm will be `O(N+N)`, which is asymptotically equivalent to `O(N)`.\n",
    "\n",
    "Space Complexity#\n",
    "The algorithm’s space complexity is `O(K)`, as we will be storing a maximum of `K+1` characters in the HashMap.\n"
   ],
   "metadata": {
    "collapsed": false,
    "pycharm": {
     "name": "#%% md\n"
    }
   }
  },
  {
   "cell_type": "code",
   "execution_count": 132,
   "outputs": [
    {
     "name": "stdout",
     "output_type": "stream",
     "text": [
      "Length of the longest substring: 4\n",
      "Length of the longest substring: 2\n",
      "Length of the longest substring: 5\n",
      "Length of the longest substring: 4\n",
      "Length of the longest substring: 2\n",
      "Length of the longest substring: 5\n"
     ]
    }
   ],
   "source": [
    "def longest_substring_with_k_distinct(str1, k):\n",
    "  window_start = 0\n",
    "  max_length = 0\n",
    "  char_frequency = {}\n",
    "\n",
    "  # in the following loop we'll try to extend the range [window_start, window_end]\n",
    "  for window_end in range(len(str1)):\n",
    "    right_char = str1[window_end]\n",
    "    # if right_char not in char_frequency:\n",
    "    #   char_frequency[right_char] = 0\n",
    "    # char_frequency[right_char] += 1\n",
    "    char_frequency[right_char] = char_frequency.get(right_char, 0) + 1\n",
    "\n",
    "    # shrink the sliding window, until we are left with 'k' distinct characters in the char_frequency\n",
    "    while len(char_frequency) > k:\n",
    "      left_char = str1[window_start]\n",
    "      char_frequency[left_char] -= 1\n",
    "      if char_frequency[left_char] == 0:\n",
    "        del char_frequency[left_char]\n",
    "      window_start += 1  # shrink the window\n",
    "    # remember the maximum length so far\n",
    "    max_length = max(max_length, window_end-window_start + 1)\n",
    "  return max_length\n",
    "\n",
    "\n",
    "def main():\n",
    "  print(\"Length of the longest substring: \" + str(longest_substring_with_k_distinct(\"araaci\", 2)))\n",
    "  print(\"Length of the longest substring: \" + str(longest_substring_with_k_distinct(\"araaci\", 1)))\n",
    "  print(\"Length of the longest substring: \" + str(longest_substring_with_k_distinct(\"cbbebi\", 3)))\n",
    "\n",
    "\n",
    "main()\n"
   ],
   "metadata": {
    "collapsed": false,
    "pycharm": {
     "name": "#%%\n"
    }
   }
  },
  {
   "cell_type": "markdown",
   "source": [],
   "metadata": {
    "collapsed": false,
    "pycharm": {
     "name": "#%% md\n"
    }
   }
  },
  {
   "cell_type": "markdown",
   "source": [
    "\n",
    "\n",
    "\n",
    "\n",
    "\n",
    "\n",
    "\n",
    "\n",
    "# NUMBER OF SEGMENTS OF ITEMS THAT CAN\n",
    "# BE SHIPPED TOGETHER (NON FIXED)\n",
    "weights = [1, 3, 6]\n",
    "k = 3\n",
    "Output: 5"
   ],
   "metadata": {
    "collapsed": false,
    "pycharm": {
     "name": "#%% md\n"
    }
   }
  },
  {
   "cell_type": "code",
   "execution_count": 133,
   "outputs": [
    {
     "name": "stdout",
     "output_type": "stream",
     "text": [
      "5\n",
      "3\n",
      "6\n",
      "5\n",
      "3\n",
      "6\n"
     ]
    }
   ],
   "source": [
    "\"\"\"\n",
    "Amazon warehouse has a group of n items of various weights lined up in a row.\n",
    "A segment of contiguously placed items can be shipped together if and only if\n",
    "the difference between the weights of the heaviest and lightest item differs\n",
    "by at most k to avoid load imbalance.\n",
    "\n",
    "Given the weights of the n items and an integer k, find the number of\n",
    "segments of items that can be shipped together.\n",
    "\n",
    "Constraint = max[i] - min[i] <= k\n",
    "\n",
    "E.g.\n",
    "weights = [1, 3, 6]\n",
    "k = 3\n",
    "\n",
    "Output  = 5 (five contiguous items can be shipped at once)\n",
    "\n",
    "        1 - 1 = 0 < k\n",
    "        3 - 1 = 2 < k\n",
    "        3 - 3 = 0 < k\n",
    "        6 - 3 = 3 == k\n",
    "        6 - 1 = 5 > k\n",
    "        6 - 6 = 0 < k\n",
    "\n",
    "\n",
    "\"\"\"\n",
    "\n",
    "\n",
    "# O(n) T, O(1) S\n",
    "def countPossibleSegments1(w, k):\n",
    "    balanced_weights = start = end = 0\n",
    "    while start < len(w):\n",
    "        max_weight = max(w[start], w[end])\n",
    "        min_weight = min(w[start], w[end])\n",
    "        difference = max_weight - min_weight\n",
    "        if difference <= k:\n",
    "            balanced_weights += 1\n",
    "            end += 1\n",
    "            if end == len(w):\n",
    "                start += 1\n",
    "                end = start\n",
    "        else:\n",
    "            start += 1\n",
    "            end = start\n",
    "\n",
    "    return balanced_weights\n",
    "\n",
    "\n",
    "def main():\n",
    "    weightsI = [1, 3, 6]\n",
    "    weightsII = [1, 5, 9]\n",
    "    weightsIII = [1, 10, 2]\n",
    "    k = 3\n",
    "    k1 = 9\n",
    "    print(countPossibleSegments1(weightsI, k))\n",
    "    print(countPossibleSegments1(weightsII, k))\n",
    "    print(countPossibleSegments1(weightsIII, k1))\n",
    "\n",
    "\n",
    "if __name__ == '__main__':\n",
    "    main()"
   ],
   "metadata": {
    "collapsed": false,
    "pycharm": {
     "name": "#%%\n"
    }
   }
  },
  {
   "cell_type": "markdown",
   "source": [
    "\n",
    "\n"
   ],
   "metadata": {
    "collapsed": false,
    "pycharm": {
     "name": "#%% md\n"
    }
   }
  },
  {
   "cell_type": "markdown",
   "source": [],
   "metadata": {
    "collapsed": false,
    "pycharm": {
     "name": "#%% md\n"
    }
   }
  },
  {
   "cell_type": "markdown",
   "source": [
    "\n",
    "\n",
    "\n",
    "\n",
    "\n",
    "\n",
    "\n",
    "\n",
    "\n",
    "\n",
    "\n",
    "\n",
    "# LONGEST SUBSTRING WITHOUT REPEATING CHARACTERS\n",
    "* Medium\n",
    "\n",
    "Given a string s, find the length of the longest substring without repeating characters.\n",
    "\n",
    "\n",
    "\n",
    "Example 1:\n",
    "\n",
    "Input: s = \"abcabcbb\"\n",
    "Output: 3\n",
    "Explanation: The answer is \"abc\", with the length of 3.\n",
    "\n",
    "Example 2:\n",
    "\n",
    "Input: s = \"bbbbb\"\n",
    "Output: 1\n",
    "Explanation: The answer is \"b\", with the length of 1.\n",
    "\n",
    "Example 3:\n",
    "\n",
    "Input: s = \"pwwkew\"\n",
    "Output: 3\n",
    "Explanation: The answer is \"wke\", with the length of 3.\n",
    "Notice that the answer must be a substring, \"pwke\" is a subsequence and not a substring.\n",
    "\n",
    "\n",
    "\n",
    "Constraints:\n",
    "\n",
    "    0 <= s.length <= 5 * 104\n",
    "    s consists of English letters, digits, symbols and spaces.\n",
    "\n",
    "\n",
    "\n",
    "\n",
    "\n",
    "\n",
    "\n",
    "\n",
    "\n"
   ],
   "metadata": {
    "collapsed": false,
    "pycharm": {
     "name": "#%% md\n"
    }
   }
  },
  {
   "cell_type": "code",
   "execution_count": 134,
   "outputs": [
    {
     "data": {
      "text/plain": "\"\\n1. We'll have two windows: start and end, a hash table as well\\n1. Traverse every character whiles increasing our end window size\\n   and keep track of the number of characters traversed in a hash-table\\n2. If we get to a character already traversed, we'll shrink our window size\\n\""
     },
     "execution_count": 114,
     "metadata": {},
     "output_type": "execute_result"
    },
    {
     "data": {
      "text/plain": "\"\\n1. We'll have two windows: start and end, a hash table as well\\n1. Traverse every character whiles increasing our end window size\\n   and keep track of the number of characters traversed in a hash-table\\n2. If we get to a character already traversed, we'll shrink our window size\\n\""
     },
     "execution_count": 134,
     "metadata": {},
     "output_type": "execute_result"
    }
   ],
   "source": [
    "\"\"\"\n",
    "1. We'll have two windows: start and end, a hash table as well\n",
    "1. Traverse every character whiles increasing our end window size\n",
    "   and keep track of the number of characters traversed in a hash-table\n",
    "2. If we get to a character already traversed, we'll shrink our window size\n",
    "\"\"\"\n"
   ],
   "metadata": {
    "collapsed": false,
    "pycharm": {
     "name": "#%%\n"
    }
   }
  },
  {
   "cell_type": "code",
   "execution_count": 135,
   "outputs": [
    {
     "name": "stdout",
     "output_type": "stream",
     "text": [
      "3\n",
      "3\n",
      "3\n",
      "1\n",
      "1\n",
      "3\n",
      "3\n",
      "3\n",
      "1\n",
      "1\n"
     ]
    }
   ],
   "source": [
    "# Input: s = “abcabcbb” Output: 3\n",
    "\n",
    "# O(n) T, O(n)S\n",
    "def longest_substring_without_repeating_chars(arr):\n",
    "    hSet = set()\n",
    "    start = end = charLen = finalCharLen = 0\n",
    "    while start < len(arr) > end:\n",
    "        ch = arr[end]\n",
    "        if ch not in hSet:\n",
    "            hSet.add(ch)\n",
    "            charLen += 1\n",
    "            end += 1\n",
    "            finalCharLen = max(finalCharLen, charLen)\n",
    "        else:\n",
    "            start += 1\n",
    "            end = start\n",
    "            charLen = 0\n",
    "            hSet.clear()\n",
    "    return finalCharLen\n",
    "\n",
    "\n",
    "\n",
    "\n",
    "s = \"dvdf\"\n",
    "y = \"abcabcbb\"\n",
    "z = \"pwwkew\"\n",
    "o = \"bbbbb\"\n",
    "p = \" \"\n",
    "\n",
    "print(longest_substring_without_repeating_chars(y))\n",
    "print(longest_substring_without_repeating_chars(s))\n",
    "print(longest_substring_without_repeating_chars(z))\n",
    "print(longest_substring_without_repeating_chars(o))\n",
    "print(longest_substring_without_repeating_chars(p))\n",
    "\n",
    "\n",
    "\n",
    "\n"
   ],
   "metadata": {
    "collapsed": false,
    "pycharm": {
     "name": "#%%\n"
    }
   }
  },
  {
   "cell_type": "markdown",
   "source": [
    "\n",
    "# SUBSTRING WITH CONCATENATION OF ALL WORDS\n",
    "* Hard\n",
    "\n",
    "You are given a string s and an array of strings words of the same length.\n",
    "Return all starting indices of substring(s) in s that is a concatenation\n",
    "of each word in words exactly once, in any order, and without any intervening characters.\n",
    "You can return the answer in any order.\n",
    "\n",
    "\n",
    "Example 1:\n",
    "\n",
    "Input: s = \"barfoothefoobarman\", words = [\"foo\",\"bar\"]\n",
    "Output: [0,9]\n",
    "Explanation: Substrings starting at index 0 and 9 are \"barfoo\" and \"foobar\" respectively.\n",
    "The output order does not matter, returning [9,0] is fine too.\n",
    "\n",
    "Example 2:\n",
    "\n",
    "Input: s = \"wordgoodgoodgoodbestword\", words = [\"word\",\"good\",\"best\",\"word\"]\n",
    "Output: []\n",
    "\n",
    "Example 3:\n",
    "\n",
    "Input: s = \"barfoofoobarthefoobarman\", words = [\"bar\",\"foo\",\"the\"]\n",
    "Output: [6,9,12]\n",
    "\n",
    "\n",
    "Constraints:\n",
    "\n",
    "    1 <= s.length <= 104\n",
    "    1 <= words.length <= 5000\n",
    "    1 <= words[i].length <= 30\n",
    "    s and words[i] consist of lowercase English letters."
   ],
   "metadata": {
    "collapsed": false,
    "pycharm": {
     "name": "#%% md\n"
    }
   }
  },
  {
   "cell_type": "code",
   "execution_count": 136,
   "outputs": [
    {
     "name": "stdout",
     "output_type": "stream",
     "text": [
      "[0, 9]\n",
      "[0, 9]\n"
     ]
    }
   ],
   "source": [
    "from typing import List\n",
    "\n",
    "# Approach 1\n",
    "def findSubstring(s: str, words: List[str]) -> List[int]:\n",
    "\n",
    "        #join words together, find length of total\n",
    "        lenWords = len(\"\".join(words))\n",
    "        #empty array\n",
    "        ansArr =[]\n",
    "\n",
    "        #loop thru words- skip last bit, coz words can't fit if len of rem string is less than words\n",
    "        for i in range((len(s)-lenWords)+1):\n",
    "            #clumsy chunking method\n",
    "            #don't think i need to change it to string first\n",
    "            str = s[i:i+lenWords]\n",
    "            n= len(words[0])\n",
    "            chunk = [str[i:i+n] for i in range(0, len(str), n)]\n",
    "\n",
    "            #new empty array\n",
    "            tempArr = []\n",
    "            #loop thru words\n",
    "            for j in words:\n",
    "                #if the word is not in chunk\n",
    "                if j not in chunk:\n",
    "                    #clear the temp array\n",
    "                    tempArr.clear()\n",
    "                    #next iteration (all words must be in chunk)\n",
    "                    break\n",
    "                #add i to tempArr once only\n",
    "                if j in chunk and len(tempArr) <1:\n",
    "                    tempArr.append(i)\n",
    "                    #remove j (to check for dups)\n",
    "                    chunk.remove(j)\n",
    "                #no point adding i to temp arr again\n",
    "                elif j in chunk and len(tempArr) >=1:\n",
    "                    #just remove the chunk\n",
    "                    chunk.remove(j)\n",
    "\n",
    "            if len(tempArr)>0:\n",
    "                ansArr.append(tempArr[0])\n",
    "        return ansArr\n",
    "words = [\"foo\", \"bar\"]\n",
    "s = \"barfoothefoobarman\"\n",
    "print(findSubstring(s, words))\n"
   ],
   "metadata": {
    "collapsed": false,
    "pycharm": {
     "name": "#%%\n"
    }
   }
  },
  {
   "cell_type": "markdown",
   "source": [
    "\n",
    "\n",
    "\n",
    "\n",
    "\n",
    "\n",
    "\n",
    "\n",
    "\n"
   ],
   "metadata": {
    "collapsed": false,
    "pycharm": {
     "name": "#%% md\n"
    }
   }
  },
  {
   "cell_type": "markdown",
   "source": [
    "\n",
    "# Amazon Customer Reviews - TWO POINTERS\n",
    "(Auto completion Question)\n",
    "Amazon is building a way to help customers search\n",
    "reviews quicker by providing real-time suggestions to search\n",
    "terms when the customer starts typing. When given a minimum\n",
    "of two characters into the search field the system will\n",
    "suggest at most three keywords from the review word repository. As the customer\n",
    "continues to type in the reviews search bar the relevant keyword suggestions will\n",
    "update automatically.\n",
    "\n",
    "Write an algorithm that will output a maximum of three keyword\n",
    "suggestions after each character is typed by the customer in the search field\n",
    "\n",
    "if there are more than three acceptable keywords, return the keywords that\n",
    "are first in alphabetical order\n",
    "\n",
    "Example 1:\n",
    "\n",
    "Input: products = [\"mobile\",\"mouse\",\"moneypot\",\"monitor\",\"mousepad\"], searchWord = \"mouse\"\n",
    "Output: [\n",
    "[\"mobile\",\"moneypot\",\"monitor\"],\n",
    "[\"mobile\",\"moneypot\",\"monitor\"],\n",
    "[\"mouse\",\"mousepad\"],\n",
    "[\"mouse\",\"mousepad\"],\n",
    "[\"mouse\",\"mousepad\"]\n",
    "]\n",
    "Explanation: products sorted lexicographically = [\"mobile\",\"moneypot\",\"monitor\",\"mouse\",\"mousepad\"]\n",
    "After typing m and mo all products match and we show user [\"mobile\",\"moneypot\",\"monitor\"]\n",
    "After typing mou, mous and mouse the system suggests [\"mouse\",\"mousepad\"]\n",
    "\n"
   ],
   "metadata": {
    "collapsed": false,
    "pycharm": {
     "name": "#%% md\n"
    }
   }
  },
  {
   "cell_type": "code",
   "execution_count": 137,
   "outputs": [
    {
     "name": "stdout",
     "output_type": "stream",
     "text": [
      "[['mobile', 'moneypot', 'monitor'], ['mobile', 'moneypot', 'monitor'], ['mouse', 'mousepad'], ['mouse', 'mousepad'], ['mouse', 'mousepad']]\n",
      "[['mobile', 'moneypot', 'monitor'], ['mobile', 'moneypot', 'monitor'], ['mouse', 'mousepad'], ['mouse', 'mousepad'], ['mouse', 'mousepad']]\n"
     ]
    }
   ],
   "source": [
    "def suggested_products( products, search_word):\n",
    "    products.sort()  # n(log n)\n",
    "    res = []\n",
    "    for i in range(len(search_word)):  # O(c)\n",
    "        # products = [p for p in products if p[:i+1] == search_word[:i+1]]\n",
    "        prod = []   # O(p)\n",
    "        for p in products:  # O(w)\n",
    "            s = p[:i + 1]\n",
    "            y = search_word[:i + 1]\n",
    "            if p[:i + 1] == search_word[:i + 1]:\n",
    "                prod.append(p)\n",
    "        if len(prod) >= 3:\n",
    "            res.append(prod[:3])\n",
    "        else:\n",
    "            res.append(prod)\n",
    "\n",
    "        # res.append(prod[:min(3, len(prod))])\n",
    "\n",
    "    return res\n",
    "print(suggested_products([\"mobile\", \"mouse\", \"moneypot\", \"monitor\", \"mousepad\"], \"mouse\"))\n"
   ],
   "metadata": {
    "collapsed": false,
    "pycharm": {
     "name": "#%%\n"
    }
   }
  },
  {
   "cell_type": "markdown",
   "source": [
    "\n",
    "\n",
    "\n",
    "\n",
    "\n"
   ],
   "metadata": {
    "collapsed": false,
    "pycharm": {
     "name": "#%% md\n"
    }
   }
  },
  {
   "cell_type": "markdown",
   "source": [
    "# AMAZON FRESH PROMOTION\n",
    "Amazon is running a promotion in which customers receive prizes  for purchasing a secret  combination of fruits.\n",
    "The combination will change each day,  and the team running the promotion wants to use a\n",
    "code list to make  it easy to change the combination.\n",
    "The code list contains groups of  fruits. Both the order of the groups within the code list and the order\n",
    "of the fruits within the groups matter. However, between the groups of  fruits, any number, and type of fruit is allowable.\n",
    "The term `anything` is  used to allow for any type of fruit to appear in that location within the  group.\n",
    "Consider the following\n",
    "`secret code list`: [[apple, apple], [banana, anything, banana]]\n",
    "\n",
    "Based on the above secret code list, a customer who made either of the  following purchases would win the\n",
    "`prize: orange, apple, apple, banana, orange, banana apple, apple, orange, orange, banana, apple, banana, banana `\n",
    "\n",
    "Write an algorithm to `output 1` if the customer is a `winner` else output `0`\n",
    "\n",
    "`Input` The input to the function/method consists of two arguments: codeList, a list of lists of strings representing the order and grouping of specific  fruits that must be purchased in order to win the prize for the day\n",
    "\n",
    ". shoppingCart, a list of strings representing the order in which a customer purchases fruit.\n",
    "\n",
    "`Output` Return an integer 1 if the customer is a winner else return 0.\n",
    "Note 'anything' in the codeList represents that any fruit can be  ordered in place of 'anything' in the group.\n",
    "'anything' has to be something,  it cannot be \"nothing.\" 'anything' must represent one and only one fruit.\n",
    "\n",
    "If secret code list is empty then it is assumed that the customer is a winner.\n",
    "\n",
    "`Example 1`:  Input: codeList = [[apple, apple], [banana, anything, banana]]\n",
    "                     shoppingCart = [orange, apple, apple, banana, orange, banana]\n",
    "            Output: 1 Explanation: codeList contains two groups - [apple, apple] and [banana, anything, banana].\n",
    "\n",
    "The second group contains 'anything' so any fruit can be ordered in place of 'anything' in the shoppingCart. The customer is a winner\n",
    "as the customer has added fruits in the order of fruits in the groups and the order  of groups in the codeList is also maintained\n",
    "in the shoppingCart.\n",
    "\n",
    "\n",
    "`Example 2:` Input: codeList = [[apple, apple], [banana, anything, banana]]\n",
    "                    shoppingCart = [banana, orange, banana, apple, apple]\n",
    "             Output: 0 Explanation: The customer is not a winner as the customer has added  the fruits in order of groups but\n",
    "                group [banana, orange, banana]  is not following the group [apple, apple] in the codeList.\n",
    "\n",
    "\n",
    "`Example 3:`  Input: codeList = [[apple, apple], [banana, anything, banana]]\n",
    "                    shoppingCart = [apple, banana, apple, banana, orange, banana]\n",
    "             Output: 0\n",
    "             Explanation: The customer is not a winner as the customer has added the  fruits in an order which is\n",
    "             not following the order of fruit names in the first group.\n",
    "\n",
    "`Example 4:`  Input: codeList = [[apple, apple], [apple, apple, banana]]\n",
    "                     shoppingCart = [apple, apple, apple, banana]\n",
    "                     Output: 0\n",
    "                     Explanation: The customer is not a winner as the first 2 fruits form group 1,  all three fruits would form group 2, but can't because it would  contain all fruits of group 1."
   ],
   "metadata": {
    "collapsed": false,
    "pycharm": {
     "name": "#%% md\n"
    }
   }
  },
  {
   "cell_type": "code",
   "execution_count": 138,
   "outputs": [
    {
     "name": "stdout",
     "output_type": "stream",
     "text": [
      "first Approach\n",
      "1\n",
      "0\n",
      "0\n",
      "Second Approach\n",
      "1\n",
      "0\n",
      "0\n",
      "Third Approach\n",
      "1\n",
      "0\n",
      "0\n",
      "first Approach\n",
      "1\n",
      "0\n",
      "0\n",
      "Second Approach\n",
      "1\n",
      "0\n",
      "0\n",
      "Third Approach\n",
      "1\n",
      "0\n",
      "0\n"
     ]
    }
   ],
   "source": [
    "from typing import List\n",
    "def freshPromotion(codeList:List, shoppingCart:List):\n",
    "    # check for edge cases\n",
    "    if codeList is None or len(codeList) == 0:\n",
    "        return 1\n",
    "    if shoppingCart is None or len(shoppingCart) == 0:\n",
    "        return 0\n",
    "    clIdx = scIdx = 0\n",
    "    while clIdx < len(codeList) and scIdx + len(codeList[clIdx]) <= len(shoppingCart):\n",
    "        match:bool = True\n",
    "        for itemIdx in range(len(codeList[clIdx])):\n",
    "            if not codeList[clIdx][itemIdx] == \"anything\" and not shoppingCart[itemIdx + scIdx] == codeList[clIdx][itemIdx]:\n",
    "                match = False\n",
    "                break\n",
    "        if match:\n",
    "            scIdx += len(codeList[clIdx])\n",
    "            clIdx += 1\n",
    "        else:\n",
    "            scIdx += 1\n",
    "    # return clIdx == len(codeList)\n",
    "    return 1 if clIdx == len(codeList) else 0\n",
    "\n",
    "# Approach 2\n",
    "def is_winner(secret, order):\n",
    "    if not secret:\n",
    "        return 1\n",
    "    i = k = 0\n",
    "    while i < len(secret):\n",
    "        group = secret[i]\n",
    "        j = 0\n",
    "        while j < len(group):\n",
    "            if k == len(order):\n",
    "                return 0\n",
    "            if group[j] == 'anything' or group[j] == order[k]:\n",
    "                k += 1\n",
    "                j += 1\n",
    "            else:\n",
    "                # pushing k back to (assumed start position of group ) + 1\n",
    "                # k -= j - 1\n",
    "                k += 1\n",
    "                j = 0\n",
    "        i += 1\n",
    "    return 1 if i == len(secret) else 0\n",
    "\n",
    "\n",
    "# Approach 3\n",
    "import re\n",
    "def freshPromotionI(shoppingCart, codeList) -> int:\n",
    "    s = ' '.join(shoppingCart)\n",
    "    # print(s)\n",
    "    reg = ''\n",
    "    for code in codeList:\n",
    "        c = ' '.join(code)\n",
    "        c = ' ' + c\n",
    "        c = c.replace('anything', '\\w+')\n",
    "        reg += c + '[\\w\\s]*'\n",
    "    r = re.compile(reg)\n",
    "    res = r.findall(s)\n",
    "    return min(1, len(res))\n",
    "\n",
    "\n",
    "def main():\n",
    "    codeList = [[\"apple\", \"apple\"], [\"banana\", \"anything\", \"banana\"]]\n",
    "    shoppingCart = [\"pineapple\",\"orange\", \"apple\", \"apple\", \"pineapple\",\"orange\",  \"banana\", \"blueberries\", \"banana\", \"apple\"]\n",
    "\n",
    "    codeList1 = [[\"apple\", \"apple\"], [\"banana\", \"anything\", \"banana\"]]\n",
    "    shoppingCart1 = [\"banana\", \"orange\", \"banana\", \"apple\",  \"apple\"]\n",
    "\n",
    "    secret = [[\"apple\", \"apple\"], [\"apple\", \"apple\", \"banana\"]]\n",
    "    lists=[\"apple\", \"apple\", \"apple\", \"banana\"]\n",
    "\n",
    "    print(\"first Approach\")\n",
    "    print(freshPromotion(codeList, shoppingCart))\n",
    "    print(freshPromotion(codeList1, shoppingCart1))\n",
    "    print(freshPromotion(secret, lists))\n",
    "\n",
    "    print(\"Second Approach\")\n",
    "    print(is_winner(codeList, shoppingCart))\n",
    "    print(is_winner(codeList1, shoppingCart1))\n",
    "    print(is_winner(secret, lists))\n",
    "\n",
    "    print(\"Third Approach\")\n",
    "    print(freshPromotionI(shoppingCart, codeList))\n",
    "    print(freshPromotionI(shoppingCart1, codeList1))\n",
    "    print(freshPromotionI(lists, secret))\n",
    "\n",
    "if __name__ == '__main__':\n",
    "    main()\n",
    "    # 0 means looser\n",
    "    # 1 means winner\n"
   ],
   "metadata": {
    "collapsed": false,
    "pycharm": {
     "name": "#%%\n"
    }
   }
  },
  {
   "cell_type": "markdown",
   "source": [],
   "metadata": {
    "collapsed": false,
    "pycharm": {
     "name": "#%% md\n"
    }
   }
  },
  {
   "cell_type": "markdown",
   "source": [],
   "metadata": {
    "collapsed": false,
    "pycharm": {
     "name": "#%% md\n"
    }
   }
  },
  {
   "cell_type": "markdown",
   "source": [
    "\n"
   ],
   "metadata": {
    "collapsed": false,
    "pycharm": {
     "name": "#%% md\n"
    }
   }
  },
  {
   "cell_type": "markdown",
   "source": [
    "\n",
    "\n",
    "\n",
    "\n",
    "\n",
    "\n"
   ],
   "metadata": {
    "collapsed": false,
    "pycharm": {
     "name": "#%% md\n"
    }
   }
  },
  {
   "cell_type": "markdown",
   "source": [
    "# FAST AND SLOW POINTERS\n",
    "#### FLOYD'S CYCLE FINDING ALGORITHM\n",
    "* Traverse  linkedlist using two pointers (slow, fast)\n",
    "* move slow by 1 and fast by 2\n",
    "* if both slow and fast meet at the same node, there is a cycle or loop\n",
    "* else none"
   ],
   "metadata": {
    "collapsed": false,
    "pycharm": {
     "name": "#%% md\n"
    }
   }
  },
  {
   "cell_type": "markdown",
   "source": [
    "# Linked List Cycle\n",
    "Easy\n",
    "\n",
    "Given head, the head of a linked list, determine if the linked list has a cycle in it.\n",
    "\n",
    "There is a cycle in a linked list if there is some node in the list that can be reached again by continuously\n",
    "following the next pointer. Internally, pos is used to denote the index of the node that tail's next pointer is connected to.\n",
    "Note that pos is not passed as a parameter.\n",
    "\n",
    "Return true if there is a cycle in the linked list. Otherwise, return false.\n",
    "\n",
    "\n",
    "\n",
    "Example 1:\n",
    "\n",
    "Input: head = [3,2,0,-4], pos = 1\n",
    "Output: true\n",
    "Explanation: There is a cycle in the linked list, where the tail connects to the 1st node (0-indexed).\n",
    "\n",
    "Example 2:\n",
    "\n",
    "Input: head = [1,2], pos = 0\n",
    "Output: true\n",
    "Explanation: There is a cycle in the linked list, where the tail connects to the 0th node.\n",
    "\n",
    "Example 3:\n",
    "\n",
    "Input: head = [1], pos = -1\n",
    "Output: false\n",
    "Explanation: There is no cycle in the linked list.\n",
    "\n",
    "Constraints:\n",
    "\n",
    "    The number of the nodes in the list is in the range [0, 104].\n",
    "    -105 <= Node.val <= 105\n",
    "    pos is -1 or a valid index in the linked-list.\n",
    "\n",
    "Follow up: Can you solve it using O(1) (i.e. constant) memory?"
   ],
   "metadata": {
    "collapsed": false,
    "pycharm": {
     "name": "#%% md\n"
    }
   }
  },
  {
   "cell_type": "code",
   "execution_count": 139,
   "outputs": [
    {
     "name": "stdout",
     "output_type": "stream",
     "text": [
      "LinkedList has cycle: False\n",
      "1 2 \n",
      "LinkedList has cycle: True\n",
      "\n",
      "LinkedList has cycle: False\n",
      "3 2 0 -4 \n",
      "LinkedList has cycle: True\n",
      "LinkedList has cycle: False\n",
      "1 2 \n",
      "LinkedList has cycle: True\n",
      "\n",
      "LinkedList has cycle: False\n",
      "3 2 0 -4 \n",
      "LinkedList has cycle: True\n"
     ]
    }
   ],
   "source": [
    "class Node:\n",
    "    def __init__(self, value):\n",
    "        self.value = value\n",
    "        self.next = None\n",
    "\n",
    "    def print_LL(self):\n",
    "        temp = self\n",
    "        while temp is not None:\n",
    "            print(temp.value, end=\" \")\n",
    "            temp = temp.next\n",
    "        return\n",
    "\n",
    "# Time Complexity : O(N)\n",
    "# Space Complexity : O(1)\n",
    "def hasCycle(head):\n",
    "    slow = fast =  head\n",
    "    # till fast and fast-> next not reaches NULL\n",
    "\t# we will increment fast by 2 step and slow by 1 step\n",
    "    while fast and fast.next:\n",
    "        fast = fast.next.next\n",
    "        slow = slow.next\n",
    "        if slow == fast:\n",
    "            return True\n",
    "    return False\n",
    "\n",
    "def main():\n",
    "    head = Node(1)\n",
    "    head.next = Node(2)\n",
    "    print(\"LinkedList has cycle: \" + str(hasCycle(head)))\n",
    "    head.print_LL()\n",
    "    print()\n",
    "    head.next.next = head  # pos = 0\n",
    "    print(\"LinkedList has cycle: \" + str(hasCycle(head)))\n",
    "\n",
    "\n",
    "    # Example two\n",
    "    print()\n",
    "    Nose = Node(3)\n",
    "    Nose.next = Node(2)\n",
    "    Nose.next.next = Node(0)\n",
    "    Nose.next.next.next = Node(-4)\n",
    "    print(\"LinkedList has cycle: \" + str(hasCycle(Nose)))\n",
    "    Nose.print_LL()\n",
    "    print()\n",
    "    Nose.next.next.next.next = Nose.next  # pos = 1\n",
    "    print(\"LinkedList has cycle: \" + str(hasCycle(head)))\n",
    "\n",
    "\n",
    "if __name__ == '__main__':\n",
    "    main()\n",
    "\n",
    "\n",
    "\n"
   ],
   "metadata": {
    "collapsed": false,
    "pycharm": {
     "name": "#%%\n"
    }
   }
  },
  {
   "cell_type": "markdown",
   "source": [],
   "metadata": {
    "collapsed": false,
    "pycharm": {
     "name": "#%% md\n"
    }
   }
  },
  {
   "cell_type": "markdown",
   "source": [],
   "metadata": {
    "collapsed": false,
    "pycharm": {
     "name": "#%% md\n"
    }
   }
  },
  {
   "cell_type": "markdown",
   "source": [],
   "metadata": {
    "collapsed": false,
    "pycharm": {
     "name": "#%% md\n"
    }
   }
  },
  {
   "cell_type": "markdown",
   "source": [
    "# Reverse a Linked List"
   ],
   "metadata": {
    "collapsed": false,
    "pycharm": {
     "name": "#%% md\n"
    }
   }
  },
  {
   "cell_type": "code",
   "execution_count": 140,
   "outputs": [
    {
     "name": "stdout",
     "output_type": "stream",
     "text": [
      "LinkedList initial: \n",
      "3 2 0 -4 \n",
      "Reversed LinkedList: \n",
      "-4 0 2 3 LinkedList initial: \n",
      "3 2 0 -4 \n",
      "Reversed LinkedList: \n",
      "-4 0 2 3 "
     ]
    }
   ],
   "source": [
    "def reverse(head):\n",
    "    previous, current, next = None, head, None\n",
    "    while current is not None:\n",
    "        temp = current.next  # temporarily store the next node\n",
    "        current.next = previous  # reverse the current node\n",
    "        previous = current  # before we move to the next node, point previous to the current node\n",
    "        current = temp  # move on the next node\n",
    "    return previous\n",
    "\n",
    "class Node:\n",
    "    def __init__(self, value):\n",
    "        self.value = value\n",
    "        self.next = None\n",
    "\n",
    "    def print_LL(self):\n",
    "        temp = self\n",
    "        while temp is not None:\n",
    "            print(temp.value, end=\" \")\n",
    "            temp = temp.next\n",
    "        return\n",
    "\n",
    "def main():\n",
    "    Nose = Node(3)\n",
    "    Nose.next = Node(2)\n",
    "    Nose.next.next = Node(0)\n",
    "    Nose.next.next.next = Node(-4)\n",
    "    print(\"LinkedList initial: \")\n",
    "    Nose.print_LL()\n",
    "\n",
    "    print()\n",
    "    print(\"Reversed LinkedList: \")\n",
    "    reverse(Nose).print_LL()\n",
    "\n",
    "\n",
    "\n",
    "if __name__ == '__main__':\n",
    "    main()\n"
   ],
   "metadata": {
    "collapsed": false,
    "pycharm": {
     "name": "#%%\n"
    }
   }
  },
  {
   "cell_type": "markdown",
   "source": [
    "\n",
    "\n",
    "\n"
   ],
   "metadata": {
    "collapsed": false,
    "pycharm": {
     "name": "#%% md\n"
    }
   }
  },
  {
   "cell_type": "markdown",
   "source": [
    "# Swap Nodes in a LinkedList\n",
    "li = [0, 1, 2, 3, 4, 5]\n",
    "output = [1, 0, 3, 2, 5, 4]"
   ],
   "metadata": {
    "collapsed": false,
    "pycharm": {
     "name": "#%% md\n"
    }
   }
  },
  {
   "cell_type": "code",
   "execution_count": 371,
   "outputs": [
    {
     "name": "stdout",
     "output_type": "stream",
     "text": [
      "LinkedList: [0, 1, 2, 3, 4]\n",
      "Node Swapped in LinkedList using Reversion: [1, 0, 3, 2, 4]\n",
      "Node Swapped in LinkedList: [3, 0, 4, 2]\n"
     ]
    }
   ],
   "source": [
    "class Node:\n",
    "   def __init__(self, value):\n",
    "       self.value = value\n",
    "       self.next = None\n",
    "\n",
    "   def print_list(self, arr=None):\n",
    "       if arr is None:\n",
    "           arr = []\n",
    "       temp = self\n",
    "       while temp:\n",
    "          arr.append(temp.value)\n",
    "          temp = temp.next\n",
    "       return arr\n",
    "\n",
    "# Recursion\n",
    "# O(n)T, O(n)S\n",
    "def swapNode(head):\n",
    "    if head is None or head.next is None:\n",
    "        return head\n",
    "    nextNode = head.next\n",
    "    head.next = swapNode(head.next.next)\n",
    "    nextNode.next = head\n",
    "    return nextNode\n",
    "\n",
    "# Iterative\n",
    "# O(n)T, O(1)S\n",
    "def nodeSwap(head):\n",
    "    temp = Node(0)\n",
    "    temp.next = head\n",
    "    prev = temp\n",
    "    while prev.next and prev.next.next:\n",
    "        slow = prev.next\n",
    "        fast = prev.next.next\n",
    "\n",
    "        slow.next = fast.next\n",
    "        fast.next = slow\n",
    "        prev.next = fast\n",
    "\n",
    "        prev = slow\n",
    "    return temp.next\n",
    "\n",
    "\n",
    "\n",
    "def main():\n",
    "    head = Node(0)\n",
    "    head.next = Node(1)\n",
    "    head.next.next = Node(2)\n",
    "    head.next.next.next = Node(3)\n",
    "    head.next.next.next.next = Node(4)\n",
    "    # head.next.next.next.next.next = Node(5)\n",
    "    # head.next.next.next.next.next.next = Node(6)\n",
    "    print(f\"LinkedList: {head.print_list()}\")\n",
    "\n",
    "    print(f\"Node Swapped in LinkedList using Reversion: {swapNode(head).print_list()}\")\n",
    "\n",
    "    print(f\"Node Swapped in LinkedList: {nodeSwap(head).print_list()}\")\n",
    "\n",
    "    # print(swapTwo(head))\n",
    "if __name__ == '__main__':\n",
    "    main()"
   ],
   "metadata": {
    "collapsed": false,
    "pycharm": {
     "name": "#%%\n"
    }
   }
  },
  {
   "cell_type": "markdown",
   "source": [],
   "metadata": {
    "collapsed": false,
    "pycharm": {
     "name": "#%% md\n"
    }
   }
  },
  {
   "cell_type": "markdown",
   "source": [],
   "metadata": {
    "collapsed": false,
    "pycharm": {
     "name": "#%% md\n"
    }
   }
  },
  {
   "cell_type": "markdown",
   "source": [
    "# DOUBLY LINKED LIST CONSTRUCTION"
   ],
   "metadata": {
    "collapsed": false,
    "pycharm": {
     "name": "#%% md\n"
    }
   }
  },
  {
   "cell_type": "code",
   "execution_count": 376,
   "outputs": [
    {
     "name": "stdout",
     "output_type": "stream",
     "text": [
      "\n",
      "......................\n",
      "[20, 30, 89]\n"
     ]
    }
   ],
   "source": [
    "# Search O(N)Time, O(1) space\n",
    "# insert at position O(p)Time, O(1) space -> worst case\n",
    "\n",
    "# delete O(1)T, S\n",
    "# delete all nodes with value O(N)T, O(N)S\n",
    "\n",
    "from dataclasses import dataclass\n",
    "from typing import Any\n",
    "\n",
    "\n",
    "@dataclass\n",
    "class Node:\n",
    "    value: Any = None\n",
    "    next: Any = None\n",
    "    prev: Any = None\n",
    "\n",
    "\n",
    "@dataclass\n",
    "class DoublyLinkedList:\n",
    "    head: Any = None\n",
    "    tail: Any = None\n",
    "\n",
    "    def __iter__(self):\n",
    "        node = self.head\n",
    "        while node:\n",
    "            yield node\n",
    "            node = node.next\n",
    "\n",
    "    # O(1)T, S\n",
    "    def setHead(self, node):\n",
    "        if self.head is None:\n",
    "            self.head = node\n",
    "            self.tail = node\n",
    "            return\n",
    "        self.insertBefore(self.head, node)\n",
    "\n",
    "    # O(1)T, S\n",
    "    def setTail(self, node):\n",
    "        if self.tail is None:\n",
    "            self.setHead(node)\n",
    "            return\n",
    "        self.insertAfter(self.tail, node)\n",
    "\n",
    "    def length(self):\n",
    "        count = 0\n",
    "        node = self.head\n",
    "        if self.head == None:\n",
    "            return\n",
    "        else:\n",
    "            while self.head is not None:\n",
    "                self.head = self.head.next\n",
    "                count += 1\n",
    "        return count\n",
    "\n",
    "\n",
    "    # O(1)T, S\n",
    "    def insertBefore(self, node, nodeToInsert):\n",
    "        if nodeToInsert == self.head and nodeToInsert == self.tail:\n",
    "            return\n",
    "        # we're assuming the node to insert is either in the\n",
    "        # linked list or not so we have to remove it first\n",
    "        self.remove(nodeToInsert)\n",
    "\n",
    "        # update  nodeToInsert's pointers\n",
    "        nodeToInsert.prev = node.prev\n",
    "        nodeToInsert.next = node\n",
    "\n",
    "        # check if the node that comes b4 nodeToInsert is the head\n",
    "        if node.prev is None:\n",
    "            self.head = nodeToInsert\n",
    "        else:\n",
    "            node.prev.next = nodeToInsert\n",
    "        node.prev = nodeToInsert # overwriting the pointer\n",
    "\n",
    "    # O(1)T, S\n",
    "    def insertAfter(self, node, nodeToInsert):\n",
    "        if nodeToInsert == self.head and nodeToInsert == self.tail:\n",
    "            return\n",
    "        self.remove(nodeToInsert)\n",
    "        node.prev = nodeToInsert  # overwriting the pointer\n",
    "        nodeToInsert.next = node.next\n",
    "        if node.next is None:\n",
    "            self.tail = nodeToInsert\n",
    "        else:\n",
    "            node.next.prev = nodeToInsert\n",
    "        node.next = nodeToInsert # update\n",
    "\n",
    "    # O(p)Time, O(1) space\n",
    "    def insertAtPosition(self, position, nodeToInsert):\n",
    "        # at the beginning\n",
    "        if position == 1:\n",
    "            self.setHead(nodeToInsert)\n",
    "            return\n",
    "\n",
    "        # in the middle (insert before value at position)\n",
    "        node = self.head\n",
    "        currentPosition = 1\n",
    "        while node is not None and currentPosition != position:\n",
    "            node = node.next\n",
    "            currentPosition += 1\n",
    "        if node is not None:\n",
    "            self.insertBefore(node, nodeToInsert)\n",
    "\n",
    "        # at the end\n",
    "        else:\n",
    "            self.setTail(nodeToInsert)\n",
    "\n",
    "    def removeNodesWithValue(self, value):\n",
    "        node = self.head\n",
    "        while node is not None:\n",
    "            nodeToRemove = node\n",
    "            node = node.next\n",
    "            if nodeToRemove.value == value:\n",
    "                self.remove(nodeToRemove)\n",
    "\n",
    "    def remove(self, node):\n",
    "        temp = node\n",
    "        if node == self.head:\n",
    "            self.head = self.head.next\n",
    "        if node ==self.tail:\n",
    "            self.tail = self.tail.prev\n",
    "        self.updateAndRemovePointers(node)\n",
    "        return temp\n",
    "\n",
    "    def containsNodeWithValue(self, value):\n",
    "        node = self.head\n",
    "        while node is not None and node.value != value:\n",
    "            node = node.next\n",
    "        return node is not None\n",
    "\n",
    "    def updateAndRemovePointers(self, node):\n",
    "        # update pointers\n",
    "        if node.prev is not None:\n",
    "            node.prev.next = node.next\n",
    "        if node.next is not None:\n",
    "            node.next.prev = node.prev\n",
    "        # overwrite pointers\n",
    "        node.prev = None\n",
    "        node.next = None\n",
    "\n",
    "    def swapNode(self):\n",
    "        if self.head is None or self.head.next is None:\n",
    "            return self.head\n",
    "        nextNode = self.head.next\n",
    "        self.head.next = swapNode(self.head.next.next)\n",
    "        nextNode.next = self.head\n",
    "        return nextNode\n",
    "\n",
    "# O(n) time | O(1) space\n",
    "def reverseLinkedList(head):\n",
    "    p1, p2 = None, head\n",
    "    while p2 is not None:\n",
    "        p3 = p2.next\n",
    "        p2.next = p1\n",
    "        p1 = p2\n",
    "        p2 = p3\n",
    "    return p1\n",
    "\n",
    "\n",
    "# Recursion\n",
    "# O(n)T, O(n)S\n",
    "\n",
    "\n",
    "def main():\n",
    "    dLL = DoublyLinkedList()\n",
    "    node1 = Node(value= 20)\n",
    "    node2 = Node(value=30)\n",
    "    node3 = Node(value = 89)\n",
    "\n",
    "\n",
    "    dLL.setHead(node1)\n",
    "    dLL.insertAtPosition(2, node2)\n",
    "    dLL.setTail(node3)\n",
    "\n",
    "\n",
    "    print()\n",
    "    print(\"......................\")\n",
    "\n",
    "    print([node.value for node in dLL])\n",
    "\n",
    "\n",
    "if __name__ == \"__main__\":\n",
    "    main()\n"
   ],
   "metadata": {
    "collapsed": false,
    "pycharm": {
     "name": "#%%\n"
    }
   }
  },
  {
   "cell_type": "markdown",
   "source": [],
   "metadata": {
    "collapsed": false,
    "pycharm": {
     "name": "#%% md\n"
    }
   }
  },
  {
   "cell_type": "markdown",
   "source": [
    "\n",
    "\n",
    "\n",
    "\n",
    "\n",
    "\n",
    "\n",
    "\n",
    "\n",
    "\n",
    "\n",
    "\n",
    "\n",
    "\n",
    "\n",
    "\n",
    "\n",
    "\n",
    "\n",
    "\n",
    "\n",
    "\n",
    "\n",
    "\n",
    "\n",
    "\n",
    "\n",
    "\n",
    "\n",
    "\n",
    "\n",
    "\n",
    "\n",
    "\n",
    "\n",
    "\n",
    "\n",
    "\n",
    "\n",
    "\n",
    "\n",
    "\n",
    "\n",
    "\n",
    "\n",
    "\n",
    "\n",
    "\n",
    "\n",
    "\n",
    "\n",
    "\n",
    "\n",
    "\n",
    "\n",
    "\n",
    "\n",
    "\n",
    "\n",
    "\n",
    "\n",
    "\n",
    "\n",
    "\n",
    "\n",
    "\n",
    "\n",
    "\n",
    "\n",
    "\n",
    "\n",
    "\n",
    "\n",
    "\n",
    "\n",
    "\n",
    "\n",
    "\n",
    "\n",
    "\n",
    "\n",
    "\n",
    "\n",
    "\n",
    "\n",
    "\n",
    "\n",
    "\n",
    "\n",
    "\n",
    "\n",
    "\n",
    "\n",
    "\n",
    "\n",
    "\n",
    "\n",
    "\n",
    "\n",
    "\n",
    "\n",
    "\n",
    "\n",
    "\n",
    "\n",
    "\n",
    "\n",
    "\n",
    "\n",
    "\n",
    "\n",
    "\n",
    "\n",
    "\n",
    "\n",
    "\n",
    "\n",
    "\n",
    "\n",
    "\n",
    "\n",
    "\n",
    "\n",
    "\n",
    "\n",
    "\n",
    "\n",
    "\n",
    "\n",
    "\n",
    "\n",
    "\n",
    "\n",
    "\n",
    "\n",
    "\n",
    "\n",
    "\n",
    "\n",
    "\n",
    "\n",
    "\n",
    "\n",
    "\n",
    "\n",
    "\n",
    "\n",
    "\n",
    "\n",
    "\n",
    "\n",
    "\n",
    "\n",
    "\n",
    "\n",
    "\n",
    "\n",
    "\n",
    "\n",
    "\n",
    "\n",
    "\n",
    "\n",
    "\n",
    "\n",
    "\n",
    "\n",
    "\n",
    "\n",
    "\n",
    "\n",
    "\n",
    "\n",
    "\n",
    "\n",
    "\n",
    "\n",
    "\n",
    "\n",
    "\n",
    "\n",
    "\n",
    "\n",
    "\n",
    "\n",
    "\n",
    "\n",
    "\n",
    "\n",
    "\n",
    "\n",
    "\n",
    "\n",
    "\n",
    "\n",
    "\n",
    "\n",
    "\n",
    "\n",
    "\n",
    "\n",
    "\n",
    "\n",
    "\n",
    "\n",
    "\n",
    "\n",
    "\n",
    "\n",
    "\n",
    "\n",
    "\n",
    "\n",
    "\n",
    "\n",
    "\n",
    "\n",
    "\n",
    "\n",
    "\n",
    "\n",
    "\n",
    "\n",
    "\n",
    "\n",
    "\n",
    "\n",
    "\n",
    "\n",
    "\n",
    "\n",
    "\n",
    "\n",
    "\n",
    "\n",
    "\n",
    "\n",
    "\n",
    "\n",
    "\n",
    "\n",
    "\n",
    "\n",
    "\n",
    "\n",
    "\n",
    "\n",
    "\n",
    "\n",
    "\n",
    "\n",
    "\n",
    "\n",
    "\n",
    "\n",
    "\n",
    "\n",
    "\n",
    "\n",
    "\n",
    "\n",
    "\n",
    "\n",
    "\n",
    "\n",
    "\n",
    "\n",
    "\n",
    "\n",
    "\n",
    "\n",
    "\n",
    "\n",
    "\n",
    "\n",
    "\n",
    "\n",
    "\n",
    "\n",
    "\n",
    "\n",
    "\n",
    "\n",
    "\n",
    "\n",
    "\n",
    "\n",
    "\n",
    "\n",
    "\n",
    "\n",
    "\n",
    "\n",
    "\n",
    "\n",
    "\n",
    "\n",
    "\n",
    "\n",
    "\n",
    "\n",
    "\n",
    "\n",
    "\n",
    "\n",
    "\n",
    "\n",
    "\n",
    "\n",
    "\n",
    "\n",
    "\n",
    "\n",
    "\n",
    "\n",
    "\n",
    "\n",
    "\n",
    "\n",
    "\n",
    "\n",
    "\n",
    "\n",
    "\n",
    "\n",
    "\n",
    "\n",
    "\n",
    "\n",
    "\n",
    "\n",
    "\n",
    "\n",
    "\n",
    "\n",
    "\n",
    "\n",
    "\n",
    "\n",
    "\n",
    "\n",
    "\n",
    "\n",
    "\n",
    "\n",
    "\n",
    "\n",
    "\n",
    "\n",
    "\n",
    "\n",
    "\n",
    "\n",
    "\n",
    "\n",
    "\n",
    "\n",
    "\n",
    "\n",
    "\n",
    "\n",
    "\n",
    "\n",
    "\n",
    "\n",
    "\n",
    "\n",
    "\n",
    "\n",
    "\n",
    "\n",
    "\n",
    "\n",
    "\n",
    "\n",
    "\n",
    "\n",
    "\n",
    "\n",
    "\n",
    "\n",
    "\n",
    "\n",
    "\n",
    "\n",
    "\n",
    "\n",
    "\n",
    "\n",
    "\n",
    "\n",
    "\n",
    "\n",
    "\n",
    "\n",
    "\n",
    "\n",
    "\n",
    "\n",
    "\n",
    "\n",
    "\n",
    "\n",
    "\n",
    "\n",
    "\n",
    "\n",
    "\n"
   ],
   "metadata": {
    "collapsed": false,
    "pycharm": {
     "name": "#%% md\n"
    }
   }
  },
  {
   "cell_type": "markdown",
   "source": [
    "\n",
    "\n",
    "\n",
    "\n",
    "\n",
    "\n",
    "\n",
    "\n",
    "\n",
    "\n",
    "\n",
    "\n",
    "\n",
    "\n",
    "\n",
    "\n",
    "\n",
    "\n",
    "\n",
    "\n",
    "\n",
    "\n",
    "\n",
    "\n",
    "\n",
    "\n",
    "\n",
    "\n",
    "\n",
    "\n",
    "\n",
    "\n",
    "\n",
    "\n",
    "\n",
    "\n",
    "\n",
    "\n",
    "\n",
    "\n",
    "\n",
    "\n",
    "\n",
    "\n",
    "\n",
    "\n",
    "\n",
    "\n",
    "\n",
    "\n",
    "\n",
    "\n",
    "\n",
    "\n",
    "\n",
    "\n"
   ],
   "metadata": {
    "collapsed": false,
    "pycharm": {
     "name": "#%% md\n"
    }
   }
  },
  {
   "cell_type": "markdown",
   "source": [],
   "metadata": {
    "collapsed": false,
    "pycharm": {
     "name": "#%% md\n"
    }
   }
  },
  {
   "cell_type": "markdown",
   "source": [
    "\n",
    "\n",
    "\n",
    "\n",
    "\n",
    "\n",
    "\n",
    "# PATTERN 2 - GRAPHS\n",
    "\n",
    "A path through a graph that visits every edge once is called an `Eulerian path`.\n",
    "`Eulerian` paths are named after Leonhard Euler, who is credited with first solving\n",
    "the puzzle of the seven bridges of `Königsberg`.\n",
    "\n",
    "A `path` only has one end and one beginning, so if a graph has more than two vertices with an odd number of connected edges, there's no way a `Eulerian path` can exist.\n",
    "\n",
    "This means that the bridges of `Königsberg` cannot all be crossed exactly once. In the language of graphs, we would say that there is no `Eulerian path `in this graph.\n",
    "\n",
    "`NB`. You've learned a new fact about graphs: if there are more than two vertices with an odd number of connected edges, there can't be a `Eulerian path — that is, a path that uses every edge exactly once.`"
   ],
   "metadata": {
    "collapsed": false,
    "pycharm": {
     "name": "#%% md\n"
    }
   }
  },
  {
   "cell_type": "code",
   "execution_count": 143,
   "outputs": [
    {
     "name": "stdout",
     "output_type": "stream",
     "text": [
      "..................................\n",
      "Breadth First Search:\n",
      "a\n",
      "b\n",
      "c\n",
      "d\n",
      "e\n",
      "Depth First Search: \n",
      "a\n",
      "d\n",
      "c\n",
      "b\n",
      "e\n",
      "...................\n",
      "defaultdict(<class 'list'>, {'a': ['b', 'c', 'd'], 'b': ['a', 'e'], 'c': ['a', 'd'], 'd': ['a', 'b', 'c'], 'e': ['b', 'd'], 'f': ['i', 'j']})\n",
      "search for adjacent vertex\n",
      "...................\n",
      "not found\n"
     ]
    },
    {
     "data": {
      "text/plain": "'Yes!'"
     },
     "execution_count": 123,
     "metadata": {},
     "output_type": "execute_result"
    },
    {
     "name": "stdout",
     "output_type": "stream",
     "text": [
      "..................................\n",
      "Breadth First Search:\n",
      "a\n",
      "b\n",
      "c\n",
      "d\n",
      "e\n",
      "Depth First Search: \n",
      "a\n",
      "d\n",
      "c\n",
      "b\n",
      "e\n",
      "...................\n",
      "defaultdict(<class 'list'>, {'a': ['b', 'c', 'd'], 'b': ['a', 'e'], 'c': ['a', 'd'], 'd': ['a', 'b', 'c'], 'e': ['b', 'd'], 'f': ['i', 'j']})\n",
      "search for adjacent vertex\n",
      "...................\n",
      "not found\n"
     ]
    },
    {
     "data": {
      "text/plain": "'Yes!'"
     },
     "execution_count": 143,
     "metadata": {},
     "output_type": "execute_result"
    }
   ],
   "source": [
    "from dataclasses import dataclass\n",
    "from collections import defaultdict\n",
    "\n",
    "@dataclass\n",
    "class Graph:\n",
    "  graphDic = defaultdict(list)\n",
    "  no_vertices:[int]\n",
    "\n",
    "\n",
    "def addEdge(g, vertex, edge):\n",
    "  g.graphD[vertex].append(edge)\n",
    "\n",
    "\n",
    "def topogologicalSortUtil(graph, v, visited, stack):\n",
    "  visited.append(v)\n",
    "  for i in graph.graphDic[v]:\n",
    "    if i not in visited:\n",
    "      topological_sortUtil(graph, i, visited, stack)\n",
    "  stack.insert(0, v)\n",
    "\n",
    "\n",
    "def topologicalSort(graph):\n",
    "  visited = []\n",
    "  stack = []\n",
    "  for k in list(graph.graphDic):\n",
    "    if k not in visited:\n",
    "      topological_sortUtil(graph, k, visited, stack)\n",
    "  print(stack)\n",
    "\n",
    "\n",
    "\n",
    "\n",
    "print(\"..................................\")\n",
    "\n",
    "def addNode(g, vertex, edge):\n",
    "  return g.graphDic.update({vertex : edge})\n",
    "\n",
    "\n",
    "def addEdges(g, vertex, edge):\n",
    "  g.graphDic[vertex].append(edge)\n",
    "\n",
    "\n",
    "# O(V + E) T and S\n",
    "# Breadth First Search\n",
    "def bfs(g, vertex):\n",
    "  visited = [vertex]\n",
    "  kueue = [vertex]\n",
    "  while kueue:\n",
    "    dequeue = kueue.pop(0)\n",
    "    print(dequeue)\n",
    "    for a_vertex in g.graphDic[dequeue]:\n",
    "      if a_vertex not in visited:\n",
    "        visited.append(a_vertex)\n",
    "        kueue.append(a_vertex)\n",
    "\n",
    "\n",
    "# O(V + E) T and S\n",
    "# Depth First Search\n",
    "def dfs(g, vertex):\n",
    "  visited = [vertex]\n",
    "  stack = [vertex]\n",
    "  while stack:\n",
    "    popVertex = stack.pop()\n",
    "    print(popVertex)\n",
    "    for a_vertex in g.graphDic[popVertex]:\n",
    "      if a_vertex not in visited:\n",
    "        visited.append(a_vertex)\n",
    "        stack.append(a_vertex)\n",
    "\n",
    "def searchVertex(g, vertex, node):\n",
    "  for v in g.graphDic[vertex]:\n",
    "    if v == node:\n",
    "      return \"found\"\n",
    "  return \"not found\"\n",
    "\n",
    "\n",
    "def searchNode(g, vertex):\n",
    "  try:\n",
    "    if g.graphDic[vertex]:\n",
    "      return \"Yes!\"\n",
    "    else:\n",
    "      return \"No!\"\n",
    "  except (KeyError) as err:\n",
    "    print(f\"{err}, not found\")\n",
    "\n",
    "graph = Graph(10)\n",
    "# graph.graphDic.update({\"a\": [\"b\", \"C\"], \"b\": [\"a\", \"d\", \"e\"]})\n",
    "addNode(graph, \"a\", [\"b\", \"c\", \"d\"])\n",
    "addNode(graph, \"b\", [\"a\", \"e\"])\n",
    "addNode(graph, \"c\", [\"a\", \"d\"])\n",
    "addNode(graph, \"d\", [\"a\", \"b\", \"c\"])\n",
    "addNode(graph, \"e\", [\"b\", \"d\"])\n",
    "addNode(graph, \"f\", [\"i\", \"j\"])\n",
    "\n",
    "# Add an Edge to the Graph\n",
    "# addEdges(graph, \"a\", \"c\")\n",
    "\n",
    "print(\"Breadth First Search:\")\n",
    "bfs(graph, \"a\")\n",
    "print(\"Depth First Search: \")\n",
    "dfs(graph, \"a\")\n",
    "\n",
    "print(\"...................\")\n",
    "print(graph.graphDic)\n",
    "\n",
    "print(\"search for adjacent vertex\")\n",
    "print(\"...................\")\n",
    "print(searchVertex(graph, \"c\", \"i\"))\n",
    "\n",
    "searchNode(graph, \"e\")\n"
   ],
   "metadata": {
    "collapsed": false,
    "pycharm": {
     "name": "#%%\n"
    }
   }
  },
  {
   "cell_type": "markdown",
   "source": [
    "\n",
    "\n",
    "\n"
   ],
   "metadata": {
    "collapsed": false,
    "pycharm": {
     "name": "#%% md\n"
    }
   }
  },
  {
   "cell_type": "markdown",
   "source": [],
   "metadata": {
    "collapsed": false,
    "pycharm": {
     "name": "#%% md\n"
    }
   }
  },
  {
   "cell_type": "code",
   "execution_count": 144,
   "outputs": [
    {
     "name": "stdout",
     "output_type": "stream",
     "text": [
      "defaultdict(<class 'list'>, {'A': ['C'], 'C': ['E'], 'E': ['H', 'F'], 'F': ['G'], 'B': ['D', 'C'], 'D': ['F']})\n",
      "\n",
      ".................\n",
      "['B', 'D', 'A', 'C', 'E', 'F', 'G', 'H']\n",
      "[3, 2, 1, 0]\n",
      "defaultdict(<class 'list'>, {'A': ['C'], 'C': ['E'], 'E': ['H', 'F'], 'F': ['G'], 'B': ['D', 'C'], 'D': ['F']})\n",
      "\n",
      ".................\n",
      "['B', 'D', 'A', 'C', 'E', 'F', 'G', 'H']\n",
      "[3, 2, 1, 0]\n"
     ]
    }
   ],
   "source": [
    "class Graph:\n",
    "    def __init__(self, no_vertices):\n",
    "        self.graphD = defaultdict(list)\n",
    "        self.no_vertices = no_vertices\n",
    "\n",
    "\n",
    "def add_edge(g, vertex, edge):\n",
    "  g.graphD[vertex].append(edge)\n",
    "\n",
    "def topological_sortUtil(graph, v, visited, stack):\n",
    "    visited.append(v)\n",
    "    for i in graph.graphD[v]:\n",
    "        if i not in visited:\n",
    "            topological_sortUtil(graph, i, visited, stack)\n",
    "    stack.insert(0, v)\n",
    "\n",
    "def topological_sort(graph):\n",
    "    visited = []\n",
    "    stack = []\n",
    "    for k in list(graph.graphD):\n",
    "        if k not in visited:\n",
    "            topological_sortUtil(graph, k, visited, stack)\n",
    "    s = str(stack)\n",
    "    s.split()\n",
    "    print(\"\".join(s))\n",
    "\n",
    "cg = Graph(8)\n",
    "add_edge(cg, \"A\", \"C\")\n",
    "add_edge(cg, \"C\", \"E\")\n",
    "add_edge(cg, \"E\", \"H\")\n",
    "add_edge(cg, \"E\", \"F\")\n",
    "add_edge(cg, \"F\", \"G\")\n",
    "add_edge(cg, \"B\", \"D\")\n",
    "add_edge(cg, \"B\", \"C\")\n",
    "add_edge(cg, \"D\", \"F\")\n",
    "# C depends on A, E depends on C, H depends on E and so on...\n",
    "cg1 = Graph(0)\n",
    "add_edge(cg1, 3, 2)\n",
    "add_edge(cg1, 3, 0)\n",
    "add_edge(cg1, 2, 0)\n",
    "add_edge(cg1, 2, 1)\n",
    "\n",
    "\n",
    "print(cg.graphD)\n",
    "print()\n",
    "print(\".................\")\n",
    "topological_sort(cg)\n",
    "topological_sort(cg1)\n"
   ],
   "metadata": {
    "collapsed": false,
    "pycharm": {
     "name": "#%%\n"
    }
   }
  },
  {
   "cell_type": "markdown",
   "source": [
    "\n",
    "\n",
    "\n",
    "\n",
    "\n",
    "\n"
   ],
   "metadata": {
    "collapsed": false,
    "pycharm": {
     "name": "#%% md\n"
    }
   }
  },
  {
   "cell_type": "markdown",
   "source": [
    "\n",
    "\n",
    "\n",
    "\n",
    "\n",
    "\n",
    "# PATTERN 3 - RECURSION\n",
    "\n",
    "Elijah is tasked to Lead a fund-raising campaign by recruiting individuals to volunteer a total of $1000.00, each doling out a dollar($1.00)\n",
    "\n",
    "Recursive solution\n",
    "1. Elijah should Recruit `10 Americans` to donate `$100.00` each.\n",
    "\n",
    "2. Each of the Americans should recruit 10 additional `Ghanaians` donate `$10.00`\n",
    "\n",
    "3. Each of the `Ghanaians` should recruit `10` additional `Fantes` to donate `$1.00`"
   ],
   "metadata": {
    "collapsed": false,
    "pycharm": {
     "name": "#%% md\n"
    }
   }
  },
  {
   "cell_type": "code",
   "execution_count": 145,
   "outputs": [
    {
     "name": "stdout",
     "output_type": "stream",
     "text": [
      "500\n",
      "50.0\n",
      "5.0\n",
      "0.5\n"
     ]
    },
    {
     "data": {
      "text/plain": "0"
     },
     "execution_count": 125,
     "metadata": {},
     "output_type": "execute_result"
    },
    {
     "name": "stdout",
     "output_type": "stream",
     "text": [
      "500\n",
      "50.0\n",
      "5.0\n",
      "0.5\n"
     ]
    },
    {
     "data": {
      "text/plain": "0"
     },
     "execution_count": 145,
     "metadata": {},
     "output_type": "execute_result"
    }
   ],
   "source": [
    "def fund_raising(n):\n",
    "    print(n)\n",
    "    if n in [1, 0]:\n",
    "        return 1\n",
    "    if n < 1:\n",
    "      return 0\n",
    "    else:\n",
    "        Americans = 10\n",
    "        return fund_raising(n/Americans)\n",
    "fund_raising(500)"
   ],
   "metadata": {
    "collapsed": false,
    "pycharm": {
     "name": "#%%\n"
    }
   }
  },
  {
   "cell_type": "markdown",
   "source": [
    "\n",
    "#### THREE PROPERTIES OF RECURSION\n",
    "\n",
    "1. It must be possible to decompose the original problem into simpler\n",
    "instances of the same problem.\n",
    "2. Once each of these simpler subproblems has been solved, it must be\n",
    "possible to combine these solutions to produce a solution to the original\n",
    "problem.\n",
    "3. As the large problem is broken down into successively less complex\n",
    "ones, those subproblems must eventually become so simple that they\n",
    "can be solved without further subdivision\n",
    "\n",
    "\n",
    "\n",
    "\n",
    "\n",
    "#### Ques\n",
    "Suppose that there is a pile of sixteen `16` coins on a table, one of which is a\n",
    "counterfeit weighing slightly less than the others. You also have a `two-pan`\n",
    "balance which allows you to weigh one set of coins against another. Using\n",
    "the `divide-and-conquer strategy`, how could you determine the counterfeit\n",
    "coin in `four` weighings?\n",
    "If you solve this problem, see if you can come up with a procedure\n",
    "to find the counterfeit coin in just `three` weighings. The strategy is much\n",
    "the same, but the problem must be subdivided in a different way. Can you\n",
    "generalize this approach so that it works for any set of `N` coins?"
   ],
   "metadata": {
    "collapsed": false,
    "pycharm": {
     "name": "#%% md\n"
    }
   }
  },
  {
   "cell_type": "code",
   "execution_count": 146,
   "outputs": [
    {
     "name": "stdout",
     "output_type": "stream",
     "text": [
      "16\n",
      "8.0\n",
      "4.0\n",
      "2.0\n",
      "1.0\n"
     ]
    },
    {
     "data": {
      "text/plain": "1"
     },
     "execution_count": 126,
     "metadata": {},
     "output_type": "execute_result"
    },
    {
     "name": "stdout",
     "output_type": "stream",
     "text": [
      "16\n",
      "8.0\n",
      "4.0\n",
      "2.0\n",
      "1.0\n"
     ]
    },
    {
     "data": {
      "text/plain": "1"
     },
     "execution_count": 146,
     "metadata": {},
     "output_type": "execute_result"
    }
   ],
   "source": [
    "def find_conterfeit(n):\n",
    "  print(n)\n",
    "  if n in [1, 0]:\n",
    "    return 1\n",
    "  else:\n",
    "    return find_conterfeit(n / 2)\n",
    "find_conterfeit(16)"
   ],
   "metadata": {
    "collapsed": false,
    "pycharm": {
     "name": "#%%\n"
    }
   }
  },
  {
   "cell_type": "code",
   "execution_count": 147,
   "outputs": [
    {
     "data": {
      "text/plain": "120"
     },
     "execution_count": 127,
     "metadata": {},
     "output_type": "execute_result"
    },
    {
     "data": {
      "text/plain": "120"
     },
     "execution_count": 147,
     "metadata": {},
     "output_type": "execute_result"
    }
   ],
   "source": [
    "def fact(n):\n",
    "  if n == 1:\n",
    "    return 1\n",
    "  else:\n",
    "    return n * fact(n - 1)\n",
    "fact(5)"
   ],
   "metadata": {
    "collapsed": false,
    "pycharm": {
     "name": "#%%\n"
    }
   }
  },
  {
   "cell_type": "markdown",
   "source": [
    "Given an array, find the average of all subarrays of ‘K’ contiguous\n",
    "elements in it. Array: [1, 3, 2, 6, -1, 4, 1, 8, 2],\n",
    "K=5 (1 + 3 + 2 + 6 + -1)/ 5 (3 + 2 + 6 + -1 + 4)/5 .. .. (-1 + 4 + 1 + 8 + 2)/5\n",
    "Output: [2.2, 2.8, 2.4, 3.6, 2.8]"
   ],
   "metadata": {
    "collapsed": false,
    "pycharm": {
     "name": "#%% md\n"
    }
   }
  },
  {
   "cell_type": "code",
   "execution_count": null,
   "outputs": [],
   "source": [],
   "metadata": {
    "collapsed": false,
    "pycharm": {
     "name": "#%%\n"
    }
   }
  },
  {
   "cell_type": "markdown",
   "source": [],
   "metadata": {
    "collapsed": false,
    "pycharm": {
     "name": "#%% md\n"
    }
   }
  }
 ],
 "metadata": {
  "kernelspec": {
   "display_name": "Python 3",
   "language": "python",
   "name": "python3"
  },
  "language_info": {
   "codemirror_mode": {
    "name": "ipython",
    "version": 2
   },
   "file_extension": ".py",
   "mimetype": "text/x-python",
   "name": "python",
   "nbconvert_exporter": "python",
   "pygments_lexer": "ipython2",
   "version": "2.7.6"
  }
 },
 "nbformat": 4,
 "nbformat_minor": 0
}