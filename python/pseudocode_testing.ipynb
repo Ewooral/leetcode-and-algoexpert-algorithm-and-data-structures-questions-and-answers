{
 "cells": [
  {
   "cell_type": "code",
   "execution_count": 725,
   "metadata": {
    "collapsed": true,
    "pycharm": {
     "name": "#%%\n"
    }
   },
   "outputs": [
    {
     "name": "stdout",
     "output_type": "stream",
     "text": [
      "17\n"
     ]
    }
   ],
   "source": [
    "# Kadane's Algorithm\n",
    "li = [2, 9, 3, -1, 4]\n",
    "currentMax = 2\n",
    "FinalMax = 2\n",
    "for num in li[1:]:\n",
    "    currentMax = max(num, currentMax + num)\n",
    "    FinalMax = max(currentMax, FinalMax)\n",
    "print(FinalMax)"
   ]
  },
  {
   "cell_type": "code",
   "execution_count": 726,
   "outputs": [],
   "source": [
    "# Selection Sort\n",
    "\n",
    "def selSort(array):\n",
    "    print(\"sel_sort\", \"(\", array,\")\")\n",
    "    if len(array) <= 1:\n",
    "        return array\n",
    "    li_2 = list(array)\n",
    "    mini = min(li_2)\n",
    "    li_2.remove(mini)\n",
    "    return [mini] + selSort(li_2)"
   ],
   "metadata": {
    "collapsed": false,
    "pycharm": {
     "name": "#%%\n"
    }
   }
  },
  {
   "cell_type": "code",
   "execution_count": 727,
   "outputs": [
    {
     "name": "stdout",
     "output_type": "stream",
     "text": [
      "sel_sort ( [2, 0, 9, -1, -9, 4] )\n",
      "sel_sort ( [2, 0, 9, -1, 4] )\n",
      "sel_sort ( [2, 0, 9, 4] )\n",
      "sel_sort ( [2, 9, 4] )\n",
      "sel_sort ( [9, 4] )\n",
      "sel_sort ( [9] )\n",
      "[-9, -1, 0, 2, 4, 9]\n"
     ]
    }
   ],
   "source": [
    "li_1 = [2, 0, 9, -1, -9, 4]\n",
    "print(selSort(li_1))"
   ],
   "metadata": {
    "collapsed": false,
    "pycharm": {
     "name": "#%%\n"
    }
   }
  },
  {
   "cell_type": "code",
   "execution_count": 728,
   "outputs": [],
   "source": [
    "\n",
    "# Create A Graph data structure\n",
    "from collections import defaultdict\n",
    "from dataclasses import dataclass\n",
    "@dataclass\n",
    "class Graph:\n",
    "    graph: dict = None\n",
    "    if graph is None:\n",
    "        graph = defaultdict\n",
    "    else:\n",
    "        graph = None\n",
    "\n",
    "    def addVertex(self, vertex, edge):\n",
    "        self.graph[vertex].append(edge)\n",
    "\n",
    "graph = Graph({})"
   ],
   "metadata": {
    "collapsed": false,
    "pycharm": {
     "name": "#%%\n"
    }
   }
  },
  {
   "cell_type": "code",
   "execution_count": 729,
   "outputs": [
    {
     "data": {
      "text/plain": "{}"
     },
     "execution_count": 729,
     "metadata": {},
     "output_type": "execute_result"
    }
   ],
   "source": [
    "graph.graph"
   ],
   "metadata": {
    "collapsed": false,
    "pycharm": {
     "name": "#%%\n"
    }
   }
  },
  {
   "cell_type": "code",
   "execution_count": 730,
   "outputs": [],
   "source": [
    "graph.graph.update({\n",
    "    \"a\": [\"b\", \"c\"],\n",
    "    \"b\": [\"a\", \"d\", \"e\"],\n",
    "    \"c\": [\"a\", \"e\"],\n",
    "    \"d\": [\"b\", \"e\", \"f\"],\n",
    "    \"e\": [\"d\", \"c\"],\n",
    "    \"f\": [\"d\", \"e\"]})"
   ],
   "metadata": {
    "collapsed": false,
    "pycharm": {
     "name": "#%%\n"
    }
   }
  },
  {
   "cell_type": "code",
   "execution_count": 731,
   "outputs": [],
   "source": [
    "G = graph.graph"
   ],
   "metadata": {
    "collapsed": false,
    "pycharm": {
     "name": "#%%\n"
    }
   }
  },
  {
   "cell_type": "code",
   "execution_count": 731,
   "outputs": [],
   "source": [],
   "metadata": {
    "collapsed": false,
    "pycharm": {
     "name": "#%%\n"
    }
   }
  },
  {
   "cell_type": "code",
   "execution_count": 732,
   "outputs": [],
   "source": [
    "def find_path(graph, start, end, path=None):\n",
    "        print(\"find_path\", \"(\", path, \")\")\n",
    "        if path is None:\n",
    "            path = []\n",
    "        path += [start]\n",
    "        if start == end:\n",
    "            return path\n",
    "        for node in graph[start]:\n",
    "            if node not in path:\n",
    "                new_path = find_path(graph, node, end, path)\n",
    "                if len(new_path) > 0:\n",
    "                    return new_path\n",
    "            # return \"Cycle has been detected!\"\n",
    "        return None"
   ],
   "metadata": {
    "collapsed": false,
    "pycharm": {
     "name": "#%%\n"
    }
   }
  },
  {
   "cell_type": "code",
   "execution_count": 733,
   "outputs": [
    {
     "name": "stdout",
     "output_type": "stream",
     "text": [
      "find_path ( None )\n",
      "find_path ( ['a'] )\n",
      "find_path ( ['a', 'b'] )\n",
      "['a', 'b', 'd']\n"
     ]
    }
   ],
   "source": [
    "print(find_path(G, \"a\", \"d\"))"
   ],
   "metadata": {
    "collapsed": false,
    "pycharm": {
     "name": "#%%\n"
    }
   }
  },
  {
   "cell_type": "code",
   "execution_count": 734,
   "outputs": [
    {
     "data": {
      "text/plain": "['b', 'e', 'f']"
     },
     "execution_count": 734,
     "metadata": {},
     "output_type": "execute_result"
    }
   ],
   "source": [
    "graph.graph.get(\"d\")"
   ],
   "metadata": {
    "collapsed": false,
    "pycharm": {
     "name": "#%%\n"
    }
   }
  },
  {
   "cell_type": "code",
   "execution_count": 735,
   "outputs": [],
   "source": [
    "vis = [[False for i in range(3)] for j in range(3)]"
   ],
   "metadata": {
    "collapsed": false,
    "pycharm": {
     "name": "#%%\n"
    }
   }
  },
  {
   "cell_type": "code",
   "execution_count": 736,
   "outputs": [
    {
     "data": {
      "text/plain": "[[False, False, False], [False, False, False], [False, False, False]]"
     },
     "execution_count": 736,
     "metadata": {},
     "output_type": "execute_result"
    }
   ],
   "source": [
    "vis"
   ],
   "metadata": {
    "collapsed": false,
    "pycharm": {
     "name": "#%%\n"
    }
   }
  },
  {
   "cell_type": "code",
   "execution_count": null,
   "outputs": [],
   "source": [],
   "metadata": {
    "collapsed": false,
    "pycharm": {
     "name": "#%%\n"
    }
   }
  }
 ],
 "metadata": {
  "kernelspec": {
   "display_name": "Python 3",
   "language": "python",
   "name": "python3"
  },
  "language_info": {
   "codemirror_mode": {
    "name": "ipython",
    "version": 2
   },
   "file_extension": ".py",
   "mimetype": "text/x-python",
   "name": "python",
   "nbconvert_exporter": "python",
   "pygments_lexer": "ipython2",
   "version": "2.7.6"
  }
 },
 "nbformat": 4,
 "nbformat_minor": 0
}