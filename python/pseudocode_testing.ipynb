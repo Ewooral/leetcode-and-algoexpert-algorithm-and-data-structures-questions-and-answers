{
 "cells": [
  {
   "cell_type": "code",
   "execution_count": 287,
   "metadata": {
    "collapsed": true,
    "pycharm": {
     "name": "#%%\n"
    }
   },
   "outputs": [
    {
     "data": {
      "text/plain": "18"
     },
     "execution_count": 287,
     "metadata": {},
     "output_type": "execute_result"
    }
   ],
   "source": [
    "# Kadane's Algorithm\n",
    "def Kadane(arr):\n",
    "    cuMax = filMax = arr[0]\n",
    "    for num in arr[1:]:\n",
    "        cuMax = max(cuMax, cuMax + num)\n",
    "        filMax = max(filMax, cuMax)\n",
    "    return filMax\n",
    "Kadane([4, 1, 3, 2, 2, 2, 2, 2])"
   ]
  },
  {
   "cell_type": "code",
   "execution_count": 288,
   "outputs": [
    {
     "name": "stdout",
     "output_type": "stream",
     "text": [
      "sel_sort ( [2, 0, 9, -1, -9, 4] )\n",
      "sel_sort ( [2, 0, 9, -1, 4] )\n",
      "sel_sort ( [2, 0, 9, 4] )\n",
      "sel_sort ( [2, 9, 4] )\n",
      "sel_sort ( [9, 4] )\n",
      "sel_sort ( [9] )\n",
      "[-9, -1, 0, 2, 4, 9]\n"
     ]
    }
   ],
   "source": [
    "# Selection Sort\n",
    "\n",
    "def selSort(array):\n",
    "    print(\"sel_sort\", \"(\", array,\")\")\n",
    "    if len(array) <= 1:\n",
    "        return array\n",
    "    li_2 = list(array)\n",
    "    mini = min(li_2)\n",
    "    li_2.remove(mini)\n",
    "    return [mini] + selSort(li_2)\n",
    "li_1 = [2, 0, 9, -1, -9, 4]\n",
    "print(selSort(li_1))"
   ],
   "metadata": {
    "collapsed": false,
    "pycharm": {
     "name": "#%%\n"
    }
   }
  },
  {
   "cell_type": "code",
   "execution_count": 289,
   "outputs": [],
   "source": [
    "\n",
    "# Create A Graph data structure\n",
    "from collections import defaultdict\n",
    "from dataclasses import dataclass\n",
    "@dataclass\n",
    "class Graph:\n",
    "    graph: dict = None\n",
    "    if graph is None:\n",
    "        graph = defaultdict\n",
    "    else:\n",
    "        graph = None\n",
    "\n",
    "    def addVertex(self, vertex, edge):\n",
    "        self.graph[vertex].append(edge)\n",
    "\n",
    "graph = Graph({})"
   ],
   "metadata": {
    "collapsed": false,
    "pycharm": {
     "name": "#%%\n"
    }
   }
  },
  {
   "cell_type": "code",
   "execution_count": 290,
   "outputs": [
    {
     "data": {
      "text/plain": "{}"
     },
     "execution_count": 290,
     "metadata": {},
     "output_type": "execute_result"
    }
   ],
   "source": [
    "graph.graph"
   ],
   "metadata": {
    "collapsed": false,
    "pycharm": {
     "name": "#%%\n"
    }
   }
  },
  {
   "cell_type": "code",
   "execution_count": 291,
   "outputs": [],
   "source": [
    "graph.graph.update({\n",
    "    \"a\": [\"b\", \"c\"],\n",
    "    \"b\": [\"a\", \"d\", \"e\"],\n",
    "    \"c\": [\"a\", \"e\"],\n",
    "    \"d\": [\"b\", \"e\", \"f\"],\n",
    "    \"e\": [\"d\", \"c\"],\n",
    "    \"f\": [\"d\", \"e\"]})"
   ],
   "metadata": {
    "collapsed": false,
    "pycharm": {
     "name": "#%%\n"
    }
   }
  },
  {
   "cell_type": "code",
   "execution_count": 292,
   "outputs": [],
   "source": [
    "G = graph.graph"
   ],
   "metadata": {
    "collapsed": false,
    "pycharm": {
     "name": "#%%\n"
    }
   }
  },
  {
   "cell_type": "code",
   "execution_count": 292,
   "outputs": [],
   "source": [],
   "metadata": {
    "collapsed": false,
    "pycharm": {
     "name": "#%%\n"
    }
   }
  },
  {
   "cell_type": "code",
   "execution_count": 293,
   "outputs": [],
   "source": [
    "def find_path(graph, start, end, path=None):\n",
    "        print(\"find_path\", \"(\", path, \")\")\n",
    "        if path is None:\n",
    "            path = []\n",
    "        path += [start]\n",
    "        if start == end:\n",
    "            return path\n",
    "        for node in graph[start]:\n",
    "            if node not in path:\n",
    "                new_path = find_path(graph, node, end, path)\n",
    "                if len(new_path) > 0:\n",
    "                    return new_path\n",
    "            # return \"Cycle has been detected!\"\n",
    "        return None"
   ],
   "metadata": {
    "collapsed": false,
    "pycharm": {
     "name": "#%%\n"
    }
   }
  },
  {
   "cell_type": "code",
   "execution_count": 294,
   "outputs": [
    {
     "name": "stdout",
     "output_type": "stream",
     "text": [
      "find_path ( None )\n",
      "find_path ( ['a'] )\n",
      "find_path ( ['a', 'b'] )\n",
      "['a', 'b', 'd']\n"
     ]
    }
   ],
   "source": [
    "print(find_path(G, \"a\", \"d\"))"
   ],
   "metadata": {
    "collapsed": false,
    "pycharm": {
     "name": "#%%\n"
    }
   }
  },
  {
   "cell_type": "code",
   "execution_count": 295,
   "outputs": [
    {
     "data": {
      "text/plain": "['b', 'e', 'f']"
     },
     "execution_count": 295,
     "metadata": {},
     "output_type": "execute_result"
    }
   ],
   "source": [
    "graph.graph.get(\"d\")"
   ],
   "metadata": {
    "collapsed": false,
    "pycharm": {
     "name": "#%%\n"
    }
   }
  },
  {
   "cell_type": "code",
   "execution_count": 296,
   "outputs": [],
   "source": [
    "vis = [[False for i in range(3)] for j in range(3)]"
   ],
   "metadata": {
    "collapsed": false,
    "pycharm": {
     "name": "#%%\n"
    }
   }
  },
  {
   "cell_type": "code",
   "execution_count": 297,
   "outputs": [
    {
     "data": {
      "text/plain": "[[False, False, False], [False, False, False], [False, False, False]]"
     },
     "execution_count": 297,
     "metadata": {},
     "output_type": "execute_result"
    }
   ],
   "source": [
    "vis"
   ],
   "metadata": {
    "collapsed": false,
    "pycharm": {
     "name": "#%%\n"
    }
   }
  },
  {
   "cell_type": "code",
   "execution_count": 297,
   "outputs": [],
   "source": [],
   "metadata": {
    "collapsed": false,
    "pycharm": {
     "name": "#%%\n"
    }
   }
  },
  {
   "cell_type": "markdown",
   "source": [],
   "metadata": {
    "collapsed": false,
    "pycharm": {
     "name": "#%% md\n"
    }
   }
  },
  {
   "cell_type": "code",
   "execution_count": 298,
   "outputs": [
    {
     "name": "stdout",
     "output_type": "stream",
     "text": [
      "[1, 2, 3, 4, 5, 6, 7, 8, 9, 10, 11, 12, 13, 14, 15, 16]\n"
     ]
    }
   ],
   "source": [
    "# zigzag traversal\n",
    "arra = [\n",
    "    [1, 3, 4, 10],\n",
    "    [2, 5, 9, 11],\n",
    "    [6, 8, 12, 15],\n",
    "    [7 , 13, 14, 16],\n",
    "]\n",
    "def zigzagTraverse(arr):\n",
    "    height = len(arr) - 1\n",
    "    width = len(arr[0]) - 1\n",
    "    result = []\n",
    "    row = col = 0\n",
    "    goingDown = True\n",
    "    while not isOutOfBounds(row, col, height, width):\n",
    "        result.append(arr[row][col])\n",
    "        if goingDown:\n",
    "            if col == 0 or row == height:\n",
    "                goingDown = False\n",
    "                if row == height:\n",
    "                    col += 1\n",
    "                else:\n",
    "                    row += 1\n",
    "            else:\n",
    "                row += 1\n",
    "                col -= 1\n",
    "        else:\n",
    "            if row == 0 or col == width:\n",
    "                goingDown = True\n",
    "                if col == width:\n",
    "                    row += 1\n",
    "                else:\n",
    "                    col += 1\n",
    "            else:\n",
    "                row -= 1\n",
    "                col += 1\n",
    "    return result\n",
    "\n",
    "\n",
    "def isOutOfBounds(row, col, height, width):\n",
    "    return row < 0 or row > height or  col < 0 or col > width\n",
    "print(zigzagTraverse(arra))"
   ],
   "metadata": {
    "collapsed": false,
    "pycharm": {
     "name": "#%%\n"
    }
   }
  },
  {
   "cell_type": "markdown",
   "source": [
    "\n"
   ],
   "metadata": {
    "collapsed": false,
    "pycharm": {
     "name": "#%% md\n"
    }
   }
  },
  {
   "cell_type": "code",
   "execution_count": 299,
   "outputs": [
    {
     "data": {
      "text/plain": "5"
     },
     "execution_count": 299,
     "metadata": {},
     "output_type": "execute_result"
    }
   ],
   "source": [
    "# First Duplicate value\n",
    "arr2 = [5, 1, 5, 2, 3, 3, 4]\n",
    "def first_Duplicate(arr):\n",
    "    hash_set = set()\n",
    "    for value in arr:\n",
    "        if value in hash_set:\n",
    "            return value\n",
    "        hash_set.add(value)\n",
    "    return -1\n",
    "first_Duplicate(arr2)"
   ],
   "metadata": {
    "collapsed": false,
    "pycharm": {
     "name": "#%%\n"
    }
   }
  },
  {
   "cell_type": "code",
   "execution_count": 300,
   "outputs": [
    {
     "data": {
      "text/plain": "['p', 'l', 'o', 'p', 'e', 'e']"
     },
     "execution_count": 300,
     "metadata": {},
     "output_type": "execute_result"
    }
   ],
   "source": [
    "'''\n",
    "1. initialize a left, right pointer, variable valueToMove\n",
    "2. while left is less than right:\n",
    "3. reduce the right pointer by 1 while left is less than right and right value is equal to valueToMove\n",
    "4. If left value is equal to valueToMove, swap left and right values\n",
    "5. while left is still less than right increment left pointer by one and return the array\n",
    "'''\n",
    "arr3 = [\"p\", \"e\", \"o\", \"p\", \"l\", \"e\"]\n",
    "k = 2\n",
    "def move_instances_to_end(arr, k):\n",
    "    l = 0\n",
    "    r = len(arr) - 1\n",
    "    while l < r:\n",
    "        while l < r and arr[r] == k:\n",
    "            r -= 1\n",
    "        if arr[l] == k:\n",
    "            arr[l], arr[r] = arr[r], arr[l]\n",
    "        l += 1\n",
    "    return arr\n",
    "\n",
    "\n",
    "move_instances_to_end(arr3, \"e\")"
   ],
   "metadata": {
    "collapsed": false,
    "pycharm": {
     "name": "#%%\n"
    }
   }
  },
  {
   "cell_type": "markdown",
   "source": [],
   "metadata": {
    "collapsed": false,
    "pycharm": {
     "name": "#%% md\n"
    }
   }
  },
  {
   "cell_type": "code",
   "execution_count": 300,
   "outputs": [],
   "source": [],
   "metadata": {
    "collapsed": false,
    "pycharm": {
     "name": "#%%\n"
    }
   }
  },
  {
   "cell_type": "code",
   "execution_count": 301,
   "outputs": [
    {
     "data": {
      "text/plain": "2"
     },
     "execution_count": 301,
     "metadata": {},
     "output_type": "execute_result"
    }
   ],
   "source": [
    "gui = [4, 1, 3, 2, 2]\n",
    "def first_duplicate(arr):\n",
    "    # value - 1 = index\n",
    "    for value in arr:\n",
    "        absValue = abs(value)\n",
    "        if arr[absValue - 1] < 0:\n",
    "            return absValue\n",
    "        # set values to negatives\n",
    "        arr[absValue - 1] *= -1\n",
    "    return -1\n",
    "first_Duplicate(gui)"
   ],
   "metadata": {
    "collapsed": false,
    "pycharm": {
     "name": "#%%\n"
    }
   }
  },
  {
   "cell_type": "code",
   "execution_count": 302,
   "outputs": [
    {
     "name": "stdout",
     "output_type": "stream",
     "text": [
      "20\n"
     ]
    }
   ],
   "source": [
    "def non_constructible_change(coins):\n",
    "    coins.sort()\n",
    "    # current_change_created = ccc\n",
    "    ccc = 0\n",
    "    for coin in coins:\n",
    "        if coin > ccc + 1:\n",
    "            return ccc + 1\n",
    "        ccc += coin\n",
    "    return ccc + 1\n",
    "print(non_constructible_change([5, 7, 1, 1, 2, 3, 22]))"
   ],
   "metadata": {
    "collapsed": false,
    "pycharm": {
     "name": "#%%\n"
    }
   }
  },
  {
   "cell_type": "code",
   "execution_count": 303,
   "outputs": [
    {
     "name": "stdout",
     "output_type": "stream",
     "text": [
      "[28, 26]\n"
     ]
    }
   ],
   "source": [
    "def smallest_difference(arr1, arr2):\n",
    "    arr1.sort()\n",
    "    arr2.sort()\n",
    "    l = r = 0\n",
    "    smallest = float(\"inf\")\n",
    "    current = float(\"inf\")\n",
    "    smallestPair = []\n",
    "    while l < len(arr1) and r < len(arr2):\n",
    "        firstNum = arr1[l]\n",
    "        secondNum = arr2[r]\n",
    "        # current = abs(firstNum - secondNum)\n",
    "        if firstNum < secondNum:\n",
    "            current = secondNum - firstNum\n",
    "            l += 1\n",
    "        elif secondNum < firstNum:\n",
    "            current = firstNum - secondNum\n",
    "            r += 1\n",
    "        else:\n",
    "            return [firstNum, secondNum]\n",
    "        if smallest > current:\n",
    "            smallest = current\n",
    "            smallestPair = [firstNum, secondNum]\n",
    "    return smallestPair\n",
    "print(smallest_difference([-1,5, 10, 20, 28, 3], [26, 134, 135, 15, 17]))"
   ],
   "metadata": {
    "collapsed": false,
    "pycharm": {
     "name": "#%%\n"
    }
   }
  },
  {
   "cell_type": "code",
   "execution_count": 304,
   "outputs": [
    {
     "name": "stdout",
     "output_type": "stream",
     "text": [
      "pascal ( 3 )\n",
      "pascal ( 2 )\n",
      "pascal ( 1 )\n",
      "pascal ( 0 )\n",
      "[1, 3, 3, 1]\n"
     ]
    }
   ],
   "source": [
    "def pascal (n):\n",
    " print(\"pascal\", \"(\", n, \")\")\n",
    " if n == 0:\n",
    "    return [1]\n",
    " else:\n",
    "    row = [1]\n",
    "    previous_row = pascal (n - 1)\n",
    "    for i in range(len(previous_row) - 1):\n",
    "        row.append (previous_row[i] + previous_row[i + 1])\n",
    "    row.append (1)\n",
    " return row\n",
    "print(pascal(3))"
   ],
   "metadata": {
    "collapsed": false,
    "pycharm": {
     "name": "#%%\n"
    }
   }
  },
  {
   "cell_type": "code",
   "execution_count": 305,
   "outputs": [
    {
     "name": "stdout",
     "output_type": "stream",
     "text": [
      "sel_sort ( [[4, 9, 12]] [[10, 3]] )\n",
      "sel_sort ( [[9, 12]] [[10, 3]] )\n",
      "sel_sort ( [[12]] [[10, 3]] )\n",
      "sel_sort ( [[12]] [[3]] )\n",
      "sel_sort ( [[12]] [[]] )\n",
      "[4, 9, 10, 3, 12]\n"
     ]
    }
   ],
   "source": [
    "def merge(a, b):\n",
    " print(\"sel_sort\", \"(\",[a], [b],\")\")\n",
    " if not a:\n",
    "    return b\n",
    " elif not b:\n",
    "    return a\n",
    " else:\n",
    "    if a[0] < b[0]:\n",
    "        return [a[0]] + merge (a[1:], b)\n",
    "    else:\n",
    "        return [b[0]] + merge (a, b[1:])\n",
    "print(merge([4, 9, 12],[10, 3]))"
   ],
   "metadata": {
    "collapsed": false,
    "pycharm": {
     "name": "#%%\n"
    }
   }
  },
  {
   "cell_type": "code",
   "execution_count": 305,
   "outputs": [],
   "source": [],
   "metadata": {
    "collapsed": false,
    "pycharm": {
     "name": "#%%\n"
    }
   }
  }
 ],
 "metadata": {
  "kernelspec": {
   "display_name": "Python 3",
   "language": "python",
   "name": "python3"
  },
  "language_info": {
   "codemirror_mode": {
    "name": "ipython",
    "version": 2
   },
   "file_extension": ".py",
   "mimetype": "text/x-python",
   "name": "python",
   "nbconvert_exporter": "python",
   "pygments_lexer": "ipython2",
   "version": "2.7.6"
  }
 },
 "nbformat": 4,
 "nbformat_minor": 0
}