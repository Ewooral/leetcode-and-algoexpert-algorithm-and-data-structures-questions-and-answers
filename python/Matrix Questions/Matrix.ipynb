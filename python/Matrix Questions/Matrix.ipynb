{
 "cells": [
  {
   "cell_type": "markdown",
   "source": [
    "# MATRICES\n",
    "\n",
    "This example sets up a theatre seating of 5 rows with 10 seats in each row.\n",
    "5 rows and 10 columns(seats)"
   ],
   "metadata": {
    "collapsed": false,
    "pycharm": {
     "name": "#%% md\n"
    }
   }
  },
  {
   "cell_type": "code",
   "execution_count": 20,
   "outputs": [
    {
     "data": {
      "text/plain": "[[0, 0, 0, 0, 0, 0, 0, 0, 0, 0],\n [0, 0, 0, 0, 0, 0, 0, 0, 0, 0],\n [0, 0, 0, 0, 0, 0, 0, 0, 0, 0],\n [0, 0, 0, 0, 0, 0, 0, 0, 0, 0],\n [0, 0, 0, 0, 0, 0, 0, 0, 0, 0]]"
     },
     "execution_count": 20,
     "metadata": {},
     "output_type": "execute_result"
    }
   ],
   "source": [
    "Theatre = []\n",
    "for _ in range(5):\n",
    "    row = []\n",
    "    for seat in range(10):\n",
    "        row.append(0)\n",
    "    Theatre.append(row)\n",
    "Theatre"
   ],
   "metadata": {
    "collapsed": false,
    "pycharm": {
     "name": "#%%\n"
    }
   }
  },
  {
   "cell_type": "markdown",
   "source": [],
   "metadata": {
    "collapsed": false,
    "pycharm": {
     "name": "#%% md\n"
    }
   }
  },
  {
   "cell_type": "markdown",
   "source": [
    "# update the first 2 rows with value 1.\n",
    "Suppose, now we need to update that the last 2 rows are\n",
    " booked by setting a value of 1. This is how to do it:"
   ],
   "metadata": {
    "collapsed": false,
    "pycharm": {
     "name": "#%% md\n"
    }
   }
  },
  {
   "cell_type": "code",
   "execution_count": 26,
   "outputs": [
    {
     "data": {
      "text/plain": "[[1, 1, 1, 0, 0, 0, 0, 0, 0, 0],\n [1, 1, 1, 0, 0, 0, 0, 0, 0, 0],\n [0, 0, 0, 0, 0, 0, 0, 0, 0, 0],\n [0, 0, 0, 0, 0, 0, 0, 0, 0, 0],\n [0, 0, 0, 0, 0, 0, 0, 0, 0, 0]]"
     },
     "execution_count": 26,
     "metadata": {},
     "output_type": "execute_result"
    }
   ],
   "source": [
    "Theatres = [[0 for seats in range(10)] for _ in range(5)]\n",
    "# Theatres\n",
    "\n",
    "for row in range(2):\n",
    "    for seat in range(3):\n",
    "        Theatres[row][seat] = 1\n",
    "\n",
    "Theatres"
   ],
   "metadata": {
    "collapsed": false,
    "pycharm": {
     "name": "#%%\n"
    }
   }
  },
  {
   "cell_type": "markdown",
   "source": [],
   "metadata": {
    "collapsed": false,
    "pycharm": {
     "name": "#%% md\n"
    }
   }
  },
  {
   "cell_type": "markdown",
   "source": [],
   "metadata": {
    "collapsed": false,
    "pycharm": {
     "name": "#%% md\n"
    }
   }
  },
  {
   "cell_type": "markdown",
   "source": [
    "# Transpose a Matrix\n",
    "Transposing a matrix is to swap its row values with its column values.\n",
    "E.g input:[[0 0 1]\n",
    "           [0 1 0]\n",
    "           [0 1 1]]\n",
    "\n",
    "Output:  [[0 0 0]\n",
    "          [0 1 1]\n",
    "          [1 0 1]]"
   ],
   "metadata": {
    "collapsed": false,
    "pycharm": {
     "name": "#%% md\n"
    }
   }
  },
  {
   "cell_type": "code",
   "execution_count": null,
   "outputs": [],
   "source": [],
   "metadata": {
    "collapsed": false,
    "pycharm": {
     "name": "#%%\n"
    }
   }
  },
  {
   "cell_type": "markdown",
   "source": [
    "\n"
   ],
   "metadata": {
    "collapsed": false,
    "pycharm": {
     "name": "#%% md\n"
    }
   }
  },
  {
   "cell_type": "markdown",
   "source": [
    "# Set Matrix Zeroes\n",
    "Given an m * n integer matrix, if an element is 0, set its entire row and column to 0's\n",
    "You must do it in place\n",
    "\n",
    "E.g:input=  [[1, 1, 1,],\n",
    "             [1, 0, 1],\n",
    "             [1, 1, 1]]\n",
    "\n",
    "output = [[1, 0, 1],\n",
    "          [0, 0, 0],\n",
    "          [1, 0, 1]]"
   ],
   "metadata": {
    "collapsed": false,
    "pycharm": {
     "name": "#%% md\n"
    }
   }
  },
  {
   "cell_type": "markdown",
   "source": [],
   "metadata": {
    "collapsed": false,
    "pycharm": {
     "name": "#%% md\n"
    }
   }
  },
  {
   "cell_type": "code",
   "execution_count": 110,
   "outputs": [
    {
     "name": "stdout",
     "output_type": "stream",
     "text": [
      "[[1, 0, 1], [0, 0, 0], [1, 0, 1]]\n"
     ]
    }
   ],
   "source": [
    "def setZeroes(matrix):\n",
    "    rows_to_zero = set()  # set to keep track rows to make zeros\n",
    "    cols_to_zero = set()  # set to keep track columns to make zeros\n",
    "    m = len(matrix)\n",
    "    n = len(matrix[0])\n",
    "    # for i in range(m):\n",
    "        for j in range(n):\n",
    "            if matrix[i][j] == 0:  # found a zero keep adding row and column to sets\n",
    "                rows_to_zero.add(i)\n",
    "                cols_to_zero.add(j)\n",
    "    # in iteration 2 if we find those rows and columns make then zero\n",
    "    for i in range(m):\n",
    "        for j in range(n):\n",
    "            if i in rows_to_zero:\n",
    "                matrix[i][j] = 0\n",
    "            if j in cols_to_zero:\n",
    "                matrix[i][j] = 0\n",
    "    return matrix\n",
    "\n",
    "\n",
    "\n",
    "\n",
    "def main():\n",
    "    f = [[1, 1, 1],\n",
    "         [1, 0, 1],\n",
    "         [1, 1, 1]]\n",
    "    input = [[0, 1, 1, 2],\n",
    "            [6, 6, 0, 7],\n",
    "            [1, 1, 1, 2]]\n",
    "\n",
    "    print(setZeroes(f))\n",
    "\n",
    "main()"
   ],
   "metadata": {
    "collapsed": false,
    "pycharm": {
     "name": "#%%\n"
    }
   }
  },
  {
   "cell_type": "markdown",
   "source": [],
   "metadata": {
    "collapsed": false,
    "pycharm": {
     "name": "#%% md\n"
    }
   }
  },
  {
   "cell_type": "markdown",
   "source": [],
   "metadata": {
    "collapsed": false,
    "pycharm": {
     "name": "#%% md\n"
    }
   }
  },
  {
   "cell_type": "markdown",
   "source": [
    "# Game of Life\n",
    "Medium\n",
    "\n",
    "According to Wikipedia's article: \"The Game of Life, also known simply as Life, is a cellular automaton devised by the British mathematician John Horton Conway in 1970.\"\n",
    "\n",
    "The board is made up of an m x n grid of cells, where each cell has an initial state: live (represented by a 1) or dead (represented by a 0). Each cell interacts with its eight neighbors (horizontal, vertical, diagonal) using the following four rules (taken from the above Wikipedia article):\n",
    "\n",
    "Any live cell with fewer than two live neighbors dies as if caused by under-population.\n",
    "Any live cell with two or three live neighbors lives on to the next generation.\n",
    "Any live cell with more than three live neighbors dies, as if by over-population.\n",
    "Any dead cell with exactly three live neighbors becomes a live cell, as if by reproduction.\n",
    "The next state is created by applying the above rules simultaneously to every cell in the current state, where births and deaths occur simultaneously. Given the current state of the m x n grid board, return the next state.\n",
    "\n",
    "Example 1:\n",
    "Input: board = [[0,1,0],\n",
    "                [0,0,1],\n",
    "                [1,1,1],\n",
    "                [0,0,0]]\n",
    "\n",
    "  =>    Output: [[0,0,0],\n",
    "                [1,0,1],\n",
    "                [0,1,1],\n",
    "                [0,1,0]]\n",
    "Example 2:\n",
    "\n",
    "\n",
    "Input: board = [[1,1],[1,0]]\n",
    "Output: [[1,1],[1,1]]\n",
    "\n",
    "\n",
    "Constraints:\n",
    "\n",
    "m == board.length\n",
    "n == board[i].length\n",
    "1 <= m, n <= 25\n",
    "board[i][j] is 0 or 1.\n",
    "\n",
    "\n",
    "Follow up:\n",
    "\n",
    "Could you solve it in-place? Remember that the board needs to be updated simultaneously: You cannot update some cells first and then use their updated values to update other cells.\n",
    "In this question, we represent the board using a 2D array. In principle, the board is infinite, which would cause problems when the active area encroaches upon the border of the array (i.e., live cells reach the border). How would you address these problems?"
   ],
   "metadata": {
    "collapsed": false,
    "pycharm": {
     "name": "#%% md\n"
    }
   }
  },
  {
   "cell_type": "code",
   "execution_count": null,
   "outputs": [],
   "source": [],
   "metadata": {
    "collapsed": false,
    "pycharm": {
     "name": "#%%\n"
    }
   }
  },
  {
   "cell_type": "markdown",
   "source": [],
   "metadata": {
    "collapsed": false,
    "pycharm": {
     "name": "#%% md\n"
    }
   }
  },
  {
   "cell_type": "markdown",
   "source": [],
   "metadata": {
    "collapsed": false,
    "pycharm": {
     "name": "#%% md\n"
    }
   }
  },
  {
   "cell_type": "markdown",
   "source": [
    "# Number of Laser Beams in a Bank\n",
    "Medium\n",
    "\n",
    "Anti-theft security devices are activated inside a bank. You are given a 0-indexed binary string array bank representing the floor plan of the bank, which is an m x n 2D matrix. bank[i] represents the ith row, consisting of '0's and '1's. '0' means the cell is empty, while'1' means the cell has a security device.\n",
    "\n",
    "There is one laser beam between any two security devices if both conditions are met:\n",
    "\n",
    "The two devices are located on two different rows: r1 and r2, where r1 < r2.\n",
    "For each row i where r1 < i < r2, there are no security devices in the ith row.\n",
    "Laser beams are independent, i.e., one beam does not interfere nor join with another.\n",
    "\n",
    "Return the total number of laser beams in the bank.\n",
    "\n",
    "\n",
    "\n",
    "Example 1:\n",
    "\n",
    "\n",
    "Input: bank = [\"011001\",\"000000\",\"010100\",\"001000\"]\n",
    "Output: 8\n",
    "Explanation: Between each of the following device pairs, there is one beam. In total, there are 8 beams:\n",
    " * bank[0][1] -- bank[2][1]\n",
    " * bank[0][1] -- bank[2][3]\n",
    " * bank[0][2] -- bank[2][1]\n",
    " * bank[0][2] -- bank[2][3]\n",
    " * bank[0][5] -- bank[2][1]\n",
    " * bank[0][5] -- bank[2][3]\n",
    " * bank[2][1] -- bank[3][2]\n",
    " * bank[2][3] -- bank[3][2]\n",
    "Note that there is no beam between any device on the 0th row with any on the 3rd row.\n",
    "This is because the 2nd row contains security devices, which breaks the second condition.\n",
    "Example 2:\n",
    "\n",
    "\n",
    "Input: bank = [\"000\",\"111\",\"000\"]\n",
    "Output: 0\n",
    "Explanation: There does not exist two devices located on two different rows.\n"
   ],
   "metadata": {
    "collapsed": false,
    "pycharm": {
     "name": "#%% md\n"
    }
   }
  },
  {
   "cell_type": "code",
   "execution_count": 112,
   "outputs": [
    {
     "data": {
      "text/plain": "8"
     },
     "execution_count": 112,
     "metadata": {},
     "output_type": "execute_result"
    }
   ],
   "source": [
    "def numberOfBeams(bank):\n",
    "        \"\"\"\n",
    "        :type bank: List[str]\n",
    "        :rtype: int\n",
    "        \"\"\"\n",
    "        a, s = [x.count(\"1\") for x in bank if x.count(\"1\")], 0\n",
    "\n",
    "\t\t# ex: bank is [[00101], [01001], [00000], [11011]]\n",
    "\t\t# a would return [2, 2, 4]\n",
    "\n",
    "        for c in range(len(a)-1):\n",
    "            s += (a[c]*a[c+1])\n",
    "\n",
    "\t\t\t# basic math to find the total amount of lasers\n",
    "\t\t\t# for the first iteration: s += 2*2\n",
    "\t\t\t# for the second iteration: s += 2*4\n",
    "\t\t\t# returns s = 12\n",
    "\n",
    "        return s\n",
    "\n",
    "bank = [\"000\",\"111\",\"000\"]\n",
    "bank1 = [\"011001\",\"000000\",\"010100\",\"001000\"]\n",
    "numberOfBeams(bank1)"
   ],
   "metadata": {
    "collapsed": false,
    "pycharm": {
     "name": "#%%\n"
    }
   }
  },
  {
   "cell_type": "markdown",
   "source": [],
   "metadata": {
    "collapsed": false,
    "pycharm": {
     "name": "#%% md\n"
    }
   }
  }
 ],
 "metadata": {
  "kernelspec": {
   "display_name": "Python 3",
   "language": "python",
   "name": "python3"
  },
  "language_info": {
   "codemirror_mode": {
    "name": "ipython",
    "version": 2
   },
   "file_extension": ".py",
   "mimetype": "text/x-python",
   "name": "python",
   "nbconvert_exporter": "python",
   "pygments_lexer": "ipython2",
   "version": "2.7.6"
  }
 },
 "nbformat": 4,
 "nbformat_minor": 0
}