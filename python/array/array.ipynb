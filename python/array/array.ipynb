{
 "cells": [
  {
   "cell_type": "markdown",
   "source": [
    "# TWO NUMBER SUM\n",
    "Write a function that takes in a `non-empty` array of `distinct` integers\n",
    "and an integer representing a target sum. If any two numbers in the array, sum\n",
    "up to the target sum, the function should return them in an `array`,\n",
    "in any order. If no two numbers sum up to the target sum,\n",
    "the function should return an empty array.\n",
    "\n",
    "SAMPLE INPUT\n",
    "array = [3, 5, -4, 8, 11, 1, -1, 6]\n",
    "targetSum = 10\n",
    "\n"
   ],
   "metadata": {
    "collapsed": false
   }
  },
  {
   "cell_type": "code",
   "execution_count": 22,
   "metadata": {
    "collapsed": true
   },
   "outputs": [
    {
     "name": "stdout",
     "output_type": "stream",
     "text": [
      "[[5, -5], [5, -5], [1, -1]]\n"
     ]
    }
   ],
   "source": [
    "from typing import List\n",
    "\n",
    "\n",
    "def two_sum(arr:List, t:int) -> None:\n",
    "    res = []\n",
    "    for i in range(len(arr)):\n",
    "        elem = arr[i]\n",
    "        for j in range(i+1, len(arr)):\n",
    "            next_elem = arr[j]\n",
    "            if elem == next_elem:\n",
    "                continue\n",
    "            if elem + next_elem == t:\n",
    "                res.append([elem, next_elem])\n",
    "    return res\n",
    "\n",
    "\n",
    "def main():\n",
    "    array = [3, 5, -4, 8, 5, 11, 15, -5, 1, -1, 6]\n",
    "    target_sum = 0\n",
    "\n",
    "    print(two_sum(array, target_sum))\n",
    "\n",
    "if __name__ == '__main__':\n",
    "    main()\n"
   ]
  }
 ],
 "metadata": {
  "kernelspec": {
   "display_name": "Python 3",
   "language": "python",
   "name": "python3"
  },
  "language_info": {
   "codemirror_mode": {
    "name": "ipython",
    "version": 2
   },
   "file_extension": ".py",
   "mimetype": "text/x-python",
   "name": "python",
   "nbconvert_exporter": "python",
   "pygments_lexer": "ipython2",
   "version": "2.7.6"
  }
 },
 "nbformat": 4,
 "nbformat_minor": 0
}
