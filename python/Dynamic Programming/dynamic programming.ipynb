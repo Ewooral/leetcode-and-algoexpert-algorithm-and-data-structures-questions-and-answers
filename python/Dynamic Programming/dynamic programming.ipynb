{
 "cells": [
  {
   "cell_type": "markdown",
   "source": [
    "## Those who cannot remember the past are condemned to repeat it\"\n",
    "\n",
    "The writing above says a lot about Dynamic Programming. So, is repeating the things for which you\n",
    "already have the answer, a good thing ? A programmer would disagree. That's what Dynamic Programming is about.\n",
    "To always remember answers to the sub-problems you've already solved.\n",
    "\n",
    "Let us say that we have a machine, and to determine its state at time t, we have certain quantities called\n",
    "state variables. There will be certain times when we have to make a decision which affects the state of\n",
    "the system, which may or may not be known to us in advance. These decisions or changes are equivalent\n",
    "to transformations of state variables. The results of the previous decisions help us in choosing the future\n",
    "ones.\n",
    "\n",
    "What do we conclude from this? We need to break up a problem into a series of overlapping sub-problems, and build up solutions to larger and larger sub-problems. If you are given a problem, which can be broken down into smaller sub-problems, and these smaller sub-problems can still be broken into smaller ones - and if you manage to find out that there are some over-lappping sub-problems, then you've encountered a DP problem.\n",
    "\n",
    "`Some famous Dynamic Programming algorithms are:`\n",
    "\n",
    "* Unix diff for comparing two files\n",
    "* Bellman-Ford for shortest path routing in networks\n",
    "* TeX the ancestor of LaTeX\n",
    "* WASP - Winning and Score Predictor\n",
    "\n",
    "The core idea of Dynamic Programming is to avoid repeated work by remembering partial results and this\n",
    "concept finds it application in a lot of real life situations.\n",
    "\n",
    "In programming, Dynamic Programming is a powerful technique that allows one to solve different types of\n",
    "problems in time O(n2) or O(n3) for which a naive approach would take exponential time.\n",
    "\n",
    "\n",
    "`Jonathan Paulson` explains Dynamic Programming in his amazing Quora answer here.\n",
    "\n",
    "Writes down \"1+1+1+1+1+1+1+1 =\" on a sheet of paper.\n",
    "\"What's that equal to?\"\n",
    "Counting \"Eight!\"\n",
    "Writes down another \"1+\" on the left.\n",
    "\"What about that?\"\n",
    "\"Nine!\" \" How'd you know it was nine so fast?\"\n",
    "\"You just added one more!\"\n",
    "\"So you didn't need to recount because you remembered there were eight! Dynamic Programming is just a fancy way to say remembering stuff to save time later!\"\n",
    "\n",
    "### Dynamic Programming and Recursion:\n",
    "\n",
    "Dynamic programming is basically, recursion plus using common sense. What it means is that recursion allows you to express the value of a function in terms of other values of that function. Where the common sense tells you that if you implement your function in a way that the recursive calls are done in advance, and stored for easy access, it will make your program faster. This is what we call `Memoization` - it is `memorizing` the results of some specific states, which can then be later accessed to solve other sub-problems.\n",
    "\n",
    "The intuition behind dynamic programming is that we trade space for time, i.e. to say that instead of\n",
    "calculating all the states taking a lot of time but no space, we take up space to store the results of all\n",
    "the sub-problems to save time later.\n",
    "\n",
    "Let's try to understand this by taking an example of Fibonacci numbers.\n",
    "\n",
    "Fibonacci (n) = 1; if n = 0\n",
    "Fibonacci (n) = 1; if n = 1\n",
    "Fibonacci (n) = Fibonacci(n-1) + Fibonacci(n-2)\n",
    "\n",
    "So, the first few numbers in this series will be: 1, 1, 2, 3, 5, 8, 13, 21... and so on!\n",
    "\n",
    "A code for it using pure recursion:\n",
    "\n",
    "  `int fib (int n) {\n",
    "        if (n < 2)\n",
    "            return 1;\n",
    "        return fib(n-1) + fib(n-2);\n",
    "    }`\n",
    "Using Dynamic Programming approach with memoization:\n",
    "\n",
    " `void fib () {\n",
    "        fibresult[0] = 1;\n",
    "        fibresult[1] = 1;\n",
    "        for (int i = 2; i<n; i++)\n",
    "           fibresult[i] = fibresult[i-1] + fibresult[i-2];\n",
    "    }`"
   ],
   "metadata": {
    "collapsed": false,
    "pycharm": {
     "name": "#%% md\n"
    }
   }
  },
  {
   "cell_type": "code",
   "execution_count": null,
   "metadata": {
    "collapsed": true,
    "pycharm": {
     "name": "#%%\n"
    }
   },
   "outputs": [],
   "source": []
  }
 ],
 "metadata": {
  "kernelspec": {
   "display_name": "Python 3",
   "language": "python",
   "name": "python3"
  },
  "language_info": {
   "codemirror_mode": {
    "name": "ipython",
    "version": 2
   },
   "file_extension": ".py",
   "mimetype": "text/x-python",
   "name": "python",
   "nbconvert_exporter": "python",
   "pygments_lexer": "ipython2",
   "version": "2.7.6"
  }
 },
 "nbformat": 4,
 "nbformat_minor": 0
}