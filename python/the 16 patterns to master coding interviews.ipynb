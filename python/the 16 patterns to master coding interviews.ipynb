{
 "cells": [
  {
   "cell_type": "markdown",
   "source": [
    "# QUESTION 1 - SLIDING WINDOWS"
   ],
   "metadata": {
    "collapsed": false,
    "pycharm": {
     "name": "#%% md\n"
    }
   }
  },
  {
   "cell_type": "markdown",
   "source": [
    "Given an array, find the average of all subarrays of ‘K’ contiguous elements in it.\n",
    "Array: [1, 3, 2, 6, -1, 4, 1, 8, 2],\n",
    "K=5\n",
    "Output: [2.2, 2.8, 2.4, 3.6, 2.8]"
   ],
   "metadata": {
    "collapsed": false,
    "pycharm": {
     "name": "#%% md\n"
    }
   }
  },
  {
   "cell_type": "code",
   "execution_count": 16,
   "outputs": [
    {
     "name": "stdout",
     "output_type": "stream",
     "text": [
      "Averages of subarrays of size K: [2.2, 2.8, 2.4, 3.6, 2.8]\n",
      "Averages of subarrays of size K: [2.2, 2.8, 2.4, 3.6, 2.8]\n"
     ]
    }
   ],
   "source": [
    "def find_averages_of_subarrays(K, arr):\n",
    "  result = []\n",
    "  for i in range(len(arr)-K+1):\n",
    "    # find sum of next 'K' elements\n",
    "    _sum = 0.0\n",
    "    for j in range(i, i+K):\n",
    "      _sum += arr[j]\n",
    "    result.append(_sum/K)  # calculate average\n",
    "\n",
    "  return result\n",
    "\n",
    "def find_averages_of_subarrays_1(K, arr):\n",
    "  result = []\n",
    "  windowSum = 0.0\n",
    "  windowStart = 0\n",
    "  for windowEnd in range(len(arr)):\n",
    "    windowSum += arr[windowEnd]  # add the next element\n",
    "    # slide the window, we don't need to slide if we've not hit the required window size of 'k'\n",
    "    if windowEnd >= K - 1:\n",
    "      result.append(windowSum / K)  # calculate the average\n",
    "      windowSum -= arr[windowStart]  # subtract the element going out\n",
    "      windowStart += 1  # slide the window ahead\n",
    "\n",
    "  return result\n",
    "\n",
    "def main():\n",
    "  result = find_averages_of_subarrays(5, [1, 3, 2, 6, -1, 4, 1, 8, 2])\n",
    "  result1 = find_averages_of_subarrays_1(5, [1, 3, 2, 6, -1, 4, 1, 8, 2])\n",
    "  print(\"Averages of subarrays of size K: \" + str(result))\n",
    "  print(\"Averages of subarrays of size K: \" + str(result1))\n",
    "\n",
    "\n",
    "main()"
   ],
   "metadata": {
    "collapsed": false,
    "pycharm": {
     "name": "#%%\n"
    }
   }
  },
  {
   "cell_type": "markdown",
   "source": [
    "\n",
    "# TIDBITS\n",
    "\n",
    "     len(arr) - k + 1 MEANS\n",
    "\n",
    "We're looping through the array of n size and subtracting subarray length from the length of the entire array\n",
    "and since we're dealing with index, we'll start from 0, which is why\n",
    "the plus 1 has been added.\n",
    "\n",
    "    range(i, k + 1) MEANS\n",
    "\n",
    "At each iteration `i`, we're looping within the range of `i` and `k + 1`, which is\n",
    "length of subarray size plus 1, since at every iteration, we're increasing the window size and reducing `i`"
   ],
   "metadata": {
    "collapsed": false,
    "pycharm": {
     "name": "#%% md\n"
    }
   }
  },
  {
   "cell_type": "markdown",
   "source": [
    "\n",
    "\n",
    "\n",
    "\n",
    "\n",
    "\n",
    "\n",
    "\n"
   ],
   "metadata": {
    "collapsed": false,
    "pycharm": {
     "name": "#%% md\n"
    }
   }
  },
  {
   "cell_type": "markdown",
   "source": [
    "# QUESTION 2 (SLIDING WINDOW)\n",
    "\n",
    "Given an array of positive numbers and a positive number ‘k,’ find the maximum sum of any contiguous subarray of size ‘k’.\n",
    "\n",
    "Example 1:\n",
    "\n",
    "Input: [2, 1, 5, 1, 3, 2], k=3\n",
    "Output: 9\n",
    "Explanation: Subarray with maximum sum is [5, 1, 3]."
   ],
   "metadata": {
    "collapsed": false,
    "pycharm": {
     "name": "#%% md\n"
    }
   }
  },
  {
   "cell_type": "code",
   "execution_count": 19,
   "outputs": [
    {
     "data": {
      "text/plain": "9"
     },
     "execution_count": 19,
     "metadata": {},
     "output_type": "execute_result"
    }
   ],
   "source": [
    "def max_subarray_sum(arr, k):\n",
    "  result = []\n",
    "  for i in range(len(arr) - k + 1):\n",
    "    max_sum = 0\n",
    "    for j in range(i, i + k):\n",
    "      max_sum += arr[j]\n",
    "    result.append(max_sum)\n",
    "  return max(result)\n",
    "\n",
    "max_subarray_sum([2, 1, 5, 1, 3, 2], 3)\n"
   ],
   "metadata": {
    "collapsed": false,
    "pycharm": {
     "name": "#%%\n"
    }
   }
  },
  {
   "cell_type": "markdown",
   "source": [],
   "metadata": {
    "collapsed": false,
    "pycharm": {
     "name": "#%% md\n"
    }
   }
  }
 ],
 "metadata": {
  "kernelspec": {
   "display_name": "Python 3",
   "language": "python",
   "name": "python3"
  },
  "language_info": {
   "codemirror_mode": {
    "name": "ipython",
    "version": 2
   },
   "file_extension": ".py",
   "mimetype": "text/x-python",
   "name": "python",
   "nbconvert_exporter": "python",
   "pygments_lexer": "ipython2",
   "version": "2.7.6"
  }
 },
 "nbformat": 4,
 "nbformat_minor": 0
}